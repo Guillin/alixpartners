{
 "cells": [
  {
   "cell_type": "code",
   "execution_count": 1,
   "metadata": {},
   "outputs": [],
   "source": [
    "import pandas as pd\n",
    "import seaborn as sns\n",
    "import statsmodels.api as sm\n",
    "from sklearn.linear_model import LinearRegression\n",
    "from sklearn import metrics\n",
    "from sklearn.model_selection import train_test_split\n",
    "import numpy as np\n",
    "from datetime import date"
   ]
  },
  {
   "cell_type": "code",
   "execution_count": 2,
   "metadata": {},
   "outputs": [],
   "source": [
    "from sklearn.metrics import mean_absolute_error"
   ]
  },
  {
   "cell_type": "code",
   "execution_count": 3,
   "metadata": {},
   "outputs": [],
   "source": [
    "from sklearn.metrics import mean_squared_error"
   ]
  },
  {
   "cell_type": "code",
   "execution_count": 4,
   "metadata": {},
   "outputs": [],
   "source": [
    "from sklearn.externals import joblib"
   ]
  },
  {
   "cell_type": "code",
   "execution_count": 5,
   "metadata": {},
   "outputs": [],
   "source": [
    "# Load Train Data\n",
    "train = pd.read_csv('../data/processed/train_norm.csv',sep=';')"
   ]
  },
  {
   "cell_type": "code",
   "execution_count": 6,
   "metadata": {},
   "outputs": [
    {
     "data": {
      "text/plain": [
       "(34540, 36)"
      ]
     },
     "execution_count": 6,
     "metadata": {},
     "output_type": "execute_result"
    }
   ],
   "source": [
    "train.shape"
   ]
  },
  {
   "cell_type": "code",
   "execution_count": 7,
   "metadata": {},
   "outputs": [],
   "source": [
    "train['fecha_venta_norm'] = pd.to_datetime(train['fecha_venta_norm'])"
   ]
  },
  {
   "cell_type": "code",
   "execution_count": 8,
   "metadata": {},
   "outputs": [],
   "source": [
    "train['fecha_venta_norm'] = train['fecha_venta_norm'].dt.date"
   ]
  },
  {
   "cell_type": "code",
   "execution_count": 9,
   "metadata": {},
   "outputs": [],
   "source": [
    "# Filtramos los meses que consideramos buenos para el entrenamiento (11 y 12)\n",
    "train = train[train.fecha_venta_norm.isin([#date(2012, 11, 1),\n",
    "                                                 date(2012, 12, 1),\n",
    "                                                 date(2013, 11, 1), \n",
    "                                                 date(2013, 12, 1), \n",
    "                                                 date(2014, 11, 1)\n",
    "])]"
   ]
  },
  {
   "cell_type": "code",
   "execution_count": 10,
   "metadata": {},
   "outputs": [
    {
     "data": {
      "text/plain": [
       "(29168, 36)"
      ]
     },
     "execution_count": 10,
     "metadata": {},
     "output_type": "execute_result"
    }
   ],
   "source": [
    "train.shape"
   ]
  },
  {
   "cell_type": "code",
   "execution_count": 11,
   "metadata": {},
   "outputs": [
    {
     "data": {
      "text/html": [
       "<div>\n",
       "<style scoped>\n",
       "    .dataframe tbody tr th:only-of-type {\n",
       "        vertical-align: middle;\n",
       "    }\n",
       "\n",
       "    .dataframe tbody tr th {\n",
       "        vertical-align: top;\n",
       "    }\n",
       "\n",
       "    .dataframe thead th {\n",
       "        text-align: right;\n",
       "    }\n",
       "</style>\n",
       "<table border=\"1\" class=\"dataframe\">\n",
       "  <thead>\n",
       "    <tr style=\"text-align: right;\">\n",
       "      <th></th>\n",
       "      <th>id_pos</th>\n",
       "      <th>fecha_venta_norm</th>\n",
       "      <th>canal</th>\n",
       "      <th>unidades</th>\n",
       "      <th>competidores</th>\n",
       "      <th>ingreso_mediana</th>\n",
       "      <th>ingreso_promedio</th>\n",
       "      <th>densidad_poblacional</th>\n",
       "      <th>pct_0a5</th>\n",
       "      <th>pct_5a9</th>\n",
       "      <th>...</th>\n",
       "      <th>pct_bachelors</th>\n",
       "      <th>pct_doctorados</th>\n",
       "      <th>pct_secundario</th>\n",
       "      <th>pct_master</th>\n",
       "      <th>pct_bicicleta</th>\n",
       "      <th>pct_omnibus</th>\n",
       "      <th>pct_subtes</th>\n",
       "      <th>pct_taxi</th>\n",
       "      <th>pct_caminata</th>\n",
       "      <th>mediana_valor_hogar</th>\n",
       "    </tr>\n",
       "  </thead>\n",
       "  <tbody>\n",
       "    <tr>\n",
       "      <th>0</th>\n",
       "      <td>3142</td>\n",
       "      <td>2012-12-01</td>\n",
       "      <td>ALMACEN</td>\n",
       "      <td>12</td>\n",
       "      <td>-0.426247</td>\n",
       "      <td>-0.351729</td>\n",
       "      <td>-0.226899</td>\n",
       "      <td>0.897103</td>\n",
       "      <td>0.829056</td>\n",
       "      <td>-0.003238</td>\n",
       "      <td>...</td>\n",
       "      <td>-0.053190</td>\n",
       "      <td>0.106553</td>\n",
       "      <td>-0.166587</td>\n",
       "      <td>-0.059822</td>\n",
       "      <td>-0.560318</td>\n",
       "      <td>2.549626</td>\n",
       "      <td>-0.072296</td>\n",
       "      <td>0.698023</td>\n",
       "      <td>0.187681</td>\n",
       "      <td>0.462005</td>\n",
       "    </tr>\n",
       "    <tr>\n",
       "      <th>1</th>\n",
       "      <td>3142</td>\n",
       "      <td>2013-12-01</td>\n",
       "      <td>ALMACEN</td>\n",
       "      <td>7</td>\n",
       "      <td>-0.426247</td>\n",
       "      <td>-0.351729</td>\n",
       "      <td>-0.226899</td>\n",
       "      <td>0.897103</td>\n",
       "      <td>0.829056</td>\n",
       "      <td>-0.003238</td>\n",
       "      <td>...</td>\n",
       "      <td>-0.053190</td>\n",
       "      <td>0.106553</td>\n",
       "      <td>-0.166587</td>\n",
       "      <td>-0.059822</td>\n",
       "      <td>-0.560318</td>\n",
       "      <td>2.549626</td>\n",
       "      <td>-0.072296</td>\n",
       "      <td>0.698023</td>\n",
       "      <td>0.187681</td>\n",
       "      <td>0.462005</td>\n",
       "    </tr>\n",
       "    <tr>\n",
       "      <th>2</th>\n",
       "      <td>3143</td>\n",
       "      <td>2013-11-01</td>\n",
       "      <td>ALMACEN</td>\n",
       "      <td>2</td>\n",
       "      <td>0.354214</td>\n",
       "      <td>0.050630</td>\n",
       "      <td>-0.051683</td>\n",
       "      <td>2.805211</td>\n",
       "      <td>0.324112</td>\n",
       "      <td>-0.225755</td>\n",
       "      <td>...</td>\n",
       "      <td>-0.364825</td>\n",
       "      <td>-0.411390</td>\n",
       "      <td>0.156037</td>\n",
       "      <td>-0.003583</td>\n",
       "      <td>-0.355545</td>\n",
       "      <td>2.549626</td>\n",
       "      <td>3.413813</td>\n",
       "      <td>0.899122</td>\n",
       "      <td>-0.130961</td>\n",
       "      <td>2.016187</td>\n",
       "    </tr>\n",
       "    <tr>\n",
       "      <th>3</th>\n",
       "      <td>3143</td>\n",
       "      <td>2013-12-01</td>\n",
       "      <td>ALMACEN</td>\n",
       "      <td>47</td>\n",
       "      <td>0.354214</td>\n",
       "      <td>0.050630</td>\n",
       "      <td>-0.051683</td>\n",
       "      <td>2.805211</td>\n",
       "      <td>0.324112</td>\n",
       "      <td>-0.225755</td>\n",
       "      <td>...</td>\n",
       "      <td>-0.364825</td>\n",
       "      <td>-0.411390</td>\n",
       "      <td>0.156037</td>\n",
       "      <td>-0.003583</td>\n",
       "      <td>-0.355545</td>\n",
       "      <td>2.549626</td>\n",
       "      <td>3.413813</td>\n",
       "      <td>0.899122</td>\n",
       "      <td>-0.130961</td>\n",
       "      <td>2.016187</td>\n",
       "    </tr>\n",
       "    <tr>\n",
       "      <th>5</th>\n",
       "      <td>3144</td>\n",
       "      <td>2012-12-01</td>\n",
       "      <td>ALMACEN</td>\n",
       "      <td>41</td>\n",
       "      <td>0.540038</td>\n",
       "      <td>-0.927639</td>\n",
       "      <td>-0.871341</td>\n",
       "      <td>-0.150302</td>\n",
       "      <td>1.326987</td>\n",
       "      <td>1.213427</td>\n",
       "      <td>...</td>\n",
       "      <td>-0.480503</td>\n",
       "      <td>0.770303</td>\n",
       "      <td>-0.080324</td>\n",
       "      <td>-0.352496</td>\n",
       "      <td>-0.707499</td>\n",
       "      <td>-0.314731</td>\n",
       "      <td>-0.471935</td>\n",
       "      <td>-0.542084</td>\n",
       "      <td>-0.733816</td>\n",
       "      <td>-0.812549</td>\n",
       "    </tr>\n",
       "  </tbody>\n",
       "</table>\n",
       "<p>5 rows × 36 columns</p>\n",
       "</div>"
      ],
      "text/plain": [
       "   id_pos fecha_venta_norm    canal  unidades  competidores  ingreso_mediana  \\\n",
       "0    3142       2012-12-01  ALMACEN        12     -0.426247        -0.351729   \n",
       "1    3142       2013-12-01  ALMACEN         7     -0.426247        -0.351729   \n",
       "2    3143       2013-11-01  ALMACEN         2      0.354214         0.050630   \n",
       "3    3143       2013-12-01  ALMACEN        47      0.354214         0.050630   \n",
       "5    3144       2012-12-01  ALMACEN        41      0.540038        -0.927639   \n",
       "\n",
       "   ingreso_promedio  densidad_poblacional   pct_0a5   pct_5a9  ...  \\\n",
       "0         -0.226899              0.897103  0.829056 -0.003238  ...   \n",
       "1         -0.226899              0.897103  0.829056 -0.003238  ...   \n",
       "2         -0.051683              2.805211  0.324112 -0.225755  ...   \n",
       "3         -0.051683              2.805211  0.324112 -0.225755  ...   \n",
       "5         -0.871341             -0.150302  1.326987  1.213427  ...   \n",
       "\n",
       "   pct_bachelors  pct_doctorados  pct_secundario  pct_master  pct_bicicleta  \\\n",
       "0      -0.053190        0.106553       -0.166587   -0.059822      -0.560318   \n",
       "1      -0.053190        0.106553       -0.166587   -0.059822      -0.560318   \n",
       "2      -0.364825       -0.411390        0.156037   -0.003583      -0.355545   \n",
       "3      -0.364825       -0.411390        0.156037   -0.003583      -0.355545   \n",
       "5      -0.480503        0.770303       -0.080324   -0.352496      -0.707499   \n",
       "\n",
       "   pct_omnibus  pct_subtes  pct_taxi  pct_caminata  mediana_valor_hogar  \n",
       "0     2.549626   -0.072296  0.698023      0.187681             0.462005  \n",
       "1     2.549626   -0.072296  0.698023      0.187681             0.462005  \n",
       "2     2.549626    3.413813  0.899122     -0.130961             2.016187  \n",
       "3     2.549626    3.413813  0.899122     -0.130961             2.016187  \n",
       "5    -0.314731   -0.471935 -0.542084     -0.733816            -0.812549  \n",
       "\n",
       "[5 rows x 36 columns]"
      ]
     },
     "execution_count": 11,
     "metadata": {},
     "output_type": "execute_result"
    }
   ],
   "source": [
    "train.head()"
   ]
  },
  {
   "cell_type": "code",
   "execution_count": 12,
   "metadata": {},
   "outputs": [],
   "source": [
    "X = train.copy()"
   ]
  },
  {
   "cell_type": "code",
   "execution_count": 13,
   "metadata": {},
   "outputs": [],
   "source": [
    "y = train.unidades"
   ]
  },
  {
   "cell_type": "code",
   "execution_count": 14,
   "metadata": {},
   "outputs": [],
   "source": [
    "X.drop('unidades', inplace=True, axis=1)"
   ]
  },
  {
   "cell_type": "code",
   "execution_count": 15,
   "metadata": {
    "scrolled": true
   },
   "outputs": [],
   "source": [
    "# fill Nans\n",
    "for c in X.columns[X.dtypes != 'object']:\n",
    "    X[c].fillna(X[c].median(), inplace=True)"
   ]
  },
  {
   "cell_type": "code",
   "execution_count": 16,
   "metadata": {},
   "outputs": [],
   "source": [
    "# Dummy\n",
    "canal_dummy = pd.get_dummies(X['canal'])"
   ]
  },
  {
   "cell_type": "code",
   "execution_count": 17,
   "metadata": {},
   "outputs": [],
   "source": [
    "X = pd.merge(X, canal_dummy, how='inner', left_index=True, right_index=True)"
   ]
  },
  {
   "cell_type": "code",
   "execution_count": 18,
   "metadata": {},
   "outputs": [],
   "source": [
    "X.drop('canal', axis=1, inplace=True)"
   ]
  },
  {
   "cell_type": "code",
   "execution_count": 19,
   "metadata": {},
   "outputs": [],
   "source": [
    "predictors = [ 'id_pos', \n",
    "       'ingreso_mediana', 'densidad_poblacional',\n",
    "        'pct_5a9', 'pct_10a14', 'pct_15a19', 'pct_20a24',\n",
    "        'pct_30a34',  'pct_40a44', 'pct_45a49',\n",
    "       'pct_50a54',  'pct_60a64', 'pct_65a69', 'pct_70a74',\n",
    "       'pct_75a79', 'pct_80a84', 'pct_85ainf', \n",
    "         'pct_master', 'pct_subtes',  'pct_caminata',\n",
    "       'mediana_valor_hogar' ,'ALMACEN', 'MAXIKIOSCO']"
   ]
  },
  {
   "cell_type": "code",
   "execution_count": 20,
   "metadata": {},
   "outputs": [],
   "source": [
    "X = X[predictors]"
   ]
  },
  {
   "cell_type": "markdown",
   "metadata": {},
   "source": [
    "#### Training Linear Regression"
   ]
  },
  {
   "cell_type": "code",
   "execution_count": 21,
   "metadata": {},
   "outputs": [],
   "source": [
    "model = LinearRegression(n_jobs=4).fit(X, y)\n"
   ]
  },
  {
   "cell_type": "code",
   "execution_count": 22,
   "metadata": {},
   "outputs": [
    {
     "name": "stdout",
     "output_type": "stream",
     "text": [
      "coefficient of determination: 0.10164873485713799\n",
      "intercept: 11.913686776427651\n",
      "slope: [-1.32829555e-03 -1.57397480e-01  5.76721955e-02 -4.25621831e-01\n",
      "  2.41147725e-01  2.66675155e-01 -3.75264097e-01  3.63261499e-01\n",
      " -2.76644207e-01  1.97844812e-01 -2.52153378e-01  3.29153181e-01\n",
      " -4.52864105e-01  6.01455201e-01  3.68379899e-01 -7.33143214e-01\n",
      "  2.49743117e-01  4.41591124e-01  1.51233095e-01 -4.40789246e-01\n",
      " -3.37807901e-01  2.06133265e+01  6.52385488e+00]\n"
     ]
    }
   ],
   "source": [
    "r_sq = model.score(X, y)\n",
    "print('coefficient of determination:', r_sq)\n",
    "\n",
    "print('intercept:', model.intercept_)\n",
    "\n",
    "print('slope:', model.coef_)"
   ]
  },
  {
   "cell_type": "code",
   "execution_count": 23,
   "metadata": {},
   "outputs": [],
   "source": [
    "y_pred = model.predict(X)"
   ]
  },
  {
   "cell_type": "code",
   "execution_count": 24,
   "metadata": {},
   "outputs": [
    {
     "data": {
      "text/plain": [
       "15.636888295004027"
      ]
     },
     "execution_count": 24,
     "metadata": {},
     "output_type": "execute_result"
    }
   ],
   "source": [
    "mean_absolute_error(y, y_pred)"
   ]
  },
  {
   "cell_type": "code",
   "execution_count": 25,
   "metadata": {},
   "outputs": [
    {
     "data": {
      "text/plain": [
       "473.36304057859724"
      ]
     },
     "execution_count": 25,
     "metadata": {},
     "output_type": "execute_result"
    }
   ],
   "source": [
    "mean_squared_error(y, y_pred)"
   ]
  },
  {
   "cell_type": "code",
   "execution_count": 26,
   "metadata": {},
   "outputs": [
    {
     "data": {
      "text/plain": [
       "21.668072344111337"
      ]
     },
     "execution_count": 26,
     "metadata": {},
     "output_type": "execute_result"
    }
   ],
   "source": [
    "np.median(y_pred)"
   ]
  },
  {
   "cell_type": "code",
   "execution_count": 27,
   "metadata": {},
   "outputs": [],
   "source": [
    "y_pred_fixed = np.where(y_pred < 0, 0, y_pred)"
   ]
  },
  {
   "cell_type": "code",
   "execution_count": 28,
   "metadata": {},
   "outputs": [
    {
     "data": {
      "text/plain": [
       "15.387374068810436"
      ]
     },
     "execution_count": 28,
     "metadata": {},
     "output_type": "execute_result"
    }
   ],
   "source": [
    "mean_absolute_error(y, y_pred_fixed)"
   ]
  },
  {
   "cell_type": "code",
   "execution_count": 29,
   "metadata": {},
   "outputs": [
    {
     "data": {
      "text/plain": [
       "21.668072344111337"
      ]
     },
     "execution_count": 29,
     "metadata": {},
     "output_type": "execute_result"
    }
   ],
   "source": [
    "np.median(y_pred_fixed)"
   ]
  },
  {
   "cell_type": "code",
   "execution_count": 30,
   "metadata": {},
   "outputs": [
    {
     "data": {
      "text/plain": [
       "['../models/mlr_002.pkl']"
      ]
     },
     "execution_count": 30,
     "metadata": {},
     "output_type": "execute_result"
    }
   ],
   "source": [
    "joblib.dump(model, '../models/mlr_002.pkl') "
   ]
  }
 ],
 "metadata": {
  "kernelspec": {
   "display_name": "Python 3",
   "language": "python",
   "name": "python3"
  },
  "language_info": {
   "codemirror_mode": {
    "name": "ipython",
    "version": 3
   },
   "file_extension": ".py",
   "mimetype": "text/x-python",
   "name": "python",
   "nbconvert_exporter": "python",
   "pygments_lexer": "ipython3",
   "version": "3.7.3"
  }
 },
 "nbformat": 4,
 "nbformat_minor": 2
}
