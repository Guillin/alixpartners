{
 "cells": [
  {
   "cell_type": "code",
   "execution_count": 1,
   "metadata": {},
   "outputs": [],
   "source": [
    "import pandas as pd\n",
    "import seaborn as sns\n",
    "from sklearn.ensemble import RandomForestRegressor\n",
    "from sklearn import metrics\n",
    "from sklearn.model_selection import train_test_split\n",
    "import numpy as np\n",
    "from datetime import date"
   ]
  },
  {
   "cell_type": "code",
   "execution_count": 34,
   "metadata": {},
   "outputs": [],
   "source": [
    "import matplotlib.pyplot as plt"
   ]
  },
  {
   "cell_type": "code",
   "execution_count": 38,
   "metadata": {},
   "outputs": [],
   "source": [
    "from sklearn.metrics import mean_absolute_error"
   ]
  },
  {
   "cell_type": "code",
   "execution_count": 39,
   "metadata": {},
   "outputs": [],
   "source": [
    "from sklearn.metrics import mean_squared_error"
   ]
  },
  {
   "cell_type": "code",
   "execution_count": 2,
   "metadata": {},
   "outputs": [],
   "source": [
    "# Load Train Data\n",
    "rawdata = pd.read_csv('../data/raw/train_aggr.csv',sep=';')"
   ]
  },
  {
   "cell_type": "code",
   "execution_count": 3,
   "metadata": {},
   "outputs": [
    {
     "data": {
      "text/html": [
       "<div>\n",
       "<style scoped>\n",
       "    .dataframe tbody tr th:only-of-type {\n",
       "        vertical-align: middle;\n",
       "    }\n",
       "\n",
       "    .dataframe tbody tr th {\n",
       "        vertical-align: top;\n",
       "    }\n",
       "\n",
       "    .dataframe thead th {\n",
       "        text-align: right;\n",
       "    }\n",
       "</style>\n",
       "<table border=\"1\" class=\"dataframe\">\n",
       "  <thead>\n",
       "    <tr style=\"text-align: right;\">\n",
       "      <th></th>\n",
       "      <th>id_pos</th>\n",
       "      <th>fecha_venta_norm</th>\n",
       "      <th>canal</th>\n",
       "      <th>unidades</th>\n",
       "      <th>competidores</th>\n",
       "      <th>ingreso_mediana</th>\n",
       "      <th>ingreso_promedio</th>\n",
       "      <th>densidad_poblacional</th>\n",
       "      <th>pct_0a5</th>\n",
       "      <th>pct_5a9</th>\n",
       "      <th>...</th>\n",
       "      <th>pct_bachelors</th>\n",
       "      <th>pct_doctorados</th>\n",
       "      <th>pct_secundario</th>\n",
       "      <th>pct_master</th>\n",
       "      <th>pct_bicicleta</th>\n",
       "      <th>pct_omnibus</th>\n",
       "      <th>pct_subtes</th>\n",
       "      <th>pct_taxi</th>\n",
       "      <th>pct_caminata</th>\n",
       "      <th>mediana_valor_hogar</th>\n",
       "    </tr>\n",
       "  </thead>\n",
       "  <tbody>\n",
       "    <tr>\n",
       "      <th>0</th>\n",
       "      <td>3142</td>\n",
       "      <td>2012-12-01</td>\n",
       "      <td>ALMACEN</td>\n",
       "      <td>12</td>\n",
       "      <td>12.0</td>\n",
       "      <td>50395.31667</td>\n",
       "      <td>68263.48667</td>\n",
       "      <td>17239.673330</td>\n",
       "      <td>6.796667</td>\n",
       "      <td>6.110000</td>\n",
       "      <td>...</td>\n",
       "      <td>17.613333</td>\n",
       "      <td>1.333333</td>\n",
       "      <td>27.63</td>\n",
       "      <td>7.396667</td>\n",
       "      <td>0.260000</td>\n",
       "      <td>6.733333</td>\n",
       "      <td>0.72</td>\n",
       "      <td>0.210</td>\n",
       "      <td>3.793333</td>\n",
       "      <td>252050.3467</td>\n",
       "    </tr>\n",
       "    <tr>\n",
       "      <th>1</th>\n",
       "      <td>3142</td>\n",
       "      <td>2013-12-01</td>\n",
       "      <td>ALMACEN</td>\n",
       "      <td>7</td>\n",
       "      <td>12.0</td>\n",
       "      <td>50395.31667</td>\n",
       "      <td>68263.48667</td>\n",
       "      <td>17239.673330</td>\n",
       "      <td>6.796667</td>\n",
       "      <td>6.110000</td>\n",
       "      <td>...</td>\n",
       "      <td>17.613333</td>\n",
       "      <td>1.333333</td>\n",
       "      <td>27.63</td>\n",
       "      <td>7.396667</td>\n",
       "      <td>0.260000</td>\n",
       "      <td>6.733333</td>\n",
       "      <td>0.72</td>\n",
       "      <td>0.210</td>\n",
       "      <td>3.793333</td>\n",
       "      <td>252050.3467</td>\n",
       "    </tr>\n",
       "    <tr>\n",
       "      <th>2</th>\n",
       "      <td>3143</td>\n",
       "      <td>2013-11-01</td>\n",
       "      <td>ALMACEN</td>\n",
       "      <td>2</td>\n",
       "      <td>33.0</td>\n",
       "      <td>55256.52333</td>\n",
       "      <td>70989.74667</td>\n",
       "      <td>67764.126670</td>\n",
       "      <td>6.316667</td>\n",
       "      <td>5.903333</td>\n",
       "      <td>...</td>\n",
       "      <td>15.970000</td>\n",
       "      <td>0.936667</td>\n",
       "      <td>29.50</td>\n",
       "      <td>7.560000</td>\n",
       "      <td>0.366667</td>\n",
       "      <td>8.410000</td>\n",
       "      <td>22.81</td>\n",
       "      <td>0.240</td>\n",
       "      <td>3.006667</td>\n",
       "      <td>391646.2067</td>\n",
       "    </tr>\n",
       "    <tr>\n",
       "      <th>3</th>\n",
       "      <td>3143</td>\n",
       "      <td>2013-12-01</td>\n",
       "      <td>ALMACEN</td>\n",
       "      <td>47</td>\n",
       "      <td>33.0</td>\n",
       "      <td>55256.52333</td>\n",
       "      <td>70989.74667</td>\n",
       "      <td>67764.126670</td>\n",
       "      <td>6.316667</td>\n",
       "      <td>5.903333</td>\n",
       "      <td>...</td>\n",
       "      <td>15.970000</td>\n",
       "      <td>0.936667</td>\n",
       "      <td>29.50</td>\n",
       "      <td>7.560000</td>\n",
       "      <td>0.366667</td>\n",
       "      <td>8.410000</td>\n",
       "      <td>22.81</td>\n",
       "      <td>0.240</td>\n",
       "      <td>3.006667</td>\n",
       "      <td>391646.2067</td>\n",
       "    </tr>\n",
       "    <tr>\n",
       "      <th>4</th>\n",
       "      <td>3144</td>\n",
       "      <td>2012-11-01</td>\n",
       "      <td>ALMACEN</td>\n",
       "      <td>6</td>\n",
       "      <td>38.0</td>\n",
       "      <td>43437.32000</td>\n",
       "      <td>58236.36500</td>\n",
       "      <td>8799.223333</td>\n",
       "      <td>7.270000</td>\n",
       "      <td>7.240000</td>\n",
       "      <td>...</td>\n",
       "      <td>15.360000</td>\n",
       "      <td>1.841667</td>\n",
       "      <td>28.13</td>\n",
       "      <td>6.546667</td>\n",
       "      <td>0.183333</td>\n",
       "      <td>1.466667</td>\n",
       "      <td>0.00</td>\n",
       "      <td>0.025</td>\n",
       "      <td>1.518333</td>\n",
       "      <td>137570.5233</td>\n",
       "    </tr>\n",
       "  </tbody>\n",
       "</table>\n",
       "<p>5 rows × 36 columns</p>\n",
       "</div>"
      ],
      "text/plain": [
       "   id_pos fecha_venta_norm    canal  unidades  competidores  ingreso_mediana  \\\n",
       "0    3142       2012-12-01  ALMACEN        12          12.0      50395.31667   \n",
       "1    3142       2013-12-01  ALMACEN         7          12.0      50395.31667   \n",
       "2    3143       2013-11-01  ALMACEN         2          33.0      55256.52333   \n",
       "3    3143       2013-12-01  ALMACEN        47          33.0      55256.52333   \n",
       "4    3144       2012-11-01  ALMACEN         6          38.0      43437.32000   \n",
       "\n",
       "   ingreso_promedio  densidad_poblacional   pct_0a5   pct_5a9  ...  \\\n",
       "0       68263.48667          17239.673330  6.796667  6.110000  ...   \n",
       "1       68263.48667          17239.673330  6.796667  6.110000  ...   \n",
       "2       70989.74667          67764.126670  6.316667  5.903333  ...   \n",
       "3       70989.74667          67764.126670  6.316667  5.903333  ...   \n",
       "4       58236.36500           8799.223333  7.270000  7.240000  ...   \n",
       "\n",
       "   pct_bachelors  pct_doctorados  pct_secundario  pct_master  pct_bicicleta  \\\n",
       "0      17.613333        1.333333           27.63    7.396667       0.260000   \n",
       "1      17.613333        1.333333           27.63    7.396667       0.260000   \n",
       "2      15.970000        0.936667           29.50    7.560000       0.366667   \n",
       "3      15.970000        0.936667           29.50    7.560000       0.366667   \n",
       "4      15.360000        1.841667           28.13    6.546667       0.183333   \n",
       "\n",
       "   pct_omnibus  pct_subtes  pct_taxi  pct_caminata  mediana_valor_hogar  \n",
       "0     6.733333        0.72     0.210      3.793333          252050.3467  \n",
       "1     6.733333        0.72     0.210      3.793333          252050.3467  \n",
       "2     8.410000       22.81     0.240      3.006667          391646.2067  \n",
       "3     8.410000       22.81     0.240      3.006667          391646.2067  \n",
       "4     1.466667        0.00     0.025      1.518333          137570.5233  \n",
       "\n",
       "[5 rows x 36 columns]"
      ]
     },
     "execution_count": 3,
     "metadata": {},
     "output_type": "execute_result"
    }
   ],
   "source": [
    "rawdata.head()"
   ]
  },
  {
   "cell_type": "code",
   "execution_count": 4,
   "metadata": {},
   "outputs": [
    {
     "data": {
      "text/plain": [
       "(34540, 36)"
      ]
     },
     "execution_count": 4,
     "metadata": {},
     "output_type": "execute_result"
    }
   ],
   "source": [
    "rawdata.shape"
   ]
  },
  {
   "cell_type": "code",
   "execution_count": 5,
   "metadata": {},
   "outputs": [],
   "source": [
    "rawdata['fecha_venta_norm'] = pd.to_datetime(rawdata['fecha_venta_norm'])"
   ]
  },
  {
   "cell_type": "code",
   "execution_count": 6,
   "metadata": {},
   "outputs": [],
   "source": [
    "rawdata['fecha_venta_norm'] = rawdata['fecha_venta_norm'].dt.date"
   ]
  },
  {
   "cell_type": "code",
   "execution_count": 7,
   "metadata": {},
   "outputs": [],
   "source": [
    "rawdata['year'] = pd.to_datetime(rawdata.fecha_venta_norm).dt.year\n",
    "rawdata['month'] = pd.to_datetime(rawdata.fecha_venta_norm).dt.month"
   ]
  },
  {
   "cell_type": "code",
   "execution_count": 8,
   "metadata": {},
   "outputs": [
    {
     "data": {
      "text/plain": [
       "array([datetime.date(2012, 12, 1), datetime.date(2013, 12, 1),\n",
       "       datetime.date(2013, 11, 1), datetime.date(2012, 11, 1),\n",
       "       datetime.date(2014, 11, 1), datetime.date(2014, 10, 1),\n",
       "       datetime.date(2013, 10, 1), datetime.date(2013, 8, 1),\n",
       "       datetime.date(2012, 10, 1), datetime.date(2014, 9, 1),\n",
       "       datetime.date(2013, 9, 1), datetime.date(2013, 6, 1),\n",
       "       datetime.date(2013, 7, 1)], dtype=object)"
      ]
     },
     "execution_count": 8,
     "metadata": {},
     "output_type": "execute_result"
    }
   ],
   "source": [
    "rawdata.fecha_venta_norm.unique()"
   ]
  },
  {
   "cell_type": "code",
   "execution_count": 9,
   "metadata": {},
   "outputs": [],
   "source": [
    "# Filtramos los meses que consideramos buenos para el entrenamiento (11 y 12)\n",
    "rawdata = rawdata[rawdata.fecha_venta_norm.isin([date(2012, 11, 1),date(2012, 12, 1),\n",
    "                                                date(2013, 11, 1), date(2013, 12, 1), date(2014, 11, 1)])]"
   ]
  },
  {
   "cell_type": "code",
   "execution_count": 10,
   "metadata": {},
   "outputs": [
    {
     "data": {
      "text/plain": [
       "(33960, 38)"
      ]
     },
     "execution_count": 10,
     "metadata": {},
     "output_type": "execute_result"
    }
   ],
   "source": [
    "rawdata.shape"
   ]
  },
  {
   "cell_type": "code",
   "execution_count": 11,
   "metadata": {},
   "outputs": [
    {
     "data": {
      "text/plain": [
       "Index(['id_pos', 'fecha_venta_norm', 'canal', 'unidades', 'competidores',\n",
       "       'ingreso_mediana', 'ingreso_promedio', 'densidad_poblacional',\n",
       "       'pct_0a5', 'pct_5a9', 'pct_10a14', 'pct_15a19', 'pct_20a24',\n",
       "       'pct_25a29', 'pct_30a34', 'pct_35a39', 'pct_40a44', 'pct_45a49',\n",
       "       'pct_50a54', 'pct_55a59', 'pct_60a64', 'pct_65a69', 'pct_70a74',\n",
       "       'pct_75a79', 'pct_80a84', 'pct_85ainf', 'pct_bachelors',\n",
       "       'pct_doctorados', 'pct_secundario', 'pct_master', 'pct_bicicleta',\n",
       "       'pct_omnibus', 'pct_subtes', 'pct_taxi', 'pct_caminata',\n",
       "       'mediana_valor_hogar', 'year', 'month'],\n",
       "      dtype='object')"
      ]
     },
     "execution_count": 11,
     "metadata": {},
     "output_type": "execute_result"
    }
   ],
   "source": [
    "rawdata.columns"
   ]
  },
  {
   "cell_type": "code",
   "execution_count": 12,
   "metadata": {},
   "outputs": [],
   "source": [
    "rawdata.sort_values(['id_pos','fecha_venta_norm'], ascending=True, inplace=True)"
   ]
  },
  {
   "cell_type": "code",
   "execution_count": 13,
   "metadata": {},
   "outputs": [],
   "source": [
    "rawdata['unidades_target'] = rawdata.groupby(['id_pos'])['unidades'].shift(-1)"
   ]
  },
  {
   "cell_type": "code",
   "execution_count": 14,
   "metadata": {},
   "outputs": [
    {
     "data": {
      "text/html": [
       "<div>\n",
       "<style scoped>\n",
       "    .dataframe tbody tr th:only-of-type {\n",
       "        vertical-align: middle;\n",
       "    }\n",
       "\n",
       "    .dataframe tbody tr th {\n",
       "        vertical-align: top;\n",
       "    }\n",
       "\n",
       "    .dataframe thead th {\n",
       "        text-align: right;\n",
       "    }\n",
       "</style>\n",
       "<table border=\"1\" class=\"dataframe\">\n",
       "  <thead>\n",
       "    <tr style=\"text-align: right;\">\n",
       "      <th></th>\n",
       "      <th>id_pos</th>\n",
       "      <th>fecha_venta_norm</th>\n",
       "      <th>canal</th>\n",
       "      <th>unidades</th>\n",
       "      <th>competidores</th>\n",
       "      <th>ingreso_mediana</th>\n",
       "      <th>ingreso_promedio</th>\n",
       "      <th>densidad_poblacional</th>\n",
       "      <th>pct_0a5</th>\n",
       "      <th>pct_5a9</th>\n",
       "      <th>...</th>\n",
       "      <th>pct_master</th>\n",
       "      <th>pct_bicicleta</th>\n",
       "      <th>pct_omnibus</th>\n",
       "      <th>pct_subtes</th>\n",
       "      <th>pct_taxi</th>\n",
       "      <th>pct_caminata</th>\n",
       "      <th>mediana_valor_hogar</th>\n",
       "      <th>year</th>\n",
       "      <th>month</th>\n",
       "      <th>unidades_target</th>\n",
       "    </tr>\n",
       "  </thead>\n",
       "  <tbody>\n",
       "    <tr>\n",
       "      <th>0</th>\n",
       "      <td>3142</td>\n",
       "      <td>2012-12-01</td>\n",
       "      <td>ALMACEN</td>\n",
       "      <td>12</td>\n",
       "      <td>12.0</td>\n",
       "      <td>50395.31667</td>\n",
       "      <td>68263.48667</td>\n",
       "      <td>17239.673330</td>\n",
       "      <td>6.796667</td>\n",
       "      <td>6.110000</td>\n",
       "      <td>...</td>\n",
       "      <td>7.396667</td>\n",
       "      <td>0.260000</td>\n",
       "      <td>6.733333</td>\n",
       "      <td>0.72</td>\n",
       "      <td>0.210</td>\n",
       "      <td>3.793333</td>\n",
       "      <td>252050.3467</td>\n",
       "      <td>2012</td>\n",
       "      <td>12</td>\n",
       "      <td>7.0</td>\n",
       "    </tr>\n",
       "    <tr>\n",
       "      <th>1</th>\n",
       "      <td>3142</td>\n",
       "      <td>2013-12-01</td>\n",
       "      <td>ALMACEN</td>\n",
       "      <td>7</td>\n",
       "      <td>12.0</td>\n",
       "      <td>50395.31667</td>\n",
       "      <td>68263.48667</td>\n",
       "      <td>17239.673330</td>\n",
       "      <td>6.796667</td>\n",
       "      <td>6.110000</td>\n",
       "      <td>...</td>\n",
       "      <td>7.396667</td>\n",
       "      <td>0.260000</td>\n",
       "      <td>6.733333</td>\n",
       "      <td>0.72</td>\n",
       "      <td>0.210</td>\n",
       "      <td>3.793333</td>\n",
       "      <td>252050.3467</td>\n",
       "      <td>2013</td>\n",
       "      <td>12</td>\n",
       "      <td>NaN</td>\n",
       "    </tr>\n",
       "    <tr>\n",
       "      <th>2</th>\n",
       "      <td>3143</td>\n",
       "      <td>2013-11-01</td>\n",
       "      <td>ALMACEN</td>\n",
       "      <td>2</td>\n",
       "      <td>33.0</td>\n",
       "      <td>55256.52333</td>\n",
       "      <td>70989.74667</td>\n",
       "      <td>67764.126670</td>\n",
       "      <td>6.316667</td>\n",
       "      <td>5.903333</td>\n",
       "      <td>...</td>\n",
       "      <td>7.560000</td>\n",
       "      <td>0.366667</td>\n",
       "      <td>8.410000</td>\n",
       "      <td>22.81</td>\n",
       "      <td>0.240</td>\n",
       "      <td>3.006667</td>\n",
       "      <td>391646.2067</td>\n",
       "      <td>2013</td>\n",
       "      <td>11</td>\n",
       "      <td>47.0</td>\n",
       "    </tr>\n",
       "    <tr>\n",
       "      <th>3</th>\n",
       "      <td>3143</td>\n",
       "      <td>2013-12-01</td>\n",
       "      <td>ALMACEN</td>\n",
       "      <td>47</td>\n",
       "      <td>33.0</td>\n",
       "      <td>55256.52333</td>\n",
       "      <td>70989.74667</td>\n",
       "      <td>67764.126670</td>\n",
       "      <td>6.316667</td>\n",
       "      <td>5.903333</td>\n",
       "      <td>...</td>\n",
       "      <td>7.560000</td>\n",
       "      <td>0.366667</td>\n",
       "      <td>8.410000</td>\n",
       "      <td>22.81</td>\n",
       "      <td>0.240</td>\n",
       "      <td>3.006667</td>\n",
       "      <td>391646.2067</td>\n",
       "      <td>2013</td>\n",
       "      <td>12</td>\n",
       "      <td>NaN</td>\n",
       "    </tr>\n",
       "    <tr>\n",
       "      <th>4</th>\n",
       "      <td>3144</td>\n",
       "      <td>2012-11-01</td>\n",
       "      <td>ALMACEN</td>\n",
       "      <td>6</td>\n",
       "      <td>38.0</td>\n",
       "      <td>43437.32000</td>\n",
       "      <td>58236.36500</td>\n",
       "      <td>8799.223333</td>\n",
       "      <td>7.270000</td>\n",
       "      <td>7.240000</td>\n",
       "      <td>...</td>\n",
       "      <td>6.546667</td>\n",
       "      <td>0.183333</td>\n",
       "      <td>1.466667</td>\n",
       "      <td>0.00</td>\n",
       "      <td>0.025</td>\n",
       "      <td>1.518333</td>\n",
       "      <td>137570.5233</td>\n",
       "      <td>2012</td>\n",
       "      <td>11</td>\n",
       "      <td>41.0</td>\n",
       "    </tr>\n",
       "    <tr>\n",
       "      <th>5</th>\n",
       "      <td>3144</td>\n",
       "      <td>2012-12-01</td>\n",
       "      <td>ALMACEN</td>\n",
       "      <td>41</td>\n",
       "      <td>38.0</td>\n",
       "      <td>43437.32000</td>\n",
       "      <td>58236.36500</td>\n",
       "      <td>8799.223333</td>\n",
       "      <td>7.270000</td>\n",
       "      <td>7.240000</td>\n",
       "      <td>...</td>\n",
       "      <td>6.546667</td>\n",
       "      <td>0.183333</td>\n",
       "      <td>1.466667</td>\n",
       "      <td>0.00</td>\n",
       "      <td>0.025</td>\n",
       "      <td>1.518333</td>\n",
       "      <td>137570.5233</td>\n",
       "      <td>2012</td>\n",
       "      <td>12</td>\n",
       "      <td>4.0</td>\n",
       "    </tr>\n",
       "    <tr>\n",
       "      <th>6</th>\n",
       "      <td>3144</td>\n",
       "      <td>2013-11-01</td>\n",
       "      <td>ALMACEN</td>\n",
       "      <td>4</td>\n",
       "      <td>38.0</td>\n",
       "      <td>43437.32000</td>\n",
       "      <td>58236.36500</td>\n",
       "      <td>8799.223333</td>\n",
       "      <td>7.270000</td>\n",
       "      <td>7.240000</td>\n",
       "      <td>...</td>\n",
       "      <td>6.546667</td>\n",
       "      <td>0.183333</td>\n",
       "      <td>1.466667</td>\n",
       "      <td>0.00</td>\n",
       "      <td>0.025</td>\n",
       "      <td>1.518333</td>\n",
       "      <td>137570.5233</td>\n",
       "      <td>2013</td>\n",
       "      <td>11</td>\n",
       "      <td>71.0</td>\n",
       "    </tr>\n",
       "    <tr>\n",
       "      <th>7</th>\n",
       "      <td>3144</td>\n",
       "      <td>2013-12-01</td>\n",
       "      <td>ALMACEN</td>\n",
       "      <td>71</td>\n",
       "      <td>38.0</td>\n",
       "      <td>43437.32000</td>\n",
       "      <td>58236.36500</td>\n",
       "      <td>8799.223333</td>\n",
       "      <td>7.270000</td>\n",
       "      <td>7.240000</td>\n",
       "      <td>...</td>\n",
       "      <td>6.546667</td>\n",
       "      <td>0.183333</td>\n",
       "      <td>1.466667</td>\n",
       "      <td>0.00</td>\n",
       "      <td>0.025</td>\n",
       "      <td>1.518333</td>\n",
       "      <td>137570.5233</td>\n",
       "      <td>2013</td>\n",
       "      <td>12</td>\n",
       "      <td>NaN</td>\n",
       "    </tr>\n",
       "    <tr>\n",
       "      <th>8</th>\n",
       "      <td>3146</td>\n",
       "      <td>2012-12-01</td>\n",
       "      <td>ALMACEN</td>\n",
       "      <td>7</td>\n",
       "      <td>5.0</td>\n",
       "      <td>24541.12000</td>\n",
       "      <td>38500.06000</td>\n",
       "      <td>9049.910000</td>\n",
       "      <td>5.310000</td>\n",
       "      <td>4.650000</td>\n",
       "      <td>...</td>\n",
       "      <td>3.880000</td>\n",
       "      <td>0.420000</td>\n",
       "      <td>0.410000</td>\n",
       "      <td>0.00</td>\n",
       "      <td>0.000</td>\n",
       "      <td>7.590000</td>\n",
       "      <td>112830.8300</td>\n",
       "      <td>2012</td>\n",
       "      <td>12</td>\n",
       "      <td>7.0</td>\n",
       "    </tr>\n",
       "    <tr>\n",
       "      <th>9</th>\n",
       "      <td>3146</td>\n",
       "      <td>2013-12-01</td>\n",
       "      <td>ALMACEN</td>\n",
       "      <td>7</td>\n",
       "      <td>5.0</td>\n",
       "      <td>24541.12000</td>\n",
       "      <td>38500.06000</td>\n",
       "      <td>9049.910000</td>\n",
       "      <td>5.310000</td>\n",
       "      <td>4.650000</td>\n",
       "      <td>...</td>\n",
       "      <td>3.880000</td>\n",
       "      <td>0.420000</td>\n",
       "      <td>0.410000</td>\n",
       "      <td>0.00</td>\n",
       "      <td>0.000</td>\n",
       "      <td>7.590000</td>\n",
       "      <td>112830.8300</td>\n",
       "      <td>2013</td>\n",
       "      <td>12</td>\n",
       "      <td>NaN</td>\n",
       "    </tr>\n",
       "  </tbody>\n",
       "</table>\n",
       "<p>10 rows × 39 columns</p>\n",
       "</div>"
      ],
      "text/plain": [
       "   id_pos fecha_venta_norm    canal  unidades  competidores  ingreso_mediana  \\\n",
       "0    3142       2012-12-01  ALMACEN        12          12.0      50395.31667   \n",
       "1    3142       2013-12-01  ALMACEN         7          12.0      50395.31667   \n",
       "2    3143       2013-11-01  ALMACEN         2          33.0      55256.52333   \n",
       "3    3143       2013-12-01  ALMACEN        47          33.0      55256.52333   \n",
       "4    3144       2012-11-01  ALMACEN         6          38.0      43437.32000   \n",
       "5    3144       2012-12-01  ALMACEN        41          38.0      43437.32000   \n",
       "6    3144       2013-11-01  ALMACEN         4          38.0      43437.32000   \n",
       "7    3144       2013-12-01  ALMACEN        71          38.0      43437.32000   \n",
       "8    3146       2012-12-01  ALMACEN         7           5.0      24541.12000   \n",
       "9    3146       2013-12-01  ALMACEN         7           5.0      24541.12000   \n",
       "\n",
       "   ingreso_promedio  densidad_poblacional   pct_0a5   pct_5a9  ...  \\\n",
       "0       68263.48667          17239.673330  6.796667  6.110000  ...   \n",
       "1       68263.48667          17239.673330  6.796667  6.110000  ...   \n",
       "2       70989.74667          67764.126670  6.316667  5.903333  ...   \n",
       "3       70989.74667          67764.126670  6.316667  5.903333  ...   \n",
       "4       58236.36500           8799.223333  7.270000  7.240000  ...   \n",
       "5       58236.36500           8799.223333  7.270000  7.240000  ...   \n",
       "6       58236.36500           8799.223333  7.270000  7.240000  ...   \n",
       "7       58236.36500           8799.223333  7.270000  7.240000  ...   \n",
       "8       38500.06000           9049.910000  5.310000  4.650000  ...   \n",
       "9       38500.06000           9049.910000  5.310000  4.650000  ...   \n",
       "\n",
       "   pct_master  pct_bicicleta  pct_omnibus  pct_subtes  pct_taxi  pct_caminata  \\\n",
       "0    7.396667       0.260000     6.733333        0.72     0.210      3.793333   \n",
       "1    7.396667       0.260000     6.733333        0.72     0.210      3.793333   \n",
       "2    7.560000       0.366667     8.410000       22.81     0.240      3.006667   \n",
       "3    7.560000       0.366667     8.410000       22.81     0.240      3.006667   \n",
       "4    6.546667       0.183333     1.466667        0.00     0.025      1.518333   \n",
       "5    6.546667       0.183333     1.466667        0.00     0.025      1.518333   \n",
       "6    6.546667       0.183333     1.466667        0.00     0.025      1.518333   \n",
       "7    6.546667       0.183333     1.466667        0.00     0.025      1.518333   \n",
       "8    3.880000       0.420000     0.410000        0.00     0.000      7.590000   \n",
       "9    3.880000       0.420000     0.410000        0.00     0.000      7.590000   \n",
       "\n",
       "   mediana_valor_hogar  year  month  unidades_target  \n",
       "0          252050.3467  2012     12              7.0  \n",
       "1          252050.3467  2013     12              NaN  \n",
       "2          391646.2067  2013     11             47.0  \n",
       "3          391646.2067  2013     12              NaN  \n",
       "4          137570.5233  2012     11             41.0  \n",
       "5          137570.5233  2012     12              4.0  \n",
       "6          137570.5233  2013     11             71.0  \n",
       "7          137570.5233  2013     12              NaN  \n",
       "8          112830.8300  2012     12              7.0  \n",
       "9          112830.8300  2013     12              NaN  \n",
       "\n",
       "[10 rows x 39 columns]"
      ]
     },
     "execution_count": 14,
     "metadata": {},
     "output_type": "execute_result"
    }
   ],
   "source": [
    "rawdata.head(10)"
   ]
  },
  {
   "cell_type": "code",
   "execution_count": 15,
   "metadata": {},
   "outputs": [],
   "source": [
    "rawdata = rawdata[(rawdata.month == 11) & (rawdata.unidades_target.isnull()!=True)]"
   ]
  },
  {
   "cell_type": "code",
   "execution_count": 50,
   "metadata": {},
   "outputs": [],
   "source": [
    "predictors = ['id_pos','unidades', 'unidades_target','canal', 'competidores',\n",
    "       'ingreso_mediana', 'densidad_poblacional',\n",
    "       'pct_0a5', 'pct_5a9', 'pct_10a14', 'pct_15a19', 'pct_20a24',\n",
    "       'pct_25a29', 'pct_30a34', 'pct_35a39', 'pct_40a44', 'pct_45a49',\n",
    "       'pct_50a54', 'pct_55a59', 'pct_60a64', 'pct_65a69', 'pct_70a74',\n",
    "       'pct_75a79', 'pct_80a84', 'pct_85ainf', 'pct_bachelors',\n",
    "       'pct_doctorados', 'pct_secundario', 'pct_master', 'pct_bicicleta',\n",
    "       'pct_omnibus', 'pct_subtes', 'pct_taxi', 'pct_caminata',\n",
    "       'mediana_valor_hogar']"
   ]
  },
  {
   "cell_type": "code",
   "execution_count": 51,
   "metadata": {},
   "outputs": [],
   "source": [
    "X = rawdata[predictors].copy()"
   ]
  },
  {
   "cell_type": "code",
   "execution_count": 52,
   "metadata": {},
   "outputs": [],
   "source": [
    "y = rawdata.unidades_target"
   ]
  },
  {
   "cell_type": "code",
   "execution_count": 53,
   "metadata": {},
   "outputs": [],
   "source": [
    "X.drop('unidades_target', inplace=True, axis=1)"
   ]
  },
  {
   "cell_type": "code",
   "execution_count": 54,
   "metadata": {
    "scrolled": true
   },
   "outputs": [],
   "source": [
    "# fill Nans\n",
    "for c in X.columns[X.dtypes != 'object']:\n",
    "    X[c].fillna(X[c].median(), inplace=True)"
   ]
  },
  {
   "cell_type": "code",
   "execution_count": 55,
   "metadata": {},
   "outputs": [],
   "source": [
    "# Label encoder\n",
    "for c in X.columns[X.dtypes == 'object']:\n",
    "    X[c] = X[c].factorize()[0]"
   ]
  },
  {
   "cell_type": "code",
   "execution_count": 56,
   "metadata": {},
   "outputs": [
    {
     "data": {
      "text/html": [
       "<div>\n",
       "<style scoped>\n",
       "    .dataframe tbody tr th:only-of-type {\n",
       "        vertical-align: middle;\n",
       "    }\n",
       "\n",
       "    .dataframe tbody tr th {\n",
       "        vertical-align: top;\n",
       "    }\n",
       "\n",
       "    .dataframe thead th {\n",
       "        text-align: right;\n",
       "    }\n",
       "</style>\n",
       "<table border=\"1\" class=\"dataframe\">\n",
       "  <thead>\n",
       "    <tr style=\"text-align: right;\">\n",
       "      <th></th>\n",
       "      <th>id_pos</th>\n",
       "      <th>unidades</th>\n",
       "      <th>canal</th>\n",
       "      <th>competidores</th>\n",
       "      <th>ingreso_mediana</th>\n",
       "      <th>densidad_poblacional</th>\n",
       "      <th>pct_0a5</th>\n",
       "      <th>pct_5a9</th>\n",
       "      <th>pct_10a14</th>\n",
       "      <th>pct_15a19</th>\n",
       "      <th>...</th>\n",
       "      <th>pct_bachelors</th>\n",
       "      <th>pct_doctorados</th>\n",
       "      <th>pct_secundario</th>\n",
       "      <th>pct_master</th>\n",
       "      <th>pct_bicicleta</th>\n",
       "      <th>pct_omnibus</th>\n",
       "      <th>pct_subtes</th>\n",
       "      <th>pct_taxi</th>\n",
       "      <th>pct_caminata</th>\n",
       "      <th>mediana_valor_hogar</th>\n",
       "    </tr>\n",
       "  </thead>\n",
       "  <tbody>\n",
       "    <tr>\n",
       "      <th>2</th>\n",
       "      <td>3143</td>\n",
       "      <td>2</td>\n",
       "      <td>0</td>\n",
       "      <td>33.0</td>\n",
       "      <td>55256.52333</td>\n",
       "      <td>67764.126670</td>\n",
       "      <td>6.316667</td>\n",
       "      <td>5.903333</td>\n",
       "      <td>6.0900</td>\n",
       "      <td>5.933333</td>\n",
       "      <td>...</td>\n",
       "      <td>15.9700</td>\n",
       "      <td>0.936667</td>\n",
       "      <td>29.5000</td>\n",
       "      <td>7.560000</td>\n",
       "      <td>0.366667</td>\n",
       "      <td>8.410000</td>\n",
       "      <td>22.81</td>\n",
       "      <td>0.240</td>\n",
       "      <td>3.006667</td>\n",
       "      <td>391646.2067</td>\n",
       "    </tr>\n",
       "    <tr>\n",
       "      <th>4</th>\n",
       "      <td>3144</td>\n",
       "      <td>6</td>\n",
       "      <td>0</td>\n",
       "      <td>38.0</td>\n",
       "      <td>43437.32000</td>\n",
       "      <td>8799.223333</td>\n",
       "      <td>7.270000</td>\n",
       "      <td>7.240000</td>\n",
       "      <td>7.0550</td>\n",
       "      <td>6.766667</td>\n",
       "      <td>...</td>\n",
       "      <td>15.3600</td>\n",
       "      <td>1.841667</td>\n",
       "      <td>28.1300</td>\n",
       "      <td>6.546667</td>\n",
       "      <td>0.183333</td>\n",
       "      <td>1.466667</td>\n",
       "      <td>0.00</td>\n",
       "      <td>0.025</td>\n",
       "      <td>1.518333</td>\n",
       "      <td>137570.5233</td>\n",
       "    </tr>\n",
       "    <tr>\n",
       "      <th>6</th>\n",
       "      <td>3144</td>\n",
       "      <td>4</td>\n",
       "      <td>0</td>\n",
       "      <td>38.0</td>\n",
       "      <td>43437.32000</td>\n",
       "      <td>8799.223333</td>\n",
       "      <td>7.270000</td>\n",
       "      <td>7.240000</td>\n",
       "      <td>7.0550</td>\n",
       "      <td>6.766667</td>\n",
       "      <td>...</td>\n",
       "      <td>15.3600</td>\n",
       "      <td>1.841667</td>\n",
       "      <td>28.1300</td>\n",
       "      <td>6.546667</td>\n",
       "      <td>0.183333</td>\n",
       "      <td>1.466667</td>\n",
       "      <td>0.00</td>\n",
       "      <td>0.025</td>\n",
       "      <td>1.518333</td>\n",
       "      <td>137570.5233</td>\n",
       "    </tr>\n",
       "    <tr>\n",
       "      <th>10</th>\n",
       "      <td>3147</td>\n",
       "      <td>7</td>\n",
       "      <td>0</td>\n",
       "      <td>21.0</td>\n",
       "      <td>47007.34750</td>\n",
       "      <td>7390.012500</td>\n",
       "      <td>5.985000</td>\n",
       "      <td>6.585000</td>\n",
       "      <td>6.6725</td>\n",
       "      <td>6.762500</td>\n",
       "      <td>...</td>\n",
       "      <td>15.3225</td>\n",
       "      <td>0.807500</td>\n",
       "      <td>31.9725</td>\n",
       "      <td>5.087500</td>\n",
       "      <td>0.457500</td>\n",
       "      <td>0.397500</td>\n",
       "      <td>0.00</td>\n",
       "      <td>0.155</td>\n",
       "      <td>1.075000</td>\n",
       "      <td>128504.5700</td>\n",
       "    </tr>\n",
       "    <tr>\n",
       "      <th>12</th>\n",
       "      <td>3147</td>\n",
       "      <td>12</td>\n",
       "      <td>0</td>\n",
       "      <td>21.0</td>\n",
       "      <td>47007.34750</td>\n",
       "      <td>7390.012500</td>\n",
       "      <td>5.985000</td>\n",
       "      <td>6.585000</td>\n",
       "      <td>6.6725</td>\n",
       "      <td>6.762500</td>\n",
       "      <td>...</td>\n",
       "      <td>15.3225</td>\n",
       "      <td>0.807500</td>\n",
       "      <td>31.9725</td>\n",
       "      <td>5.087500</td>\n",
       "      <td>0.457500</td>\n",
       "      <td>0.397500</td>\n",
       "      <td>0.00</td>\n",
       "      <td>0.155</td>\n",
       "      <td>1.075000</td>\n",
       "      <td>128504.5700</td>\n",
       "    </tr>\n",
       "  </tbody>\n",
       "</table>\n",
       "<p>5 rows × 34 columns</p>\n",
       "</div>"
      ],
      "text/plain": [
       "    id_pos  unidades  canal  competidores  ingreso_mediana  \\\n",
       "2     3143         2      0          33.0      55256.52333   \n",
       "4     3144         6      0          38.0      43437.32000   \n",
       "6     3144         4      0          38.0      43437.32000   \n",
       "10    3147         7      0          21.0      47007.34750   \n",
       "12    3147        12      0          21.0      47007.34750   \n",
       "\n",
       "    densidad_poblacional   pct_0a5   pct_5a9  pct_10a14  pct_15a19  ...  \\\n",
       "2           67764.126670  6.316667  5.903333     6.0900   5.933333  ...   \n",
       "4            8799.223333  7.270000  7.240000     7.0550   6.766667  ...   \n",
       "6            8799.223333  7.270000  7.240000     7.0550   6.766667  ...   \n",
       "10           7390.012500  5.985000  6.585000     6.6725   6.762500  ...   \n",
       "12           7390.012500  5.985000  6.585000     6.6725   6.762500  ...   \n",
       "\n",
       "    pct_bachelors  pct_doctorados  pct_secundario  pct_master  pct_bicicleta  \\\n",
       "2         15.9700        0.936667         29.5000    7.560000       0.366667   \n",
       "4         15.3600        1.841667         28.1300    6.546667       0.183333   \n",
       "6         15.3600        1.841667         28.1300    6.546667       0.183333   \n",
       "10        15.3225        0.807500         31.9725    5.087500       0.457500   \n",
       "12        15.3225        0.807500         31.9725    5.087500       0.457500   \n",
       "\n",
       "    pct_omnibus  pct_subtes  pct_taxi  pct_caminata  mediana_valor_hogar  \n",
       "2      8.410000       22.81     0.240      3.006667          391646.2067  \n",
       "4      1.466667        0.00     0.025      1.518333          137570.5233  \n",
       "6      1.466667        0.00     0.025      1.518333          137570.5233  \n",
       "10     0.397500        0.00     0.155      1.075000          128504.5700  \n",
       "12     0.397500        0.00     0.155      1.075000          128504.5700  \n",
       "\n",
       "[5 rows x 34 columns]"
      ]
     },
     "execution_count": 56,
     "metadata": {},
     "output_type": "execute_result"
    }
   ],
   "source": [
    "X.head()"
   ]
  },
  {
   "cell_type": "markdown",
   "metadata": {},
   "source": [
    "#### Linear Regression"
   ]
  },
  {
   "cell_type": "code",
   "execution_count": 57,
   "metadata": {},
   "outputs": [],
   "source": [
    "X_train, X_test, y_train, y_test = train_test_split(X, y, test_size=0.3, random_state=42)"
   ]
  },
  {
   "cell_type": "code",
   "execution_count": 58,
   "metadata": {},
   "outputs": [],
   "source": [
    "rf = RandomForestRegressor(max_depth=3, random_state=0,n_estimators=200,criterion='mae',n_jobs=-1)"
   ]
  },
  {
   "cell_type": "code",
   "execution_count": 59,
   "metadata": {},
   "outputs": [],
   "source": [
    "model = rf.fit(X_train, y_train)\n"
   ]
  },
  {
   "cell_type": "code",
   "execution_count": 60,
   "metadata": {},
   "outputs": [
    {
     "data": {
      "text/plain": [
       "array([8.50972176e-01, 1.43779042e-01, 3.20436725e-05, 9.47762648e-05,\n",
       "       7.25683081e-05, 1.27212493e-04, 8.62049903e-05, 4.20225117e-04,\n",
       "       9.52873322e-05, 0.00000000e+00, 2.53279457e-04, 7.79625904e-05,\n",
       "       2.41360270e-04, 5.04441197e-05, 2.41955033e-04, 1.15997191e-04,\n",
       "       2.80616228e-04, 1.43255091e-04, 3.11547384e-05, 7.48663175e-05,\n",
       "       6.00573780e-05, 9.63908194e-05, 5.78383492e-04, 1.38640778e-04,\n",
       "       2.09717735e-04, 8.20932400e-05, 2.71360759e-04, 2.32088829e-04,\n",
       "       3.69332942e-05, 1.93033198e-04, 8.30770109e-05, 2.92003303e-04,\n",
       "       4.54815045e-04, 8.09777618e-05])"
      ]
     },
     "execution_count": 60,
     "metadata": {},
     "output_type": "execute_result"
    }
   ],
   "source": [
    "model.feature_importances_"
   ]
  },
  {
   "cell_type": "code",
   "execution_count": 61,
   "metadata": {},
   "outputs": [
    {
     "data": {
      "text/plain": [
       "Text(0, 0.5, 'Feature Importance Score')"
      ]
     },
     "execution_count": 61,
     "metadata": {},
     "output_type": "execute_result"
    },
    {
     "data": {
      "image/png": "[encoded data removed]",
      "text/plain": [
       "<Figure size 1152x432 with 1 Axes>"
      ]
     },
     "metadata": {
      "needs_background": "light"
     },
     "output_type": "display_data"
    }
   ],
   "source": [
    "\n",
    "feat_imp = pd.Series(model.feature_importances_, index=X.columns).sort_values(ascending=False)\n",
    "feat_imp.plot(kind='bar', title='Feature Importances',figsize=(16,6))\n",
    "plt.ylabel('Feature Importance Score')"
   ]
  },
  {
   "cell_type": "code",
   "execution_count": 62,
   "metadata": {},
   "outputs": [],
   "source": [
    "y_pred = model.predict(X_test)"
   ]
  },
  {
   "cell_type": "code",
   "execution_count": 63,
   "metadata": {},
   "outputs": [
    {
     "data": {
      "text/plain": [
       "15.223111092660245"
      ]
     },
     "execution_count": 63,
     "metadata": {},
     "output_type": "execute_result"
    }
   ],
   "source": [
    "mean_absolute_error(y_test, y_pred)"
   ]
  },
  {
   "cell_type": "code",
   "execution_count": 64,
   "metadata": {},
   "outputs": [
    {
     "data": {
      "text/plain": [
       "488.3279831555131"
      ]
     },
     "execution_count": 64,
     "metadata": {},
     "output_type": "execute_result"
    }
   ],
   "source": [
    "mean_squared_error(y_test, y_pred)"
   ]
  },
  {
   "cell_type": "code",
   "execution_count": 65,
   "metadata": {},
   "outputs": [
    {
     "data": {
      "text/plain": [
       "35.5825"
      ]
     },
     "execution_count": 65,
     "metadata": {},
     "output_type": "execute_result"
    }
   ],
   "source": [
    "np.median(y_pred)"
   ]
  },
  {
   "cell_type": "markdown",
   "metadata": {},
   "source": [
    "### Train Final Model"
   ]
  },
  {
   "cell_type": "code",
   "execution_count": 103,
   "metadata": {},
   "outputs": [],
   "source": [
    "model = LinearRegression(n_jobs=4).fit(X, y)"
   ]
  },
  {
   "cell_type": "code",
   "execution_count": 104,
   "metadata": {},
   "outputs": [
    {
     "name": "stdout",
     "output_type": "stream",
     "text": [
      "coefficient of determination: 0.0007475499909412875\n",
      "intercept: -1.6365175382024901\n",
      "slope: [ 8.70905905e-01 -1.12537594e-04 -1.09354694e-06 -3.07725037e-07\n",
      "  3.28578227e-02  9.40190156e-03  3.46916655e-02  5.30874599e-02\n",
      "  1.95930534e-02  4.02258919e-02  2.93068865e-02  2.66377692e-02\n",
      "  2.53146258e-02  3.17748793e-02  4.45670177e-02  1.92741333e-02\n",
      "  3.72199997e-02  6.98816004e-03  3.06150826e-02  6.65113521e-02\n",
      "  4.60427094e-02  8.63861108e-03  2.67869965e-03 -1.20443590e-04\n",
      "  3.58852659e-03  5.39232994e-03  2.14770958e-02 -1.63395871e-04\n",
      " -6.64356302e-04  1.01362499e-02 -4.33665929e-03  3.92879130e-08]\n"
     ]
    }
   ],
   "source": [
    "r_sq = model.score(X_train, y_train)\n",
    "print('coefficient of determination:', r_sq)\n",
    "\n",
    "print('intercept:', model.intercept_)\n",
    "\n",
    "print('slope:', model.coef_)"
   ]
  },
  {
   "cell_type": "code",
   "execution_count": 105,
   "metadata": {},
   "outputs": [],
   "source": [
    "y_pred = model.predict(X)"
   ]
  },
  {
   "cell_type": "code",
   "execution_count": 106,
   "metadata": {},
   "outputs": [
    {
     "data": {
      "text/plain": [
       "1.574054994556819"
      ]
     },
     "execution_count": 106,
     "metadata": {},
     "output_type": "execute_result"
    }
   ],
   "source": [
    "mean_absolute_error(y, y_pred)"
   ]
  },
  {
   "cell_type": "code",
   "execution_count": null,
   "metadata": {},
   "outputs": [],
   "source": []
  },
  {
   "cell_type": "code",
   "execution_count": null,
   "metadata": {},
   "outputs": [],
   "source": []
  },
  {
   "cell_type": "code",
   "execution_count": null,
   "metadata": {},
   "outputs": [],
   "source": []
  }
 ],
 "metadata": {
  "kernelspec": {
   "display_name": "Python 3",
   "language": "python",
   "name": "python3"
  },
  "language_info": {
   "codemirror_mode": {
    "name": "ipython",
    "version": 3
   },
   "file_extension": ".py",
   "mimetype": "text/x-python",
   "name": "python",
   "nbconvert_exporter": "python",
   "pygments_lexer": "ipython3",
   "version": "3.7.3"
  }
 },
 "nbformat": 4,
 "nbformat_minor": 2
}
