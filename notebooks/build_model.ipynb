{
 "cells": [
  {
   "cell_type": "code",
   "execution_count": 1,
   "metadata": {},
   "outputs": [],
   "source": [
    "import pandas as pd\n",
    "import seaborn as sns\n",
    "import statsmodels.api as sm\n",
    "from sklearn.linear_model import LinearRegression\n",
    "from sklearn import metrics\n",
    "from sklearn.model_selection import train_test_split\n",
    "import numpy as np\n",
    "from datetime import date"
   ]
  },
  {
   "cell_type": "code",
   "execution_count": 2,
   "metadata": {},
   "outputs": [],
   "source": [
    "# Load Train Data\n",
    "rawdata = pd.read_csv('../data/raw/train_aggr.csv',sep=';')"
   ]
  },
  {
   "cell_type": "code",
   "execution_count": 3,
   "metadata": {},
   "outputs": [],
   "source": [
    "# Load Submit Data\n",
    "submittion = pd.read_csv('../data/raw/ejemploRespuesta.csv')"
   ]
  },
  {
   "cell_type": "code",
   "execution_count": 4,
   "metadata": {},
   "outputs": [],
   "source": [
    "submittion.columns = ['id_pos','unidades_pred']"
   ]
  },
  {
   "cell_type": "code",
   "execution_count": 5,
   "metadata": {},
   "outputs": [
    {
     "data": {
      "text/html": [
       "<div>\n",
       "<style scoped>\n",
       "    .dataframe tbody tr th:only-of-type {\n",
       "        vertical-align: middle;\n",
       "    }\n",
       "\n",
       "    .dataframe tbody tr th {\n",
       "        vertical-align: top;\n",
       "    }\n",
       "\n",
       "    .dataframe thead th {\n",
       "        text-align: right;\n",
       "    }\n",
       "</style>\n",
       "<table border=\"1\" class=\"dataframe\">\n",
       "  <thead>\n",
       "    <tr style=\"text-align: right;\">\n",
       "      <th></th>\n",
       "      <th>fecha_venta</th>\n",
       "      <th>id_pos</th>\n",
       "      <th>unidades</th>\n",
       "      <th>canal</th>\n",
       "      <th>competidores</th>\n",
       "      <th>ingreso_mediana</th>\n",
       "      <th>ingreso_promedio</th>\n",
       "      <th>densidad_poblacional</th>\n",
       "      <th>pct_0a5</th>\n",
       "      <th>pct_5a9</th>\n",
       "      <th>...</th>\n",
       "      <th>pct_bachelors</th>\n",
       "      <th>pct_doctorados</th>\n",
       "      <th>pct_secundario</th>\n",
       "      <th>pct_master</th>\n",
       "      <th>pct_bicicleta</th>\n",
       "      <th>pct_omnibus</th>\n",
       "      <th>pct_subtes</th>\n",
       "      <th>pct_taxi</th>\n",
       "      <th>pct_caminata</th>\n",
       "      <th>mediana_valor_hogar</th>\n",
       "    </tr>\n",
       "  </thead>\n",
       "  <tbody>\n",
       "    <tr>\n",
       "      <th>0</th>\n",
       "      <td>2012-10-01</td>\n",
       "      <td>8495</td>\n",
       "      <td>4</td>\n",
       "      <td>MAXIKIOSCO</td>\n",
       "      <td>14.0</td>\n",
       "      <td>49367.31</td>\n",
       "      <td>65176.325</td>\n",
       "      <td>7981.955</td>\n",
       "      <td>6.695</td>\n",
       "      <td>6.26</td>\n",
       "      <td>...</td>\n",
       "      <td>16.75</td>\n",
       "      <td>0.61</td>\n",
       "      <td>32.42</td>\n",
       "      <td>5.35</td>\n",
       "      <td>0.18</td>\n",
       "      <td>1.16</td>\n",
       "      <td>0.0</td>\n",
       "      <td>0.145</td>\n",
       "      <td>3.01</td>\n",
       "      <td>152962.485</td>\n",
       "    </tr>\n",
       "    <tr>\n",
       "      <th>1</th>\n",
       "      <td>2012-11-10</td>\n",
       "      <td>8495</td>\n",
       "      <td>1</td>\n",
       "      <td>MAXIKIOSCO</td>\n",
       "      <td>14.0</td>\n",
       "      <td>49367.31</td>\n",
       "      <td>65176.325</td>\n",
       "      <td>7981.955</td>\n",
       "      <td>6.695</td>\n",
       "      <td>6.26</td>\n",
       "      <td>...</td>\n",
       "      <td>16.75</td>\n",
       "      <td>0.61</td>\n",
       "      <td>32.42</td>\n",
       "      <td>5.35</td>\n",
       "      <td>0.18</td>\n",
       "      <td>1.16</td>\n",
       "      <td>0.0</td>\n",
       "      <td>0.145</td>\n",
       "      <td>3.01</td>\n",
       "      <td>152962.485</td>\n",
       "    </tr>\n",
       "    <tr>\n",
       "      <th>2</th>\n",
       "      <td>2012-12-03</td>\n",
       "      <td>8495</td>\n",
       "      <td>1</td>\n",
       "      <td>MAXIKIOSCO</td>\n",
       "      <td>14.0</td>\n",
       "      <td>49367.31</td>\n",
       "      <td>65176.325</td>\n",
       "      <td>7981.955</td>\n",
       "      <td>6.695</td>\n",
       "      <td>6.26</td>\n",
       "      <td>...</td>\n",
       "      <td>16.75</td>\n",
       "      <td>0.61</td>\n",
       "      <td>32.42</td>\n",
       "      <td>5.35</td>\n",
       "      <td>0.18</td>\n",
       "      <td>1.16</td>\n",
       "      <td>0.0</td>\n",
       "      <td>0.145</td>\n",
       "      <td>3.01</td>\n",
       "      <td>152962.485</td>\n",
       "    </tr>\n",
       "    <tr>\n",
       "      <th>3</th>\n",
       "      <td>2012-12-13</td>\n",
       "      <td>8495</td>\n",
       "      <td>1</td>\n",
       "      <td>MAXIKIOSCO</td>\n",
       "      <td>14.0</td>\n",
       "      <td>49367.31</td>\n",
       "      <td>65176.325</td>\n",
       "      <td>7981.955</td>\n",
       "      <td>6.695</td>\n",
       "      <td>6.26</td>\n",
       "      <td>...</td>\n",
       "      <td>16.75</td>\n",
       "      <td>0.61</td>\n",
       "      <td>32.42</td>\n",
       "      <td>5.35</td>\n",
       "      <td>0.18</td>\n",
       "      <td>1.16</td>\n",
       "      <td>0.0</td>\n",
       "      <td>0.145</td>\n",
       "      <td>3.01</td>\n",
       "      <td>152962.485</td>\n",
       "    </tr>\n",
       "    <tr>\n",
       "      <th>4</th>\n",
       "      <td>2012-12-14</td>\n",
       "      <td>8495</td>\n",
       "      <td>2</td>\n",
       "      <td>MAXIKIOSCO</td>\n",
       "      <td>14.0</td>\n",
       "      <td>49367.31</td>\n",
       "      <td>65176.325</td>\n",
       "      <td>7981.955</td>\n",
       "      <td>6.695</td>\n",
       "      <td>6.26</td>\n",
       "      <td>...</td>\n",
       "      <td>16.75</td>\n",
       "      <td>0.61</td>\n",
       "      <td>32.42</td>\n",
       "      <td>5.35</td>\n",
       "      <td>0.18</td>\n",
       "      <td>1.16</td>\n",
       "      <td>0.0</td>\n",
       "      <td>0.145</td>\n",
       "      <td>3.01</td>\n",
       "      <td>152962.485</td>\n",
       "    </tr>\n",
       "  </tbody>\n",
       "</table>\n",
       "<p>5 rows × 36 columns</p>\n",
       "</div>"
      ],
      "text/plain": [
       "  fecha_venta  id_pos  unidades       canal  competidores  ingreso_mediana  \\\n",
       "0  2012-10-01    8495         4  MAXIKIOSCO          14.0         49367.31   \n",
       "1  2012-11-10    8495         1  MAXIKIOSCO          14.0         49367.31   \n",
       "2  2012-12-03    8495         1  MAXIKIOSCO          14.0         49367.31   \n",
       "3  2012-12-13    8495         1  MAXIKIOSCO          14.0         49367.31   \n",
       "4  2012-12-14    8495         2  MAXIKIOSCO          14.0         49367.31   \n",
       "\n",
       "   ingreso_promedio  densidad_poblacional  pct_0a5  pct_5a9  ...  \\\n",
       "0         65176.325              7981.955    6.695     6.26  ...   \n",
       "1         65176.325              7981.955    6.695     6.26  ...   \n",
       "2         65176.325              7981.955    6.695     6.26  ...   \n",
       "3         65176.325              7981.955    6.695     6.26  ...   \n",
       "4         65176.325              7981.955    6.695     6.26  ...   \n",
       "\n",
       "   pct_bachelors  pct_doctorados  pct_secundario  pct_master  pct_bicicleta  \\\n",
       "0          16.75            0.61           32.42        5.35           0.18   \n",
       "1          16.75            0.61           32.42        5.35           0.18   \n",
       "2          16.75            0.61           32.42        5.35           0.18   \n",
       "3          16.75            0.61           32.42        5.35           0.18   \n",
       "4          16.75            0.61           32.42        5.35           0.18   \n",
       "\n",
       "   pct_omnibus  pct_subtes  pct_taxi  pct_caminata  mediana_valor_hogar  \n",
       "0         1.16         0.0     0.145          3.01           152962.485  \n",
       "1         1.16         0.0     0.145          3.01           152962.485  \n",
       "2         1.16         0.0     0.145          3.01           152962.485  \n",
       "3         1.16         0.0     0.145          3.01           152962.485  \n",
       "4         1.16         0.0     0.145          3.01           152962.485  \n",
       "\n",
       "[5 rows x 36 columns]"
      ]
     },
     "execution_count": 5,
     "metadata": {},
     "output_type": "execute_result"
    }
   ],
   "source": [
    "rawdata.head()"
   ]
  },
  {
   "cell_type": "code",
   "execution_count": 6,
   "metadata": {},
   "outputs": [
    {
     "data": {
      "text/plain": [
       "(256913, 36)"
      ]
     },
     "execution_count": 6,
     "metadata": {},
     "output_type": "execute_result"
    }
   ],
   "source": [
    "rawdata.shape"
   ]
  },
  {
   "cell_type": "code",
   "execution_count": 7,
   "metadata": {},
   "outputs": [],
   "source": [
    "rawdata['fecha_venta'] = pd.to_datetime(rawdata['fecha_venta'])"
   ]
  },
  {
   "cell_type": "code",
   "execution_count": 8,
   "metadata": {},
   "outputs": [],
   "source": [
    "rawdata['fecha_venta_norm'] = rawdata['fecha_venta'].apply(lambda x : date(x.year,x.month,1))"
   ]
  },
  {
   "cell_type": "code",
   "execution_count": 9,
   "metadata": {},
   "outputs": [
    {
     "data": {
      "text/plain": [
       "array([datetime.date(2012, 10, 1), datetime.date(2012, 11, 1),\n",
       "       datetime.date(2012, 12, 1), datetime.date(2013, 8, 1),\n",
       "       datetime.date(2013, 11, 1), datetime.date(2013, 12, 1),\n",
       "       datetime.date(2014, 11, 1), datetime.date(2014, 10, 1),\n",
       "       datetime.date(2013, 10, 1), datetime.date(2014, 9, 1),\n",
       "       datetime.date(2013, 9, 1), datetime.date(2013, 6, 1),\n",
       "       datetime.date(2013, 7, 1)], dtype=object)"
      ]
     },
     "execution_count": 9,
     "metadata": {},
     "output_type": "execute_result"
    }
   ],
   "source": [
    "rawdata.fecha_venta_norm.unique()"
   ]
  },
  {
   "cell_type": "code",
   "execution_count": 10,
   "metadata": {},
   "outputs": [],
   "source": [
    "# Filtramos los meses que consideramos buenos para el entrenamiento (11 y 12)\n",
    "rawdata = rawdata[rawdata.fecha_venta_norm.isin([date(2012, 11, 1),date(2012, 12, 1),\n",
    "                                                date(2013, 11, 1), date(2013, 12, 1), date(2014, 11, 1)])]"
   ]
  },
  {
   "cell_type": "code",
   "execution_count": 11,
   "metadata": {},
   "outputs": [
    {
     "data": {
      "text/plain": [
       "(256110, 37)"
      ]
     },
     "execution_count": 11,
     "metadata": {},
     "output_type": "execute_result"
    }
   ],
   "source": [
    "rawdata.shape"
   ]
  },
  {
   "cell_type": "code",
   "execution_count": 43,
   "metadata": {},
   "outputs": [],
   "source": [
    "predictors = ['unidades', 'canal', 'competidores',\n",
    "       'ingreso_mediana', 'densidad_poblacional',\n",
    "       'pct_0a5', 'pct_5a9', 'pct_10a14', 'pct_15a19', 'pct_20a24',\n",
    "       'pct_25a29', 'pct_30a34', 'pct_35a39', 'pct_40a44', 'pct_45a49',\n",
    "       'pct_50a54', 'pct_55a59', 'pct_60a64', 'pct_65a69', 'pct_70a74',\n",
    "       'pct_75a79', 'pct_80a84', 'pct_85ainf', 'pct_bachelors',\n",
    "       'pct_doctorados', 'pct_secundario', 'pct_master', 'pct_bicicleta',\n",
    "       'pct_omnibus', 'pct_subtes', 'pct_taxi', 'pct_caminata',\n",
    "       'mediana_valor_hogar']"
   ]
  },
  {
   "cell_type": "code",
   "execution_count": 42,
   "metadata": {},
   "outputs": [
    {
     "data": {
      "text/plain": [
       "Index(['fecha_venta', 'id_pos', 'unidades', 'canal', 'competidores',\n",
       "       'ingreso_mediana', 'ingreso_promedio', 'densidad_poblacional',\n",
       "       'pct_0a5', 'pct_5a9', 'pct_10a14', 'pct_15a19', 'pct_20a24',\n",
       "       'pct_25a29', 'pct_30a34', 'pct_35a39', 'pct_40a44', 'pct_45a49',\n",
       "       'pct_50a54', 'pct_55a59', 'pct_60a64', 'pct_65a69', 'pct_70a74',\n",
       "       'pct_75a79', 'pct_80a84', 'pct_85ainf', 'pct_bachelors',\n",
       "       'pct_doctorados', 'pct_secundario', 'pct_master', 'pct_bicicleta',\n",
       "       'pct_omnibus', 'pct_subtes', 'pct_taxi', 'pct_caminata',\n",
       "       'mediana_valor_hogar', 'fecha_venta_norm'],\n",
       "      dtype='object')"
      ]
     },
     "execution_count": 42,
     "metadata": {},
     "output_type": "execute_result"
    }
   ],
   "source": [
    "rawdata.columns"
   ]
  },
  {
   "cell_type": "code",
   "execution_count": 52,
   "metadata": {},
   "outputs": [],
   "source": [
    "X = rawdata[predictors].copy()"
   ]
  },
  {
   "cell_type": "code",
   "execution_count": 53,
   "metadata": {},
   "outputs": [],
   "source": [
    "y = rawdata.unidades"
   ]
  },
  {
   "cell_type": "code",
   "execution_count": 54,
   "metadata": {},
   "outputs": [],
   "source": [
    "X.drop('unidades', inplace=True, axis=1)"
   ]
  },
  {
   "cell_type": "code",
   "execution_count": 55,
   "metadata": {
    "scrolled": true
   },
   "outputs": [],
   "source": [
    "# fill Nans\n",
    "for c in X.columns[X.dtypes != 'object']:\n",
    "    X[c].fillna(X[c].median(), inplace=True)"
   ]
  },
  {
   "cell_type": "code",
   "execution_count": 58,
   "metadata": {},
   "outputs": [],
   "source": [
    "# Label encoder\n",
    "for c in X.columns[X.dtypes == 'object']:\n",
    "    X[c] = X[c].factorize()[0]"
   ]
  },
  {
   "cell_type": "code",
   "execution_count": 63,
   "metadata": {},
   "outputs": [
    {
     "name": "stderr",
     "output_type": "stream",
     "text": [
      "/opt/anaconda3/envs/signalenv/lib/python3.7/site-packages/numpy/core/fromnumeric.py:2389: FutureWarning: Method .ptp is deprecated and will be removed in a future version. Use numpy.ptp instead.\n",
      "  return ptp(axis=axis, out=out, **kwargs)\n"
     ]
    }
   ],
   "source": [
    "X = sm.add_constant(X)"
   ]
  },
  {
   "cell_type": "code",
   "execution_count": 68,
   "metadata": {
    "scrolled": false
   },
   "outputs": [
    {
     "data": {
      "text/html": [
       "<table class=\"simpletable\">\n",
       "<caption>OLS Regression Results</caption>\n",
       "<tr>\n",
       "  <th>Dep. Variable:</th>        <td>unidades</td>     <th>  R-squared:         </th>  <td>   0.001</td>  \n",
       "</tr>\n",
       "<tr>\n",
       "  <th>Model:</th>                   <td>OLS</td>       <th>  Adj. R-squared:    </th>  <td>   0.001</td>  \n",
       "</tr>\n",
       "<tr>\n",
       "  <th>Method:</th>             <td>Least Squares</td>  <th>  F-statistic:       </th>  <td>   6.376</td>  \n",
       "</tr>\n",
       "<tr>\n",
       "  <th>Date:</th>             <td>Sun, 16 Jun 2019</td> <th>  Prob (F-statistic):</th>  <td>6.15e-27</td>  \n",
       "</tr>\n",
       "<tr>\n",
       "  <th>Time:</th>                 <td>22:08:44</td>     <th>  Log-Likelihood:    </th> <td>-5.5365e+05</td>\n",
       "</tr>\n",
       "<tr>\n",
       "  <th>No. Observations:</th>      <td>239834</td>      <th>  AIC:               </th>  <td>1.107e+06</td> \n",
       "</tr>\n",
       "<tr>\n",
       "  <th>Df Residuals:</th>          <td>239801</td>      <th>  BIC:               </th>  <td>1.108e+06</td> \n",
       "</tr>\n",
       "<tr>\n",
       "  <th>Df Model:</th>              <td>    32</td>      <th>                     </th>      <td> </td>     \n",
       "</tr>\n",
       "<tr>\n",
       "  <th>Covariance Type:</th>      <td>nonrobust</td>    <th>                     </th>      <td> </td>     \n",
       "</tr>\n",
       "</table>\n",
       "<table class=\"simpletable\">\n",
       "<tr>\n",
       "            <td></td>              <th>coef</th>     <th>std err</th>      <th>t</th>      <th>P>|t|</th>  <th>[0.025</th>    <th>0.975]</th>  \n",
       "</tr>\n",
       "<tr>\n",
       "  <th>const</th>                <td>   -1.6365</td> <td>    3.891</td> <td>   -0.421</td> <td> 0.674</td> <td>   -9.263</td> <td>    5.990</td>\n",
       "</tr>\n",
       "<tr>\n",
       "  <th>canal</th>                <td>    0.8709</td> <td>    0.077</td> <td>   11.249</td> <td> 0.000</td> <td>    0.719</td> <td>    1.023</td>\n",
       "</tr>\n",
       "<tr>\n",
       "  <th>competidores</th>         <td>   -0.0001</td> <td>    0.000</td> <td>   -0.991</td> <td> 0.322</td> <td>   -0.000</td> <td>    0.000</td>\n",
       "</tr>\n",
       "<tr>\n",
       "  <th>ingreso_mediana</th>      <td>-1.094e-06</td> <td> 8.36e-07</td> <td>   -1.307</td> <td> 0.191</td> <td>-2.73e-06</td> <td> 5.46e-07</td>\n",
       "</tr>\n",
       "<tr>\n",
       "  <th>densidad_poblacional</th> <td>-3.077e-07</td> <td> 7.98e-07</td> <td>   -0.386</td> <td> 0.700</td> <td>-1.87e-06</td> <td> 1.26e-06</td>\n",
       "</tr>\n",
       "<tr>\n",
       "  <th>pct_0a5</th>              <td>    0.0329</td> <td>    0.039</td> <td>    0.834</td> <td> 0.404</td> <td>   -0.044</td> <td>    0.110</td>\n",
       "</tr>\n",
       "<tr>\n",
       "  <th>pct_5a9</th>              <td>    0.0094</td> <td>    0.042</td> <td>    0.222</td> <td> 0.824</td> <td>   -0.074</td> <td>    0.092</td>\n",
       "</tr>\n",
       "<tr>\n",
       "  <th>pct_10a14</th>            <td>    0.0347</td> <td>    0.039</td> <td>    0.879</td> <td> 0.380</td> <td>   -0.043</td> <td>    0.112</td>\n",
       "</tr>\n",
       "<tr>\n",
       "  <th>pct_15a19</th>            <td>    0.0531</td> <td>    0.039</td> <td>    1.357</td> <td> 0.175</td> <td>   -0.024</td> <td>    0.130</td>\n",
       "</tr>\n",
       "<tr>\n",
       "  <th>pct_20a24</th>            <td>    0.0196</td> <td>    0.039</td> <td>    0.502</td> <td> 0.616</td> <td>   -0.057</td> <td>    0.096</td>\n",
       "</tr>\n",
       "<tr>\n",
       "  <th>pct_25a29</th>            <td>    0.0402</td> <td>    0.039</td> <td>    1.022</td> <td> 0.307</td> <td>   -0.037</td> <td>    0.117</td>\n",
       "</tr>\n",
       "<tr>\n",
       "  <th>pct_30a34</th>            <td>    0.0293</td> <td>    0.040</td> <td>    0.726</td> <td> 0.468</td> <td>   -0.050</td> <td>    0.108</td>\n",
       "</tr>\n",
       "<tr>\n",
       "  <th>pct_35a39</th>            <td>    0.0266</td> <td>    0.041</td> <td>    0.653</td> <td> 0.514</td> <td>   -0.053</td> <td>    0.107</td>\n",
       "</tr>\n",
       "<tr>\n",
       "  <th>pct_40a44</th>            <td>    0.0253</td> <td>    0.041</td> <td>    0.621</td> <td> 0.534</td> <td>   -0.055</td> <td>    0.105</td>\n",
       "</tr>\n",
       "<tr>\n",
       "  <th>pct_45a49</th>            <td>    0.0318</td> <td>    0.041</td> <td>    0.777</td> <td> 0.437</td> <td>   -0.048</td> <td>    0.112</td>\n",
       "</tr>\n",
       "<tr>\n",
       "  <th>pct_50a54</th>            <td>    0.0446</td> <td>    0.041</td> <td>    1.099</td> <td> 0.272</td> <td>   -0.035</td> <td>    0.124</td>\n",
       "</tr>\n",
       "<tr>\n",
       "  <th>pct_55a59</th>            <td>    0.0193</td> <td>    0.040</td> <td>    0.477</td> <td> 0.634</td> <td>   -0.060</td> <td>    0.099</td>\n",
       "</tr>\n",
       "<tr>\n",
       "  <th>pct_60a64</th>            <td>    0.0372</td> <td>    0.041</td> <td>    0.919</td> <td> 0.358</td> <td>   -0.042</td> <td>    0.117</td>\n",
       "</tr>\n",
       "<tr>\n",
       "  <th>pct_65a69</th>            <td>    0.0070</td> <td>    0.041</td> <td>    0.172</td> <td> 0.863</td> <td>   -0.073</td> <td>    0.087</td>\n",
       "</tr>\n",
       "<tr>\n",
       "  <th>pct_70a74</th>            <td>    0.0306</td> <td>    0.041</td> <td>    0.738</td> <td> 0.461</td> <td>   -0.051</td> <td>    0.112</td>\n",
       "</tr>\n",
       "<tr>\n",
       "  <th>pct_75a79</th>            <td>    0.0665</td> <td>    0.043</td> <td>    1.550</td> <td> 0.121</td> <td>   -0.018</td> <td>    0.151</td>\n",
       "</tr>\n",
       "<tr>\n",
       "  <th>pct_80a84</th>            <td>    0.0460</td> <td>    0.044</td> <td>    1.055</td> <td> 0.292</td> <td>   -0.040</td> <td>    0.132</td>\n",
       "</tr>\n",
       "<tr>\n",
       "  <th>pct_85ainf</th>           <td>    0.0086</td> <td>    0.040</td> <td>    0.216</td> <td> 0.829</td> <td>   -0.070</td> <td>    0.087</td>\n",
       "</tr>\n",
       "<tr>\n",
       "  <th>pct_bachelors</th>        <td>    0.0027</td> <td>    0.002</td> <td>    1.264</td> <td> 0.206</td> <td>   -0.001</td> <td>    0.007</td>\n",
       "</tr>\n",
       "<tr>\n",
       "  <th>pct_doctorados</th>       <td>   -0.0001</td> <td>    0.009</td> <td>   -0.014</td> <td> 0.989</td> <td>   -0.017</td> <td>    0.017</td>\n",
       "</tr>\n",
       "<tr>\n",
       "  <th>pct_secundario</th>       <td>    0.0036</td> <td>    0.002</td> <td>    2.313</td> <td> 0.021</td> <td>    0.001</td> <td>    0.007</td>\n",
       "</tr>\n",
       "<tr>\n",
       "  <th>pct_master</th>           <td>    0.0054</td> <td>    0.004</td> <td>    1.347</td> <td> 0.178</td> <td>   -0.002</td> <td>    0.013</td>\n",
       "</tr>\n",
       "<tr>\n",
       "  <th>pct_bicicleta</th>        <td>    0.0215</td> <td>    0.007</td> <td>    3.001</td> <td> 0.003</td> <td>    0.007</td> <td>    0.036</td>\n",
       "</tr>\n",
       "<tr>\n",
       "  <th>pct_omnibus</th>          <td>   -0.0002</td> <td>    0.002</td> <td>   -0.071</td> <td> 0.943</td> <td>   -0.005</td> <td>    0.004</td>\n",
       "</tr>\n",
       "<tr>\n",
       "  <th>pct_subtes</th>           <td>   -0.0007</td> <td>    0.002</td> <td>   -0.333</td> <td> 0.739</td> <td>   -0.005</td> <td>    0.003</td>\n",
       "</tr>\n",
       "<tr>\n",
       "  <th>pct_taxi</th>             <td>    0.0101</td> <td>    0.021</td> <td>    0.488</td> <td> 0.626</td> <td>   -0.031</td> <td>    0.051</td>\n",
       "</tr>\n",
       "<tr>\n",
       "  <th>pct_caminata</th>         <td>   -0.0043</td> <td>    0.002</td> <td>   -2.209</td> <td> 0.027</td> <td>   -0.008</td> <td>   -0.000</td>\n",
       "</tr>\n",
       "<tr>\n",
       "  <th>mediana_valor_hogar</th>  <td> 3.929e-08</td> <td> 8.42e-08</td> <td>    0.466</td> <td> 0.641</td> <td>-1.26e-07</td> <td> 2.04e-07</td>\n",
       "</tr>\n",
       "</table>\n",
       "<table class=\"simpletable\">\n",
       "<tr>\n",
       "  <th>Omnibus:</th>       <td>204067.450</td> <th>  Durbin-Watson:     </th>  <td>   1.545</td>  \n",
       "</tr>\n",
       "<tr>\n",
       "  <th>Prob(Omnibus):</th>   <td> 0.000</td>   <th>  Jarque-Bera (JB):  </th> <td>9341738.252</td>\n",
       "</tr>\n",
       "<tr>\n",
       "  <th>Skew:</th>            <td> 3.887</td>   <th>  Prob(JB):          </th>  <td>    0.00</td>  \n",
       "</tr>\n",
       "<tr>\n",
       "  <th>Kurtosis:</th>        <td>32.570</td>   <th>  Cond. No.          </th>  <td>1.99e+08</td>  \n",
       "</tr>\n",
       "</table><br/><br/>Warnings:<br/>[1] Standard Errors assume that the covariance matrix of the errors is correctly specified.<br/>[2] The condition number is large, 1.99e+08. This might indicate that there are<br/>strong multicollinearity or other numerical problems."
      ],
      "text/plain": [
       "<class 'statsmodels.iolib.summary.Summary'>\n",
       "\"\"\"\n",
       "                            OLS Regression Results                            \n",
       "==============================================================================\n",
       "Dep. Variable:               unidades   R-squared:                       0.001\n",
       "Model:                            OLS   Adj. R-squared:                  0.001\n",
       "Method:                 Least Squares   F-statistic:                     6.376\n",
       "Date:                Sun, 16 Jun 2019   Prob (F-statistic):           6.15e-27\n",
       "Time:                        22:08:44   Log-Likelihood:            -5.5365e+05\n",
       "No. Observations:              239834   AIC:                         1.107e+06\n",
       "Df Residuals:                  239801   BIC:                         1.108e+06\n",
       "Df Model:                          32                                         \n",
       "Covariance Type:            nonrobust                                         \n",
       "========================================================================================\n",
       "                           coef    std err          t      P>|t|      [0.025      0.975]\n",
       "----------------------------------------------------------------------------------------\n",
       "const                   -1.6365      3.891     -0.421      0.674      -9.263       5.990\n",
       "canal                    0.8709      0.077     11.249      0.000       0.719       1.023\n",
       "competidores            -0.0001      0.000     -0.991      0.322      -0.000       0.000\n",
       "ingreso_mediana      -1.094e-06   8.36e-07     -1.307      0.191   -2.73e-06    5.46e-07\n",
       "densidad_poblacional -3.077e-07   7.98e-07     -0.386      0.700   -1.87e-06    1.26e-06\n",
       "pct_0a5                  0.0329      0.039      0.834      0.404      -0.044       0.110\n",
       "pct_5a9                  0.0094      0.042      0.222      0.824      -0.074       0.092\n",
       "pct_10a14                0.0347      0.039      0.879      0.380      -0.043       0.112\n",
       "pct_15a19                0.0531      0.039      1.357      0.175      -0.024       0.130\n",
       "pct_20a24                0.0196      0.039      0.502      0.616      -0.057       0.096\n",
       "pct_25a29                0.0402      0.039      1.022      0.307      -0.037       0.117\n",
       "pct_30a34                0.0293      0.040      0.726      0.468      -0.050       0.108\n",
       "pct_35a39                0.0266      0.041      0.653      0.514      -0.053       0.107\n",
       "pct_40a44                0.0253      0.041      0.621      0.534      -0.055       0.105\n",
       "pct_45a49                0.0318      0.041      0.777      0.437      -0.048       0.112\n",
       "pct_50a54                0.0446      0.041      1.099      0.272      -0.035       0.124\n",
       "pct_55a59                0.0193      0.040      0.477      0.634      -0.060       0.099\n",
       "pct_60a64                0.0372      0.041      0.919      0.358      -0.042       0.117\n",
       "pct_65a69                0.0070      0.041      0.172      0.863      -0.073       0.087\n",
       "pct_70a74                0.0306      0.041      0.738      0.461      -0.051       0.112\n",
       "pct_75a79                0.0665      0.043      1.550      0.121      -0.018       0.151\n",
       "pct_80a84                0.0460      0.044      1.055      0.292      -0.040       0.132\n",
       "pct_85ainf               0.0086      0.040      0.216      0.829      -0.070       0.087\n",
       "pct_bachelors            0.0027      0.002      1.264      0.206      -0.001       0.007\n",
       "pct_doctorados          -0.0001      0.009     -0.014      0.989      -0.017       0.017\n",
       "pct_secundario           0.0036      0.002      2.313      0.021       0.001       0.007\n",
       "pct_master               0.0054      0.004      1.347      0.178      -0.002       0.013\n",
       "pct_bicicleta            0.0215      0.007      3.001      0.003       0.007       0.036\n",
       "pct_omnibus             -0.0002      0.002     -0.071      0.943      -0.005       0.004\n",
       "pct_subtes              -0.0007      0.002     -0.333      0.739      -0.005       0.003\n",
       "pct_taxi                 0.0101      0.021      0.488      0.626      -0.031       0.051\n",
       "pct_caminata            -0.0043      0.002     -2.209      0.027      -0.008      -0.000\n",
       "mediana_valor_hogar   3.929e-08   8.42e-08      0.466      0.641   -1.26e-07    2.04e-07\n",
       "==============================================================================\n",
       "Omnibus:                   204067.450   Durbin-Watson:                   1.545\n",
       "Prob(Omnibus):                  0.000   Jarque-Bera (JB):          9341738.252\n",
       "Skew:                           3.887   Prob(JB):                         0.00\n",
       "Kurtosis:                      32.570   Cond. No.                     1.99e+08\n",
       "==============================================================================\n",
       "\n",
       "Warnings:\n",
       "[1] Standard Errors assume that the covariance matrix of the errors is correctly specified.\n",
       "[2] The condition number is large, 1.99e+08. This might indicate that there are\n",
       "strong multicollinearity or other numerical problems.\n",
       "\"\"\""
      ]
     },
     "execution_count": 68,
     "metadata": {},
     "output_type": "execute_result"
    }
   ],
   "source": [
    "model = sm.OLS(y, X).fit()\n",
    "predictions = model.predict(X) # make the predictions by the model\n",
    "\n",
    "# Print out the statistics\n",
    "model.summary()"
   ]
  },
  {
   "cell_type": "code",
   "execution_count": 69,
   "metadata": {},
   "outputs": [
    {
     "name": "stdout",
     "output_type": "stream",
     "text": [
      "                            OLS Regression Results                            \n",
      "==============================================================================\n",
      "Dep. Variable:               unidades   R-squared:                       0.001\n",
      "Model:                            OLS   Adj. R-squared:                  0.001\n",
      "Method:                 Least Squares   F-statistic:                     6.376\n",
      "Date:                Sun, 16 Jun 2019   Prob (F-statistic):           6.15e-27\n",
      "Time:                        22:14:53   Log-Likelihood:            -5.5365e+05\n",
      "No. Observations:              239834   AIC:                         1.107e+06\n",
      "Df Residuals:                  239801   BIC:                         1.108e+06\n",
      "Df Model:                          32                                         \n",
      "Covariance Type:            nonrobust                                         \n",
      "========================================================================================\n",
      "                           coef    std err          t      P>|t|      [0.025      0.975]\n",
      "----------------------------------------------------------------------------------------\n",
      "const                   -1.6365      3.891     -0.421      0.674      -9.263       5.990\n",
      "canal                    0.8709      0.077     11.249      0.000       0.719       1.023\n",
      "competidores            -0.0001      0.000     -0.991      0.322      -0.000       0.000\n",
      "ingreso_mediana      -1.094e-06   8.36e-07     -1.307      0.191   -2.73e-06    5.46e-07\n",
      "densidad_poblacional -3.077e-07   7.98e-07     -0.386      0.700   -1.87e-06    1.26e-06\n",
      "pct_0a5                  0.0329      0.039      0.834      0.404      -0.044       0.110\n",
      "pct_5a9                  0.0094      0.042      0.222      0.824      -0.074       0.092\n",
      "pct_10a14                0.0347      0.039      0.879      0.380      -0.043       0.112\n",
      "pct_15a19                0.0531      0.039      1.357      0.175      -0.024       0.130\n",
      "pct_20a24                0.0196      0.039      0.502      0.616      -0.057       0.096\n",
      "pct_25a29                0.0402      0.039      1.022      0.307      -0.037       0.117\n",
      "pct_30a34                0.0293      0.040      0.726      0.468      -0.050       0.108\n",
      "pct_35a39                0.0266      0.041      0.653      0.514      -0.053       0.107\n",
      "pct_40a44                0.0253      0.041      0.621      0.534      -0.055       0.105\n",
      "pct_45a49                0.0318      0.041      0.777      0.437      -0.048       0.112\n",
      "pct_50a54                0.0446      0.041      1.099      0.272      -0.035       0.124\n",
      "pct_55a59                0.0193      0.040      0.477      0.634      -0.060       0.099\n",
      "pct_60a64                0.0372      0.041      0.919      0.358      -0.042       0.117\n",
      "pct_65a69                0.0070      0.041      0.172      0.863      -0.073       0.087\n",
      "pct_70a74                0.0306      0.041      0.738      0.461      -0.051       0.112\n",
      "pct_75a79                0.0665      0.043      1.550      0.121      -0.018       0.151\n",
      "pct_80a84                0.0460      0.044      1.055      0.292      -0.040       0.132\n",
      "pct_85ainf               0.0086      0.040      0.216      0.829      -0.070       0.087\n",
      "pct_bachelors            0.0027      0.002      1.264      0.206      -0.001       0.007\n",
      "pct_doctorados          -0.0001      0.009     -0.014      0.989      -0.017       0.017\n",
      "pct_secundario           0.0036      0.002      2.313      0.021       0.001       0.007\n",
      "pct_master               0.0054      0.004      1.347      0.178      -0.002       0.013\n",
      "pct_bicicleta            0.0215      0.007      3.001      0.003       0.007       0.036\n",
      "pct_omnibus             -0.0002      0.002     -0.071      0.943      -0.005       0.004\n",
      "pct_subtes              -0.0007      0.002     -0.333      0.739      -0.005       0.003\n",
      "pct_taxi                 0.0101      0.021      0.488      0.626      -0.031       0.051\n",
      "pct_caminata            -0.0043      0.002     -2.209      0.027      -0.008      -0.000\n",
      "mediana_valor_hogar   3.929e-08   8.42e-08      0.466      0.641   -1.26e-07    2.04e-07\n",
      "==============================================================================\n",
      "Omnibus:                   204067.450   Durbin-Watson:                   1.545\n",
      "Prob(Omnibus):                  0.000   Jarque-Bera (JB):          9341738.252\n",
      "Skew:                           3.887   Prob(JB):                         0.00\n",
      "Kurtosis:                      32.570   Cond. No.                     1.99e+08\n",
      "==============================================================================\n",
      "\n",
      "Warnings:\n",
      "[1] Standard Errors assume that the covariance matrix of the errors is correctly specified.\n",
      "[2] The condition number is large, 1.99e+08. This might indicate that there are\n",
      "strong multicollinearity or other numerical problems.\n"
     ]
    }
   ],
   "source": [
    "print(model.summary())"
   ]
  },
  {
   "cell_type": "markdown",
   "metadata": {},
   "source": [
    "#### Linear Regression"
   ]
  },
  {
   "cell_type": "code",
   "execution_count": 86,
   "metadata": {},
   "outputs": [],
   "source": [
    "X.drop('const', inplace=True, axis=1)"
   ]
  },
  {
   "cell_type": "code",
   "execution_count": 87,
   "metadata": {},
   "outputs": [],
   "source": [
    "X_train, X_test, y_train, y_test = train_test_split(X, y, test_size=0.3, random_state=42)"
   ]
  },
  {
   "cell_type": "code",
   "execution_count": 90,
   "metadata": {},
   "outputs": [],
   "source": [
    "model = LinearRegression(n_jobs=4).fit(X_train, y_train)\n"
   ]
  },
  {
   "cell_type": "code",
   "execution_count": 91,
   "metadata": {},
   "outputs": [
    {
     "name": "stdout",
     "output_type": "stream",
     "text": [
      "coefficient of determination: 0.0007882923900750516\n",
      "intercept: -0.6682183467606695\n",
      "slope: [ 8.13306557e-01 -2.30496605e-04 -1.32644614e-06  2.64565956e-08\n",
      "  2.42921357e-02  1.62953630e-03  2.46772653e-02  4.29687689e-02\n",
      "  1.01042408e-02  3.36231126e-02  2.08981272e-02  1.20765467e-02\n",
      "  2.07250073e-02  1.67095208e-02  4.13316258e-02  1.32831810e-02\n",
      "  1.90784534e-02 -3.00023022e-03  3.56842973e-02  4.84769912e-02\n",
      "  2.80202157e-02  6.09532067e-03  2.64568994e-03 -2.88928835e-03\n",
      "  3.31144646e-03  8.39960898e-03  1.97588329e-02 -3.53885648e-03\n",
      " -1.42670537e-03 -9.01250578e-03 -2.70386610e-03  5.12047905e-08]\n"
     ]
    }
   ],
   "source": [
    "r_sq = model.score(X_train, y_train)\n",
    "print('coefficient of determination:', r_sq)\n",
    "\n",
    "print('intercept:', model.intercept_)\n",
    "\n",
    "print('slope:', model.coef_)"
   ]
  },
  {
   "cell_type": "code",
   "execution_count": 98,
   "metadata": {},
   "outputs": [],
   "source": [
    "y_pred = model.predict(X_test)"
   ]
  },
  {
   "cell_type": "code",
   "execution_count": 94,
   "metadata": {},
   "outputs": [],
   "source": [
    "from sklearn.metrics import mean_absolute_error"
   ]
  },
  {
   "cell_type": "code",
   "execution_count": 78,
   "metadata": {},
   "outputs": [],
   "source": [
    "from sklearn.metrics import mean_squared_error"
   ]
  },
  {
   "cell_type": "code",
   "execution_count": 99,
   "metadata": {},
   "outputs": [
    {
     "data": {
      "text/plain": [
       "1.571959460235229"
      ]
     },
     "execution_count": 99,
     "metadata": {},
     "output_type": "execute_result"
    }
   ],
   "source": [
    "mean_absolute_error(y_test, y_pred)"
   ]
  },
  {
   "cell_type": "code",
   "execution_count": 102,
   "metadata": {},
   "outputs": [
    {
     "data": {
      "text/plain": [
       "5.971510646796166"
      ]
     },
     "execution_count": 102,
     "metadata": {},
     "output_type": "execute_result"
    }
   ],
   "source": [
    "mean_squared_error(y_test, y_pred)"
   ]
  },
  {
   "cell_type": "markdown",
   "metadata": {},
   "source": [
    "### Train Final Model"
   ]
  },
  {
   "cell_type": "code",
   "execution_count": 103,
   "metadata": {},
   "outputs": [],
   "source": [
    "model = LinearRegression(n_jobs=4).fit(X, y)"
   ]
  },
  {
   "cell_type": "code",
   "execution_count": 104,
   "metadata": {},
   "outputs": [
    {
     "name": "stdout",
     "output_type": "stream",
     "text": [
      "coefficient of determination: 0.0007475499909412875\n",
      "intercept: -1.6365175382024901\n",
      "slope: [ 8.70905905e-01 -1.12537594e-04 -1.09354694e-06 -3.07725037e-07\n",
      "  3.28578227e-02  9.40190156e-03  3.46916655e-02  5.30874599e-02\n",
      "  1.95930534e-02  4.02258919e-02  2.93068865e-02  2.66377692e-02\n",
      "  2.53146258e-02  3.17748793e-02  4.45670177e-02  1.92741333e-02\n",
      "  3.72199997e-02  6.98816004e-03  3.06150826e-02  6.65113521e-02\n",
      "  4.60427094e-02  8.63861108e-03  2.67869965e-03 -1.20443590e-04\n",
      "  3.58852659e-03  5.39232994e-03  2.14770958e-02 -1.63395871e-04\n",
      " -6.64356302e-04  1.01362499e-02 -4.33665929e-03  3.92879130e-08]\n"
     ]
    }
   ],
   "source": [
    "r_sq = model.score(X_train, y_train)\n",
    "print('coefficient of determination:', r_sq)\n",
    "\n",
    "print('intercept:', model.intercept_)\n",
    "\n",
    "print('slope:', model.coef_)"
   ]
  },
  {
   "cell_type": "code",
   "execution_count": 105,
   "metadata": {},
   "outputs": [],
   "source": [
    "y_pred = model.predict(X)"
   ]
  },
  {
   "cell_type": "code",
   "execution_count": 106,
   "metadata": {},
   "outputs": [
    {
     "data": {
      "text/plain": [
       "1.574054994556819"
      ]
     },
     "execution_count": 106,
     "metadata": {},
     "output_type": "execute_result"
    }
   ],
   "source": [
    "mean_absolute_error(y, y_pred)"
   ]
  },
  {
   "cell_type": "code",
   "execution_count": null,
   "metadata": {},
   "outputs": [],
   "source": []
  },
  {
   "cell_type": "code",
   "execution_count": null,
   "metadata": {},
   "outputs": [],
   "source": []
  },
  {
   "cell_type": "code",
   "execution_count": null,
   "metadata": {},
   "outputs": [],
   "source": []
  }
 ],
 "metadata": {
  "kernelspec": {
   "display_name": "Python 3",
   "language": "python",
   "name": "python3"
  },
  "language_info": {
   "codemirror_mode": {
    "name": "ipython",
    "version": 3
   },
   "file_extension": ".py",
   "mimetype": "text/x-python",
   "name": "python",
   "nbconvert_exporter": "python",
   "pygments_lexer": "ipython3",
   "version": "3.7.3"
  }
 },
 "nbformat": 4,
 "nbformat_minor": 2
}
