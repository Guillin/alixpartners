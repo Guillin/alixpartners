{
 "cells": [
  {
   "cell_type": "code",
   "execution_count": 1,
   "metadata": {},
   "outputs": [],
   "source": [
    "import pandas as pd "
   ]
  },
  {
   "cell_type": "code",
   "execution_count": 2,
   "metadata": {},
   "outputs": [],
   "source": [
    "from datetime import date"
   ]
  },
  {
   "cell_type": "code",
   "execution_count": 4,
   "metadata": {},
   "outputs": [],
   "source": [
    "ventas = pd.read_csv('../data/raw/ventas.txt', sep='|')"
   ]
  },
  {
   "cell_type": "code",
   "execution_count": 5,
   "metadata": {},
   "outputs": [],
   "source": [
    "ventas.rename(columns={'fecha':'fecha_venta'}, inplace=True)"
   ]
  },
  {
   "cell_type": "code",
   "execution_count": 6,
   "metadata": {},
   "outputs": [],
   "source": [
    "ventas['fecha_venta'] = pd.to_datetime(ventas['fecha_venta'])"
   ]
  },
  {
   "cell_type": "code",
   "execution_count": 7,
   "metadata": {},
   "outputs": [],
   "source": [
    "ventas['fecha_venta_norm'] = ventas['fecha_venta'].apply(lambda x : date(x.year,x.month,1))"
   ]
  },
  {
   "cell_type": "code",
   "execution_count": 8,
   "metadata": {},
   "outputs": [],
   "source": [
    "aggregattion = {\n",
    "    'unidades': {\n",
    "        'unidades': 'sum',\n",
    "        'unidades_max': 'max',\n",
    "        'unidades_min': 'min',\n",
    "        'unidades_avg': 'mean',\n",
    "        'num_ventas' : 'count'\n",
    "    },\n",
    "    'fecha_venta':{\n",
    "        'fecha_venta_max': 'max',\n",
    "        'fecha_venta_min': 'min'\n",
    "        \n",
    "    }\n",
    "    \n",
    "}"
   ]
  },
  {
   "cell_type": "code",
   "execution_count": 9,
   "metadata": {},
   "outputs": [
    {
     "name": "stderr",
     "output_type": "stream",
     "text": [
      "/opt/anaconda3/envs/signalenv/lib/python3.7/site-packages/pandas/core/groupby/generic.py:1315: FutureWarning: using a dict with renaming is deprecated and will be removed in a future version\n",
      "  return super(DataFrameGroupBy, self).aggregate(arg, *args, **kwargs)\n"
     ]
    }
   ],
   "source": [
    "ventas = ventas.groupby(['id_pos','fecha_venta_norm','canal']).agg(aggregattion).reset_index()"
   ]
  },
  {
   "cell_type": "code",
   "execution_count": 10,
   "metadata": {},
   "outputs": [
    {
     "data": {
      "text/html": [
       "<div>\n",
       "<style scoped>\n",
       "    .dataframe tbody tr th:only-of-type {\n",
       "        vertical-align: middle;\n",
       "    }\n",
       "\n",
       "    .dataframe tbody tr th {\n",
       "        vertical-align: top;\n",
       "    }\n",
       "\n",
       "    .dataframe thead tr th {\n",
       "        text-align: left;\n",
       "    }\n",
       "</style>\n",
       "<table border=\"1\" class=\"dataframe\">\n",
       "  <thead>\n",
       "    <tr>\n",
       "      <th></th>\n",
       "      <th>id_pos</th>\n",
       "      <th>fecha_venta_norm</th>\n",
       "      <th>canal</th>\n",
       "      <th colspan=\"5\" halign=\"left\">unidades</th>\n",
       "      <th colspan=\"2\" halign=\"left\">fecha_venta</th>\n",
       "    </tr>\n",
       "    <tr>\n",
       "      <th></th>\n",
       "      <th></th>\n",
       "      <th></th>\n",
       "      <th></th>\n",
       "      <th>unidades</th>\n",
       "      <th>unidades_max</th>\n",
       "      <th>unidades_min</th>\n",
       "      <th>unidades_avg</th>\n",
       "      <th>num_ventas</th>\n",
       "      <th>fecha_venta_max</th>\n",
       "      <th>fecha_venta_min</th>\n",
       "    </tr>\n",
       "  </thead>\n",
       "  <tbody>\n",
       "    <tr>\n",
       "      <th>0</th>\n",
       "      <td>3142</td>\n",
       "      <td>2012-12-01</td>\n",
       "      <td>ALMACEN</td>\n",
       "      <td>12</td>\n",
       "      <td>9</td>\n",
       "      <td>1</td>\n",
       "      <td>4.000000</td>\n",
       "      <td>3</td>\n",
       "      <td>2012-12-18</td>\n",
       "      <td>2012-12-10</td>\n",
       "    </tr>\n",
       "    <tr>\n",
       "      <th>1</th>\n",
       "      <td>3142</td>\n",
       "      <td>2013-12-01</td>\n",
       "      <td>ALMACEN</td>\n",
       "      <td>7</td>\n",
       "      <td>2</td>\n",
       "      <td>1</td>\n",
       "      <td>1.166667</td>\n",
       "      <td>6</td>\n",
       "      <td>2013-12-24</td>\n",
       "      <td>2013-12-03</td>\n",
       "    </tr>\n",
       "    <tr>\n",
       "      <th>2</th>\n",
       "      <td>3143</td>\n",
       "      <td>2013-11-01</td>\n",
       "      <td>ALMACEN</td>\n",
       "      <td>2</td>\n",
       "      <td>2</td>\n",
       "      <td>2</td>\n",
       "      <td>2.000000</td>\n",
       "      <td>1</td>\n",
       "      <td>2013-11-30</td>\n",
       "      <td>2013-11-30</td>\n",
       "    </tr>\n",
       "    <tr>\n",
       "      <th>3</th>\n",
       "      <td>3143</td>\n",
       "      <td>2013-12-01</td>\n",
       "      <td>ALMACEN</td>\n",
       "      <td>47</td>\n",
       "      <td>12</td>\n",
       "      <td>1</td>\n",
       "      <td>3.357143</td>\n",
       "      <td>14</td>\n",
       "      <td>2013-12-23</td>\n",
       "      <td>2013-12-04</td>\n",
       "    </tr>\n",
       "    <tr>\n",
       "      <th>4</th>\n",
       "      <td>3144</td>\n",
       "      <td>2012-11-01</td>\n",
       "      <td>ALMACEN</td>\n",
       "      <td>6</td>\n",
       "      <td>1</td>\n",
       "      <td>1</td>\n",
       "      <td>1.000000</td>\n",
       "      <td>6</td>\n",
       "      <td>2012-11-29</td>\n",
       "      <td>2012-11-01</td>\n",
       "    </tr>\n",
       "  </tbody>\n",
       "</table>\n",
       "</div>"
      ],
      "text/plain": [
       "  id_pos fecha_venta_norm    canal unidades                            \\\n",
       "                                   unidades unidades_max unidades_min   \n",
       "0   3142       2012-12-01  ALMACEN       12            9            1   \n",
       "1   3142       2013-12-01  ALMACEN        7            2            1   \n",
       "2   3143       2013-11-01  ALMACEN        2            2            2   \n",
       "3   3143       2013-12-01  ALMACEN       47           12            1   \n",
       "4   3144       2012-11-01  ALMACEN        6            1            1   \n",
       "\n",
       "                              fecha_venta                  \n",
       "  unidades_avg num_ventas fecha_venta_max fecha_venta_min  \n",
       "0     4.000000          3      2012-12-18      2012-12-10  \n",
       "1     1.166667          6      2013-12-24      2013-12-03  \n",
       "2     2.000000          1      2013-11-30      2013-11-30  \n",
       "3     3.357143         14      2013-12-23      2013-12-04  \n",
       "4     1.000000          6      2012-11-29      2012-11-01  "
      ]
     },
     "execution_count": 10,
     "metadata": {},
     "output_type": "execute_result"
    }
   ],
   "source": [
    "ventas.head()"
   ]
  },
  {
   "cell_type": "code",
   "execution_count": 11,
   "metadata": {},
   "outputs": [],
   "source": [
    "# Renombramos las columnas\n",
    "ventas.columns = ['id_pos' , 'fecha_venta_norm' , 'canal', 'unidades',\n",
    "                  'unidades_max', 'unidades_min', 'unidades_avg', 'num_ventas', \n",
    "                  'fecha_venta_max', 'fecha_venta_min'\n",
    "                 ]\n"
   ]
  },
  {
   "cell_type": "code",
   "execution_count": 12,
   "metadata": {},
   "outputs": [],
   "source": [
    "# Load Pos data\n",
    "pos = pd.read_csv('../data/raw/pos.csv')"
   ]
  },
  {
   "cell_type": "code",
   "execution_count": 13,
   "metadata": {},
   "outputs": [],
   "source": [
    "pos = pos[pos['id_pos'].isnull() != True]"
   ]
  },
  {
   "cell_type": "code",
   "execution_count": 14,
   "metadata": {},
   "outputs": [],
   "source": [
    "pos = pos[pos['id_pos']!='Not Available']"
   ]
  },
  {
   "cell_type": "code",
   "execution_count": 15,
   "metadata": {},
   "outputs": [
    {
     "data": {
      "text/plain": [
       "(35818, 10)"
      ]
     },
     "execution_count": 15,
     "metadata": {},
     "output_type": "execute_result"
    }
   ],
   "source": [
    "ventas.shape"
   ]
  },
  {
   "cell_type": "code",
   "execution_count": 16,
   "metadata": {},
   "outputs": [],
   "source": [
    "# convertimos a int para poder cruzar con informacion de venta\n",
    "pos['id_pos'] = pos['id_pos'].astype(int)"
   ]
  },
  {
   "cell_type": "code",
   "execution_count": 17,
   "metadata": {},
   "outputs": [],
   "source": [
    "train = pd.merge(ventas, pos, how='inner', on='id_pos')"
   ]
  },
  {
   "cell_type": "raw",
   "metadata": {},
   "source": [
    "train.rename(columns={'fecha':'fecha_venta'}, inplace=True)"
   ]
  },
  {
   "cell_type": "code",
   "execution_count": 18,
   "metadata": {},
   "outputs": [
    {
     "name": "stdout",
     "output_type": "stream",
     "text": [
      "Num. id_pos de ventas:  12302\n"
     ]
    }
   ],
   "source": [
    "print(\"Num. id_pos de ventas: \",ventas.id_pos.nunique())"
   ]
  },
  {
   "cell_type": "code",
   "execution_count": 19,
   "metadata": {},
   "outputs": [
    {
     "name": "stdout",
     "output_type": "stream",
     "text": [
      "Num. id_pos de train (ventas x pos) :  11853\n"
     ]
    }
   ],
   "source": [
    "print(\"Num. id_pos de train (ventas x pos) : \",train.id_pos.nunique())"
   ]
  },
  {
   "cell_type": "code",
   "execution_count": 20,
   "metadata": {},
   "outputs": [
    {
     "name": "stdout",
     "output_type": "stream",
     "text": [
      "Num. id_pos no encontrados:  449\n"
     ]
    }
   ],
   "source": [
    "print(\"Num. id_pos no encontrados: \" , ventas.id_pos.nunique() - train.id_pos.nunique())"
   ]
  },
  {
   "cell_type": "code",
   "execution_count": 21,
   "metadata": {},
   "outputs": [],
   "source": [
    "train.to_csv('../data/processed/train_aggr.csv', sep=';', index=False)"
   ]
  },
  {
   "cell_type": "code",
   "execution_count": 37,
   "metadata": {},
   "outputs": [
    {
     "data": {
      "text/plain": [
       "12896"
      ]
     },
     "execution_count": 37,
     "metadata": {},
     "output_type": "execute_result"
    }
   ],
   "source": [
    "submittion[submittion.id_pos.isin(pos.id_pos)]['id_pos'].nunique()"
   ]
  }
 ],
 "metadata": {
  "kernelspec": {
   "display_name": "Python 3",
   "language": "python",
   "name": "python3"
  },
  "language_info": {
   "codemirror_mode": {
    "name": "ipython",
    "version": 3
   },
   "file_extension": ".py",
   "mimetype": "text/x-python",
   "name": "python",
   "nbconvert_exporter": "python",
   "pygments_lexer": "ipython3",
   "version": "3.7.3"
  }
 },
 "nbformat": 4,
 "nbformat_minor": 2
}
