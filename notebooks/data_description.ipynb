{
 "cells": [
  {
   "cell_type": "markdown",
   "metadata": {},
   "source": [
    "### Introducción\n"
   ]
  },
  {
   "cell_type": "markdown",
   "metadata": {},
   "source": [
    "En AlixPartners trabajamos con diferentes problemas de negocio que requieren un análisis de los datos para extraer conclusiones. A continuación se describe el problema a resolver\n",
    "\n",
    "“Fiestas Dulces” es una empresa que entrega sus artículos en los puntos de venta a terceros (consignación). El producto insignia de la empresa se consume mayoritariamente en las fiestas a fin de año. El problema es que los artículos que comercializa son perecederos. La práctica usual es descartar lo que no se vende.\n",
    "\n",
    "En la actualidad la empresa goza de buenos ingresos, pero considerando el descarte de artículos el margen podría mejorar. Para maximizar la ganancia “Fiestas Dulces” necesita minimizar dicho descarte. Una forma de hacer esto es conseguir buenas predicciones sobre la venta de sus productos en cada punto de venta.\n",
    "\n",
    "El objetivo de esta competencia es predecir la cantidad de artículos que se venderá en cada punto de venta en diciembre de 2014."
   ]
  },
  {
   "cell_type": "markdown",
   "metadata": {},
   "source": [
    "### Evaluación\n"
   ]
  },
  {
   "cell_type": "markdown",
   "metadata": {},
   "source": [
    "La calificación de la competencia se logra en un 85% con el resultado de las predicciones y un 15% con un informe en donde los participantes expliquen qué tratamiento hicieron de los datos, y qué decisiones tomaron para el modelado. Se leerán todos los informes presentados, incluso aquellos con bajo puntaje en las predicciones. ¡A no desalentarse!\n",
    "\n",
    "La calificación de la solución propuesta se hace con el error absoluto medio (MAE por su sigla en inglés) y se calcula como el promedio de las diferencias (en valor absoluto) entre las respuestas enviadas y las correctas:"
   ]
  },
  {
   "cell_type": "markdown",
   "metadata": {},
   "source": [
    "<img src=\"https://wikimedia.org/api/rest_v1/media/math/render/svg/3ef87b78a9af65e308cf4aa9acf6f203efbdeded\">"
   ]
  },
  {
   "cell_type": "markdown",
   "metadata": {},
   "source": [
    "Los participantes disponen de tres archivos que reúnen la información del caso, envios.txt, ventas.txt y pos.csv.\n",
    "\n",
    "**envios.txt:**\n",
    "\n",
    "    - fecha: Fecha de envío.\n",
    "    - id_pos: Identificador único de Punto de Venta.\n",
    "    - unidades_despachadas: Cantidad de productos enviados al POS en la fecha mencionada.\n",
    "    - cantidad_envios: Cantidad de envíos realizados para la fecha y POS en cuestión.\n",
    "\n",
    "**ventas.txt:**\n",
    "\n",
    "    - fecha: Fecha de venta.\n",
    "    - id_pos: Identificador único de Punto de Venta.\n",
    "    - cantidad_envios: Cantidad de productos vendidos.\n",
    "    - canal: Es la clase de tienda en la que se realizó la venta.\n",
    "\n",
    "**pos.csv:**\n",
    "\n",
    "    - id_pos: Identificador único de Punto de Venta.\n",
    "    - competidores: Número de competidores en un radio de una milla del POS.\n",
    "    - ingreso_mediana: Mediana del ingreso para el código postal en cuestión\n",
    "    - ingreso_promedio: Ingreso promedio para el código postal en cuestión.\n",
    "    - densidad_poblacional: Densidad poblacional para el código postal en cuestión.\n",
    "    - pct_0a5: Porcentaje de la población de 0 a 5 años.\n",
    "    - pct_5a9: Porcentaje de la población de 5 a 9 años.\n",
    "    - pct_10a14: Porcentaje de la población de 10 a 14 años.\n",
    "    - pct_15a19: Porcentaje de la población de 15 a 19 años.\n",
    "    - pct_20a24: Porcentaje de la población de 20 a 24 años.\n",
    "    - pct_25a29: Porcentaje de la población de 25 a 29 años.\n",
    "    - pct_30a34: Porcentaje de la población de 30 a 34 años.\n",
    "    - pct_35a39: Porcentaje de la población de 35 a 39 años.\n",
    "    - pct_40a44: Porcentaje de la población de 40 a 44 años.\n",
    "    - pct_45a49: Porcentaje de la población de 45 a 49 años.\n",
    "    - pct_50a54: Porcentaje de la población de 50 a 54 años.\n",
    "    - pct_55a59: Porcentaje de la población de 55 a 59 años.\n",
    "    - pct_60a64: Porcentaje de la población de 60 a 64 años.\n",
    "    - pct_65a69: Porcentaje de la población de 65 a 69 años.\n",
    "    - pct_70a74: Porcentaje de la población de 70 a 74 años.\n",
    "    - pct_75a79: Porcentaje de la población de 75 a 79 años.\n",
    "    - pct_80a84: Porcentaje de la población de 80 a 84 años.\n",
    "    - pct_85ainf: Porcentaje de la población mayor a 85 años.\n",
    "    - pct_bachelors: Porcentaje de la población con título de bachelor.\n",
    "    - pct_doctorados: Porcentaje de la población con título de doctor.\n",
    "    - pct_secundario: Porcentaje de la población con título secundario.\n",
    "    - pct_master: Porcentaje de la población con título de master.\n",
    "    - pct_bicicleta: Porcentaje de utilización de bicicletas.\n",
    "    - pct_omnibus: Porcentaje de utilización de omnibus.\n",
    "    - pct_subtes: Porcentaje de utilización de subtes.\n",
    "    - pct_taxi: Porcentaje de utilización de taxis.\n",
    "    - pct_caminata: Porcentaje de transporte de a pie.\n",
    "    - mediana_valor_hogar: Mediana de valor del hogar en la vecindad del POS."
   ]
  },
  {
   "cell_type": "markdown",
   "metadata": {},
   "source": [
    "**NOTAS:**\n",
    "- En envios hay 13449 id_pos distintos\n",
    "- En ventas hay 12302 id_pos distintos\n",
    "- En pos hay 12934 id_pos distintos \n",
    "Por lo cual en envios existen a priori 13449 - 12934 = 515 pos sin identificar o sin informacion de pos\n",
    "- En pos hay 110 id_pos nulos y 187 con valor igual a 'Not Available'\n",
    "\n",
    "- En Ventas hay 472 id_pos que no se encontro su informacion de pos correspondiente (al cruzar con pos). Algo se debe hacer con esto ultimo:\n",
    "    - Descartar esos registros para el entrenamiento (o bien separar el dataset en dos y entrenar dos modelos aparter y luego ensamblar)\n",
    "    - Imputar los valores nulos con algun valor por default o media\n",
    "    - Ver los id_pos nulos o 'Not Available' de pos que quizas corresponden a los de ventas que no se pudieron cruzar\n",
    "\n",
    "- En Ventas hay 2 id_pos que no se encontro su informacion de envios correspondiente (al cruzar con envios). Esos registros se pueden descartar.\n",
    "- Hay que tener en cuenta la fecha de envio con la de venta para poder hacer el cruce correspondientes de datos.\n",
    "- Hip: La informacion en envio puede ser leaks. Validar esto\n",
    "\n",
    "- En el datase de submittion hay 594 id_pos mas que en ventas. Estos son id_pos 'ciegos', es decir que no tenes historia de ventas por lo cual su prediccion se va a deber a la generalizacion de los datos obtenidos del modelo para aquellos que si poseemos historia de ventas.\n",
    "\n",
    "- Todos los id_pos del dataset de submition se encuentran en el de pos. Para scorear se debe filtrar por solo esos.\n",
    "\n",
    "\n"
   ]
  },
  {
   "cell_type": "code",
   "execution_count": 1,
   "metadata": {},
   "outputs": [
    {
     "data": {
      "text/plain": [
       "515"
      ]
     },
     "execution_count": 1,
     "metadata": {},
     "output_type": "execute_result"
    }
   ],
   "source": [
    "13449 - 12934"
   ]
  },
  {
   "cell_type": "code",
   "execution_count": 2,
   "metadata": {},
   "outputs": [],
   "source": [
    "import pandas as pd "
   ]
  },
  {
   "cell_type": "code",
   "execution_count": 3,
   "metadata": {},
   "outputs": [],
   "source": [
    "envios = pd.read_csv('../data/raw/envios.txt', sep='|')"
   ]
  },
  {
   "cell_type": "code",
   "execution_count": 4,
   "metadata": {},
   "outputs": [
    {
     "data": {
      "text/plain": [
       "(42434, 4)"
      ]
     },
     "execution_count": 4,
     "metadata": {},
     "output_type": "execute_result"
    }
   ],
   "source": [
    "envios.shape"
   ]
  },
  {
   "cell_type": "code",
   "execution_count": 5,
   "metadata": {},
   "outputs": [
    {
     "data": {
      "text/html": [
       "<div>\n",
       "<style scoped>\n",
       "    .dataframe tbody tr th:only-of-type {\n",
       "        vertical-align: middle;\n",
       "    }\n",
       "\n",
       "    .dataframe tbody tr th {\n",
       "        vertical-align: top;\n",
       "    }\n",
       "\n",
       "    .dataframe thead th {\n",
       "        text-align: right;\n",
       "    }\n",
       "</style>\n",
       "<table border=\"1\" class=\"dataframe\">\n",
       "  <thead>\n",
       "    <tr style=\"text-align: right;\">\n",
       "      <th></th>\n",
       "      <th>fecha</th>\n",
       "      <th>id_pos</th>\n",
       "      <th>unidades_despachadas</th>\n",
       "      <th>cantidad_envios</th>\n",
       "    </tr>\n",
       "  </thead>\n",
       "  <tbody>\n",
       "    <tr>\n",
       "      <th>0</th>\n",
       "      <td>2012-08-17</td>\n",
       "      <td>5235</td>\n",
       "      <td>36</td>\n",
       "      <td>1</td>\n",
       "    </tr>\n",
       "    <tr>\n",
       "      <th>1</th>\n",
       "      <td>2012-08-24</td>\n",
       "      <td>4611</td>\n",
       "      <td>48</td>\n",
       "      <td>1</td>\n",
       "    </tr>\n",
       "    <tr>\n",
       "      <th>2</th>\n",
       "      <td>2012-08-24</td>\n",
       "      <td>4645</td>\n",
       "      <td>48</td>\n",
       "      <td>1</td>\n",
       "    </tr>\n",
       "    <tr>\n",
       "      <th>3</th>\n",
       "      <td>2012-08-24</td>\n",
       "      <td>4649</td>\n",
       "      <td>72</td>\n",
       "      <td>1</td>\n",
       "    </tr>\n",
       "    <tr>\n",
       "      <th>4</th>\n",
       "      <td>2012-08-24</td>\n",
       "      <td>4677</td>\n",
       "      <td>72</td>\n",
       "      <td>1</td>\n",
       "    </tr>\n",
       "  </tbody>\n",
       "</table>\n",
       "</div>"
      ],
      "text/plain": [
       "        fecha  id_pos  unidades_despachadas  cantidad_envios\n",
       "0  2012-08-17    5235                    36                1\n",
       "1  2012-08-24    4611                    48                1\n",
       "2  2012-08-24    4645                    48                1\n",
       "3  2012-08-24    4649                    72                1\n",
       "4  2012-08-24    4677                    72                1"
      ]
     },
     "execution_count": 5,
     "metadata": {},
     "output_type": "execute_result"
    }
   ],
   "source": [
    "envios.head()"
   ]
  },
  {
   "cell_type": "code",
   "execution_count": 6,
   "metadata": {},
   "outputs": [
    {
     "data": {
      "text/plain": [
       "13449"
      ]
     },
     "execution_count": 6,
     "metadata": {},
     "output_type": "execute_result"
    }
   ],
   "source": [
    "envios.id_pos.nunique()"
   ]
  },
  {
   "cell_type": "code",
   "execution_count": 7,
   "metadata": {},
   "outputs": [],
   "source": [
    "ventas = pd.read_csv('../data/raw/ventas.txt', sep='|')"
   ]
  },
  {
   "cell_type": "code",
   "execution_count": 8,
   "metadata": {},
   "outputs": [
    {
     "data": {
      "text/html": [
       "<div>\n",
       "<style scoped>\n",
       "    .dataframe tbody tr th:only-of-type {\n",
       "        vertical-align: middle;\n",
       "    }\n",
       "\n",
       "    .dataframe tbody tr th {\n",
       "        vertical-align: top;\n",
       "    }\n",
       "\n",
       "    .dataframe thead th {\n",
       "        text-align: right;\n",
       "    }\n",
       "</style>\n",
       "<table border=\"1\" class=\"dataframe\">\n",
       "  <thead>\n",
       "    <tr style=\"text-align: right;\">\n",
       "      <th></th>\n",
       "      <th>fecha</th>\n",
       "      <th>id_pos</th>\n",
       "      <th>unidades</th>\n",
       "      <th>canal</th>\n",
       "    </tr>\n",
       "  </thead>\n",
       "  <tbody>\n",
       "    <tr>\n",
       "      <th>0</th>\n",
       "      <td>2012-10-01</td>\n",
       "      <td>8495</td>\n",
       "      <td>4</td>\n",
       "      <td>MAXIKIOSCO</td>\n",
       "    </tr>\n",
       "    <tr>\n",
       "      <th>1</th>\n",
       "      <td>2012-10-10</td>\n",
       "      <td>8571</td>\n",
       "      <td>1</td>\n",
       "      <td>MAXIKIOSCO</td>\n",
       "    </tr>\n",
       "    <tr>\n",
       "      <th>2</th>\n",
       "      <td>2012-10-11</td>\n",
       "      <td>8915</td>\n",
       "      <td>1</td>\n",
       "      <td>MAXIKIOSCO</td>\n",
       "    </tr>\n",
       "    <tr>\n",
       "      <th>3</th>\n",
       "      <td>2012-10-12</td>\n",
       "      <td>8915</td>\n",
       "      <td>3</td>\n",
       "      <td>MAXIKIOSCO</td>\n",
       "    </tr>\n",
       "    <tr>\n",
       "      <th>4</th>\n",
       "      <td>2012-10-13</td>\n",
       "      <td>8923</td>\n",
       "      <td>1</td>\n",
       "      <td>MAXIKIOSCO</td>\n",
       "    </tr>\n",
       "  </tbody>\n",
       "</table>\n",
       "</div>"
      ],
      "text/plain": [
       "        fecha  id_pos  unidades       canal\n",
       "0  2012-10-01    8495         4  MAXIKIOSCO\n",
       "1  2012-10-10    8571         1  MAXIKIOSCO\n",
       "2  2012-10-11    8915         1  MAXIKIOSCO\n",
       "3  2012-10-12    8915         3  MAXIKIOSCO\n",
       "4  2012-10-13    8923         1  MAXIKIOSCO"
      ]
     },
     "execution_count": 8,
     "metadata": {},
     "output_type": "execute_result"
    }
   ],
   "source": [
    "ventas.head()"
   ]
  },
  {
   "cell_type": "code",
   "execution_count": 9,
   "metadata": {},
   "outputs": [
    {
     "data": {
      "text/plain": [
       "(266436, 4)"
      ]
     },
     "execution_count": 9,
     "metadata": {},
     "output_type": "execute_result"
    }
   ],
   "source": [
    "ventas.shape"
   ]
  },
  {
   "cell_type": "code",
   "execution_count": 10,
   "metadata": {},
   "outputs": [
    {
     "data": {
      "text/plain": [
       "12302"
      ]
     },
     "execution_count": 10,
     "metadata": {},
     "output_type": "execute_result"
    }
   ],
   "source": [
    "ventas.id_pos.nunique()"
   ]
  },
  {
   "cell_type": "code",
   "execution_count": 11,
   "metadata": {},
   "outputs": [],
   "source": [
    "pos = pd.read_csv('../data/raw/pos.csv')"
   ]
  },
  {
   "cell_type": "code",
   "execution_count": 12,
   "metadata": {},
   "outputs": [
    {
     "data": {
      "text/html": [
       "<div>\n",
       "<style scoped>\n",
       "    .dataframe tbody tr th:only-of-type {\n",
       "        vertical-align: middle;\n",
       "    }\n",
       "\n",
       "    .dataframe tbody tr th {\n",
       "        vertical-align: top;\n",
       "    }\n",
       "\n",
       "    .dataframe thead th {\n",
       "        text-align: right;\n",
       "    }\n",
       "</style>\n",
       "<table border=\"1\" class=\"dataframe\">\n",
       "  <thead>\n",
       "    <tr style=\"text-align: right;\">\n",
       "      <th></th>\n",
       "      <th>id_pos</th>\n",
       "      <th>competidores</th>\n",
       "      <th>ingreso_mediana</th>\n",
       "      <th>ingreso_promedio</th>\n",
       "      <th>densidad_poblacional</th>\n",
       "      <th>pct_0a5</th>\n",
       "      <th>pct_5a9</th>\n",
       "      <th>pct_10a14</th>\n",
       "      <th>pct_15a19</th>\n",
       "      <th>pct_20a24</th>\n",
       "      <th>...</th>\n",
       "      <th>pct_bachelors</th>\n",
       "      <th>pct_doctorados</th>\n",
       "      <th>pct_secundario</th>\n",
       "      <th>pct_master</th>\n",
       "      <th>pct_bicicleta</th>\n",
       "      <th>pct_omnibus</th>\n",
       "      <th>pct_subtes</th>\n",
       "      <th>pct_taxi</th>\n",
       "      <th>pct_caminata</th>\n",
       "      <th>mediana_valor_hogar</th>\n",
       "    </tr>\n",
       "  </thead>\n",
       "  <tbody>\n",
       "    <tr>\n",
       "      <th>0</th>\n",
       "      <td>-37</td>\n",
       "      <td>9.0</td>\n",
       "      <td>60769.03000</td>\n",
       "      <td>84420.06500</td>\n",
       "      <td>32715.700</td>\n",
       "      <td>5.260000</td>\n",
       "      <td>4.33000</td>\n",
       "      <td>4.245000</td>\n",
       "      <td>4.71000</td>\n",
       "      <td>5.935000</td>\n",
       "      <td>...</td>\n",
       "      <td>22.880000</td>\n",
       "      <td>2.395000</td>\n",
       "      <td>21.44000</td>\n",
       "      <td>10.60</td>\n",
       "      <td>1.935000</td>\n",
       "      <td>3.055000</td>\n",
       "      <td>26.00500</td>\n",
       "      <td>1.360000</td>\n",
       "      <td>16.475000</td>\n",
       "      <td>434685.4150</td>\n",
       "    </tr>\n",
       "    <tr>\n",
       "      <th>1</th>\n",
       "      <td>-37</td>\n",
       "      <td>6.0</td>\n",
       "      <td>39675.89000</td>\n",
       "      <td>50716.23000</td>\n",
       "      <td>29985.710</td>\n",
       "      <td>8.860000</td>\n",
       "      <td>8.60000</td>\n",
       "      <td>8.170000</td>\n",
       "      <td>7.58000</td>\n",
       "      <td>8.950000</td>\n",
       "      <td>...</td>\n",
       "      <td>10.610000</td>\n",
       "      <td>0.230000</td>\n",
       "      <td>25.97000</td>\n",
       "      <td>2.51</td>\n",
       "      <td>0.550000</td>\n",
       "      <td>2.910000</td>\n",
       "      <td>0.47000</td>\n",
       "      <td>0.000000</td>\n",
       "      <td>1.380000</td>\n",
       "      <td>143807.1500</td>\n",
       "    </tr>\n",
       "    <tr>\n",
       "      <th>2</th>\n",
       "      <td>-37</td>\n",
       "      <td>36.0</td>\n",
       "      <td>65351.97750</td>\n",
       "      <td>82575.15000</td>\n",
       "      <td>7610.355</td>\n",
       "      <td>6.460000</td>\n",
       "      <td>6.29625</td>\n",
       "      <td>6.088750</td>\n",
       "      <td>5.75875</td>\n",
       "      <td>7.031250</td>\n",
       "      <td>...</td>\n",
       "      <td>20.667500</td>\n",
       "      <td>1.328750</td>\n",
       "      <td>29.25625</td>\n",
       "      <td>8.87</td>\n",
       "      <td>0.257500</td>\n",
       "      <td>0.742500</td>\n",
       "      <td>0.17125</td>\n",
       "      <td>0.013750</td>\n",
       "      <td>2.360000</td>\n",
       "      <td>212977.4850</td>\n",
       "    </tr>\n",
       "    <tr>\n",
       "      <th>3</th>\n",
       "      <td>-37</td>\n",
       "      <td>25.0</td>\n",
       "      <td>62489.12167</td>\n",
       "      <td>84227.44333</td>\n",
       "      <td>5685.860</td>\n",
       "      <td>6.288333</td>\n",
       "      <td>7.19000</td>\n",
       "      <td>6.958333</td>\n",
       "      <td>6.15000</td>\n",
       "      <td>5.841667</td>\n",
       "      <td>...</td>\n",
       "      <td>25.001667</td>\n",
       "      <td>1.513333</td>\n",
       "      <td>22.80500</td>\n",
       "      <td>8.90</td>\n",
       "      <td>0.221667</td>\n",
       "      <td>1.056667</td>\n",
       "      <td>0.00500</td>\n",
       "      <td>0.266667</td>\n",
       "      <td>2.091667</td>\n",
       "      <td>219048.1067</td>\n",
       "    </tr>\n",
       "    <tr>\n",
       "      <th>4</th>\n",
       "      <td>-37</td>\n",
       "      <td>NaN</td>\n",
       "      <td>NaN</td>\n",
       "      <td>NaN</td>\n",
       "      <td>NaN</td>\n",
       "      <td>NaN</td>\n",
       "      <td>NaN</td>\n",
       "      <td>NaN</td>\n",
       "      <td>NaN</td>\n",
       "      <td>NaN</td>\n",
       "      <td>...</td>\n",
       "      <td>NaN</td>\n",
       "      <td>NaN</td>\n",
       "      <td>NaN</td>\n",
       "      <td>NaN</td>\n",
       "      <td>NaN</td>\n",
       "      <td>NaN</td>\n",
       "      <td>NaN</td>\n",
       "      <td>NaN</td>\n",
       "      <td>NaN</td>\n",
       "      <td>NaN</td>\n",
       "    </tr>\n",
       "  </tbody>\n",
       "</table>\n",
       "<p>5 rows × 33 columns</p>\n",
       "</div>"
      ],
      "text/plain": [
       "  id_pos  competidores  ingreso_mediana  ingreso_promedio  \\\n",
       "0    -37           9.0      60769.03000       84420.06500   \n",
       "1    -37           6.0      39675.89000       50716.23000   \n",
       "2    -37          36.0      65351.97750       82575.15000   \n",
       "3    -37          25.0      62489.12167       84227.44333   \n",
       "4    -37           NaN              NaN               NaN   \n",
       "\n",
       "   densidad_poblacional   pct_0a5  pct_5a9  pct_10a14  pct_15a19  pct_20a24  \\\n",
       "0             32715.700  5.260000  4.33000   4.245000    4.71000   5.935000   \n",
       "1             29985.710  8.860000  8.60000   8.170000    7.58000   8.950000   \n",
       "2              7610.355  6.460000  6.29625   6.088750    5.75875   7.031250   \n",
       "3              5685.860  6.288333  7.19000   6.958333    6.15000   5.841667   \n",
       "4                   NaN       NaN      NaN        NaN        NaN        NaN   \n",
       "\n",
       "   ...  pct_bachelors  pct_doctorados  pct_secundario  pct_master  \\\n",
       "0  ...      22.880000        2.395000        21.44000       10.60   \n",
       "1  ...      10.610000        0.230000        25.97000        2.51   \n",
       "2  ...      20.667500        1.328750        29.25625        8.87   \n",
       "3  ...      25.001667        1.513333        22.80500        8.90   \n",
       "4  ...            NaN             NaN             NaN         NaN   \n",
       "\n",
       "   pct_bicicleta  pct_omnibus  pct_subtes  pct_taxi  pct_caminata  \\\n",
       "0       1.935000     3.055000    26.00500  1.360000     16.475000   \n",
       "1       0.550000     2.910000     0.47000  0.000000      1.380000   \n",
       "2       0.257500     0.742500     0.17125  0.013750      2.360000   \n",
       "3       0.221667     1.056667     0.00500  0.266667      2.091667   \n",
       "4            NaN          NaN         NaN       NaN           NaN   \n",
       "\n",
       "   mediana_valor_hogar  \n",
       "0          434685.4150  \n",
       "1          143807.1500  \n",
       "2          212977.4850  \n",
       "3          219048.1067  \n",
       "4                  NaN  \n",
       "\n",
       "[5 rows x 33 columns]"
      ]
     },
     "execution_count": 12,
     "metadata": {},
     "output_type": "execute_result"
    }
   ],
   "source": [
    "pos.head()"
   ]
  },
  {
   "cell_type": "code",
   "execution_count": 13,
   "metadata": {},
   "outputs": [
    {
     "data": {
      "text/plain": [
       "12934"
      ]
     },
     "execution_count": 13,
     "metadata": {},
     "output_type": "execute_result"
    }
   ],
   "source": [
    "pos.id_pos.nunique()"
   ]
  },
  {
   "cell_type": "code",
   "execution_count": 14,
   "metadata": {},
   "outputs": [],
   "source": [
    "submittion = pd.read_csv('../data/raw/ejemploRespuesta.csv')"
   ]
  },
  {
   "cell_type": "code",
   "execution_count": 15,
   "metadata": {},
   "outputs": [],
   "source": [
    "submittion.columns = ['id_pos','score']"
   ]
  },
  {
   "cell_type": "code",
   "execution_count": 16,
   "metadata": {},
   "outputs": [
    {
     "data": {
      "text/plain": [
       "12896"
      ]
     },
     "execution_count": 16,
     "metadata": {},
     "output_type": "execute_result"
    }
   ],
   "source": [
    "submittion.id_pos.nunique()"
   ]
  },
  {
   "cell_type": "code",
   "execution_count": 17,
   "metadata": {},
   "outputs": [
    {
     "data": {
      "text/html": [
       "<div>\n",
       "<style scoped>\n",
       "    .dataframe tbody tr th:only-of-type {\n",
       "        vertical-align: middle;\n",
       "    }\n",
       "\n",
       "    .dataframe tbody tr th {\n",
       "        vertical-align: top;\n",
       "    }\n",
       "\n",
       "    .dataframe thead th {\n",
       "        text-align: right;\n",
       "    }\n",
       "</style>\n",
       "<table border=\"1\" class=\"dataframe\">\n",
       "  <thead>\n",
       "    <tr style=\"text-align: right;\">\n",
       "      <th></th>\n",
       "      <th>id_pos</th>\n",
       "      <th>score</th>\n",
       "    </tr>\n",
       "  </thead>\n",
       "  <tbody>\n",
       "    <tr>\n",
       "      <th>count</th>\n",
       "      <td>12896.000000</td>\n",
       "      <td>12896.000000</td>\n",
       "    </tr>\n",
       "    <tr>\n",
       "      <th>mean</th>\n",
       "      <td>11910.906172</td>\n",
       "      <td>1.980847</td>\n",
       "    </tr>\n",
       "    <tr>\n",
       "      <th>std</th>\n",
       "      <td>9721.751513</td>\n",
       "      <td>1.414495</td>\n",
       "    </tr>\n",
       "    <tr>\n",
       "      <th>min</th>\n",
       "      <td>953.000000</td>\n",
       "      <td>0.000000</td>\n",
       "    </tr>\n",
       "    <tr>\n",
       "      <th>25%</th>\n",
       "      <td>6645.750000</td>\n",
       "      <td>1.000000</td>\n",
       "    </tr>\n",
       "    <tr>\n",
       "      <th>50%</th>\n",
       "      <td>10733.000000</td>\n",
       "      <td>2.000000</td>\n",
       "    </tr>\n",
       "    <tr>\n",
       "      <th>75%</th>\n",
       "      <td>14848.250000</td>\n",
       "      <td>3.000000</td>\n",
       "    </tr>\n",
       "    <tr>\n",
       "      <th>max</th>\n",
       "      <td>131072.000000</td>\n",
       "      <td>4.000000</td>\n",
       "    </tr>\n",
       "  </tbody>\n",
       "</table>\n",
       "</div>"
      ],
      "text/plain": [
       "              id_pos         score\n",
       "count   12896.000000  12896.000000\n",
       "mean    11910.906172      1.980847\n",
       "std      9721.751513      1.414495\n",
       "min       953.000000      0.000000\n",
       "25%      6645.750000      1.000000\n",
       "50%     10733.000000      2.000000\n",
       "75%     14848.250000      3.000000\n",
       "max    131072.000000      4.000000"
      ]
     },
     "execution_count": 17,
     "metadata": {},
     "output_type": "execute_result"
    }
   ],
   "source": [
    "submittion.describe()"
   ]
  },
  {
   "cell_type": "code",
   "execution_count": 18,
   "metadata": {},
   "outputs": [
    {
     "data": {
      "text/plain": [
       "594"
      ]
     },
     "execution_count": 18,
     "metadata": {},
     "output_type": "execute_result"
    }
   ],
   "source": [
    "submittion.id_pos.nunique() - ventas.id_pos.nunique()"
   ]
  },
  {
   "cell_type": "code",
   "execution_count": 19,
   "metadata": {},
   "outputs": [
    {
     "data": {
      "text/plain": [
       "id_pos    int64\n",
       "score     int64\n",
       "dtype: object"
      ]
     },
     "execution_count": 19,
     "metadata": {},
     "output_type": "execute_result"
    }
   ],
   "source": [
    "submittion.dtypes"
   ]
  },
  {
   "cell_type": "code",
   "execution_count": 20,
   "metadata": {},
   "outputs": [
    {
     "data": {
      "text/plain": [
       "id_pos                   object\n",
       "competidores            float64\n",
       "ingreso_mediana         float64\n",
       "ingreso_promedio        float64\n",
       "densidad_poblacional    float64\n",
       "pct_0a5                 float64\n",
       "pct_5a9                 float64\n",
       "pct_10a14               float64\n",
       "pct_15a19               float64\n",
       "pct_20a24               float64\n",
       "pct_25a29               float64\n",
       "pct_30a34               float64\n",
       "pct_35a39               float64\n",
       "pct_40a44               float64\n",
       "pct_45a49               float64\n",
       "pct_50a54               float64\n",
       "pct_55a59               float64\n",
       "pct_60a64               float64\n",
       "pct_65a69               float64\n",
       "pct_70a74               float64\n",
       "pct_75a79               float64\n",
       "pct_80a84               float64\n",
       "pct_85ainf              float64\n",
       "pct_bachelors           float64\n",
       "pct_doctorados          float64\n",
       "pct_secundario          float64\n",
       "pct_master              float64\n",
       "pct_bicicleta           float64\n",
       "pct_omnibus             float64\n",
       "pct_subtes              float64\n",
       "pct_taxi                float64\n",
       "pct_caminata            float64\n",
       "mediana_valor_hogar     float64\n",
       "dtype: object"
      ]
     },
     "execution_count": 20,
     "metadata": {},
     "output_type": "execute_result"
    }
   ],
   "source": [
    "pos.dtypes"
   ]
  },
  {
   "cell_type": "code",
   "execution_count": 21,
   "metadata": {},
   "outputs": [
    {
     "data": {
      "text/plain": [
       "110"
      ]
     },
     "execution_count": 21,
     "metadata": {},
     "output_type": "execute_result"
    }
   ],
   "source": [
    "pos['id_pos'].isnull().sum()"
   ]
  },
  {
   "cell_type": "code",
   "execution_count": 22,
   "metadata": {},
   "outputs": [],
   "source": [
    "pos = pos[pos['id_pos'].isnull() != True]"
   ]
  },
  {
   "cell_type": "code",
   "execution_count": 23,
   "metadata": {},
   "outputs": [],
   "source": [
    "pos = pos[pos['id_pos']!='Not Available']"
   ]
  },
  {
   "cell_type": "code",
   "execution_count": 24,
   "metadata": {},
   "outputs": [],
   "source": [
    "# convertimos a int para poder cruzar con informacion de venta\n",
    "pos['id_pos'] = pos['id_pos'].astype(int)"
   ]
  },
  {
   "cell_type": "code",
   "execution_count": 25,
   "metadata": {},
   "outputs": [],
   "source": [
    "train = pd.merge(ventas, pos, how='left', on='id_pos')"
   ]
  },
  {
   "cell_type": "code",
   "execution_count": 26,
   "metadata": {
    "scrolled": true
   },
   "outputs": [
    {
     "data": {
      "text/html": [
       "<div>\n",
       "<style scoped>\n",
       "    .dataframe tbody tr th:only-of-type {\n",
       "        vertical-align: middle;\n",
       "    }\n",
       "\n",
       "    .dataframe tbody tr th {\n",
       "        vertical-align: top;\n",
       "    }\n",
       "\n",
       "    .dataframe thead th {\n",
       "        text-align: right;\n",
       "    }\n",
       "</style>\n",
       "<table border=\"1\" class=\"dataframe\">\n",
       "  <thead>\n",
       "    <tr style=\"text-align: right;\">\n",
       "      <th></th>\n",
       "      <th>fecha</th>\n",
       "      <th>id_pos</th>\n",
       "      <th>unidades</th>\n",
       "      <th>canal</th>\n",
       "      <th>competidores</th>\n",
       "      <th>ingreso_mediana</th>\n",
       "      <th>ingreso_promedio</th>\n",
       "      <th>densidad_poblacional</th>\n",
       "      <th>pct_0a5</th>\n",
       "      <th>pct_5a9</th>\n",
       "      <th>...</th>\n",
       "      <th>pct_bachelors</th>\n",
       "      <th>pct_doctorados</th>\n",
       "      <th>pct_secundario</th>\n",
       "      <th>pct_master</th>\n",
       "      <th>pct_bicicleta</th>\n",
       "      <th>pct_omnibus</th>\n",
       "      <th>pct_subtes</th>\n",
       "      <th>pct_taxi</th>\n",
       "      <th>pct_caminata</th>\n",
       "      <th>mediana_valor_hogar</th>\n",
       "    </tr>\n",
       "  </thead>\n",
       "  <tbody>\n",
       "    <tr>\n",
       "      <th>0</th>\n",
       "      <td>2012-10-01</td>\n",
       "      <td>8495</td>\n",
       "      <td>4</td>\n",
       "      <td>MAXIKIOSCO</td>\n",
       "      <td>14.0</td>\n",
       "      <td>49367.31</td>\n",
       "      <td>65176.325</td>\n",
       "      <td>7981.955</td>\n",
       "      <td>6.695</td>\n",
       "      <td>6.260</td>\n",
       "      <td>...</td>\n",
       "      <td>16.750</td>\n",
       "      <td>0.610</td>\n",
       "      <td>32.42</td>\n",
       "      <td>5.35</td>\n",
       "      <td>0.180</td>\n",
       "      <td>1.160</td>\n",
       "      <td>0.00</td>\n",
       "      <td>0.145</td>\n",
       "      <td>3.01</td>\n",
       "      <td>152962.485</td>\n",
       "    </tr>\n",
       "    <tr>\n",
       "      <th>1</th>\n",
       "      <td>2012-10-10</td>\n",
       "      <td>8571</td>\n",
       "      <td>1</td>\n",
       "      <td>MAXIKIOSCO</td>\n",
       "      <td>10.0</td>\n",
       "      <td>100524.20</td>\n",
       "      <td>134309.315</td>\n",
       "      <td>5403.320</td>\n",
       "      <td>4.250</td>\n",
       "      <td>5.765</td>\n",
       "      <td>...</td>\n",
       "      <td>25.215</td>\n",
       "      <td>3.675</td>\n",
       "      <td>16.68</td>\n",
       "      <td>13.85</td>\n",
       "      <td>0.075</td>\n",
       "      <td>2.915</td>\n",
       "      <td>3.18</td>\n",
       "      <td>0.005</td>\n",
       "      <td>0.87</td>\n",
       "      <td>325699.190</td>\n",
       "    </tr>\n",
       "    <tr>\n",
       "      <th>2</th>\n",
       "      <td>2012-10-11</td>\n",
       "      <td>8915</td>\n",
       "      <td>1</td>\n",
       "      <td>MAXIKIOSCO</td>\n",
       "      <td>2.0</td>\n",
       "      <td>38236.83</td>\n",
       "      <td>48551.870</td>\n",
       "      <td>9318.700</td>\n",
       "      <td>5.410</td>\n",
       "      <td>5.610</td>\n",
       "      <td>...</td>\n",
       "      <td>9.410</td>\n",
       "      <td>0.280</td>\n",
       "      <td>38.51</td>\n",
       "      <td>3.27</td>\n",
       "      <td>0.100</td>\n",
       "      <td>2.630</td>\n",
       "      <td>0.28</td>\n",
       "      <td>0.020</td>\n",
       "      <td>0.93</td>\n",
       "      <td>95502.900</td>\n",
       "    </tr>\n",
       "    <tr>\n",
       "      <th>3</th>\n",
       "      <td>2012-10-12</td>\n",
       "      <td>8915</td>\n",
       "      <td>3</td>\n",
       "      <td>MAXIKIOSCO</td>\n",
       "      <td>2.0</td>\n",
       "      <td>38236.83</td>\n",
       "      <td>48551.870</td>\n",
       "      <td>9318.700</td>\n",
       "      <td>5.410</td>\n",
       "      <td>5.610</td>\n",
       "      <td>...</td>\n",
       "      <td>9.410</td>\n",
       "      <td>0.280</td>\n",
       "      <td>38.51</td>\n",
       "      <td>3.27</td>\n",
       "      <td>0.100</td>\n",
       "      <td>2.630</td>\n",
       "      <td>0.28</td>\n",
       "      <td>0.020</td>\n",
       "      <td>0.93</td>\n",
       "      <td>95502.900</td>\n",
       "    </tr>\n",
       "    <tr>\n",
       "      <th>4</th>\n",
       "      <td>2012-10-13</td>\n",
       "      <td>8923</td>\n",
       "      <td>1</td>\n",
       "      <td>MAXIKIOSCO</td>\n",
       "      <td>9.0</td>\n",
       "      <td>31019.49</td>\n",
       "      <td>43710.370</td>\n",
       "      <td>4117.760</td>\n",
       "      <td>5.240</td>\n",
       "      <td>6.120</td>\n",
       "      <td>...</td>\n",
       "      <td>6.610</td>\n",
       "      <td>0.240</td>\n",
       "      <td>36.29</td>\n",
       "      <td>4.82</td>\n",
       "      <td>0.230</td>\n",
       "      <td>3.250</td>\n",
       "      <td>0.00</td>\n",
       "      <td>0.000</td>\n",
       "      <td>2.20</td>\n",
       "      <td>81577.770</td>\n",
       "    </tr>\n",
       "  </tbody>\n",
       "</table>\n",
       "<p>5 rows × 36 columns</p>\n",
       "</div>"
      ],
      "text/plain": [
       "        fecha  id_pos  unidades       canal  competidores  ingreso_mediana  \\\n",
       "0  2012-10-01    8495         4  MAXIKIOSCO          14.0         49367.31   \n",
       "1  2012-10-10    8571         1  MAXIKIOSCO          10.0        100524.20   \n",
       "2  2012-10-11    8915         1  MAXIKIOSCO           2.0         38236.83   \n",
       "3  2012-10-12    8915         3  MAXIKIOSCO           2.0         38236.83   \n",
       "4  2012-10-13    8923         1  MAXIKIOSCO           9.0         31019.49   \n",
       "\n",
       "   ingreso_promedio  densidad_poblacional  pct_0a5  pct_5a9  ...  \\\n",
       "0         65176.325              7981.955    6.695    6.260  ...   \n",
       "1        134309.315              5403.320    4.250    5.765  ...   \n",
       "2         48551.870              9318.700    5.410    5.610  ...   \n",
       "3         48551.870              9318.700    5.410    5.610  ...   \n",
       "4         43710.370              4117.760    5.240    6.120  ...   \n",
       "\n",
       "   pct_bachelors  pct_doctorados  pct_secundario  pct_master  pct_bicicleta  \\\n",
       "0         16.750           0.610           32.42        5.35          0.180   \n",
       "1         25.215           3.675           16.68       13.85          0.075   \n",
       "2          9.410           0.280           38.51        3.27          0.100   \n",
       "3          9.410           0.280           38.51        3.27          0.100   \n",
       "4          6.610           0.240           36.29        4.82          0.230   \n",
       "\n",
       "   pct_omnibus  pct_subtes  pct_taxi  pct_caminata  mediana_valor_hogar  \n",
       "0        1.160        0.00     0.145          3.01           152962.485  \n",
       "1        2.915        3.18     0.005          0.87           325699.190  \n",
       "2        2.630        0.28     0.020          0.93            95502.900  \n",
       "3        2.630        0.28     0.020          0.93            95502.900  \n",
       "4        3.250        0.00     0.000          2.20            81577.770  \n",
       "\n",
       "[5 rows x 36 columns]"
      ]
     },
     "execution_count": 26,
     "metadata": {},
     "output_type": "execute_result"
    }
   ],
   "source": [
    "train.head()"
   ]
  },
  {
   "cell_type": "code",
   "execution_count": 27,
   "metadata": {},
   "outputs": [
    {
     "data": {
      "text/plain": [
       "472"
      ]
     },
     "execution_count": 27,
     "metadata": {},
     "output_type": "execute_result"
    }
   ],
   "source": [
    "train[train.competidores.isnull()].id_pos.nunique()"
   ]
  },
  {
   "cell_type": "code",
   "execution_count": 28,
   "metadata": {},
   "outputs": [
    {
     "data": {
      "text/plain": [
       "(266436, 4)"
      ]
     },
     "execution_count": 28,
     "metadata": {},
     "output_type": "execute_result"
    }
   ],
   "source": [
    "ventas.shape"
   ]
  },
  {
   "cell_type": "code",
   "execution_count": 29,
   "metadata": {},
   "outputs": [],
   "source": [
    "# Nos quedamos con un unico id_pos, sin tener en cuenta la fecha\n",
    "envios_tmp = envios[['id_pos']].drop_duplicates()"
   ]
  },
  {
   "cell_type": "code",
   "execution_count": 30,
   "metadata": {},
   "outputs": [
    {
     "data": {
      "text/plain": [
       "12302"
      ]
     },
     "execution_count": 30,
     "metadata": {},
     "output_type": "execute_result"
    }
   ],
   "source": [
    "train.id_pos.nunique()"
   ]
  },
  {
   "cell_type": "code",
   "execution_count": 31,
   "metadata": {},
   "outputs": [
    {
     "data": {
      "text/plain": [
       "12300"
      ]
     },
     "execution_count": 31,
     "metadata": {},
     "output_type": "execute_result"
    }
   ],
   "source": [
    "train[train.id_pos.isin(envios.id_pos)].id_pos.nunique()"
   ]
  },
  {
   "cell_type": "code",
   "execution_count": 32,
   "metadata": {},
   "outputs": [
    {
     "data": {
      "text/plain": [
       "2"
      ]
     },
     "execution_count": 32,
     "metadata": {},
     "output_type": "execute_result"
    }
   ],
   "source": [
    "train[train.id_pos.isin(envios.id_pos)!=True].id_pos.nunique()"
   ]
  },
  {
   "cell_type": "code",
   "execution_count": 33,
   "metadata": {},
   "outputs": [],
   "source": [
    "train = pd.merge(train, envios_tmp, how='left', left_on='id_pos', right_on='id_pos')"
   ]
  },
  {
   "cell_type": "code",
   "execution_count": 34,
   "metadata": {},
   "outputs": [
    {
     "data": {
      "text/plain": [
       "(266436, 36)"
      ]
     },
     "execution_count": 34,
     "metadata": {},
     "output_type": "execute_result"
    }
   ],
   "source": [
    "train.shape"
   ]
  },
  {
   "cell_type": "code",
   "execution_count": 35,
   "metadata": {},
   "outputs": [
    {
     "data": {
      "text/html": [
       "<div>\n",
       "<style scoped>\n",
       "    .dataframe tbody tr th:only-of-type {\n",
       "        vertical-align: middle;\n",
       "    }\n",
       "\n",
       "    .dataframe tbody tr th {\n",
       "        vertical-align: top;\n",
       "    }\n",
       "\n",
       "    .dataframe thead th {\n",
       "        text-align: right;\n",
       "    }\n",
       "</style>\n",
       "<table border=\"1\" class=\"dataframe\">\n",
       "  <thead>\n",
       "    <tr style=\"text-align: right;\">\n",
       "      <th></th>\n",
       "      <th>fecha</th>\n",
       "      <th>id_pos</th>\n",
       "      <th>unidades</th>\n",
       "      <th>canal</th>\n",
       "      <th>competidores</th>\n",
       "      <th>ingreso_mediana</th>\n",
       "      <th>ingreso_promedio</th>\n",
       "      <th>densidad_poblacional</th>\n",
       "      <th>pct_0a5</th>\n",
       "      <th>pct_5a9</th>\n",
       "      <th>...</th>\n",
       "      <th>pct_bachelors</th>\n",
       "      <th>pct_doctorados</th>\n",
       "      <th>pct_secundario</th>\n",
       "      <th>pct_master</th>\n",
       "      <th>pct_bicicleta</th>\n",
       "      <th>pct_omnibus</th>\n",
       "      <th>pct_subtes</th>\n",
       "      <th>pct_taxi</th>\n",
       "      <th>pct_caminata</th>\n",
       "      <th>mediana_valor_hogar</th>\n",
       "    </tr>\n",
       "  </thead>\n",
       "  <tbody>\n",
       "    <tr>\n",
       "      <th>0</th>\n",
       "      <td>2012-10-01</td>\n",
       "      <td>8495</td>\n",
       "      <td>4</td>\n",
       "      <td>MAXIKIOSCO</td>\n",
       "      <td>14.0</td>\n",
       "      <td>49367.31</td>\n",
       "      <td>65176.325</td>\n",
       "      <td>7981.955</td>\n",
       "      <td>6.695</td>\n",
       "      <td>6.260</td>\n",
       "      <td>...</td>\n",
       "      <td>16.750</td>\n",
       "      <td>0.610</td>\n",
       "      <td>32.42</td>\n",
       "      <td>5.35</td>\n",
       "      <td>0.180</td>\n",
       "      <td>1.160</td>\n",
       "      <td>0.00</td>\n",
       "      <td>0.145</td>\n",
       "      <td>3.01</td>\n",
       "      <td>152962.485</td>\n",
       "    </tr>\n",
       "    <tr>\n",
       "      <th>1</th>\n",
       "      <td>2012-10-10</td>\n",
       "      <td>8571</td>\n",
       "      <td>1</td>\n",
       "      <td>MAXIKIOSCO</td>\n",
       "      <td>10.0</td>\n",
       "      <td>100524.20</td>\n",
       "      <td>134309.315</td>\n",
       "      <td>5403.320</td>\n",
       "      <td>4.250</td>\n",
       "      <td>5.765</td>\n",
       "      <td>...</td>\n",
       "      <td>25.215</td>\n",
       "      <td>3.675</td>\n",
       "      <td>16.68</td>\n",
       "      <td>13.85</td>\n",
       "      <td>0.075</td>\n",
       "      <td>2.915</td>\n",
       "      <td>3.18</td>\n",
       "      <td>0.005</td>\n",
       "      <td>0.87</td>\n",
       "      <td>325699.190</td>\n",
       "    </tr>\n",
       "    <tr>\n",
       "      <th>2</th>\n",
       "      <td>2012-10-11</td>\n",
       "      <td>8915</td>\n",
       "      <td>1</td>\n",
       "      <td>MAXIKIOSCO</td>\n",
       "      <td>2.0</td>\n",
       "      <td>38236.83</td>\n",
       "      <td>48551.870</td>\n",
       "      <td>9318.700</td>\n",
       "      <td>5.410</td>\n",
       "      <td>5.610</td>\n",
       "      <td>...</td>\n",
       "      <td>9.410</td>\n",
       "      <td>0.280</td>\n",
       "      <td>38.51</td>\n",
       "      <td>3.27</td>\n",
       "      <td>0.100</td>\n",
       "      <td>2.630</td>\n",
       "      <td>0.28</td>\n",
       "      <td>0.020</td>\n",
       "      <td>0.93</td>\n",
       "      <td>95502.900</td>\n",
       "    </tr>\n",
       "    <tr>\n",
       "      <th>3</th>\n",
       "      <td>2012-10-12</td>\n",
       "      <td>8915</td>\n",
       "      <td>3</td>\n",
       "      <td>MAXIKIOSCO</td>\n",
       "      <td>2.0</td>\n",
       "      <td>38236.83</td>\n",
       "      <td>48551.870</td>\n",
       "      <td>9318.700</td>\n",
       "      <td>5.410</td>\n",
       "      <td>5.610</td>\n",
       "      <td>...</td>\n",
       "      <td>9.410</td>\n",
       "      <td>0.280</td>\n",
       "      <td>38.51</td>\n",
       "      <td>3.27</td>\n",
       "      <td>0.100</td>\n",
       "      <td>2.630</td>\n",
       "      <td>0.28</td>\n",
       "      <td>0.020</td>\n",
       "      <td>0.93</td>\n",
       "      <td>95502.900</td>\n",
       "    </tr>\n",
       "    <tr>\n",
       "      <th>4</th>\n",
       "      <td>2012-10-13</td>\n",
       "      <td>8923</td>\n",
       "      <td>1</td>\n",
       "      <td>MAXIKIOSCO</td>\n",
       "      <td>9.0</td>\n",
       "      <td>31019.49</td>\n",
       "      <td>43710.370</td>\n",
       "      <td>4117.760</td>\n",
       "      <td>5.240</td>\n",
       "      <td>6.120</td>\n",
       "      <td>...</td>\n",
       "      <td>6.610</td>\n",
       "      <td>0.240</td>\n",
       "      <td>36.29</td>\n",
       "      <td>4.82</td>\n",
       "      <td>0.230</td>\n",
       "      <td>3.250</td>\n",
       "      <td>0.00</td>\n",
       "      <td>0.000</td>\n",
       "      <td>2.20</td>\n",
       "      <td>81577.770</td>\n",
       "    </tr>\n",
       "  </tbody>\n",
       "</table>\n",
       "<p>5 rows × 36 columns</p>\n",
       "</div>"
      ],
      "text/plain": [
       "        fecha  id_pos  unidades       canal  competidores  ingreso_mediana  \\\n",
       "0  2012-10-01    8495         4  MAXIKIOSCO          14.0         49367.31   \n",
       "1  2012-10-10    8571         1  MAXIKIOSCO          10.0        100524.20   \n",
       "2  2012-10-11    8915         1  MAXIKIOSCO           2.0         38236.83   \n",
       "3  2012-10-12    8915         3  MAXIKIOSCO           2.0         38236.83   \n",
       "4  2012-10-13    8923         1  MAXIKIOSCO           9.0         31019.49   \n",
       "\n",
       "   ingreso_promedio  densidad_poblacional  pct_0a5  pct_5a9  ...  \\\n",
       "0         65176.325              7981.955    6.695    6.260  ...   \n",
       "1        134309.315              5403.320    4.250    5.765  ...   \n",
       "2         48551.870              9318.700    5.410    5.610  ...   \n",
       "3         48551.870              9318.700    5.410    5.610  ...   \n",
       "4         43710.370              4117.760    5.240    6.120  ...   \n",
       "\n",
       "   pct_bachelors  pct_doctorados  pct_secundario  pct_master  pct_bicicleta  \\\n",
       "0         16.750           0.610           32.42        5.35          0.180   \n",
       "1         25.215           3.675           16.68       13.85          0.075   \n",
       "2          9.410           0.280           38.51        3.27          0.100   \n",
       "3          9.410           0.280           38.51        3.27          0.100   \n",
       "4          6.610           0.240           36.29        4.82          0.230   \n",
       "\n",
       "   pct_omnibus  pct_subtes  pct_taxi  pct_caminata  mediana_valor_hogar  \n",
       "0        1.160        0.00     0.145          3.01           152962.485  \n",
       "1        2.915        3.18     0.005          0.87           325699.190  \n",
       "2        2.630        0.28     0.020          0.93            95502.900  \n",
       "3        2.630        0.28     0.020          0.93            95502.900  \n",
       "4        3.250        0.00     0.000          2.20            81577.770  \n",
       "\n",
       "[5 rows x 36 columns]"
      ]
     },
     "execution_count": 35,
     "metadata": {},
     "output_type": "execute_result"
    }
   ],
   "source": [
    "train.head()"
   ]
  },
  {
   "cell_type": "code",
   "execution_count": 36,
   "metadata": {},
   "outputs": [
    {
     "data": {
      "text/plain": [
       "12896"
      ]
     },
     "execution_count": 36,
     "metadata": {},
     "output_type": "execute_result"
    }
   ],
   "source": [
    "submittion.id_pos.nunique()"
   ]
  },
  {
   "cell_type": "code",
   "execution_count": 37,
   "metadata": {},
   "outputs": [
    {
     "data": {
      "text/plain": [
       "id_pos    int64\n",
       "score     int64\n",
       "dtype: object"
      ]
     },
     "execution_count": 37,
     "metadata": {},
     "output_type": "execute_result"
    }
   ],
   "source": [
    "submittion.dtypes"
   ]
  },
  {
   "cell_type": "code",
   "execution_count": 38,
   "metadata": {},
   "outputs": [
    {
     "data": {
      "text/plain": [
       "12896"
      ]
     },
     "execution_count": 38,
     "metadata": {},
     "output_type": "execute_result"
    }
   ],
   "source": [
    "submittion[submittion.id_pos.isin(pos.id_pos)]['id_pos'].nunique()"
   ]
  },
  {
   "cell_type": "code",
   "execution_count": 42,
   "metadata": {},
   "outputs": [],
   "source": [
    "from datetime import date"
   ]
  },
  {
   "cell_type": "code",
   "execution_count": 51,
   "metadata": {},
   "outputs": [
    {
     "data": {
      "text/html": [
       "<div>\n",
       "<style scoped>\n",
       "    .dataframe tbody tr th:only-of-type {\n",
       "        vertical-align: middle;\n",
       "    }\n",
       "\n",
       "    .dataframe tbody tr th {\n",
       "        vertical-align: top;\n",
       "    }\n",
       "\n",
       "    .dataframe thead th {\n",
       "        text-align: right;\n",
       "    }\n",
       "</style>\n",
       "<table border=\"1\" class=\"dataframe\">\n",
       "  <thead>\n",
       "    <tr style=\"text-align: right;\">\n",
       "      <th></th>\n",
       "      <th>fecha</th>\n",
       "      <th>id_pos</th>\n",
       "      <th>unidades</th>\n",
       "      <th>canal</th>\n",
       "      <th>fecha_norm</th>\n",
       "      <th>unidades_one_periode_before</th>\n",
       "    </tr>\n",
       "  </thead>\n",
       "  <tbody>\n",
       "    <tr>\n",
       "      <th>239593</th>\n",
       "      <td>2013-12-24</td>\n",
       "      <td>63432</td>\n",
       "      <td>2</td>\n",
       "      <td>ALMACEN</td>\n",
       "      <td>2013-12-01</td>\n",
       "      <td>NaN</td>\n",
       "    </tr>\n",
       "    <tr>\n",
       "      <th>222039</th>\n",
       "      <td>2013-12-22</td>\n",
       "      <td>63432</td>\n",
       "      <td>1</td>\n",
       "      <td>ALMACEN</td>\n",
       "      <td>2013-12-01</td>\n",
       "      <td>2.0</td>\n",
       "    </tr>\n",
       "    <tr>\n",
       "      <th>205735</th>\n",
       "      <td>2013-12-20</td>\n",
       "      <td>63432</td>\n",
       "      <td>2</td>\n",
       "      <td>ALMACEN</td>\n",
       "      <td>2013-12-01</td>\n",
       "      <td>1.0</td>\n",
       "    </tr>\n",
       "    <tr>\n",
       "      <th>190086</th>\n",
       "      <td>2013-12-18</td>\n",
       "      <td>63432</td>\n",
       "      <td>1</td>\n",
       "      <td>ALMACEN</td>\n",
       "      <td>2013-12-01</td>\n",
       "      <td>2.0</td>\n",
       "    </tr>\n",
       "    <tr>\n",
       "      <th>185903</th>\n",
       "      <td>2013-12-17</td>\n",
       "      <td>63432</td>\n",
       "      <td>2</td>\n",
       "      <td>ALMACEN</td>\n",
       "      <td>2013-12-01</td>\n",
       "      <td>1.0</td>\n",
       "    </tr>\n",
       "    <tr>\n",
       "      <th>176768</th>\n",
       "      <td>2013-12-16</td>\n",
       "      <td>63432</td>\n",
       "      <td>1</td>\n",
       "      <td>ALMACEN</td>\n",
       "      <td>2013-12-01</td>\n",
       "      <td>2.0</td>\n",
       "    </tr>\n",
       "    <tr>\n",
       "      <th>173503</th>\n",
       "      <td>2013-12-15</td>\n",
       "      <td>63432</td>\n",
       "      <td>2</td>\n",
       "      <td>ALMACEN</td>\n",
       "      <td>2013-12-01</td>\n",
       "      <td>1.0</td>\n",
       "    </tr>\n",
       "    <tr>\n",
       "      <th>111817</th>\n",
       "      <td>2013-11-21</td>\n",
       "      <td>63432</td>\n",
       "      <td>1</td>\n",
       "      <td>ALMACEN</td>\n",
       "      <td>2013-11-01</td>\n",
       "      <td>NaN</td>\n",
       "    </tr>\n",
       "    <tr>\n",
       "      <th>95013</th>\n",
       "      <td>2012-12-23</td>\n",
       "      <td>63432</td>\n",
       "      <td>1</td>\n",
       "      <td>ALMACEN</td>\n",
       "      <td>2012-12-01</td>\n",
       "      <td>NaN</td>\n",
       "    </tr>\n",
       "    <tr>\n",
       "      <th>92333</th>\n",
       "      <td>2012-12-22</td>\n",
       "      <td>63432</td>\n",
       "      <td>1</td>\n",
       "      <td>ALMACEN</td>\n",
       "      <td>2012-12-01</td>\n",
       "      <td>1.0</td>\n",
       "    </tr>\n",
       "    <tr>\n",
       "      <th>73720</th>\n",
       "      <td>2012-12-18</td>\n",
       "      <td>63432</td>\n",
       "      <td>1</td>\n",
       "      <td>ALMACEN</td>\n",
       "      <td>2012-12-01</td>\n",
       "      <td>1.0</td>\n",
       "    </tr>\n",
       "    <tr>\n",
       "      <th>206709</th>\n",
       "      <td>2013-12-20</td>\n",
       "      <td>58817</td>\n",
       "      <td>4</td>\n",
       "      <td>ALMACEN</td>\n",
       "      <td>2013-12-01</td>\n",
       "      <td>NaN</td>\n",
       "    </tr>\n",
       "    <tr>\n",
       "      <th>199712</th>\n",
       "      <td>2013-12-19</td>\n",
       "      <td>58817</td>\n",
       "      <td>5</td>\n",
       "      <td>ALMACEN</td>\n",
       "      <td>2013-12-01</td>\n",
       "      <td>4.0</td>\n",
       "    </tr>\n",
       "    <tr>\n",
       "      <th>190972</th>\n",
       "      <td>2013-12-18</td>\n",
       "      <td>58817</td>\n",
       "      <td>2</td>\n",
       "      <td>ALMACEN</td>\n",
       "      <td>2013-12-01</td>\n",
       "      <td>5.0</td>\n",
       "    </tr>\n",
       "    <tr>\n",
       "      <th>184914</th>\n",
       "      <td>2013-12-17</td>\n",
       "      <td>58817</td>\n",
       "      <td>4</td>\n",
       "      <td>ALMACEN</td>\n",
       "      <td>2013-12-01</td>\n",
       "      <td>2.0</td>\n",
       "    </tr>\n",
       "    <tr>\n",
       "      <th>177547</th>\n",
       "      <td>2013-12-16</td>\n",
       "      <td>58817</td>\n",
       "      <td>2</td>\n",
       "      <td>ALMACEN</td>\n",
       "      <td>2013-12-01</td>\n",
       "      <td>4.0</td>\n",
       "    </tr>\n",
       "    <tr>\n",
       "      <th>167473</th>\n",
       "      <td>2013-12-14</td>\n",
       "      <td>58817</td>\n",
       "      <td>2</td>\n",
       "      <td>ALMACEN</td>\n",
       "      <td>2013-12-01</td>\n",
       "      <td>2.0</td>\n",
       "    </tr>\n",
       "    <tr>\n",
       "      <th>162916</th>\n",
       "      <td>2013-12-13</td>\n",
       "      <td>58817</td>\n",
       "      <td>1</td>\n",
       "      <td>ALMACEN</td>\n",
       "      <td>2013-12-01</td>\n",
       "      <td>2.0</td>\n",
       "    </tr>\n",
       "    <tr>\n",
       "      <th>152733</th>\n",
       "      <td>2013-12-11</td>\n",
       "      <td>58817</td>\n",
       "      <td>3</td>\n",
       "      <td>ALMACEN</td>\n",
       "      <td>2013-12-01</td>\n",
       "      <td>1.0</td>\n",
       "    </tr>\n",
       "    <tr>\n",
       "      <th>147816</th>\n",
       "      <td>2013-12-10</td>\n",
       "      <td>58817</td>\n",
       "      <td>1</td>\n",
       "      <td>ALMACEN</td>\n",
       "      <td>2013-12-01</td>\n",
       "      <td>3.0</td>\n",
       "    </tr>\n",
       "  </tbody>\n",
       "</table>\n",
       "</div>"
      ],
      "text/plain": [
       "            fecha  id_pos  unidades    canal  fecha_norm  \\\n",
       "239593 2013-12-24   63432         2  ALMACEN  2013-12-01   \n",
       "222039 2013-12-22   63432         1  ALMACEN  2013-12-01   \n",
       "205735 2013-12-20   63432         2  ALMACEN  2013-12-01   \n",
       "190086 2013-12-18   63432         1  ALMACEN  2013-12-01   \n",
       "185903 2013-12-17   63432         2  ALMACEN  2013-12-01   \n",
       "176768 2013-12-16   63432         1  ALMACEN  2013-12-01   \n",
       "173503 2013-12-15   63432         2  ALMACEN  2013-12-01   \n",
       "111817 2013-11-21   63432         1  ALMACEN  2013-11-01   \n",
       "95013  2012-12-23   63432         1  ALMACEN  2012-12-01   \n",
       "92333  2012-12-22   63432         1  ALMACEN  2012-12-01   \n",
       "73720  2012-12-18   63432         1  ALMACEN  2012-12-01   \n",
       "206709 2013-12-20   58817         4  ALMACEN  2013-12-01   \n",
       "199712 2013-12-19   58817         5  ALMACEN  2013-12-01   \n",
       "190972 2013-12-18   58817         2  ALMACEN  2013-12-01   \n",
       "184914 2013-12-17   58817         4  ALMACEN  2013-12-01   \n",
       "177547 2013-12-16   58817         2  ALMACEN  2013-12-01   \n",
       "167473 2013-12-14   58817         2  ALMACEN  2013-12-01   \n",
       "162916 2013-12-13   58817         1  ALMACEN  2013-12-01   \n",
       "152733 2013-12-11   58817         3  ALMACEN  2013-12-01   \n",
       "147816 2013-12-10   58817         1  ALMACEN  2013-12-01   \n",
       "\n",
       "        unidades_one_periode_before  \n",
       "239593                          NaN  \n",
       "222039                          2.0  \n",
       "205735                          1.0  \n",
       "190086                          2.0  \n",
       "185903                          1.0  \n",
       "176768                          2.0  \n",
       "173503                          1.0  \n",
       "111817                          NaN  \n",
       "95013                           NaN  \n",
       "92333                           1.0  \n",
       "73720                           1.0  \n",
       "206709                          NaN  \n",
       "199712                          4.0  \n",
       "190972                          5.0  \n",
       "184914                          2.0  \n",
       "177547                          4.0  \n",
       "167473                          2.0  \n",
       "162916                          2.0  \n",
       "152733                          1.0  \n",
       "147816                          3.0  "
      ]
     },
     "execution_count": 51,
     "metadata": {},
     "output_type": "execute_result"
    }
   ],
   "source": [
    "ventas.head(20)"
   ]
  },
  {
   "cell_type": "code",
   "execution_count": 40,
   "metadata": {},
   "outputs": [],
   "source": [
    "ventas['fecha'] = pd.to_datetime(ventas['fecha'])"
   ]
  },
  {
   "cell_type": "code",
   "execution_count": 43,
   "metadata": {},
   "outputs": [],
   "source": [
    "ventas['fecha_norm'] = ventas['fecha'].apply(lambda x : date(x.year,x.month,1))"
   ]
  },
  {
   "cell_type": "code",
   "execution_count": 52,
   "metadata": {},
   "outputs": [],
   "source": [
    "ventas_aggr = ventas.groupby(['id_pos','fecha_norm']).unidades.sum().reset_index()"
   ]
  },
  {
   "cell_type": "code",
   "execution_count": 54,
   "metadata": {},
   "outputs": [
    {
     "data": {
      "text/html": [
       "<div>\n",
       "<style scoped>\n",
       "    .dataframe tbody tr th:only-of-type {\n",
       "        vertical-align: middle;\n",
       "    }\n",
       "\n",
       "    .dataframe tbody tr th {\n",
       "        vertical-align: top;\n",
       "    }\n",
       "\n",
       "    .dataframe thead th {\n",
       "        text-align: right;\n",
       "    }\n",
       "</style>\n",
       "<table border=\"1\" class=\"dataframe\">\n",
       "  <thead>\n",
       "    <tr style=\"text-align: right;\">\n",
       "      <th></th>\n",
       "      <th>id_pos</th>\n",
       "      <th>fecha_norm</th>\n",
       "      <th>unidades</th>\n",
       "    </tr>\n",
       "  </thead>\n",
       "  <tbody>\n",
       "    <tr>\n",
       "      <th>0</th>\n",
       "      <td>3142</td>\n",
       "      <td>2012-12-01</td>\n",
       "      <td>12</td>\n",
       "    </tr>\n",
       "    <tr>\n",
       "      <th>1</th>\n",
       "      <td>3142</td>\n",
       "      <td>2013-12-01</td>\n",
       "      <td>7</td>\n",
       "    </tr>\n",
       "    <tr>\n",
       "      <th>2</th>\n",
       "      <td>3143</td>\n",
       "      <td>2013-11-01</td>\n",
       "      <td>2</td>\n",
       "    </tr>\n",
       "    <tr>\n",
       "      <th>3</th>\n",
       "      <td>3143</td>\n",
       "      <td>2013-12-01</td>\n",
       "      <td>47</td>\n",
       "    </tr>\n",
       "    <tr>\n",
       "      <th>4</th>\n",
       "      <td>3144</td>\n",
       "      <td>2012-11-01</td>\n",
       "      <td>6</td>\n",
       "    </tr>\n",
       "    <tr>\n",
       "      <th>5</th>\n",
       "      <td>3144</td>\n",
       "      <td>2012-12-01</td>\n",
       "      <td>41</td>\n",
       "    </tr>\n",
       "    <tr>\n",
       "      <th>6</th>\n",
       "      <td>3144</td>\n",
       "      <td>2013-11-01</td>\n",
       "      <td>4</td>\n",
       "    </tr>\n",
       "    <tr>\n",
       "      <th>7</th>\n",
       "      <td>3144</td>\n",
       "      <td>2013-12-01</td>\n",
       "      <td>71</td>\n",
       "    </tr>\n",
       "    <tr>\n",
       "      <th>8</th>\n",
       "      <td>3146</td>\n",
       "      <td>2012-12-01</td>\n",
       "      <td>7</td>\n",
       "    </tr>\n",
       "    <tr>\n",
       "      <th>9</th>\n",
       "      <td>3146</td>\n",
       "      <td>2013-12-01</td>\n",
       "      <td>7</td>\n",
       "    </tr>\n",
       "  </tbody>\n",
       "</table>\n",
       "</div>"
      ],
      "text/plain": [
       "   id_pos  fecha_norm  unidades\n",
       "0    3142  2012-12-01        12\n",
       "1    3142  2013-12-01         7\n",
       "2    3143  2013-11-01         2\n",
       "3    3143  2013-12-01        47\n",
       "4    3144  2012-11-01         6\n",
       "5    3144  2012-12-01        41\n",
       "6    3144  2013-11-01         4\n",
       "7    3144  2013-12-01        71\n",
       "8    3146  2012-12-01         7\n",
       "9    3146  2013-12-01         7"
      ]
     },
     "execution_count": 54,
     "metadata": {},
     "output_type": "execute_result"
    }
   ],
   "source": [
    "ventas_aggr.head(10)"
   ]
  },
  {
   "cell_type": "code",
   "execution_count": 47,
   "metadata": {},
   "outputs": [],
   "source": [
    "ventas.sort_values(['id_pos','fecha'], ascending=False, inplace=True)"
   ]
  },
  {
   "cell_type": "code",
   "execution_count": 49,
   "metadata": {},
   "outputs": [],
   "source": [
    "ventas['unidades_one_periode_before'] = ventas.groupby(['id_pos','fecha_norm'])['unidades'].shift()"
   ]
  }
 ],
 "metadata": {
  "kernelspec": {
   "display_name": "Python 3",
   "language": "python",
   "name": "python3"
  },
  "language_info": {
   "codemirror_mode": {
    "name": "ipython",
    "version": 3
   },
   "file_extension": ".py",
   "mimetype": "text/x-python",
   "name": "python",
   "nbconvert_exporter": "python",
   "pygments_lexer": "ipython3",
   "version": "3.7.3"
  }
 },
 "nbformat": 4,
 "nbformat_minor": 2
}
