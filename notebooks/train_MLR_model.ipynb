{
 "cells": [
  {
   "cell_type": "code",
   "execution_count": 1,
   "metadata": {},
   "outputs": [],
   "source": [
    "import pandas as pd\n",
    "import seaborn as sns\n",
    "import statsmodels.api as sm\n",
    "from sklearn.linear_model import LinearRegression\n",
    "from sklearn import metrics\n",
    "from sklearn.model_selection import train_test_split\n",
    "import numpy as np\n",
    "from datetime import date"
   ]
  },
  {
   "cell_type": "code",
   "execution_count": 2,
   "metadata": {},
   "outputs": [],
   "source": [
    "from sklearn import preprocessing\n"
   ]
  },
  {
   "cell_type": "code",
   "execution_count": 3,
   "metadata": {},
   "outputs": [],
   "source": [
    "import seaborn as sns"
   ]
  },
  {
   "cell_type": "code",
   "execution_count": 4,
   "metadata": {},
   "outputs": [],
   "source": [
    "from sklearn.model_selection import KFold"
   ]
  },
  {
   "cell_type": "code",
   "execution_count": 5,
   "metadata": {},
   "outputs": [],
   "source": [
    "from sklearn.metrics import mean_absolute_error"
   ]
  },
  {
   "cell_type": "code",
   "execution_count": 6,
   "metadata": {},
   "outputs": [],
   "source": [
    "from sklearn.metrics import mean_squared_error"
   ]
  },
  {
   "cell_type": "code",
   "execution_count": 7,
   "metadata": {},
   "outputs": [],
   "source": [
    "# Load Train Data\n",
    "train = pd.read_csv('../data/processed/train_norm.csv', sep=';')"
   ]
  },
  {
   "cell_type": "code",
   "execution_count": 8,
   "metadata": {},
   "outputs": [
    {
     "data": {
      "text/plain": [
       "(34540, 36)"
      ]
     },
     "execution_count": 8,
     "metadata": {},
     "output_type": "execute_result"
    }
   ],
   "source": [
    "train.shape"
   ]
  },
  {
   "cell_type": "code",
   "execution_count": 9,
   "metadata": {},
   "outputs": [],
   "source": [
    "train['fecha_venta_norm'] = pd.to_datetime(train['fecha_venta_norm'])"
   ]
  },
  {
   "cell_type": "code",
   "execution_count": 10,
   "metadata": {},
   "outputs": [],
   "source": [
    "train['fecha_venta_norm'] = train['fecha_venta_norm'].dt.date"
   ]
  },
  {
   "cell_type": "code",
   "execution_count": 11,
   "metadata": {},
   "outputs": [],
   "source": [
    "train['year'] = pd.to_datetime(train.fecha_venta_norm).dt.year\n",
    "train['month'] = pd.to_datetime(train.fecha_venta_norm).dt.month"
   ]
  },
  {
   "cell_type": "code",
   "execution_count": 12,
   "metadata": {},
   "outputs": [
    {
     "data": {
      "text/plain": [
       "array([datetime.date(2012, 12, 1), datetime.date(2013, 12, 1),\n",
       "       datetime.date(2013, 11, 1), datetime.date(2012, 11, 1),\n",
       "       datetime.date(2014, 11, 1), datetime.date(2014, 10, 1),\n",
       "       datetime.date(2013, 10, 1), datetime.date(2013, 8, 1),\n",
       "       datetime.date(2012, 10, 1), datetime.date(2014, 9, 1),\n",
       "       datetime.date(2013, 9, 1), datetime.date(2013, 6, 1),\n",
       "       datetime.date(2013, 7, 1)], dtype=object)"
      ]
     },
     "execution_count": 12,
     "metadata": {},
     "output_type": "execute_result"
    }
   ],
   "source": [
    "train.fecha_venta_norm.unique()"
   ]
  },
  {
   "cell_type": "code",
   "execution_count": 13,
   "metadata": {},
   "outputs": [],
   "source": [
    "# Filtramos los meses que consideramos buenos para el entrenamiento (11 y 12)\n",
    "train = train[train.fecha_venta_norm.isin([#date(2012, 11, 1),\n",
    "                                                 date(2012, 12, 1),\n",
    "                                                date(2013, 11, 1), \n",
    "                                                 date(2013, 12, 1), \n",
    "                                                 date(2014, 11, 1)\n",
    "])]"
   ]
  },
  {
   "cell_type": "code",
   "execution_count": 14,
   "metadata": {},
   "outputs": [
    {
     "data": {
      "text/plain": [
       "(29168, 38)"
      ]
     },
     "execution_count": 14,
     "metadata": {},
     "output_type": "execute_result"
    }
   ],
   "source": [
    "train.shape"
   ]
  },
  {
   "cell_type": "code",
   "execution_count": 15,
   "metadata": {},
   "outputs": [],
   "source": [
    "predictors = ['id_pos',\n",
    "              'unidades', 'canal', 'competidores',\n",
    "       'ingreso_mediana', 'densidad_poblacional',\n",
    "       'pct_0a5', 'pct_5a9', 'pct_10a14', 'pct_15a19', 'pct_20a24',\n",
    "       'pct_25a29', 'pct_30a34', 'pct_35a39', 'pct_40a44', 'pct_45a49',\n",
    "       'pct_50a54', 'pct_55a59', 'pct_60a64', 'pct_65a69', 'pct_70a74',\n",
    "       'pct_75a79', 'pct_80a84', 'pct_85ainf', 'pct_bachelors',\n",
    "       'pct_doctorados', 'pct_secundario', 'pct_master', 'pct_bicicleta',\n",
    "       'pct_omnibus', 'pct_subtes', 'pct_taxi', 'pct_caminata',\n",
    "       'mediana_valor_hogar']"
   ]
  },
  {
   "cell_type": "code",
   "execution_count": 16,
   "metadata": {},
   "outputs": [],
   "source": [
    "X = train[predictors].copy()"
   ]
  },
  {
   "cell_type": "code",
   "execution_count": 17,
   "metadata": {},
   "outputs": [],
   "source": [
    "y = train['unidades']"
   ]
  },
  {
   "cell_type": "code",
   "execution_count": 18,
   "metadata": {},
   "outputs": [],
   "source": [
    "X.drop('unidades', inplace=True, axis=1)"
   ]
  },
  {
   "cell_type": "code",
   "execution_count": 19,
   "metadata": {
    "scrolled": true
   },
   "outputs": [],
   "source": [
    "# fill Nans\n",
    "for c in X.columns[X.dtypes != 'object']:\n",
    "    X[c].fillna(X[c].median(), inplace=True)"
   ]
  },
  {
   "cell_type": "code",
   "execution_count": 20,
   "metadata": {},
   "outputs": [
    {
     "data": {
      "text/plain": [
       "Index(['canal'], dtype='object')"
      ]
     },
     "execution_count": 20,
     "metadata": {},
     "output_type": "execute_result"
    }
   ],
   "source": [
    "X.columns[X.dtypes == 'object']"
   ]
  },
  {
   "cell_type": "code",
   "execution_count": 21,
   "metadata": {},
   "outputs": [],
   "source": [
    "# Dummy\n",
    "canal_dummy = pd.get_dummies(X['canal'])"
   ]
  },
  {
   "cell_type": "code",
   "execution_count": 22,
   "metadata": {},
   "outputs": [],
   "source": [
    "X = pd.merge(X, canal_dummy, how='inner', left_index=True, right_index=True)"
   ]
  },
  {
   "cell_type": "code",
   "execution_count": 23,
   "metadata": {},
   "outputs": [],
   "source": [
    "X.drop('canal', axis=1, inplace=True)"
   ]
  },
  {
   "cell_type": "code",
   "execution_count": 24,
   "metadata": {},
   "outputs": [
    {
     "name": "stderr",
     "output_type": "stream",
     "text": [
      "/opt/anaconda3/envs/signalenv/lib/python3.7/site-packages/numpy/core/fromnumeric.py:2389: FutureWarning: Method .ptp is deprecated and will be removed in a future version. Use numpy.ptp instead.\n",
      "  return ptp(axis=axis, out=out, **kwargs)\n"
     ]
    }
   ],
   "source": [
    "X = sm.add_constant(X)"
   ]
  },
  {
   "cell_type": "code",
   "execution_count": 25,
   "metadata": {
    "scrolled": false
   },
   "outputs": [
    {
     "data": {
      "text/html": [
       "<table class=\"simpletable\">\n",
       "<caption>OLS Regression Results</caption>\n",
       "<tr>\n",
       "  <th>Dep. Variable:</th>        <td>unidades</td>     <th>  R-squared:         </th>  <td>   0.102</td>  \n",
       "</tr>\n",
       "<tr>\n",
       "  <th>Model:</th>                   <td>OLS</td>       <th>  Adj. R-squared:    </th>  <td>   0.101</td>  \n",
       "</tr>\n",
       "<tr>\n",
       "  <th>Method:</th>             <td>Least Squares</td>  <th>  F-statistic:       </th>  <td>   94.19</td>  \n",
       "</tr>\n",
       "<tr>\n",
       "  <th>Date:</th>             <td>Sat, 22 Jun 2019</td> <th>  Prob (F-statistic):</th>   <td>  0.00</td>   \n",
       "</tr>\n",
       "<tr>\n",
       "  <th>Time:</th>                 <td>03:28:39</td>     <th>  Log-Likelihood:    </th> <td>-1.3122e+05</td>\n",
       "</tr>\n",
       "<tr>\n",
       "  <th>No. Observations:</th>      <td> 29168</td>      <th>  AIC:               </th>  <td>2.625e+05</td> \n",
       "</tr>\n",
       "<tr>\n",
       "  <th>Df Residuals:</th>          <td> 29132</td>      <th>  BIC:               </th>  <td>2.628e+05</td> \n",
       "</tr>\n",
       "<tr>\n",
       "  <th>Df Model:</th>              <td>    35</td>      <th>                     </th>      <td> </td>     \n",
       "</tr>\n",
       "<tr>\n",
       "  <th>Covariance Type:</th>      <td>nonrobust</td>    <th>                     </th>      <td> </td>     \n",
       "</tr>\n",
       "</table>\n",
       "<table class=\"simpletable\">\n",
       "<tr>\n",
       "            <td></td>              <th>coef</th>     <th>std err</th>      <th>t</th>      <th>P>|t|</th>  <th>[0.025</th>    <th>0.975]</th>  \n",
       "</tr>\n",
       "<tr>\n",
       "  <th>const</th>                <td>   14.9428</td> <td>    2.940</td> <td>    5.083</td> <td> 0.000</td> <td>    9.180</td> <td>   20.705</td>\n",
       "</tr>\n",
       "<tr>\n",
       "  <th>id_pos</th>               <td>   -0.0013</td> <td> 2.36e-05</td> <td>  -56.376</td> <td> 0.000</td> <td>   -0.001</td> <td>   -0.001</td>\n",
       "</tr>\n",
       "<tr>\n",
       "  <th>competidores</th>         <td>   -0.0389</td> <td>    0.154</td> <td>   -0.252</td> <td> 0.801</td> <td>   -0.342</td> <td>    0.264</td>\n",
       "</tr>\n",
       "<tr>\n",
       "  <th>ingreso_mediana</th>      <td>   -0.1248</td> <td>    0.304</td> <td>   -0.411</td> <td> 0.681</td> <td>   -0.720</td> <td>    0.471</td>\n",
       "</tr>\n",
       "<tr>\n",
       "  <th>densidad_poblacional</th> <td>    0.0546</td> <td>    0.267</td> <td>    0.204</td> <td> 0.838</td> <td>   -0.469</td> <td>    0.579</td>\n",
       "</tr>\n",
       "<tr>\n",
       "  <th>pct_0a5</th>              <td>   -0.0279</td> <td>    0.272</td> <td>   -0.102</td> <td> 0.919</td> <td>   -0.562</td> <td>    0.506</td>\n",
       "</tr>\n",
       "<tr>\n",
       "  <th>pct_5a9</th>              <td>   -0.3923</td> <td>    0.350</td> <td>   -1.122</td> <td> 0.262</td> <td>   -1.077</td> <td>    0.293</td>\n",
       "</tr>\n",
       "<tr>\n",
       "  <th>pct_10a14</th>            <td>    0.2410</td> <td>    0.314</td> <td>    0.767</td> <td> 0.443</td> <td>   -0.375</td> <td>    0.857</td>\n",
       "</tr>\n",
       "<tr>\n",
       "  <th>pct_15a19</th>            <td>    0.2674</td> <td>    0.240</td> <td>    1.114</td> <td> 0.265</td> <td>   -0.203</td> <td>    0.738</td>\n",
       "</tr>\n",
       "<tr>\n",
       "  <th>pct_20a24</th>            <td>   -0.3823</td> <td>    0.297</td> <td>   -1.286</td> <td> 0.198</td> <td>   -0.965</td> <td>    0.200</td>\n",
       "</tr>\n",
       "<tr>\n",
       "  <th>pct_25a29</th>            <td>    0.0245</td> <td>    0.336</td> <td>    0.073</td> <td> 0.942</td> <td>   -0.633</td> <td>    0.682</td>\n",
       "</tr>\n",
       "<tr>\n",
       "  <th>pct_30a34</th>            <td>    0.4088</td> <td>    0.339</td> <td>    1.207</td> <td> 0.228</td> <td>   -0.255</td> <td>    1.073</td>\n",
       "</tr>\n",
       "<tr>\n",
       "  <th>pct_35a39</th>            <td>   -0.0837</td> <td>    0.269</td> <td>   -0.311</td> <td> 0.755</td> <td>   -0.611</td> <td>    0.443</td>\n",
       "</tr>\n",
       "<tr>\n",
       "  <th>pct_40a44</th>            <td>   -0.2390</td> <td>    0.247</td> <td>   -0.967</td> <td> 0.333</td> <td>   -0.723</td> <td>    0.245</td>\n",
       "</tr>\n",
       "<tr>\n",
       "  <th>pct_45a49</th>            <td>    0.2023</td> <td>    0.259</td> <td>    0.781</td> <td> 0.435</td> <td>   -0.306</td> <td>    0.710</td>\n",
       "</tr>\n",
       "<tr>\n",
       "  <th>pct_50a54</th>            <td>   -0.2957</td> <td>    0.263</td> <td>   -1.126</td> <td> 0.260</td> <td>   -0.810</td> <td>    0.219</td>\n",
       "</tr>\n",
       "<tr>\n",
       "  <th>pct_55a59</th>            <td>    0.0844</td> <td>    0.283</td> <td>    0.299</td> <td> 0.765</td> <td>   -0.470</td> <td>    0.638</td>\n",
       "</tr>\n",
       "<tr>\n",
       "  <th>pct_60a64</th>            <td>    0.2831</td> <td>    0.317</td> <td>    0.892</td> <td> 0.372</td> <td>   -0.339</td> <td>    0.905</td>\n",
       "</tr>\n",
       "<tr>\n",
       "  <th>pct_65a69</th>            <td>   -0.4558</td> <td>    0.357</td> <td>   -1.276</td> <td> 0.202</td> <td>   -1.156</td> <td>    0.244</td>\n",
       "</tr>\n",
       "<tr>\n",
       "  <th>pct_70a74</th>            <td>    0.6111</td> <td>    0.376</td> <td>    1.627</td> <td> 0.104</td> <td>   -0.125</td> <td>    1.347</td>\n",
       "</tr>\n",
       "<tr>\n",
       "  <th>pct_75a79</th>            <td>    0.3765</td> <td>    0.385</td> <td>    0.978</td> <td> 0.328</td> <td>   -0.378</td> <td>    1.131</td>\n",
       "</tr>\n",
       "<tr>\n",
       "  <th>pct_80a84</th>            <td>   -0.7362</td> <td>    0.385</td> <td>   -1.913</td> <td> 0.056</td> <td>   -1.491</td> <td>    0.018</td>\n",
       "</tr>\n",
       "<tr>\n",
       "  <th>pct_85ainf</th>           <td>    0.2578</td> <td>    0.271</td> <td>    0.951</td> <td> 0.342</td> <td>   -0.273</td> <td>    0.789</td>\n",
       "</tr>\n",
       "<tr>\n",
       "  <th>pct_bachelors</th>        <td>   -0.0253</td> <td>    0.334</td> <td>   -0.076</td> <td> 0.940</td> <td>   -0.680</td> <td>    0.629</td>\n",
       "</tr>\n",
       "<tr>\n",
       "  <th>pct_doctorados</th>       <td>    0.0523</td> <td>    0.230</td> <td>    0.227</td> <td> 0.820</td> <td>   -0.399</td> <td>    0.503</td>\n",
       "</tr>\n",
       "<tr>\n",
       "  <th>pct_secundario</th>       <td>   -0.0506</td> <td>    0.273</td> <td>   -0.185</td> <td> 0.853</td> <td>   -0.586</td> <td>    0.485</td>\n",
       "</tr>\n",
       "<tr>\n",
       "  <th>pct_master</th>           <td>    0.3784</td> <td>    0.335</td> <td>    1.129</td> <td> 0.259</td> <td>   -0.278</td> <td>    1.035</td>\n",
       "</tr>\n",
       "<tr>\n",
       "  <th>pct_bicicleta</th>        <td>   -0.0044</td> <td>    0.166</td> <td>   -0.027</td> <td> 0.979</td> <td>   -0.329</td> <td>    0.320</td>\n",
       "</tr>\n",
       "<tr>\n",
       "  <th>pct_omnibus</th>          <td>    0.0251</td> <td>    0.185</td> <td>    0.136</td> <td> 0.892</td> <td>   -0.337</td> <td>    0.387</td>\n",
       "</tr>\n",
       "<tr>\n",
       "  <th>pct_subtes</th>           <td>    0.1657</td> <td>    0.202</td> <td>    0.821</td> <td> 0.412</td> <td>   -0.230</td> <td>    0.561</td>\n",
       "</tr>\n",
       "<tr>\n",
       "  <th>pct_taxi</th>             <td>    0.0037</td> <td>    0.154</td> <td>    0.024</td> <td> 0.981</td> <td>   -0.297</td> <td>    0.305</td>\n",
       "</tr>\n",
       "<tr>\n",
       "  <th>pct_caminata</th>         <td>   -0.4504</td> <td>    0.191</td> <td>   -2.364</td> <td> 0.018</td> <td>   -0.824</td> <td>   -0.077</td>\n",
       "</tr>\n",
       "<tr>\n",
       "  <th>mediana_valor_hogar</th>  <td>   -0.3603</td> <td>    0.264</td> <td>   -1.362</td> <td> 0.173</td> <td>   -0.879</td> <td>    0.158</td>\n",
       "</tr>\n",
       "<tr>\n",
       "  <th>ALMACEN</th>              <td>   17.5843</td> <td>    2.940</td> <td>    5.980</td> <td> 0.000</td> <td>   11.821</td> <td>   23.348</td>\n",
       "</tr>\n",
       "<tr>\n",
       "  <th>MAXIKIOSCO</th>           <td>    3.4931</td> <td>    3.146</td> <td>    1.110</td> <td> 0.267</td> <td>   -2.673</td> <td>    9.659</td>\n",
       "</tr>\n",
       "<tr>\n",
       "  <th>PARTICULARES</th>         <td>   -2.3777</td> <td>    8.097</td> <td>   -0.294</td> <td> 0.769</td> <td>  -18.249</td> <td>   13.493</td>\n",
       "</tr>\n",
       "<tr>\n",
       "  <th>SUPERMERCADOS</th>        <td>   -3.7568</td> <td>    8.935</td> <td>   -0.420</td> <td> 0.674</td> <td>  -21.270</td> <td>   13.757</td>\n",
       "</tr>\n",
       "</table>\n",
       "<table class=\"simpletable\">\n",
       "<tr>\n",
       "  <th>Omnibus:</th>       <td>12777.897</td> <th>  Durbin-Watson:     </th> <td>   2.302</td> \n",
       "</tr>\n",
       "<tr>\n",
       "  <th>Prob(Omnibus):</th>  <td> 0.000</td>   <th>  Jarque-Bera (JB):  </th> <td>74021.856</td>\n",
       "</tr>\n",
       "<tr>\n",
       "  <th>Skew:</th>           <td> 2.051</td>   <th>  Prob(JB):          </th> <td>    0.00</td> \n",
       "</tr>\n",
       "<tr>\n",
       "  <th>Kurtosis:</th>       <td> 9.640</td>   <th>  Cond. No.          </th> <td>3.83e+15</td> \n",
       "</tr>\n",
       "</table><br/><br/>Warnings:<br/>[1] Standard Errors assume that the covariance matrix of the errors is correctly specified.<br/>[2] The smallest eigenvalue is 2.42e-19. This might indicate that there are<br/>strong multicollinearity problems or that the design matrix is singular."
      ],
      "text/plain": [
       "<class 'statsmodels.iolib.summary.Summary'>\n",
       "\"\"\"\n",
       "                            OLS Regression Results                            \n",
       "==============================================================================\n",
       "Dep. Variable:               unidades   R-squared:                       0.102\n",
       "Model:                            OLS   Adj. R-squared:                  0.101\n",
       "Method:                 Least Squares   F-statistic:                     94.19\n",
       "Date:                Sat, 22 Jun 2019   Prob (F-statistic):               0.00\n",
       "Time:                        03:28:39   Log-Likelihood:            -1.3122e+05\n",
       "No. Observations:               29168   AIC:                         2.625e+05\n",
       "Df Residuals:                   29132   BIC:                         2.628e+05\n",
       "Df Model:                          35                                         \n",
       "Covariance Type:            nonrobust                                         \n",
       "========================================================================================\n",
       "                           coef    std err          t      P>|t|      [0.025      0.975]\n",
       "----------------------------------------------------------------------------------------\n",
       "const                   14.9428      2.940      5.083      0.000       9.180      20.705\n",
       "id_pos                  -0.0013   2.36e-05    -56.376      0.000      -0.001      -0.001\n",
       "competidores            -0.0389      0.154     -0.252      0.801      -0.342       0.264\n",
       "ingreso_mediana         -0.1248      0.304     -0.411      0.681      -0.720       0.471\n",
       "densidad_poblacional     0.0546      0.267      0.204      0.838      -0.469       0.579\n",
       "pct_0a5                 -0.0279      0.272     -0.102      0.919      -0.562       0.506\n",
       "pct_5a9                 -0.3923      0.350     -1.122      0.262      -1.077       0.293\n",
       "pct_10a14                0.2410      0.314      0.767      0.443      -0.375       0.857\n",
       "pct_15a19                0.2674      0.240      1.114      0.265      -0.203       0.738\n",
       "pct_20a24               -0.3823      0.297     -1.286      0.198      -0.965       0.200\n",
       "pct_25a29                0.0245      0.336      0.073      0.942      -0.633       0.682\n",
       "pct_30a34                0.4088      0.339      1.207      0.228      -0.255       1.073\n",
       "pct_35a39               -0.0837      0.269     -0.311      0.755      -0.611       0.443\n",
       "pct_40a44               -0.2390      0.247     -0.967      0.333      -0.723       0.245\n",
       "pct_45a49                0.2023      0.259      0.781      0.435      -0.306       0.710\n",
       "pct_50a54               -0.2957      0.263     -1.126      0.260      -0.810       0.219\n",
       "pct_55a59                0.0844      0.283      0.299      0.765      -0.470       0.638\n",
       "pct_60a64                0.2831      0.317      0.892      0.372      -0.339       0.905\n",
       "pct_65a69               -0.4558      0.357     -1.276      0.202      -1.156       0.244\n",
       "pct_70a74                0.6111      0.376      1.627      0.104      -0.125       1.347\n",
       "pct_75a79                0.3765      0.385      0.978      0.328      -0.378       1.131\n",
       "pct_80a84               -0.7362      0.385     -1.913      0.056      -1.491       0.018\n",
       "pct_85ainf               0.2578      0.271      0.951      0.342      -0.273       0.789\n",
       "pct_bachelors           -0.0253      0.334     -0.076      0.940      -0.680       0.629\n",
       "pct_doctorados           0.0523      0.230      0.227      0.820      -0.399       0.503\n",
       "pct_secundario          -0.0506      0.273     -0.185      0.853      -0.586       0.485\n",
       "pct_master               0.3784      0.335      1.129      0.259      -0.278       1.035\n",
       "pct_bicicleta           -0.0044      0.166     -0.027      0.979      -0.329       0.320\n",
       "pct_omnibus              0.0251      0.185      0.136      0.892      -0.337       0.387\n",
       "pct_subtes               0.1657      0.202      0.821      0.412      -0.230       0.561\n",
       "pct_taxi                 0.0037      0.154      0.024      0.981      -0.297       0.305\n",
       "pct_caminata            -0.4504      0.191     -2.364      0.018      -0.824      -0.077\n",
       "mediana_valor_hogar     -0.3603      0.264     -1.362      0.173      -0.879       0.158\n",
       "ALMACEN                 17.5843      2.940      5.980      0.000      11.821      23.348\n",
       "MAXIKIOSCO               3.4931      3.146      1.110      0.267      -2.673       9.659\n",
       "PARTICULARES            -2.3777      8.097     -0.294      0.769     -18.249      13.493\n",
       "SUPERMERCADOS           -3.7568      8.935     -0.420      0.674     -21.270      13.757\n",
       "==============================================================================\n",
       "Omnibus:                    12777.897   Durbin-Watson:                   2.302\n",
       "Prob(Omnibus):                  0.000   Jarque-Bera (JB):            74021.856\n",
       "Skew:                           2.051   Prob(JB):                         0.00\n",
       "Kurtosis:                       9.640   Cond. No.                     3.83e+15\n",
       "==============================================================================\n",
       "\n",
       "Warnings:\n",
       "[1] Standard Errors assume that the covariance matrix of the errors is correctly specified.\n",
       "[2] The smallest eigenvalue is 2.42e-19. This might indicate that there are\n",
       "strong multicollinearity problems or that the design matrix is singular.\n",
       "\"\"\""
      ]
     },
     "execution_count": 25,
     "metadata": {},
     "output_type": "execute_result"
    }
   ],
   "source": [
    "model = sm.OLS(y, X).fit()\n",
    "predictions = model.predict(X) # make the predictions by the model\n",
    "\n",
    "# Print out the statistics\n",
    "model.summary()"
   ]
  },
  {
   "cell_type": "code",
   "execution_count": 26,
   "metadata": {},
   "outputs": [],
   "source": [
    "predictors = [ 'id_pos', \n",
    "       'ingreso_mediana', 'densidad_poblacional',\n",
    "        'pct_5a9', 'pct_10a14', 'pct_15a19', 'pct_20a24',\n",
    "        'pct_30a34',  'pct_40a44', 'pct_45a49',\n",
    "       'pct_50a54',  'pct_60a64', 'pct_65a69', 'pct_70a74',\n",
    "       'pct_75a79', 'pct_80a84', 'pct_85ainf', \n",
    "         'pct_master', \n",
    "        'pct_subtes',  'pct_caminata',\n",
    "       'mediana_valor_hogar' ,'ALMACEN', 'MAXIKIOSCO'\n",
    "    \n",
    "]"
   ]
  },
  {
   "cell_type": "code",
   "execution_count": 27,
   "metadata": {},
   "outputs": [],
   "source": [
    "X_sel = X[predictors]\n",
    "X_sel = sm.add_constant(X_sel)"
   ]
  },
  {
   "cell_type": "code",
   "execution_count": 28,
   "metadata": {
    "scrolled": false
   },
   "outputs": [
    {
     "data": {
      "text/html": [
       "<table class=\"simpletable\">\n",
       "<caption>OLS Regression Results</caption>\n",
       "<tr>\n",
       "  <th>Dep. Variable:</th>        <td>unidades</td>     <th>  R-squared:         </th>  <td>   0.102</td>  \n",
       "</tr>\n",
       "<tr>\n",
       "  <th>Model:</th>                   <td>OLS</td>       <th>  Adj. R-squared:    </th>  <td>   0.101</td>  \n",
       "</tr>\n",
       "<tr>\n",
       "  <th>Method:</th>             <td>Least Squares</td>  <th>  F-statistic:       </th>  <td>   143.4</td>  \n",
       "</tr>\n",
       "<tr>\n",
       "  <th>Date:</th>             <td>Sat, 22 Jun 2019</td> <th>  Prob (F-statistic):</th>   <td>  0.00</td>   \n",
       "</tr>\n",
       "<tr>\n",
       "  <th>Time:</th>                 <td>03:28:40</td>     <th>  Log-Likelihood:    </th> <td>-1.3122e+05</td>\n",
       "</tr>\n",
       "<tr>\n",
       "  <th>No. Observations:</th>      <td> 29168</td>      <th>  AIC:               </th>  <td>2.625e+05</td> \n",
       "</tr>\n",
       "<tr>\n",
       "  <th>Df Residuals:</th>          <td> 29144</td>      <th>  BIC:               </th>  <td>2.627e+05</td> \n",
       "</tr>\n",
       "<tr>\n",
       "  <th>Df Model:</th>              <td>    23</td>      <th>                     </th>      <td> </td>     \n",
       "</tr>\n",
       "<tr>\n",
       "  <th>Covariance Type:</th>      <td>nonrobust</td>    <th>                     </th>      <td> </td>     \n",
       "</tr>\n",
       "</table>\n",
       "<table class=\"simpletable\">\n",
       "<tr>\n",
       "            <td></td>              <th>coef</th>     <th>std err</th>      <th>t</th>      <th>P>|t|</th>  <th>[0.025</th>    <th>0.975]</th>  \n",
       "</tr>\n",
       "<tr>\n",
       "  <th>const</th>                <td>   11.9137</td> <td>    7.259</td> <td>    1.641</td> <td> 0.101</td> <td>   -2.314</td> <td>   26.142</td>\n",
       "</tr>\n",
       "<tr>\n",
       "  <th>id_pos</th>               <td>   -0.0013</td> <td> 2.35e-05</td> <td>  -56.422</td> <td> 0.000</td> <td>   -0.001</td> <td>   -0.001</td>\n",
       "</tr>\n",
       "<tr>\n",
       "  <th>ingreso_mediana</th>      <td>   -0.1574</td> <td>    0.278</td> <td>   -0.565</td> <td> 0.572</td> <td>   -0.703</td> <td>    0.388</td>\n",
       "</tr>\n",
       "<tr>\n",
       "  <th>densidad_poblacional</th> <td>    0.0577</td> <td>    0.228</td> <td>    0.253</td> <td> 0.800</td> <td>   -0.389</td> <td>    0.505</td>\n",
       "</tr>\n",
       "<tr>\n",
       "  <th>pct_5a9</th>              <td>   -0.4256</td> <td>    0.291</td> <td>   -1.461</td> <td> 0.144</td> <td>   -0.997</td> <td>    0.145</td>\n",
       "</tr>\n",
       "<tr>\n",
       "  <th>pct_10a14</th>            <td>    0.2411</td> <td>    0.312</td> <td>    0.774</td> <td> 0.439</td> <td>   -0.370</td> <td>    0.852</td>\n",
       "</tr>\n",
       "<tr>\n",
       "  <th>pct_15a19</th>            <td>    0.2667</td> <td>    0.224</td> <td>    1.193</td> <td> 0.233</td> <td>   -0.172</td> <td>    0.705</td>\n",
       "</tr>\n",
       "<tr>\n",
       "  <th>pct_20a24</th>            <td>   -0.3753</td> <td>    0.276</td> <td>   -1.360</td> <td> 0.174</td> <td>   -0.916</td> <td>    0.165</td>\n",
       "</tr>\n",
       "<tr>\n",
       "  <th>pct_30a34</th>            <td>    0.3633</td> <td>    0.254</td> <td>    1.433</td> <td> 0.152</td> <td>   -0.134</td> <td>    0.860</td>\n",
       "</tr>\n",
       "<tr>\n",
       "  <th>pct_40a44</th>            <td>   -0.2766</td> <td>    0.221</td> <td>   -1.253</td> <td> 0.210</td> <td>   -0.709</td> <td>    0.156</td>\n",
       "</tr>\n",
       "<tr>\n",
       "  <th>pct_45a49</th>            <td>    0.1978</td> <td>    0.255</td> <td>    0.776</td> <td> 0.438</td> <td>   -0.302</td> <td>    0.698</td>\n",
       "</tr>\n",
       "<tr>\n",
       "  <th>pct_50a54</th>            <td>   -0.2522</td> <td>    0.233</td> <td>   -1.081</td> <td> 0.280</td> <td>   -0.709</td> <td>    0.205</td>\n",
       "</tr>\n",
       "<tr>\n",
       "  <th>pct_60a64</th>            <td>    0.3292</td> <td>    0.280</td> <td>    1.178</td> <td> 0.239</td> <td>   -0.219</td> <td>    0.877</td>\n",
       "</tr>\n",
       "<tr>\n",
       "  <th>pct_65a69</th>            <td>   -0.4529</td> <td>    0.355</td> <td>   -1.277</td> <td> 0.202</td> <td>   -1.148</td> <td>    0.242</td>\n",
       "</tr>\n",
       "<tr>\n",
       "  <th>pct_70a74</th>            <td>    0.6015</td> <td>    0.370</td> <td>    1.625</td> <td> 0.104</td> <td>   -0.124</td> <td>    1.327</td>\n",
       "</tr>\n",
       "<tr>\n",
       "  <th>pct_75a79</th>            <td>    0.3684</td> <td>    0.383</td> <td>    0.963</td> <td> 0.336</td> <td>   -0.382</td> <td>    1.119</td>\n",
       "</tr>\n",
       "<tr>\n",
       "  <th>pct_80a84</th>            <td>   -0.7331</td> <td>    0.383</td> <td>   -1.914</td> <td> 0.056</td> <td>   -1.484</td> <td>    0.018</td>\n",
       "</tr>\n",
       "<tr>\n",
       "  <th>pct_85ainf</th>           <td>    0.2497</td> <td>    0.269</td> <td>    0.929</td> <td> 0.353</td> <td>   -0.277</td> <td>    0.777</td>\n",
       "</tr>\n",
       "<tr>\n",
       "  <th>pct_master</th>           <td>    0.4416</td> <td>    0.230</td> <td>    1.924</td> <td> 0.054</td> <td>   -0.008</td> <td>    0.891</td>\n",
       "</tr>\n",
       "<tr>\n",
       "  <th>pct_subtes</th>           <td>    0.1512</td> <td>    0.193</td> <td>    0.782</td> <td> 0.434</td> <td>   -0.228</td> <td>    0.530</td>\n",
       "</tr>\n",
       "<tr>\n",
       "  <th>pct_caminata</th>         <td>   -0.4408</td> <td>    0.178</td> <td>   -2.476</td> <td> 0.013</td> <td>   -0.790</td> <td>   -0.092</td>\n",
       "</tr>\n",
       "<tr>\n",
       "  <th>mediana_valor_hogar</th>  <td>   -0.3378</td> <td>    0.250</td> <td>   -1.349</td> <td> 0.177</td> <td>   -0.828</td> <td>    0.153</td>\n",
       "</tr>\n",
       "<tr>\n",
       "  <th>ALMACEN</th>              <td>   20.6133</td> <td>    7.260</td> <td>    2.839</td> <td> 0.005</td> <td>    6.383</td> <td>   34.844</td>\n",
       "</tr>\n",
       "<tr>\n",
       "  <th>MAXIKIOSCO</th>           <td>    6.5239</td> <td>    7.403</td> <td>    0.881</td> <td> 0.378</td> <td>   -7.986</td> <td>   21.033</td>\n",
       "</tr>\n",
       "</table>\n",
       "<table class=\"simpletable\">\n",
       "<tr>\n",
       "  <th>Omnibus:</th>       <td>12776.947</td> <th>  Durbin-Watson:     </th> <td>   2.302</td> \n",
       "</tr>\n",
       "<tr>\n",
       "  <th>Prob(Omnibus):</th>  <td> 0.000</td>   <th>  Jarque-Bera (JB):  </th> <td>73999.612</td>\n",
       "</tr>\n",
       "<tr>\n",
       "  <th>Skew:</th>           <td> 2.051</td>   <th>  Prob(JB):          </th> <td>    0.00</td> \n",
       "</tr>\n",
       "<tr>\n",
       "  <th>Kurtosis:</th>       <td> 9.639</td>   <th>  Cond. No.          </th> <td>1.09e+06</td> \n",
       "</tr>\n",
       "</table><br/><br/>Warnings:<br/>[1] Standard Errors assume that the covariance matrix of the errors is correctly specified.<br/>[2] The condition number is large, 1.09e+06. This might indicate that there are<br/>strong multicollinearity or other numerical problems."
      ],
      "text/plain": [
       "<class 'statsmodels.iolib.summary.Summary'>\n",
       "\"\"\"\n",
       "                            OLS Regression Results                            \n",
       "==============================================================================\n",
       "Dep. Variable:               unidades   R-squared:                       0.102\n",
       "Model:                            OLS   Adj. R-squared:                  0.101\n",
       "Method:                 Least Squares   F-statistic:                     143.4\n",
       "Date:                Sat, 22 Jun 2019   Prob (F-statistic):               0.00\n",
       "Time:                        03:28:40   Log-Likelihood:            -1.3122e+05\n",
       "No. Observations:               29168   AIC:                         2.625e+05\n",
       "Df Residuals:                   29144   BIC:                         2.627e+05\n",
       "Df Model:                          23                                         \n",
       "Covariance Type:            nonrobust                                         \n",
       "========================================================================================\n",
       "                           coef    std err          t      P>|t|      [0.025      0.975]\n",
       "----------------------------------------------------------------------------------------\n",
       "const                   11.9137      7.259      1.641      0.101      -2.314      26.142\n",
       "id_pos                  -0.0013   2.35e-05    -56.422      0.000      -0.001      -0.001\n",
       "ingreso_mediana         -0.1574      0.278     -0.565      0.572      -0.703       0.388\n",
       "densidad_poblacional     0.0577      0.228      0.253      0.800      -0.389       0.505\n",
       "pct_5a9                 -0.4256      0.291     -1.461      0.144      -0.997       0.145\n",
       "pct_10a14                0.2411      0.312      0.774      0.439      -0.370       0.852\n",
       "pct_15a19                0.2667      0.224      1.193      0.233      -0.172       0.705\n",
       "pct_20a24               -0.3753      0.276     -1.360      0.174      -0.916       0.165\n",
       "pct_30a34                0.3633      0.254      1.433      0.152      -0.134       0.860\n",
       "pct_40a44               -0.2766      0.221     -1.253      0.210      -0.709       0.156\n",
       "pct_45a49                0.1978      0.255      0.776      0.438      -0.302       0.698\n",
       "pct_50a54               -0.2522      0.233     -1.081      0.280      -0.709       0.205\n",
       "pct_60a64                0.3292      0.280      1.178      0.239      -0.219       0.877\n",
       "pct_65a69               -0.4529      0.355     -1.277      0.202      -1.148       0.242\n",
       "pct_70a74                0.6015      0.370      1.625      0.104      -0.124       1.327\n",
       "pct_75a79                0.3684      0.383      0.963      0.336      -0.382       1.119\n",
       "pct_80a84               -0.7331      0.383     -1.914      0.056      -1.484       0.018\n",
       "pct_85ainf               0.2497      0.269      0.929      0.353      -0.277       0.777\n",
       "pct_master               0.4416      0.230      1.924      0.054      -0.008       0.891\n",
       "pct_subtes               0.1512      0.193      0.782      0.434      -0.228       0.530\n",
       "pct_caminata            -0.4408      0.178     -2.476      0.013      -0.790      -0.092\n",
       "mediana_valor_hogar     -0.3378      0.250     -1.349      0.177      -0.828       0.153\n",
       "ALMACEN                 20.6133      7.260      2.839      0.005       6.383      34.844\n",
       "MAXIKIOSCO               6.5239      7.403      0.881      0.378      -7.986      21.033\n",
       "==============================================================================\n",
       "Omnibus:                    12776.947   Durbin-Watson:                   2.302\n",
       "Prob(Omnibus):                  0.000   Jarque-Bera (JB):            73999.612\n",
       "Skew:                           2.051   Prob(JB):                         0.00\n",
       "Kurtosis:                       9.639   Cond. No.                     1.09e+06\n",
       "==============================================================================\n",
       "\n",
       "Warnings:\n",
       "[1] Standard Errors assume that the covariance matrix of the errors is correctly specified.\n",
       "[2] The condition number is large, 1.09e+06. This might indicate that there are\n",
       "strong multicollinearity or other numerical problems.\n",
       "\"\"\""
      ]
     },
     "execution_count": 28,
     "metadata": {},
     "output_type": "execute_result"
    }
   ],
   "source": [
    "model = sm.OLS(y, X_sel).fit()\n",
    "predictions = model.predict(X_sel) # make the predictions by the model\n",
    "\n",
    "# Print out the statistics\n",
    "model.summary()"
   ]
  },
  {
   "cell_type": "code",
   "execution_count": 29,
   "metadata": {
    "scrolled": false
   },
   "outputs": [
    {
     "name": "stdout",
     "output_type": "stream",
     "text": [
      "                            OLS Regression Results                            \n",
      "==============================================================================\n",
      "Dep. Variable:               unidades   R-squared:                       0.102\n",
      "Model:                            OLS   Adj. R-squared:                  0.101\n",
      "Method:                 Least Squares   F-statistic:                     143.4\n",
      "Date:                Sat, 22 Jun 2019   Prob (F-statistic):               0.00\n",
      "Time:                        03:28:40   Log-Likelihood:            -1.3122e+05\n",
      "No. Observations:               29168   AIC:                         2.625e+05\n",
      "Df Residuals:                   29144   BIC:                         2.627e+05\n",
      "Df Model:                          23                                         \n",
      "Covariance Type:            nonrobust                                         \n",
      "========================================================================================\n",
      "                           coef    std err          t      P>|t|      [0.025      0.975]\n",
      "----------------------------------------------------------------------------------------\n",
      "const                   11.9137      7.259      1.641      0.101      -2.314      26.142\n",
      "id_pos                  -0.0013   2.35e-05    -56.422      0.000      -0.001      -0.001\n",
      "ingreso_mediana         -0.1574      0.278     -0.565      0.572      -0.703       0.388\n",
      "densidad_poblacional     0.0577      0.228      0.253      0.800      -0.389       0.505\n",
      "pct_5a9                 -0.4256      0.291     -1.461      0.144      -0.997       0.145\n",
      "pct_10a14                0.2411      0.312      0.774      0.439      -0.370       0.852\n",
      "pct_15a19                0.2667      0.224      1.193      0.233      -0.172       0.705\n",
      "pct_20a24               -0.3753      0.276     -1.360      0.174      -0.916       0.165\n",
      "pct_30a34                0.3633      0.254      1.433      0.152      -0.134       0.860\n",
      "pct_40a44               -0.2766      0.221     -1.253      0.210      -0.709       0.156\n",
      "pct_45a49                0.1978      0.255      0.776      0.438      -0.302       0.698\n",
      "pct_50a54               -0.2522      0.233     -1.081      0.280      -0.709       0.205\n",
      "pct_60a64                0.3292      0.280      1.178      0.239      -0.219       0.877\n",
      "pct_65a69               -0.4529      0.355     -1.277      0.202      -1.148       0.242\n",
      "pct_70a74                0.6015      0.370      1.625      0.104      -0.124       1.327\n",
      "pct_75a79                0.3684      0.383      0.963      0.336      -0.382       1.119\n",
      "pct_80a84               -0.7331      0.383     -1.914      0.056      -1.484       0.018\n",
      "pct_85ainf               0.2497      0.269      0.929      0.353      -0.277       0.777\n",
      "pct_master               0.4416      0.230      1.924      0.054      -0.008       0.891\n",
      "pct_subtes               0.1512      0.193      0.782      0.434      -0.228       0.530\n",
      "pct_caminata            -0.4408      0.178     -2.476      0.013      -0.790      -0.092\n",
      "mediana_valor_hogar     -0.3378      0.250     -1.349      0.177      -0.828       0.153\n",
      "ALMACEN                 20.6133      7.260      2.839      0.005       6.383      34.844\n",
      "MAXIKIOSCO               6.5239      7.403      0.881      0.378      -7.986      21.033\n",
      "==============================================================================\n",
      "Omnibus:                    12776.947   Durbin-Watson:                   2.302\n",
      "Prob(Omnibus):                  0.000   Jarque-Bera (JB):            73999.612\n",
      "Skew:                           2.051   Prob(JB):                         0.00\n",
      "Kurtosis:                       9.639   Cond. No.                     1.09e+06\n",
      "==============================================================================\n",
      "\n",
      "Warnings:\n",
      "[1] Standard Errors assume that the covariance matrix of the errors is correctly specified.\n",
      "[2] The condition number is large, 1.09e+06. This might indicate that there are\n",
      "strong multicollinearity or other numerical problems.\n"
     ]
    }
   ],
   "source": [
    "print(model.summary())"
   ]
  },
  {
   "cell_type": "markdown",
   "metadata": {},
   "source": [
    "#### Linear Regression"
   ]
  },
  {
   "cell_type": "raw",
   "metadata": {
    "collapsed": true
   },
   "source": [
    "X.drop('const', inplace=True, axis=1)"
   ]
  },
  {
   "cell_type": "code",
   "execution_count": 30,
   "metadata": {},
   "outputs": [],
   "source": [
    "y = pd.DataFrame(y, index=X.index)"
   ]
  },
  {
   "cell_type": "code",
   "execution_count": 31,
   "metadata": {},
   "outputs": [],
   "source": [
    "X_train, X_test, y_train, y_test = train_test_split(X[predictors], y, test_size=0.3, random_state=47)"
   ]
  },
  {
   "cell_type": "code",
   "execution_count": 32,
   "metadata": {},
   "outputs": [],
   "source": [
    "model = LinearRegression(n_jobs=4)\n",
    "maes = []\n",
    "kf = KFold(n_splits=3)\n",
    "for train_index, test_index in kf.split(X_train):\n",
    "    KX_train = X_train.iloc[train_index,:]\n",
    "    KX_test = X_train.iloc[test_index,:]\n",
    "    Ky_train = y_train.iloc[train_index,:]\n",
    "    Ky_test =  y_train.iloc[test_index,:]\n",
    "    #print(KX_train.isnull().any())\n",
    "    #print(Ky_train)\n",
    "    model.fit(KX_train, Ky_train)\n",
    "    y_pred = model.predict(KX_test)\n",
    "    maes.append(mean_absolute_error(Ky_test, y_pred))\n",
    "    \n",
    "    \n",
    "    \n",
    "    "
   ]
  },
  {
   "cell_type": "code",
   "execution_count": 33,
   "metadata": {},
   "outputs": [
    {
     "data": {
      "text/plain": [
       "[15.5011443442705, 16.000053055593714, 15.605580167119715]"
      ]
     },
     "execution_count": 33,
     "metadata": {},
     "output_type": "execute_result"
    }
   ],
   "source": [
    "maes"
   ]
  },
  {
   "cell_type": "code",
   "execution_count": 34,
   "metadata": {},
   "outputs": [
    {
     "name": "stdout",
     "output_type": "stream",
     "text": [
      "Mean of MAEs: 15.702259188994644\n"
     ]
    }
   ],
   "source": [
    "print(\"Mean of MAEs:\",np.mean(maes))"
   ]
  },
  {
   "cell_type": "code",
   "execution_count": 35,
   "metadata": {},
   "outputs": [
    {
     "name": "stdout",
     "output_type": "stream",
     "text": [
      "SDV of MAEs: 0.21484506124424807\n"
     ]
    }
   ],
   "source": [
    "print(\"SDV of MAEs:\", np.std(maes))"
   ]
  }
 ],
 "metadata": {
  "kernelspec": {
   "display_name": "Python 3",
   "language": "python",
   "name": "python3"
  },
  "language_info": {
   "codemirror_mode": {
    "name": "ipython",
    "version": 3
   },
   "file_extension": ".py",
   "mimetype": "text/x-python",
   "name": "python",
   "nbconvert_exporter": "python",
   "pygments_lexer": "ipython3",
   "version": "3.7.3"
  }
 },
 "nbformat": 4,
 "nbformat_minor": 2
}
