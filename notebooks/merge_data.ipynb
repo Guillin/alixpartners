{
 "cells": [
  {
   "cell_type": "code",
   "execution_count": 1,
   "metadata": {},
   "outputs": [],
   "source": [
    "import pandas as pd"
   ]
  },
  {
   "cell_type": "code",
   "execution_count": 2,
   "metadata": {},
   "outputs": [],
   "source": [
    "from datetime import date"
   ]
  },
  {
   "cell_type": "code",
   "execution_count": 3,
   "metadata": {},
   "outputs": [],
   "source": [
    "import numpy as np"
   ]
  },
  {
   "cell_type": "code",
   "execution_count": 4,
   "metadata": {},
   "outputs": [],
   "source": [
    "train = pd.read_csv('../data/processed/train_aggr.csv', sep=';')"
   ]
  },
  {
   "cell_type": "code",
   "execution_count": 5,
   "metadata": {},
   "outputs": [
    {
     "data": {
      "text/plain": [
       "(34540, 42)"
      ]
     },
     "execution_count": 5,
     "metadata": {},
     "output_type": "execute_result"
    }
   ],
   "source": [
    "train.shape"
   ]
  },
  {
   "cell_type": "code",
   "execution_count": 6,
   "metadata": {},
   "outputs": [],
   "source": [
    "envios = pd.read_csv('../data/processed/envios_pivoted.csv', sep=';')"
   ]
  },
  {
   "cell_type": "code",
   "execution_count": 7,
   "metadata": {},
   "outputs": [],
   "source": [
    "envios.index = envios.id_pos.values\n"
   ]
  },
  {
   "cell_type": "code",
   "execution_count": 8,
   "metadata": {},
   "outputs": [
    {
     "data": {
      "text/plain": [
       "Index(['id_pos', 'unidades_despachadas_sum201210',\n",
       "       'unidades_despachadas_sum20139', 'unidades_despachadas_sum201310',\n",
       "       'unidades_despachadas_sum20149', 'unidades_despachadas_sum201410',\n",
       "       'unidades_despachadas_max201210', 'unidades_despachadas_max20139',\n",
       "       'unidades_despachadas_max201310', 'unidades_despachadas_max20149',\n",
       "       'unidades_despachadas_max201410', 'unidades_despachadas_min201210',\n",
       "       'unidades_despachadas_min20139', 'unidades_despachadas_min201310',\n",
       "       'unidades_despachadas_min20149', 'unidades_despachadas_min201410',\n",
       "       'unidades_despachadas_avg201210', 'unidades_despachadas_avg20139',\n",
       "       'unidades_despachadas_avg201310', 'unidades_despachadas_avg20149',\n",
       "       'unidades_despachadas_avg201410', 'num_unidades_despachadas201210',\n",
       "       'num_unidades_despachadas20139', 'num_unidades_despachadas201310',\n",
       "       'num_unidades_despachadas20149', 'num_unidades_despachadas201410',\n",
       "       'cantidad_envios_sum201210', 'cantidad_envios_sum20139',\n",
       "       'cantidad_envios_sum201310', 'cantidad_envios_sum20149',\n",
       "       'cantidad_envios_sum201410', 'cantidad_envios_max201210',\n",
       "       'cantidad_envios_max20139', 'cantidad_envios_max201310',\n",
       "       'cantidad_envios_max20149', 'cantidad_envios_max201410',\n",
       "       'cantidad_envios_min201210', 'cantidad_envios_min20139',\n",
       "       'cantidad_envios_min201310', 'cantidad_envios_min20149',\n",
       "       'cantidad_envios_min201410', 'cantidad_envios_avg201210',\n",
       "       'cantidad_envios_avg20139', 'cantidad_envios_avg201310',\n",
       "       'cantidad_envios_avg20149', 'cantidad_envios_avg201410',\n",
       "       'num_cantidad_envios201210', 'num_cantidad_envios20139',\n",
       "       'num_cantidad_envios201310', 'num_cantidad_envios20149',\n",
       "       'num_cantidad_envios201410', 'fecha_envio_max201210',\n",
       "       'fecha_envio_max20139', 'fecha_envio_max201310', 'fecha_envio_max20149',\n",
       "       'fecha_envio_max201410', 'fecha_envio_min201210',\n",
       "       'fecha_envio_min20139', 'fecha_envio_min201310', 'fecha_envio_min20149',\n",
       "       'fecha_envio_min201410'],\n",
       "      dtype='object')"
      ]
     },
     "execution_count": 8,
     "metadata": {},
     "output_type": "execute_result"
    }
   ],
   "source": [
    "envios.columns"
   ]
  },
  {
   "cell_type": "code",
   "execution_count": 9,
   "metadata": {},
   "outputs": [],
   "source": [
    "selected_vars = ['id_pos', 'unidades_despachadas_sum201210', 'unidades_despachadas_sum20139', 'unidades_despachadas_sum201310',\n",
    "       'unidades_despachadas_sum20149', 'unidades_despachadas_sum201410',\n",
    "    \n",
    "    'unidades_despachadas_avg201210', 'unidades_despachadas_avg20139',\n",
    "       'unidades_despachadas_avg201310', 'unidades_despachadas_avg20149',\n",
    "       'unidades_despachadas_avg201410',\n",
    "\n",
    "'cantidad_envios_sum201210', 'cantidad_envios_sum20139',\n",
    "       'cantidad_envios_sum201310', 'cantidad_envios_sum20149',\n",
    "       'cantidad_envios_sum201410',\n",
    "\n",
    "'cantidad_envios_avg201210',\n",
    "       'cantidad_envios_avg20139', 'cantidad_envios_avg201310',\n",
    "       'cantidad_envios_avg20149', 'cantidad_envios_avg201410',\n",
    "\n",
    "'fecha_envio_max201210',\n",
    "       'fecha_envio_max20139', 'fecha_envio_max201310', 'fecha_envio_max20149',\n",
    "       'fecha_envio_max201410', 'fecha_envio_min201210',\n",
    "       'fecha_envio_min20139', 'fecha_envio_min201310', 'fecha_envio_min20149',\n",
    "       'fecha_envio_min201410']"
   ]
  },
  {
   "cell_type": "code",
   "execution_count": 10,
   "metadata": {},
   "outputs": [],
   "source": [
    "train = pd.merge(train, envios[selected_vars], how='inner', on='id_pos')"
   ]
  },
  {
   "cell_type": "markdown",
   "metadata": {},
   "source": [
    "#### 2013-9"
   ]
  },
  {
   "cell_type": "code",
   "execution_count": 11,
   "metadata": {},
   "outputs": [],
   "source": [
    "train['fecha_venta_norm'] = pd.to_datetime(train['fecha_venta_norm'])"
   ]
  },
  {
   "cell_type": "code",
   "execution_count": 12,
   "metadata": {},
   "outputs": [],
   "source": [
    "train['unidades_despachadas_sum20139'] = np.where(train['fecha_venta_norm'].dt.date < date(2013,9,1), np.nan, train['unidades_despachadas_sum20139'])"
   ]
  },
  {
   "cell_type": "code",
   "execution_count": 13,
   "metadata": {},
   "outputs": [],
   "source": [
    "train['unidades_despachadas_avg20139'] = np.where(train['fecha_venta_norm'].dt.date < date(2013,9,1), np.nan, train['unidades_despachadas_avg20139'])"
   ]
  },
  {
   "cell_type": "code",
   "execution_count": 14,
   "metadata": {},
   "outputs": [],
   "source": [
    "train['cantidad_envios_sum20139'] = np.where(train['fecha_venta_norm'].dt.date < date(2013,9,1), np.nan, train['cantidad_envios_sum20139'])"
   ]
  },
  {
   "cell_type": "code",
   "execution_count": 15,
   "metadata": {},
   "outputs": [],
   "source": [
    "train['cantidad_envios_avg20139'] = np.where(train['fecha_venta_norm'].dt.date < date(2013,9,1), np.nan, train['cantidad_envios_avg20139'])"
   ]
  },
  {
   "cell_type": "code",
   "execution_count": 16,
   "metadata": {},
   "outputs": [],
   "source": [
    "train['fecha_envio_max20139'] = np.where(train['fecha_venta_norm'].dt.date < date(2013,9,1), np.nan, train['fecha_envio_max20139'])"
   ]
  },
  {
   "cell_type": "code",
   "execution_count": 17,
   "metadata": {},
   "outputs": [],
   "source": [
    "train['fecha_envio_min20139'] = np.where(train['fecha_venta_norm'].dt.date < date(2013,9,1), np.nan, train['fecha_envio_min20139'])"
   ]
  },
  {
   "cell_type": "markdown",
   "metadata": {},
   "source": [
    "#### 2013-10\n"
   ]
  },
  {
   "cell_type": "code",
   "execution_count": 18,
   "metadata": {},
   "outputs": [],
   "source": [
    "train['unidades_despachadas_sum201310'] = np.where(train['fecha_venta_norm'].dt.date < date(2013,10,1), np.nan, train['unidades_despachadas_sum201310'])"
   ]
  },
  {
   "cell_type": "code",
   "execution_count": 19,
   "metadata": {},
   "outputs": [],
   "source": [
    "train['unidades_despachadas_avg201310'] = np.where(train['fecha_venta_norm'].dt.date < date(2013,10,1), np.nan, train['unidades_despachadas_avg201310'])"
   ]
  },
  {
   "cell_type": "code",
   "execution_count": 20,
   "metadata": {},
   "outputs": [],
   "source": [
    "train['cantidad_envios_sum201310'] = np.where(train['fecha_venta_norm'].dt.date < date(2013,10,1), np.nan, train['cantidad_envios_sum201310'])"
   ]
  },
  {
   "cell_type": "code",
   "execution_count": 21,
   "metadata": {},
   "outputs": [],
   "source": [
    "train['cantidad_envios_avg201310'] = np.where(train['fecha_venta_norm'].dt.date < date(2013,10,1), np.nan, train['cantidad_envios_avg201310'])"
   ]
  },
  {
   "cell_type": "code",
   "execution_count": 22,
   "metadata": {},
   "outputs": [],
   "source": [
    "train['fecha_envio_max201310'] = np.where(train['fecha_venta_norm'].dt.date < date(2013,10,1), np.nan, train['fecha_envio_max201310'])"
   ]
  },
  {
   "cell_type": "code",
   "execution_count": 23,
   "metadata": {},
   "outputs": [],
   "source": [
    "train['fecha_envio_min201310'] = np.where(train['fecha_venta_norm'].dt.date < date(2013,10,1), np.nan, train['fecha_envio_min201310'])"
   ]
  },
  {
   "cell_type": "markdown",
   "metadata": {},
   "source": [
    "#### 2014-9\n"
   ]
  },
  {
   "cell_type": "code",
   "execution_count": 24,
   "metadata": {},
   "outputs": [],
   "source": [
    "train['unidades_despachadas_sum20149'] = np.where(train['fecha_venta_norm'].dt.date < date(2014,9,1), np.nan, train['unidades_despachadas_sum20149'])"
   ]
  },
  {
   "cell_type": "code",
   "execution_count": 25,
   "metadata": {},
   "outputs": [],
   "source": [
    "train['unidades_despachadas_avg20149'] = np.where(train['fecha_venta_norm'].dt.date < date(2014,9,1), np.nan, train['unidades_despachadas_avg20149'])"
   ]
  },
  {
   "cell_type": "code",
   "execution_count": 26,
   "metadata": {},
   "outputs": [],
   "source": [
    "train['cantidad_envios_sum20149'] = np.where(train['fecha_venta_norm'].dt.date < date(2014,9,1), np.nan, train['cantidad_envios_sum20149'])"
   ]
  },
  {
   "cell_type": "code",
   "execution_count": 27,
   "metadata": {},
   "outputs": [],
   "source": [
    "train['cantidad_envios_avg20149'] = np.where(train['fecha_venta_norm'].dt.date < date(2014,9,1), np.nan, train['cantidad_envios_avg20149'])"
   ]
  },
  {
   "cell_type": "code",
   "execution_count": 28,
   "metadata": {},
   "outputs": [],
   "source": [
    "train['fecha_envio_max20149'] = np.where(train['fecha_venta_norm'].dt.date < date(2014,9,1), np.nan, train['fecha_envio_max20149'])"
   ]
  },
  {
   "cell_type": "code",
   "execution_count": 29,
   "metadata": {},
   "outputs": [],
   "source": [
    "train['fecha_envio_min20149'] = np.where(train['fecha_venta_norm'].dt.date < date(2014,9,1), np.nan, train['fecha_envio_min20149'])"
   ]
  },
  {
   "cell_type": "markdown",
   "metadata": {},
   "source": [
    "#### 2014-10\n"
   ]
  },
  {
   "cell_type": "code",
   "execution_count": 30,
   "metadata": {},
   "outputs": [],
   "source": [
    "train['unidades_despachadas_sum201410'] = np.where(train['fecha_venta_norm'].dt.date < date(2014,10,1), np.nan, train['unidades_despachadas_sum201410'])"
   ]
  },
  {
   "cell_type": "code",
   "execution_count": 31,
   "metadata": {},
   "outputs": [],
   "source": [
    "train['unidades_despachadas_avg201410'] = np.where(train['fecha_venta_norm'].dt.date < date(2014,10,1), np.nan, train['unidades_despachadas_avg201410'])"
   ]
  },
  {
   "cell_type": "code",
   "execution_count": 32,
   "metadata": {},
   "outputs": [],
   "source": [
    "train['cantidad_envios_sum201410'] = np.where(train['fecha_venta_norm'].dt.date < date(2014,10,1), np.nan, train['cantidad_envios_sum201410'])"
   ]
  },
  {
   "cell_type": "code",
   "execution_count": 33,
   "metadata": {},
   "outputs": [],
   "source": [
    "train['cantidad_envios_avg201410'] = np.where(train['fecha_venta_norm'].dt.date < date(2014,10,1), np.nan, train['cantidad_envios_avg201410'])"
   ]
  },
  {
   "cell_type": "code",
   "execution_count": 34,
   "metadata": {},
   "outputs": [],
   "source": [
    "train['fecha_envio_max201410'] = np.where(train['fecha_venta_norm'].dt.date < date(2014,10,1), np.nan, train['fecha_envio_max201410'])"
   ]
  },
  {
   "cell_type": "code",
   "execution_count": 35,
   "metadata": {},
   "outputs": [],
   "source": [
    "train['fecha_envio_min201410'] = np.where(train['fecha_venta_norm'].dt.date < date(2014,10,1), np.nan, train['fecha_envio_min201410'])"
   ]
  },
  {
   "cell_type": "code",
   "execution_count": 38,
   "metadata": {},
   "outputs": [],
   "source": [
    "train.to_csv('../data/processed/train_agg_x_envios.csv', index=False, sep=';')"
   ]
  }
 ],
 "metadata": {
  "kernelspec": {
   "display_name": "Python 3",
   "language": "python",
   "name": "python3"
  },
  "language_info": {
   "codemirror_mode": {
    "name": "ipython",
    "version": 3
   },
   "file_extension": ".py",
   "mimetype": "text/x-python",
   "name": "python",
   "nbconvert_exporter": "python",
   "pygments_lexer": "ipython3",
   "version": "3.7.3"
  }
 },
 "nbformat": 4,
 "nbformat_minor": 2
}
