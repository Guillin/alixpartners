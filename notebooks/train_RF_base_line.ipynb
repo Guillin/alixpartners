{
 "cells": [
  {
   "cell_type": "code",
   "execution_count": 1,
   "metadata": {},
   "outputs": [],
   "source": [
    "import pandas as pd\n",
    "import seaborn as sns\n",
    "from sklearn.ensemble import RandomForestRegressor\n",
    "from sklearn import metrics\n",
    "from sklearn.model_selection import train_test_split\n",
    "import numpy as np\n",
    "from datetime import date"
   ]
  },
  {
   "cell_type": "code",
   "execution_count": 2,
   "metadata": {},
   "outputs": [],
   "source": [
    "from sklearn.metrics import mean_absolute_error"
   ]
  },
  {
   "cell_type": "code",
   "execution_count": 3,
   "metadata": {},
   "outputs": [],
   "source": [
    "from sklearn.metrics import mean_squared_error"
   ]
  },
  {
   "cell_type": "code",
   "execution_count": 4,
   "metadata": {},
   "outputs": [],
   "source": [
    "import matplotlib.pyplot as plt"
   ]
  },
  {
   "cell_type": "code",
   "execution_count": 5,
   "metadata": {},
   "outputs": [],
   "source": [
    "# Load Train Data\n",
    "rawdata = pd.read_csv('../data/raw/train_aggr.csv',sep=';')"
   ]
  },
  {
   "cell_type": "code",
   "execution_count": 6,
   "metadata": {},
   "outputs": [
    {
     "data": {
      "text/html": [
       "<div>\n",
       "<style scoped>\n",
       "    .dataframe tbody tr th:only-of-type {\n",
       "        vertical-align: middle;\n",
       "    }\n",
       "\n",
       "    .dataframe tbody tr th {\n",
       "        vertical-align: top;\n",
       "    }\n",
       "\n",
       "    .dataframe thead th {\n",
       "        text-align: right;\n",
       "    }\n",
       "</style>\n",
       "<table border=\"1\" class=\"dataframe\">\n",
       "  <thead>\n",
       "    <tr style=\"text-align: right;\">\n",
       "      <th></th>\n",
       "      <th>id_pos</th>\n",
       "      <th>fecha_venta_norm</th>\n",
       "      <th>canal</th>\n",
       "      <th>unidades</th>\n",
       "      <th>competidores</th>\n",
       "      <th>ingreso_mediana</th>\n",
       "      <th>ingreso_promedio</th>\n",
       "      <th>densidad_poblacional</th>\n",
       "      <th>pct_0a5</th>\n",
       "      <th>pct_5a9</th>\n",
       "      <th>...</th>\n",
       "      <th>pct_bachelors</th>\n",
       "      <th>pct_doctorados</th>\n",
       "      <th>pct_secundario</th>\n",
       "      <th>pct_master</th>\n",
       "      <th>pct_bicicleta</th>\n",
       "      <th>pct_omnibus</th>\n",
       "      <th>pct_subtes</th>\n",
       "      <th>pct_taxi</th>\n",
       "      <th>pct_caminata</th>\n",
       "      <th>mediana_valor_hogar</th>\n",
       "    </tr>\n",
       "  </thead>\n",
       "  <tbody>\n",
       "    <tr>\n",
       "      <th>0</th>\n",
       "      <td>3142</td>\n",
       "      <td>2012-12-01</td>\n",
       "      <td>ALMACEN</td>\n",
       "      <td>12</td>\n",
       "      <td>12.0</td>\n",
       "      <td>50395.31667</td>\n",
       "      <td>68263.48667</td>\n",
       "      <td>17239.673330</td>\n",
       "      <td>6.796667</td>\n",
       "      <td>6.110000</td>\n",
       "      <td>...</td>\n",
       "      <td>17.613333</td>\n",
       "      <td>1.333333</td>\n",
       "      <td>27.63</td>\n",
       "      <td>7.396667</td>\n",
       "      <td>0.260000</td>\n",
       "      <td>6.733333</td>\n",
       "      <td>0.72</td>\n",
       "      <td>0.210</td>\n",
       "      <td>3.793333</td>\n",
       "      <td>252050.3467</td>\n",
       "    </tr>\n",
       "    <tr>\n",
       "      <th>1</th>\n",
       "      <td>3142</td>\n",
       "      <td>2013-12-01</td>\n",
       "      <td>ALMACEN</td>\n",
       "      <td>7</td>\n",
       "      <td>12.0</td>\n",
       "      <td>50395.31667</td>\n",
       "      <td>68263.48667</td>\n",
       "      <td>17239.673330</td>\n",
       "      <td>6.796667</td>\n",
       "      <td>6.110000</td>\n",
       "      <td>...</td>\n",
       "      <td>17.613333</td>\n",
       "      <td>1.333333</td>\n",
       "      <td>27.63</td>\n",
       "      <td>7.396667</td>\n",
       "      <td>0.260000</td>\n",
       "      <td>6.733333</td>\n",
       "      <td>0.72</td>\n",
       "      <td>0.210</td>\n",
       "      <td>3.793333</td>\n",
       "      <td>252050.3467</td>\n",
       "    </tr>\n",
       "    <tr>\n",
       "      <th>2</th>\n",
       "      <td>3143</td>\n",
       "      <td>2013-11-01</td>\n",
       "      <td>ALMACEN</td>\n",
       "      <td>2</td>\n",
       "      <td>33.0</td>\n",
       "      <td>55256.52333</td>\n",
       "      <td>70989.74667</td>\n",
       "      <td>67764.126670</td>\n",
       "      <td>6.316667</td>\n",
       "      <td>5.903333</td>\n",
       "      <td>...</td>\n",
       "      <td>15.970000</td>\n",
       "      <td>0.936667</td>\n",
       "      <td>29.50</td>\n",
       "      <td>7.560000</td>\n",
       "      <td>0.366667</td>\n",
       "      <td>8.410000</td>\n",
       "      <td>22.81</td>\n",
       "      <td>0.240</td>\n",
       "      <td>3.006667</td>\n",
       "      <td>391646.2067</td>\n",
       "    </tr>\n",
       "    <tr>\n",
       "      <th>3</th>\n",
       "      <td>3143</td>\n",
       "      <td>2013-12-01</td>\n",
       "      <td>ALMACEN</td>\n",
       "      <td>47</td>\n",
       "      <td>33.0</td>\n",
       "      <td>55256.52333</td>\n",
       "      <td>70989.74667</td>\n",
       "      <td>67764.126670</td>\n",
       "      <td>6.316667</td>\n",
       "      <td>5.903333</td>\n",
       "      <td>...</td>\n",
       "      <td>15.970000</td>\n",
       "      <td>0.936667</td>\n",
       "      <td>29.50</td>\n",
       "      <td>7.560000</td>\n",
       "      <td>0.366667</td>\n",
       "      <td>8.410000</td>\n",
       "      <td>22.81</td>\n",
       "      <td>0.240</td>\n",
       "      <td>3.006667</td>\n",
       "      <td>391646.2067</td>\n",
       "    </tr>\n",
       "    <tr>\n",
       "      <th>4</th>\n",
       "      <td>3144</td>\n",
       "      <td>2012-11-01</td>\n",
       "      <td>ALMACEN</td>\n",
       "      <td>6</td>\n",
       "      <td>38.0</td>\n",
       "      <td>43437.32000</td>\n",
       "      <td>58236.36500</td>\n",
       "      <td>8799.223333</td>\n",
       "      <td>7.270000</td>\n",
       "      <td>7.240000</td>\n",
       "      <td>...</td>\n",
       "      <td>15.360000</td>\n",
       "      <td>1.841667</td>\n",
       "      <td>28.13</td>\n",
       "      <td>6.546667</td>\n",
       "      <td>0.183333</td>\n",
       "      <td>1.466667</td>\n",
       "      <td>0.00</td>\n",
       "      <td>0.025</td>\n",
       "      <td>1.518333</td>\n",
       "      <td>137570.5233</td>\n",
       "    </tr>\n",
       "  </tbody>\n",
       "</table>\n",
       "<p>5 rows × 36 columns</p>\n",
       "</div>"
      ],
      "text/plain": [
       "   id_pos fecha_venta_norm    canal  unidades  competidores  ingreso_mediana  \\\n",
       "0    3142       2012-12-01  ALMACEN        12          12.0      50395.31667   \n",
       "1    3142       2013-12-01  ALMACEN         7          12.0      50395.31667   \n",
       "2    3143       2013-11-01  ALMACEN         2          33.0      55256.52333   \n",
       "3    3143       2013-12-01  ALMACEN        47          33.0      55256.52333   \n",
       "4    3144       2012-11-01  ALMACEN         6          38.0      43437.32000   \n",
       "\n",
       "   ingreso_promedio  densidad_poblacional   pct_0a5   pct_5a9  ...  \\\n",
       "0       68263.48667          17239.673330  6.796667  6.110000  ...   \n",
       "1       68263.48667          17239.673330  6.796667  6.110000  ...   \n",
       "2       70989.74667          67764.126670  6.316667  5.903333  ...   \n",
       "3       70989.74667          67764.126670  6.316667  5.903333  ...   \n",
       "4       58236.36500           8799.223333  7.270000  7.240000  ...   \n",
       "\n",
       "   pct_bachelors  pct_doctorados  pct_secundario  pct_master  pct_bicicleta  \\\n",
       "0      17.613333        1.333333           27.63    7.396667       0.260000   \n",
       "1      17.613333        1.333333           27.63    7.396667       0.260000   \n",
       "2      15.970000        0.936667           29.50    7.560000       0.366667   \n",
       "3      15.970000        0.936667           29.50    7.560000       0.366667   \n",
       "4      15.360000        1.841667           28.13    6.546667       0.183333   \n",
       "\n",
       "   pct_omnibus  pct_subtes  pct_taxi  pct_caminata  mediana_valor_hogar  \n",
       "0     6.733333        0.72     0.210      3.793333          252050.3467  \n",
       "1     6.733333        0.72     0.210      3.793333          252050.3467  \n",
       "2     8.410000       22.81     0.240      3.006667          391646.2067  \n",
       "3     8.410000       22.81     0.240      3.006667          391646.2067  \n",
       "4     1.466667        0.00     0.025      1.518333          137570.5233  \n",
       "\n",
       "[5 rows x 36 columns]"
      ]
     },
     "execution_count": 6,
     "metadata": {},
     "output_type": "execute_result"
    }
   ],
   "source": [
    "rawdata.head()"
   ]
  },
  {
   "cell_type": "code",
   "execution_count": 7,
   "metadata": {},
   "outputs": [
    {
     "data": {
      "text/plain": [
       "(34540, 36)"
      ]
     },
     "execution_count": 7,
     "metadata": {},
     "output_type": "execute_result"
    }
   ],
   "source": [
    "rawdata.shape"
   ]
  },
  {
   "cell_type": "code",
   "execution_count": 8,
   "metadata": {},
   "outputs": [],
   "source": [
    "rawdata['fecha_venta_norm'] = pd.to_datetime(rawdata['fecha_venta_norm'])"
   ]
  },
  {
   "cell_type": "code",
   "execution_count": 9,
   "metadata": {},
   "outputs": [],
   "source": [
    "rawdata['fecha_venta_norm'] = rawdata['fecha_venta_norm'].dt.date"
   ]
  },
  {
   "cell_type": "code",
   "execution_count": 10,
   "metadata": {},
   "outputs": [],
   "source": [
    "rawdata['year'] = pd.to_datetime(rawdata.fecha_venta_norm).dt.year\n",
    "rawdata['month'] = pd.to_datetime(rawdata.fecha_venta_norm).dt.month"
   ]
  },
  {
   "cell_type": "raw",
   "metadata": {},
   "source": [
    "rawdata.fecha_venta_norm.unique()"
   ]
  },
  {
   "cell_type": "code",
   "execution_count": 11,
   "metadata": {},
   "outputs": [],
   "source": [
    "# Filtramos los meses que consideramos buenos para el entrenamiento (11 y 12)\n",
    "rawdata = rawdata[rawdata.fecha_venta_norm.isin([date(2012, 11, 1),\n",
    "                                                 date(2012, 12, 1),\n",
    "                                                 date(2013, 11, 1), \n",
    "                                                 date(2013, 12, 1), \n",
    "                                                 date(2014, 11, 1)])]"
   ]
  },
  {
   "cell_type": "code",
   "execution_count": 12,
   "metadata": {},
   "outputs": [
    {
     "data": {
      "text/plain": [
       "(33960, 38)"
      ]
     },
     "execution_count": 12,
     "metadata": {},
     "output_type": "execute_result"
    }
   ],
   "source": [
    "rawdata.shape"
   ]
  },
  {
   "cell_type": "raw",
   "metadata": {},
   "source": [
    "rawdata.sort_values(['id_pos','fecha_venta_norm'], ascending=True, inplace=True)"
   ]
  },
  {
   "cell_type": "raw",
   "metadata": {},
   "source": [
    "rawdata['unidades_target'] = rawdata.groupby(['id_pos'])['unidades'].shift(-1)"
   ]
  },
  {
   "cell_type": "code",
   "execution_count": 10,
   "metadata": {},
   "outputs": [
    {
     "data": {
      "text/html": [
       "<div>\n",
       "<style scoped>\n",
       "    .dataframe tbody tr th:only-of-type {\n",
       "        vertical-align: middle;\n",
       "    }\n",
       "\n",
       "    .dataframe tbody tr th {\n",
       "        vertical-align: top;\n",
       "    }\n",
       "\n",
       "    .dataframe thead th {\n",
       "        text-align: right;\n",
       "    }\n",
       "</style>\n",
       "<table border=\"1\" class=\"dataframe\">\n",
       "  <thead>\n",
       "    <tr style=\"text-align: right;\">\n",
       "      <th></th>\n",
       "      <th>id_pos</th>\n",
       "      <th>fecha_venta_norm</th>\n",
       "      <th>canal</th>\n",
       "      <th>unidades</th>\n",
       "      <th>competidores</th>\n",
       "      <th>ingreso_mediana</th>\n",
       "      <th>ingreso_promedio</th>\n",
       "      <th>densidad_poblacional</th>\n",
       "      <th>pct_0a5</th>\n",
       "      <th>pct_5a9</th>\n",
       "      <th>...</th>\n",
       "      <th>pct_bachelors</th>\n",
       "      <th>pct_doctorados</th>\n",
       "      <th>pct_secundario</th>\n",
       "      <th>pct_master</th>\n",
       "      <th>pct_bicicleta</th>\n",
       "      <th>pct_omnibus</th>\n",
       "      <th>pct_subtes</th>\n",
       "      <th>pct_taxi</th>\n",
       "      <th>pct_caminata</th>\n",
       "      <th>mediana_valor_hogar</th>\n",
       "    </tr>\n",
       "  </thead>\n",
       "  <tbody>\n",
       "    <tr>\n",
       "      <th>0</th>\n",
       "      <td>3142</td>\n",
       "      <td>2012-12-01</td>\n",
       "      <td>ALMACEN</td>\n",
       "      <td>12</td>\n",
       "      <td>12.0</td>\n",
       "      <td>50395.31667</td>\n",
       "      <td>68263.48667</td>\n",
       "      <td>17239.673330</td>\n",
       "      <td>6.796667</td>\n",
       "      <td>6.110000</td>\n",
       "      <td>...</td>\n",
       "      <td>17.613333</td>\n",
       "      <td>1.333333</td>\n",
       "      <td>27.63</td>\n",
       "      <td>7.396667</td>\n",
       "      <td>0.260000</td>\n",
       "      <td>6.733333</td>\n",
       "      <td>0.72</td>\n",
       "      <td>0.210</td>\n",
       "      <td>3.793333</td>\n",
       "      <td>252050.3467</td>\n",
       "    </tr>\n",
       "    <tr>\n",
       "      <th>1</th>\n",
       "      <td>3142</td>\n",
       "      <td>2013-12-01</td>\n",
       "      <td>ALMACEN</td>\n",
       "      <td>7</td>\n",
       "      <td>12.0</td>\n",
       "      <td>50395.31667</td>\n",
       "      <td>68263.48667</td>\n",
       "      <td>17239.673330</td>\n",
       "      <td>6.796667</td>\n",
       "      <td>6.110000</td>\n",
       "      <td>...</td>\n",
       "      <td>17.613333</td>\n",
       "      <td>1.333333</td>\n",
       "      <td>27.63</td>\n",
       "      <td>7.396667</td>\n",
       "      <td>0.260000</td>\n",
       "      <td>6.733333</td>\n",
       "      <td>0.72</td>\n",
       "      <td>0.210</td>\n",
       "      <td>3.793333</td>\n",
       "      <td>252050.3467</td>\n",
       "    </tr>\n",
       "    <tr>\n",
       "      <th>2</th>\n",
       "      <td>3143</td>\n",
       "      <td>2013-11-01</td>\n",
       "      <td>ALMACEN</td>\n",
       "      <td>2</td>\n",
       "      <td>33.0</td>\n",
       "      <td>55256.52333</td>\n",
       "      <td>70989.74667</td>\n",
       "      <td>67764.126670</td>\n",
       "      <td>6.316667</td>\n",
       "      <td>5.903333</td>\n",
       "      <td>...</td>\n",
       "      <td>15.970000</td>\n",
       "      <td>0.936667</td>\n",
       "      <td>29.50</td>\n",
       "      <td>7.560000</td>\n",
       "      <td>0.366667</td>\n",
       "      <td>8.410000</td>\n",
       "      <td>22.81</td>\n",
       "      <td>0.240</td>\n",
       "      <td>3.006667</td>\n",
       "      <td>391646.2067</td>\n",
       "    </tr>\n",
       "    <tr>\n",
       "      <th>3</th>\n",
       "      <td>3143</td>\n",
       "      <td>2013-12-01</td>\n",
       "      <td>ALMACEN</td>\n",
       "      <td>47</td>\n",
       "      <td>33.0</td>\n",
       "      <td>55256.52333</td>\n",
       "      <td>70989.74667</td>\n",
       "      <td>67764.126670</td>\n",
       "      <td>6.316667</td>\n",
       "      <td>5.903333</td>\n",
       "      <td>...</td>\n",
       "      <td>15.970000</td>\n",
       "      <td>0.936667</td>\n",
       "      <td>29.50</td>\n",
       "      <td>7.560000</td>\n",
       "      <td>0.366667</td>\n",
       "      <td>8.410000</td>\n",
       "      <td>22.81</td>\n",
       "      <td>0.240</td>\n",
       "      <td>3.006667</td>\n",
       "      <td>391646.2067</td>\n",
       "    </tr>\n",
       "    <tr>\n",
       "      <th>4</th>\n",
       "      <td>3144</td>\n",
       "      <td>2012-11-01</td>\n",
       "      <td>ALMACEN</td>\n",
       "      <td>6</td>\n",
       "      <td>38.0</td>\n",
       "      <td>43437.32000</td>\n",
       "      <td>58236.36500</td>\n",
       "      <td>8799.223333</td>\n",
       "      <td>7.270000</td>\n",
       "      <td>7.240000</td>\n",
       "      <td>...</td>\n",
       "      <td>15.360000</td>\n",
       "      <td>1.841667</td>\n",
       "      <td>28.13</td>\n",
       "      <td>6.546667</td>\n",
       "      <td>0.183333</td>\n",
       "      <td>1.466667</td>\n",
       "      <td>0.00</td>\n",
       "      <td>0.025</td>\n",
       "      <td>1.518333</td>\n",
       "      <td>137570.5233</td>\n",
       "    </tr>\n",
       "    <tr>\n",
       "      <th>5</th>\n",
       "      <td>3144</td>\n",
       "      <td>2012-12-01</td>\n",
       "      <td>ALMACEN</td>\n",
       "      <td>41</td>\n",
       "      <td>38.0</td>\n",
       "      <td>43437.32000</td>\n",
       "      <td>58236.36500</td>\n",
       "      <td>8799.223333</td>\n",
       "      <td>7.270000</td>\n",
       "      <td>7.240000</td>\n",
       "      <td>...</td>\n",
       "      <td>15.360000</td>\n",
       "      <td>1.841667</td>\n",
       "      <td>28.13</td>\n",
       "      <td>6.546667</td>\n",
       "      <td>0.183333</td>\n",
       "      <td>1.466667</td>\n",
       "      <td>0.00</td>\n",
       "      <td>0.025</td>\n",
       "      <td>1.518333</td>\n",
       "      <td>137570.5233</td>\n",
       "    </tr>\n",
       "    <tr>\n",
       "      <th>6</th>\n",
       "      <td>3144</td>\n",
       "      <td>2013-11-01</td>\n",
       "      <td>ALMACEN</td>\n",
       "      <td>4</td>\n",
       "      <td>38.0</td>\n",
       "      <td>43437.32000</td>\n",
       "      <td>58236.36500</td>\n",
       "      <td>8799.223333</td>\n",
       "      <td>7.270000</td>\n",
       "      <td>7.240000</td>\n",
       "      <td>...</td>\n",
       "      <td>15.360000</td>\n",
       "      <td>1.841667</td>\n",
       "      <td>28.13</td>\n",
       "      <td>6.546667</td>\n",
       "      <td>0.183333</td>\n",
       "      <td>1.466667</td>\n",
       "      <td>0.00</td>\n",
       "      <td>0.025</td>\n",
       "      <td>1.518333</td>\n",
       "      <td>137570.5233</td>\n",
       "    </tr>\n",
       "    <tr>\n",
       "      <th>7</th>\n",
       "      <td>3144</td>\n",
       "      <td>2013-12-01</td>\n",
       "      <td>ALMACEN</td>\n",
       "      <td>71</td>\n",
       "      <td>38.0</td>\n",
       "      <td>43437.32000</td>\n",
       "      <td>58236.36500</td>\n",
       "      <td>8799.223333</td>\n",
       "      <td>7.270000</td>\n",
       "      <td>7.240000</td>\n",
       "      <td>...</td>\n",
       "      <td>15.360000</td>\n",
       "      <td>1.841667</td>\n",
       "      <td>28.13</td>\n",
       "      <td>6.546667</td>\n",
       "      <td>0.183333</td>\n",
       "      <td>1.466667</td>\n",
       "      <td>0.00</td>\n",
       "      <td>0.025</td>\n",
       "      <td>1.518333</td>\n",
       "      <td>137570.5233</td>\n",
       "    </tr>\n",
       "    <tr>\n",
       "      <th>8</th>\n",
       "      <td>3146</td>\n",
       "      <td>2012-12-01</td>\n",
       "      <td>ALMACEN</td>\n",
       "      <td>7</td>\n",
       "      <td>5.0</td>\n",
       "      <td>24541.12000</td>\n",
       "      <td>38500.06000</td>\n",
       "      <td>9049.910000</td>\n",
       "      <td>5.310000</td>\n",
       "      <td>4.650000</td>\n",
       "      <td>...</td>\n",
       "      <td>11.740000</td>\n",
       "      <td>0.660000</td>\n",
       "      <td>31.23</td>\n",
       "      <td>3.880000</td>\n",
       "      <td>0.420000</td>\n",
       "      <td>0.410000</td>\n",
       "      <td>0.00</td>\n",
       "      <td>0.000</td>\n",
       "      <td>7.590000</td>\n",
       "      <td>112830.8300</td>\n",
       "    </tr>\n",
       "    <tr>\n",
       "      <th>9</th>\n",
       "      <td>3146</td>\n",
       "      <td>2013-12-01</td>\n",
       "      <td>ALMACEN</td>\n",
       "      <td>7</td>\n",
       "      <td>5.0</td>\n",
       "      <td>24541.12000</td>\n",
       "      <td>38500.06000</td>\n",
       "      <td>9049.910000</td>\n",
       "      <td>5.310000</td>\n",
       "      <td>4.650000</td>\n",
       "      <td>...</td>\n",
       "      <td>11.740000</td>\n",
       "      <td>0.660000</td>\n",
       "      <td>31.23</td>\n",
       "      <td>3.880000</td>\n",
       "      <td>0.420000</td>\n",
       "      <td>0.410000</td>\n",
       "      <td>0.00</td>\n",
       "      <td>0.000</td>\n",
       "      <td>7.590000</td>\n",
       "      <td>112830.8300</td>\n",
       "    </tr>\n",
       "  </tbody>\n",
       "</table>\n",
       "<p>10 rows × 36 columns</p>\n",
       "</div>"
      ],
      "text/plain": [
       "   id_pos fecha_venta_norm    canal  unidades  competidores  ingreso_mediana  \\\n",
       "0    3142       2012-12-01  ALMACEN        12          12.0      50395.31667   \n",
       "1    3142       2013-12-01  ALMACEN         7          12.0      50395.31667   \n",
       "2    3143       2013-11-01  ALMACEN         2          33.0      55256.52333   \n",
       "3    3143       2013-12-01  ALMACEN        47          33.0      55256.52333   \n",
       "4    3144       2012-11-01  ALMACEN         6          38.0      43437.32000   \n",
       "5    3144       2012-12-01  ALMACEN        41          38.0      43437.32000   \n",
       "6    3144       2013-11-01  ALMACEN         4          38.0      43437.32000   \n",
       "7    3144       2013-12-01  ALMACEN        71          38.0      43437.32000   \n",
       "8    3146       2012-12-01  ALMACEN         7           5.0      24541.12000   \n",
       "9    3146       2013-12-01  ALMACEN         7           5.0      24541.12000   \n",
       "\n",
       "   ingreso_promedio  densidad_poblacional   pct_0a5   pct_5a9  ...  \\\n",
       "0       68263.48667          17239.673330  6.796667  6.110000  ...   \n",
       "1       68263.48667          17239.673330  6.796667  6.110000  ...   \n",
       "2       70989.74667          67764.126670  6.316667  5.903333  ...   \n",
       "3       70989.74667          67764.126670  6.316667  5.903333  ...   \n",
       "4       58236.36500           8799.223333  7.270000  7.240000  ...   \n",
       "5       58236.36500           8799.223333  7.270000  7.240000  ...   \n",
       "6       58236.36500           8799.223333  7.270000  7.240000  ...   \n",
       "7       58236.36500           8799.223333  7.270000  7.240000  ...   \n",
       "8       38500.06000           9049.910000  5.310000  4.650000  ...   \n",
       "9       38500.06000           9049.910000  5.310000  4.650000  ...   \n",
       "\n",
       "   pct_bachelors  pct_doctorados  pct_secundario  pct_master  pct_bicicleta  \\\n",
       "0      17.613333        1.333333           27.63    7.396667       0.260000   \n",
       "1      17.613333        1.333333           27.63    7.396667       0.260000   \n",
       "2      15.970000        0.936667           29.50    7.560000       0.366667   \n",
       "3      15.970000        0.936667           29.50    7.560000       0.366667   \n",
       "4      15.360000        1.841667           28.13    6.546667       0.183333   \n",
       "5      15.360000        1.841667           28.13    6.546667       0.183333   \n",
       "6      15.360000        1.841667           28.13    6.546667       0.183333   \n",
       "7      15.360000        1.841667           28.13    6.546667       0.183333   \n",
       "8      11.740000        0.660000           31.23    3.880000       0.420000   \n",
       "9      11.740000        0.660000           31.23    3.880000       0.420000   \n",
       "\n",
       "   pct_omnibus  pct_subtes  pct_taxi  pct_caminata  mediana_valor_hogar  \n",
       "0     6.733333        0.72     0.210      3.793333          252050.3467  \n",
       "1     6.733333        0.72     0.210      3.793333          252050.3467  \n",
       "2     8.410000       22.81     0.240      3.006667          391646.2067  \n",
       "3     8.410000       22.81     0.240      3.006667          391646.2067  \n",
       "4     1.466667        0.00     0.025      1.518333          137570.5233  \n",
       "5     1.466667        0.00     0.025      1.518333          137570.5233  \n",
       "6     1.466667        0.00     0.025      1.518333          137570.5233  \n",
       "7     1.466667        0.00     0.025      1.518333          137570.5233  \n",
       "8     0.410000        0.00     0.000      7.590000          112830.8300  \n",
       "9     0.410000        0.00     0.000      7.590000          112830.8300  \n",
       "\n",
       "[10 rows x 36 columns]"
      ]
     },
     "execution_count": 10,
     "metadata": {},
     "output_type": "execute_result"
    }
   ],
   "source": [
    "rawdata.head(10)"
   ]
  },
  {
   "cell_type": "code",
   "execution_count": 13,
   "metadata": {},
   "outputs": [],
   "source": [
    "rawdata = rawdata[(rawdata.month == 12)]"
   ]
  },
  {
   "cell_type": "code",
   "execution_count": 14,
   "metadata": {},
   "outputs": [],
   "source": [
    "predictors = ['id_pos','unidades', 'canal', 'competidores',\n",
    "       'ingreso_mediana', 'densidad_poblacional',\n",
    "       'pct_0a5', 'pct_5a9', 'pct_10a14', 'pct_15a19', 'pct_20a24',\n",
    "       'pct_25a29', 'pct_30a34', 'pct_35a39', 'pct_40a44', 'pct_45a49',\n",
    "       'pct_50a54', 'pct_55a59', 'pct_60a64', 'pct_65a69', 'pct_70a74',\n",
    "       'pct_75a79', 'pct_80a84', 'pct_85ainf', 'pct_bachelors',\n",
    "       'pct_doctorados', 'pct_secundario', 'pct_master', 'pct_bicicleta',\n",
    "       'pct_omnibus', 'pct_subtes', 'pct_taxi', 'pct_caminata',\n",
    "       'mediana_valor_hogar']"
   ]
  },
  {
   "cell_type": "code",
   "execution_count": 15,
   "metadata": {},
   "outputs": [],
   "source": [
    "X = rawdata[predictors].copy()"
   ]
  },
  {
   "cell_type": "code",
   "execution_count": 16,
   "metadata": {},
   "outputs": [],
   "source": [
    "y = rawdata.unidades"
   ]
  },
  {
   "cell_type": "code",
   "execution_count": 17,
   "metadata": {},
   "outputs": [],
   "source": [
    "X.drop('unidades', inplace=True, axis=1)"
   ]
  },
  {
   "cell_type": "code",
   "execution_count": 18,
   "metadata": {
    "scrolled": true
   },
   "outputs": [],
   "source": [
    "# fill Nans\n",
    "for c in X.columns[X.dtypes != 'object']:\n",
    "    X[c].fillna(X[c].median(), inplace=True)"
   ]
  },
  {
   "cell_type": "code",
   "execution_count": 19,
   "metadata": {},
   "outputs": [],
   "source": [
    "# Label encoder\n",
    "for c in X.columns[X.dtypes == 'object']:\n",
    "    X[c] = X[c].factorize()[0]"
   ]
  },
  {
   "cell_type": "markdown",
   "metadata": {},
   "source": [
    "#### Training Random Forest Regressor"
   ]
  },
  {
   "cell_type": "code",
   "execution_count": 20,
   "metadata": {},
   "outputs": [],
   "source": [
    "X_train, X_test, y_train, y_test = train_test_split(X, y, test_size=0.3, random_state=42)"
   ]
  },
  {
   "cell_type": "code",
   "execution_count": 21,
   "metadata": {},
   "outputs": [],
   "source": [
    "rf = RandomForestRegressor(max_depth=3, random_state=0,n_estimators=200,criterion='mae',n_jobs=-1)"
   ]
  },
  {
   "cell_type": "code",
   "execution_count": 22,
   "metadata": {},
   "outputs": [],
   "source": [
    "model = rf.fit(X_train, y_train)\n"
   ]
  },
  {
   "cell_type": "code",
   "execution_count": 25,
   "metadata": {},
   "outputs": [
    {
     "data": {
      "image/png": "[encoded data removed]",
      "text/plain": [
       "<Figure size 1152x432 with 1 Axes>"
      ]
     },
     "metadata": {
      "needs_background": "light"
     },
     "output_type": "display_data"
    }
   ],
   "source": [
    "feat_imp = pd.Series(model.feature_importances_, index=X.columns).sort_values(ascending=False)\n",
    "feat_imp.plot(kind='bar', title='Feature Importances',figsize=(16,6))\n",
    "pass\n"
   ]
  },
  {
   "cell_type": "code",
   "execution_count": 26,
   "metadata": {},
   "outputs": [],
   "source": [
    "y_pred = model.predict(X_test)"
   ]
  },
  {
   "cell_type": "code",
   "execution_count": 27,
   "metadata": {},
   "outputs": [
    {
     "data": {
      "text/plain": [
       "13.034635640200287"
      ]
     },
     "execution_count": 27,
     "metadata": {},
     "output_type": "execute_result"
    }
   ],
   "source": [
    "mean_absolute_error(y_test, y_pred)"
   ]
  },
  {
   "cell_type": "code",
   "execution_count": 28,
   "metadata": {},
   "outputs": [
    {
     "data": {
      "text/plain": [
       "406.7173048607385"
      ]
     },
     "execution_count": 28,
     "metadata": {},
     "output_type": "execute_result"
    }
   ],
   "source": [
    "mean_squared_error(y_test, y_pred)"
   ]
  },
  {
   "cell_type": "code",
   "execution_count": 29,
   "metadata": {},
   "outputs": [
    {
     "data": {
      "text/plain": [
       "14.8725"
      ]
     },
     "execution_count": 29,
     "metadata": {},
     "output_type": "execute_result"
    }
   ],
   "source": [
    "np.median(y_pred)"
   ]
  },
  {
   "cell_type": "code",
   "execution_count": 30,
   "metadata": {},
   "outputs": [],
   "source": [
    "y_pred_fixed = np.where(y_pred < 0, 0, y_pred)"
   ]
  },
  {
   "cell_type": "code",
   "execution_count": 31,
   "metadata": {},
   "outputs": [
    {
     "data": {
      "text/plain": [
       "13.034635640200287"
      ]
     },
     "execution_count": 31,
     "metadata": {},
     "output_type": "execute_result"
    }
   ],
   "source": [
    "mean_absolute_error(y_test, y_pred_fixed)"
   ]
  }
 ],
 "metadata": {
  "kernelspec": {
   "display_name": "Python 3",
   "language": "python",
   "name": "python3"
  },
  "language_info": {
   "codemirror_mode": {
    "name": "ipython",
    "version": 3
   },
   "file_extension": ".py",
   "mimetype": "text/x-python",
   "name": "python",
   "nbconvert_exporter": "python",
   "pygments_lexer": "ipython3",
   "version": "3.7.3"
  }
 },
 "nbformat": 4,
 "nbformat_minor": 2
}
