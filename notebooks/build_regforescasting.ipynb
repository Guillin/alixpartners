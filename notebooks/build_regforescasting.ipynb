{
 "cells": [
  {
   "cell_type": "code",
   "execution_count": 1,
   "metadata": {},
   "outputs": [],
   "source": [
    "import pandas as pd\n",
    "import seaborn as sns\n",
    "import statsmodels.api as sm\n",
    "from sklearn.linear_model import LinearRegression\n",
    "from sklearn import metrics\n",
    "from sklearn.model_selection import train_test_split\n",
    "import numpy as np\n",
    "from datetime import date"
   ]
  },
  {
   "cell_type": "code",
   "execution_count": 2,
   "metadata": {},
   "outputs": [],
   "source": [
    "# Load Train Data\n",
    "train = pd.read_csv('../data/raw/train_aggr.csv',sep=';')"
   ]
  },
  {
   "cell_type": "code",
   "execution_count": 3,
   "metadata": {},
   "outputs": [],
   "source": [
    "# Load Submit Data\n",
    "submittion = pd.read_csv('../data/raw/ejemploRespuesta.csv')"
   ]
  },
  {
   "cell_type": "code",
   "execution_count": 4,
   "metadata": {},
   "outputs": [],
   "source": [
    "submittion.columns = ['id_pos','unidades_pred']"
   ]
  },
  {
   "cell_type": "code",
   "execution_count": 6,
   "metadata": {},
   "outputs": [],
   "source": [
    "train['fecha_venta_norm'] = pd.to_datetime(train['fecha_venta_norm'])"
   ]
  },
  {
   "cell_type": "code",
   "execution_count": 7,
   "metadata": {},
   "outputs": [],
   "source": [
    "train['fecha_venta_norm'] = train['fecha_venta_norm'].dt.date"
   ]
  },
  {
   "cell_type": "code",
   "execution_count": 8,
   "metadata": {},
   "outputs": [],
   "source": [
    "train['year'] = pd.to_datetime(train.fecha_venta_norm).dt.year\n",
    "train['month'] = pd.to_datetime(train.fecha_venta_norm).dt.month"
   ]
  },
  {
   "cell_type": "code",
   "execution_count": 9,
   "metadata": {},
   "outputs": [],
   "source": [
    "# Filtramos los meses que consideramos buenos para el entrenamiento (11 y 12)\n",
    "train = train[train.fecha_venta_norm.isin([date(2012, 11, 1),date(2012, 12, 1),\n",
    "                                                date(2013, 11, 1), date(2013, 12, 1), date(2014, 11, 1)])]"
   ]
  },
  {
   "cell_type": "code",
   "execution_count": 11,
   "metadata": {},
   "outputs": [],
   "source": [
    "# Filtramos los meses que consideramos buenos para el entrenamiento (11 y 12)\n",
    "test = train[train.fecha_venta_norm.isin([date(2014, 11, 1)])]"
   ]
  },
  {
   "cell_type": "code",
   "execution_count": 12,
   "metadata": {},
   "outputs": [
    {
     "data": {
      "text/plain": [
       "(33960, 38)"
      ]
     },
     "execution_count": 12,
     "metadata": {},
     "output_type": "execute_result"
    }
   ],
   "source": [
    "train.shape"
   ]
  },
  {
   "cell_type": "code",
   "execution_count": 13,
   "metadata": {},
   "outputs": [
    {
     "data": {
      "text/plain": [
       "(5286, 38)"
      ]
     },
     "execution_count": 13,
     "metadata": {},
     "output_type": "execute_result"
    }
   ],
   "source": [
    "test.shape"
   ]
  },
  {
   "cell_type": "code",
   "execution_count": null,
   "metadata": {},
   "outputs": [],
   "source": [
    "train.sort_values(['id_pos','fecha_venta_norm'], ascending=True, inplace=True)"
   ]
  },
  {
   "cell_type": "code",
   "execution_count": null,
   "metadata": {},
   "outputs": [],
   "source": [
    "train['unidades_target'] = train.groupby(['id_pos'])['unidades'].shift(-1)"
   ]
  },
  {
   "cell_type": "code",
   "execution_count": 18,
   "metadata": {},
   "outputs": [
    {
     "data": {
      "text/html": [
       "<div>\n",
       "<style scoped>\n",
       "    .dataframe tbody tr th:only-of-type {\n",
       "        vertical-align: middle;\n",
       "    }\n",
       "\n",
       "    .dataframe tbody tr th {\n",
       "        vertical-align: top;\n",
       "    }\n",
       "\n",
       "    .dataframe thead th {\n",
       "        text-align: right;\n",
       "    }\n",
       "</style>\n",
       "<table border=\"1\" class=\"dataframe\">\n",
       "  <thead>\n",
       "    <tr style=\"text-align: right;\">\n",
       "      <th></th>\n",
       "      <th>id_pos</th>\n",
       "      <th>fecha_venta_norm</th>\n",
       "      <th>canal</th>\n",
       "      <th>unidades</th>\n",
       "      <th>competidores</th>\n",
       "      <th>ingreso_mediana</th>\n",
       "      <th>ingreso_promedio</th>\n",
       "      <th>densidad_poblacional</th>\n",
       "      <th>pct_0a5</th>\n",
       "      <th>pct_5a9</th>\n",
       "      <th>...</th>\n",
       "      <th>pct_secundario</th>\n",
       "      <th>pct_master</th>\n",
       "      <th>pct_bicicleta</th>\n",
       "      <th>pct_omnibus</th>\n",
       "      <th>pct_subtes</th>\n",
       "      <th>pct_taxi</th>\n",
       "      <th>pct_caminata</th>\n",
       "      <th>mediana_valor_hogar</th>\n",
       "      <th>year</th>\n",
       "      <th>month</th>\n",
       "    </tr>\n",
       "  </thead>\n",
       "  <tbody>\n",
       "    <tr>\n",
       "      <th>0</th>\n",
       "      <td>3142</td>\n",
       "      <td>2012-12-01</td>\n",
       "      <td>ALMACEN</td>\n",
       "      <td>12</td>\n",
       "      <td>12.0</td>\n",
       "      <td>50395.31667</td>\n",
       "      <td>68263.48667</td>\n",
       "      <td>17239.673330</td>\n",
       "      <td>6.796667</td>\n",
       "      <td>6.110000</td>\n",
       "      <td>...</td>\n",
       "      <td>27.63</td>\n",
       "      <td>7.396667</td>\n",
       "      <td>0.260000</td>\n",
       "      <td>6.733333</td>\n",
       "      <td>0.72</td>\n",
       "      <td>0.210</td>\n",
       "      <td>3.793333</td>\n",
       "      <td>252050.3467</td>\n",
       "      <td>2012</td>\n",
       "      <td>12</td>\n",
       "    </tr>\n",
       "    <tr>\n",
       "      <th>1</th>\n",
       "      <td>3142</td>\n",
       "      <td>2013-12-01</td>\n",
       "      <td>ALMACEN</td>\n",
       "      <td>7</td>\n",
       "      <td>12.0</td>\n",
       "      <td>50395.31667</td>\n",
       "      <td>68263.48667</td>\n",
       "      <td>17239.673330</td>\n",
       "      <td>6.796667</td>\n",
       "      <td>6.110000</td>\n",
       "      <td>...</td>\n",
       "      <td>27.63</td>\n",
       "      <td>7.396667</td>\n",
       "      <td>0.260000</td>\n",
       "      <td>6.733333</td>\n",
       "      <td>0.72</td>\n",
       "      <td>0.210</td>\n",
       "      <td>3.793333</td>\n",
       "      <td>252050.3467</td>\n",
       "      <td>2013</td>\n",
       "      <td>12</td>\n",
       "    </tr>\n",
       "    <tr>\n",
       "      <th>2</th>\n",
       "      <td>3143</td>\n",
       "      <td>2013-11-01</td>\n",
       "      <td>ALMACEN</td>\n",
       "      <td>2</td>\n",
       "      <td>33.0</td>\n",
       "      <td>55256.52333</td>\n",
       "      <td>70989.74667</td>\n",
       "      <td>67764.126670</td>\n",
       "      <td>6.316667</td>\n",
       "      <td>5.903333</td>\n",
       "      <td>...</td>\n",
       "      <td>29.50</td>\n",
       "      <td>7.560000</td>\n",
       "      <td>0.366667</td>\n",
       "      <td>8.410000</td>\n",
       "      <td>22.81</td>\n",
       "      <td>0.240</td>\n",
       "      <td>3.006667</td>\n",
       "      <td>391646.2067</td>\n",
       "      <td>2013</td>\n",
       "      <td>11</td>\n",
       "    </tr>\n",
       "    <tr>\n",
       "      <th>3</th>\n",
       "      <td>3143</td>\n",
       "      <td>2013-12-01</td>\n",
       "      <td>ALMACEN</td>\n",
       "      <td>47</td>\n",
       "      <td>33.0</td>\n",
       "      <td>55256.52333</td>\n",
       "      <td>70989.74667</td>\n",
       "      <td>67764.126670</td>\n",
       "      <td>6.316667</td>\n",
       "      <td>5.903333</td>\n",
       "      <td>...</td>\n",
       "      <td>29.50</td>\n",
       "      <td>7.560000</td>\n",
       "      <td>0.366667</td>\n",
       "      <td>8.410000</td>\n",
       "      <td>22.81</td>\n",
       "      <td>0.240</td>\n",
       "      <td>3.006667</td>\n",
       "      <td>391646.2067</td>\n",
       "      <td>2013</td>\n",
       "      <td>12</td>\n",
       "    </tr>\n",
       "    <tr>\n",
       "      <th>4</th>\n",
       "      <td>3144</td>\n",
       "      <td>2012-11-01</td>\n",
       "      <td>ALMACEN</td>\n",
       "      <td>6</td>\n",
       "      <td>38.0</td>\n",
       "      <td>43437.32000</td>\n",
       "      <td>58236.36500</td>\n",
       "      <td>8799.223333</td>\n",
       "      <td>7.270000</td>\n",
       "      <td>7.240000</td>\n",
       "      <td>...</td>\n",
       "      <td>28.13</td>\n",
       "      <td>6.546667</td>\n",
       "      <td>0.183333</td>\n",
       "      <td>1.466667</td>\n",
       "      <td>0.00</td>\n",
       "      <td>0.025</td>\n",
       "      <td>1.518333</td>\n",
       "      <td>137570.5233</td>\n",
       "      <td>2012</td>\n",
       "      <td>11</td>\n",
       "    </tr>\n",
       "    <tr>\n",
       "      <th>5</th>\n",
       "      <td>3144</td>\n",
       "      <td>2012-12-01</td>\n",
       "      <td>ALMACEN</td>\n",
       "      <td>41</td>\n",
       "      <td>38.0</td>\n",
       "      <td>43437.32000</td>\n",
       "      <td>58236.36500</td>\n",
       "      <td>8799.223333</td>\n",
       "      <td>7.270000</td>\n",
       "      <td>7.240000</td>\n",
       "      <td>...</td>\n",
       "      <td>28.13</td>\n",
       "      <td>6.546667</td>\n",
       "      <td>0.183333</td>\n",
       "      <td>1.466667</td>\n",
       "      <td>0.00</td>\n",
       "      <td>0.025</td>\n",
       "      <td>1.518333</td>\n",
       "      <td>137570.5233</td>\n",
       "      <td>2012</td>\n",
       "      <td>12</td>\n",
       "    </tr>\n",
       "    <tr>\n",
       "      <th>6</th>\n",
       "      <td>3144</td>\n",
       "      <td>2013-11-01</td>\n",
       "      <td>ALMACEN</td>\n",
       "      <td>4</td>\n",
       "      <td>38.0</td>\n",
       "      <td>43437.32000</td>\n",
       "      <td>58236.36500</td>\n",
       "      <td>8799.223333</td>\n",
       "      <td>7.270000</td>\n",
       "      <td>7.240000</td>\n",
       "      <td>...</td>\n",
       "      <td>28.13</td>\n",
       "      <td>6.546667</td>\n",
       "      <td>0.183333</td>\n",
       "      <td>1.466667</td>\n",
       "      <td>0.00</td>\n",
       "      <td>0.025</td>\n",
       "      <td>1.518333</td>\n",
       "      <td>137570.5233</td>\n",
       "      <td>2013</td>\n",
       "      <td>11</td>\n",
       "    </tr>\n",
       "    <tr>\n",
       "      <th>7</th>\n",
       "      <td>3144</td>\n",
       "      <td>2013-12-01</td>\n",
       "      <td>ALMACEN</td>\n",
       "      <td>71</td>\n",
       "      <td>38.0</td>\n",
       "      <td>43437.32000</td>\n",
       "      <td>58236.36500</td>\n",
       "      <td>8799.223333</td>\n",
       "      <td>7.270000</td>\n",
       "      <td>7.240000</td>\n",
       "      <td>...</td>\n",
       "      <td>28.13</td>\n",
       "      <td>6.546667</td>\n",
       "      <td>0.183333</td>\n",
       "      <td>1.466667</td>\n",
       "      <td>0.00</td>\n",
       "      <td>0.025</td>\n",
       "      <td>1.518333</td>\n",
       "      <td>137570.5233</td>\n",
       "      <td>2013</td>\n",
       "      <td>12</td>\n",
       "    </tr>\n",
       "    <tr>\n",
       "      <th>8</th>\n",
       "      <td>3146</td>\n",
       "      <td>2012-12-01</td>\n",
       "      <td>ALMACEN</td>\n",
       "      <td>7</td>\n",
       "      <td>5.0</td>\n",
       "      <td>24541.12000</td>\n",
       "      <td>38500.06000</td>\n",
       "      <td>9049.910000</td>\n",
       "      <td>5.310000</td>\n",
       "      <td>4.650000</td>\n",
       "      <td>...</td>\n",
       "      <td>31.23</td>\n",
       "      <td>3.880000</td>\n",
       "      <td>0.420000</td>\n",
       "      <td>0.410000</td>\n",
       "      <td>0.00</td>\n",
       "      <td>0.000</td>\n",
       "      <td>7.590000</td>\n",
       "      <td>112830.8300</td>\n",
       "      <td>2012</td>\n",
       "      <td>12</td>\n",
       "    </tr>\n",
       "    <tr>\n",
       "      <th>9</th>\n",
       "      <td>3146</td>\n",
       "      <td>2013-12-01</td>\n",
       "      <td>ALMACEN</td>\n",
       "      <td>7</td>\n",
       "      <td>5.0</td>\n",
       "      <td>24541.12000</td>\n",
       "      <td>38500.06000</td>\n",
       "      <td>9049.910000</td>\n",
       "      <td>5.310000</td>\n",
       "      <td>4.650000</td>\n",
       "      <td>...</td>\n",
       "      <td>31.23</td>\n",
       "      <td>3.880000</td>\n",
       "      <td>0.420000</td>\n",
       "      <td>0.410000</td>\n",
       "      <td>0.00</td>\n",
       "      <td>0.000</td>\n",
       "      <td>7.590000</td>\n",
       "      <td>112830.8300</td>\n",
       "      <td>2013</td>\n",
       "      <td>12</td>\n",
       "    </tr>\n",
       "  </tbody>\n",
       "</table>\n",
       "<p>10 rows × 38 columns</p>\n",
       "</div>"
      ],
      "text/plain": [
       "   id_pos fecha_venta_norm    canal  unidades  competidores  ingreso_mediana  \\\n",
       "0    3142       2012-12-01  ALMACEN        12          12.0      50395.31667   \n",
       "1    3142       2013-12-01  ALMACEN         7          12.0      50395.31667   \n",
       "2    3143       2013-11-01  ALMACEN         2          33.0      55256.52333   \n",
       "3    3143       2013-12-01  ALMACEN        47          33.0      55256.52333   \n",
       "4    3144       2012-11-01  ALMACEN         6          38.0      43437.32000   \n",
       "5    3144       2012-12-01  ALMACEN        41          38.0      43437.32000   \n",
       "6    3144       2013-11-01  ALMACEN         4          38.0      43437.32000   \n",
       "7    3144       2013-12-01  ALMACEN        71          38.0      43437.32000   \n",
       "8    3146       2012-12-01  ALMACEN         7           5.0      24541.12000   \n",
       "9    3146       2013-12-01  ALMACEN         7           5.0      24541.12000   \n",
       "\n",
       "   ingreso_promedio  densidad_poblacional   pct_0a5   pct_5a9  ...  \\\n",
       "0       68263.48667          17239.673330  6.796667  6.110000  ...   \n",
       "1       68263.48667          17239.673330  6.796667  6.110000  ...   \n",
       "2       70989.74667          67764.126670  6.316667  5.903333  ...   \n",
       "3       70989.74667          67764.126670  6.316667  5.903333  ...   \n",
       "4       58236.36500           8799.223333  7.270000  7.240000  ...   \n",
       "5       58236.36500           8799.223333  7.270000  7.240000  ...   \n",
       "6       58236.36500           8799.223333  7.270000  7.240000  ...   \n",
       "7       58236.36500           8799.223333  7.270000  7.240000  ...   \n",
       "8       38500.06000           9049.910000  5.310000  4.650000  ...   \n",
       "9       38500.06000           9049.910000  5.310000  4.650000  ...   \n",
       "\n",
       "   pct_secundario  pct_master  pct_bicicleta  pct_omnibus  pct_subtes  \\\n",
       "0           27.63    7.396667       0.260000     6.733333        0.72   \n",
       "1           27.63    7.396667       0.260000     6.733333        0.72   \n",
       "2           29.50    7.560000       0.366667     8.410000       22.81   \n",
       "3           29.50    7.560000       0.366667     8.410000       22.81   \n",
       "4           28.13    6.546667       0.183333     1.466667        0.00   \n",
       "5           28.13    6.546667       0.183333     1.466667        0.00   \n",
       "6           28.13    6.546667       0.183333     1.466667        0.00   \n",
       "7           28.13    6.546667       0.183333     1.466667        0.00   \n",
       "8           31.23    3.880000       0.420000     0.410000        0.00   \n",
       "9           31.23    3.880000       0.420000     0.410000        0.00   \n",
       "\n",
       "   pct_taxi  pct_caminata  mediana_valor_hogar  year  month  \n",
       "0     0.210      3.793333          252050.3467  2012     12  \n",
       "1     0.210      3.793333          252050.3467  2013     12  \n",
       "2     0.240      3.006667          391646.2067  2013     11  \n",
       "3     0.240      3.006667          391646.2067  2013     12  \n",
       "4     0.025      1.518333          137570.5233  2012     11  \n",
       "5     0.025      1.518333          137570.5233  2012     12  \n",
       "6     0.025      1.518333          137570.5233  2013     11  \n",
       "7     0.025      1.518333          137570.5233  2013     12  \n",
       "8     0.000      7.590000          112830.8300  2012     12  \n",
       "9     0.000      7.590000          112830.8300  2013     12  \n",
       "\n",
       "[10 rows x 38 columns]"
      ]
     },
     "execution_count": 18,
     "metadata": {},
     "output_type": "execute_result"
    }
   ],
   "source": [
    "rawdata.head(10)"
   ]
  },
  {
   "cell_type": "code",
   "execution_count": 19,
   "metadata": {},
   "outputs": [
    {
     "ename": "AttributeError",
     "evalue": "'DataFrame' object has no attribute 'unidades_one_periode_before'",
     "output_type": "error",
     "traceback": [
      "\u001b[0;31m---------------------------------------------------------------------------\u001b[0m",
      "\u001b[0;31mAttributeError\u001b[0m                            Traceback (most recent call last)",
      "\u001b[0;32m<ipython-input-19-b6f908effe4e>\u001b[0m in \u001b[0;36m<module>\u001b[0;34m\u001b[0m\n\u001b[0;32m----> 1\u001b[0;31m \u001b[0mrawdata\u001b[0m \u001b[0;34m=\u001b[0m \u001b[0mrawdata\u001b[0m\u001b[0;34m[\u001b[0m\u001b[0;34m(\u001b[0m\u001b[0mrawdata\u001b[0m\u001b[0;34m.\u001b[0m\u001b[0mmonth\u001b[0m \u001b[0;34m==\u001b[0m \u001b[0;36m11\u001b[0m\u001b[0;34m)\u001b[0m \u001b[0;34m&\u001b[0m \u001b[0;34m(\u001b[0m\u001b[0mrawdata\u001b[0m\u001b[0;34m.\u001b[0m\u001b[0munidades_one_periode_before\u001b[0m\u001b[0;34m.\u001b[0m\u001b[0misnull\u001b[0m\u001b[0;34m(\u001b[0m\u001b[0;34m)\u001b[0m\u001b[0;34m!=\u001b[0m\u001b[0;32mTrue\u001b[0m\u001b[0;34m)\u001b[0m\u001b[0;34m]\u001b[0m\u001b[0;34m\u001b[0m\u001b[0;34m\u001b[0m\u001b[0m\n\u001b[0m",
      "\u001b[0;32m/opt/anaconda3/envs/signalenv/lib/python3.7/site-packages/pandas/core/generic.py\u001b[0m in \u001b[0;36m__getattr__\u001b[0;34m(self, name)\u001b[0m\n\u001b[1;32m   5065\u001b[0m             \u001b[0;32mif\u001b[0m \u001b[0mself\u001b[0m\u001b[0;34m.\u001b[0m\u001b[0m_info_axis\u001b[0m\u001b[0;34m.\u001b[0m\u001b[0m_can_hold_identifiers_and_holds_name\u001b[0m\u001b[0;34m(\u001b[0m\u001b[0mname\u001b[0m\u001b[0;34m)\u001b[0m\u001b[0;34m:\u001b[0m\u001b[0;34m\u001b[0m\u001b[0;34m\u001b[0m\u001b[0m\n\u001b[1;32m   5066\u001b[0m                 \u001b[0;32mreturn\u001b[0m \u001b[0mself\u001b[0m\u001b[0;34m[\u001b[0m\u001b[0mname\u001b[0m\u001b[0;34m]\u001b[0m\u001b[0;34m\u001b[0m\u001b[0;34m\u001b[0m\u001b[0m\n\u001b[0;32m-> 5067\u001b[0;31m             \u001b[0;32mreturn\u001b[0m \u001b[0mobject\u001b[0m\u001b[0;34m.\u001b[0m\u001b[0m__getattribute__\u001b[0m\u001b[0;34m(\u001b[0m\u001b[0mself\u001b[0m\u001b[0;34m,\u001b[0m \u001b[0mname\u001b[0m\u001b[0;34m)\u001b[0m\u001b[0;34m\u001b[0m\u001b[0;34m\u001b[0m\u001b[0m\n\u001b[0m\u001b[1;32m   5068\u001b[0m \u001b[0;34m\u001b[0m\u001b[0m\n\u001b[1;32m   5069\u001b[0m     \u001b[0;32mdef\u001b[0m \u001b[0m__setattr__\u001b[0m\u001b[0;34m(\u001b[0m\u001b[0mself\u001b[0m\u001b[0;34m,\u001b[0m \u001b[0mname\u001b[0m\u001b[0;34m,\u001b[0m \u001b[0mvalue\u001b[0m\u001b[0;34m)\u001b[0m\u001b[0;34m:\u001b[0m\u001b[0;34m\u001b[0m\u001b[0;34m\u001b[0m\u001b[0m\n",
      "\u001b[0;31mAttributeError\u001b[0m: 'DataFrame' object has no attribute 'unidades_one_periode_before'"
     ]
    }
   ],
   "source": [
    "train = train[(rawdata.month == 11) & (train.unidades_one_periode_before.isnull()!=True)]"
   ]
  },
  {
   "cell_type": "code",
   "execution_count": 43,
   "metadata": {},
   "outputs": [],
   "source": [
    "predictors = ['id_pos','unidades', 'unidades_target','canal', 'competidores',\n",
    "       'ingreso_mediana', 'densidad_poblacional',\n",
    "       'pct_0a5', 'pct_5a9', 'pct_10a14', 'pct_15a19', 'pct_20a24',\n",
    "       'pct_25a29', 'pct_30a34', 'pct_35a39', 'pct_40a44', 'pct_45a49',\n",
    "       'pct_50a54', 'pct_55a59', 'pct_60a64', 'pct_65a69', 'pct_70a74',\n",
    "       'pct_75a79', 'pct_80a84', 'pct_85ainf', 'pct_bachelors',\n",
    "       'pct_doctorados', 'pct_secundario', 'pct_master', 'pct_bicicleta',\n",
    "       'pct_omnibus', 'pct_subtes', 'pct_taxi', 'pct_caminata',\n",
    "       'mediana_valor_hogar']"
   ]
  },
  {
   "cell_type": "code",
   "execution_count": 44,
   "metadata": {},
   "outputs": [],
   "source": [
    "X = rawdata[predictors].copy()"
   ]
  },
  {
   "cell_type": "code",
   "execution_count": 45,
   "metadata": {},
   "outputs": [],
   "source": [
    "y = rawdata.unidades_target"
   ]
  },
  {
   "cell_type": "code",
   "execution_count": 46,
   "metadata": {},
   "outputs": [],
   "source": [
    "X.drop('unidades_target', inplace=True, axis=1)"
   ]
  },
  {
   "cell_type": "code",
   "execution_count": 47,
   "metadata": {
    "scrolled": true
   },
   "outputs": [],
   "source": [
    "# fill Nans\n",
    "for c in X.columns[X.dtypes != 'object']:\n",
    "    X[c].fillna(X[c].median(), inplace=True)"
   ]
  },
  {
   "cell_type": "code",
   "execution_count": 48,
   "metadata": {},
   "outputs": [],
   "source": [
    "# Label encoder\n",
    "for c in X.columns[X.dtypes == 'object']:\n",
    "    X[c] = X[c].factorize()[0]"
   ]
  },
  {
   "cell_type": "code",
   "execution_count": 49,
   "metadata": {},
   "outputs": [
    {
     "name": "stderr",
     "output_type": "stream",
     "text": [
      "/opt/anaconda3/envs/signalenv/lib/python3.7/site-packages/numpy/core/fromnumeric.py:2389: FutureWarning: Method .ptp is deprecated and will be removed in a future version. Use numpy.ptp instead.\n",
      "  return ptp(axis=axis, out=out, **kwargs)\n"
     ]
    }
   ],
   "source": [
    "X = sm.add_constant(X)"
   ]
  },
  {
   "cell_type": "code",
   "execution_count": 50,
   "metadata": {
    "scrolled": false
   },
   "outputs": [
    {
     "data": {
      "text/html": [
       "<table class=\"simpletable\">\n",
       "<caption>OLS Regression Results</caption>\n",
       "<tr>\n",
       "  <th>Dep. Variable:</th>     <td>unidades_target</td> <th>  R-squared:         </th> <td>   0.287</td> \n",
       "</tr>\n",
       "<tr>\n",
       "  <th>Model:</th>                   <td>OLS</td>       <th>  Adj. R-squared:    </th> <td>   0.285</td> \n",
       "</tr>\n",
       "<tr>\n",
       "  <th>Method:</th>             <td>Least Squares</td>  <th>  F-statistic:       </th> <td>   118.4</td> \n",
       "</tr>\n",
       "<tr>\n",
       "  <th>Date:</th>             <td>Mon, 17 Jun 2019</td> <th>  Prob (F-statistic):</th>  <td>  0.00</td>  \n",
       "</tr>\n",
       "<tr>\n",
       "  <th>Time:</th>                 <td>16:31:45</td>     <th>  Log-Likelihood:    </th> <td> -45878.</td> \n",
       "</tr>\n",
       "<tr>\n",
       "  <th>No. Observations:</th>      <td> 10034</td>      <th>  AIC:               </th> <td>9.183e+04</td>\n",
       "</tr>\n",
       "<tr>\n",
       "  <th>Df Residuals:</th>          <td>  9999</td>      <th>  BIC:               </th> <td>9.208e+04</td>\n",
       "</tr>\n",
       "<tr>\n",
       "  <th>Df Model:</th>              <td>    34</td>      <th>                     </th>     <td> </td>    \n",
       "</tr>\n",
       "<tr>\n",
       "  <th>Covariance Type:</th>      <td>nonrobust</td>    <th>                     </th>     <td> </td>    \n",
       "</tr>\n",
       "</table>\n",
       "<table class=\"simpletable\">\n",
       "<tr>\n",
       "            <td></td>              <th>coef</th>     <th>std err</th>      <th>t</th>      <th>P>|t|</th>  <th>[0.025</th>    <th>0.975]</th>  \n",
       "</tr>\n",
       "<tr>\n",
       "  <th>const</th>                <td>   52.6055</td> <td>  158.551</td> <td>    0.332</td> <td> 0.740</td> <td> -258.186</td> <td>  363.397</td>\n",
       "</tr>\n",
       "<tr>\n",
       "  <th>id_pos</th>               <td>   -0.0018</td> <td> 4.82e-05</td> <td>  -37.125</td> <td> 0.000</td> <td>   -0.002</td> <td>   -0.002</td>\n",
       "</tr>\n",
       "<tr>\n",
       "  <th>unidades</th>             <td>    1.3540</td> <td>    0.034</td> <td>   39.509</td> <td> 0.000</td> <td>    1.287</td> <td>    1.421</td>\n",
       "</tr>\n",
       "<tr>\n",
       "  <th>canal</th>                <td>  -16.1352</td> <td>    2.904</td> <td>   -5.557</td> <td> 0.000</td> <td>  -21.827</td> <td>  -10.443</td>\n",
       "</tr>\n",
       "<tr>\n",
       "  <th>competidores</th>         <td>   -0.0043</td> <td>    0.006</td> <td>   -0.747</td> <td> 0.455</td> <td>   -0.016</td> <td>    0.007</td>\n",
       "</tr>\n",
       "<tr>\n",
       "  <th>ingreso_mediana</th>      <td> -5.33e-06</td> <td> 3.98e-05</td> <td>   -0.134</td> <td> 0.893</td> <td>-8.33e-05</td> <td> 7.27e-05</td>\n",
       "</tr>\n",
       "<tr>\n",
       "  <th>densidad_poblacional</th> <td> 1.161e-05</td> <td> 3.76e-05</td> <td>    0.309</td> <td> 0.757</td> <td>-6.21e-05</td> <td> 8.53e-05</td>\n",
       "</tr>\n",
       "<tr>\n",
       "  <th>pct_0a5</th>              <td>    0.0607</td> <td>    1.611</td> <td>    0.038</td> <td> 0.970</td> <td>   -3.098</td> <td>    3.219</td>\n",
       "</tr>\n",
       "<tr>\n",
       "  <th>pct_5a9</th>              <td>   -1.2601</td> <td>    1.769</td> <td>   -0.712</td> <td> 0.476</td> <td>   -4.728</td> <td>    2.208</td>\n",
       "</tr>\n",
       "<tr>\n",
       "  <th>pct_10a14</th>            <td>    0.4725</td> <td>    1.622</td> <td>    0.291</td> <td> 0.771</td> <td>   -2.706</td> <td>    3.651</td>\n",
       "</tr>\n",
       "<tr>\n",
       "  <th>pct_15a19</th>            <td>    0.4199</td> <td>    1.597</td> <td>    0.263</td> <td> 0.793</td> <td>   -2.710</td> <td>    3.550</td>\n",
       "</tr>\n",
       "<tr>\n",
       "  <th>pct_20a24</th>            <td>   -0.3191</td> <td>    1.593</td> <td>   -0.200</td> <td> 0.841</td> <td>   -3.442</td> <td>    2.804</td>\n",
       "</tr>\n",
       "<tr>\n",
       "  <th>pct_25a29</th>            <td>   -0.3237</td> <td>    1.610</td> <td>   -0.201</td> <td> 0.841</td> <td>   -3.480</td> <td>    2.833</td>\n",
       "</tr>\n",
       "<tr>\n",
       "  <th>pct_30a34</th>            <td>    0.2510</td> <td>    1.667</td> <td>    0.151</td> <td> 0.880</td> <td>   -3.016</td> <td>    3.518</td>\n",
       "</tr>\n",
       "<tr>\n",
       "  <th>pct_35a39</th>            <td>   -0.2725</td> <td>    1.689</td> <td>   -0.161</td> <td> 0.872</td> <td>   -3.583</td> <td>    3.038</td>\n",
       "</tr>\n",
       "<tr>\n",
       "  <th>pct_40a44</th>            <td>    0.0528</td> <td>    1.683</td> <td>    0.031</td> <td> 0.975</td> <td>   -3.246</td> <td>    3.351</td>\n",
       "</tr>\n",
       "<tr>\n",
       "  <th>pct_45a49</th>            <td>   -0.6935</td> <td>    1.693</td> <td>   -0.410</td> <td> 0.682</td> <td>   -4.011</td> <td>    2.625</td>\n",
       "</tr>\n",
       "<tr>\n",
       "  <th>pct_50a54</th>            <td>   -0.1352</td> <td>    1.673</td> <td>   -0.081</td> <td> 0.936</td> <td>   -3.415</td> <td>    3.145</td>\n",
       "</tr>\n",
       "<tr>\n",
       "  <th>pct_55a59</th>            <td>   -0.0857</td> <td>    1.669</td> <td>   -0.051</td> <td> 0.959</td> <td>   -3.358</td> <td>    3.186</td>\n",
       "</tr>\n",
       "<tr>\n",
       "  <th>pct_60a64</th>            <td>   -0.2554</td> <td>    1.675</td> <td>   -0.153</td> <td> 0.879</td> <td>   -3.538</td> <td>    3.027</td>\n",
       "</tr>\n",
       "<tr>\n",
       "  <th>pct_65a69</th>            <td>   -0.1347</td> <td>    1.677</td> <td>   -0.080</td> <td> 0.936</td> <td>   -3.422</td> <td>    3.153</td>\n",
       "</tr>\n",
       "<tr>\n",
       "  <th>pct_70a74</th>            <td>   -0.3076</td> <td>    1.722</td> <td>   -0.179</td> <td> 0.858</td> <td>   -3.683</td> <td>    3.068</td>\n",
       "</tr>\n",
       "<tr>\n",
       "  <th>pct_75a79</th>            <td>    1.2222</td> <td>    1.799</td> <td>    0.679</td> <td> 0.497</td> <td>   -2.305</td> <td>    4.749</td>\n",
       "</tr>\n",
       "<tr>\n",
       "  <th>pct_80a84</th>            <td>   -1.0516</td> <td>    1.835</td> <td>   -0.573</td> <td> 0.567</td> <td>   -4.649</td> <td>    2.546</td>\n",
       "</tr>\n",
       "<tr>\n",
       "  <th>pct_85ainf</th>           <td>   -0.0815</td> <td>    1.641</td> <td>   -0.050</td> <td> 0.960</td> <td>   -3.297</td> <td>    3.134</td>\n",
       "</tr>\n",
       "<tr>\n",
       "  <th>pct_bachelors</th>        <td>    0.0863</td> <td>    0.100</td> <td>    0.860</td> <td> 0.390</td> <td>   -0.110</td> <td>    0.283</td>\n",
       "</tr>\n",
       "<tr>\n",
       "  <th>pct_doctorados</th>       <td>   -0.2212</td> <td>    0.400</td> <td>   -0.553</td> <td> 0.581</td> <td>   -1.006</td> <td>    0.564</td>\n",
       "</tr>\n",
       "<tr>\n",
       "  <th>pct_secundario</th>       <td>    0.0649</td> <td>    0.074</td> <td>    0.875</td> <td> 0.381</td> <td>   -0.080</td> <td>    0.210</td>\n",
       "</tr>\n",
       "<tr>\n",
       "  <th>pct_master</th>           <td>   -0.0066</td> <td>    0.187</td> <td>   -0.035</td> <td> 0.972</td> <td>   -0.373</td> <td>    0.360</td>\n",
       "</tr>\n",
       "<tr>\n",
       "  <th>pct_bicicleta</th>        <td>    0.0675</td> <td>    0.333</td> <td>    0.203</td> <td> 0.839</td> <td>   -0.585</td> <td>    0.720</td>\n",
       "</tr>\n",
       "<tr>\n",
       "  <th>pct_omnibus</th>          <td>    0.1013</td> <td>    0.110</td> <td>    0.918</td> <td> 0.359</td> <td>   -0.115</td> <td>    0.318</td>\n",
       "</tr>\n",
       "<tr>\n",
       "  <th>pct_subtes</th>           <td>   -0.0552</td> <td>    0.092</td> <td>   -0.598</td> <td> 0.550</td> <td>   -0.236</td> <td>    0.126</td>\n",
       "</tr>\n",
       "<tr>\n",
       "  <th>pct_taxi</th>             <td>    0.2752</td> <td>    0.959</td> <td>    0.287</td> <td> 0.774</td> <td>   -1.605</td> <td>    2.155</td>\n",
       "</tr>\n",
       "<tr>\n",
       "  <th>pct_caminata</th>         <td>   -0.1399</td> <td>    0.090</td> <td>   -1.556</td> <td> 0.120</td> <td>   -0.316</td> <td>    0.036</td>\n",
       "</tr>\n",
       "<tr>\n",
       "  <th>mediana_valor_hogar</th>  <td> 5.546e-06</td> <td> 4.03e-06</td> <td>    1.376</td> <td> 0.169</td> <td>-2.35e-06</td> <td> 1.34e-05</td>\n",
       "</tr>\n",
       "</table>\n",
       "<table class=\"simpletable\">\n",
       "<tr>\n",
       "  <th>Omnibus:</th>       <td>2926.270</td> <th>  Durbin-Watson:     </th> <td>   1.604</td> \n",
       "</tr>\n",
       "<tr>\n",
       "  <th>Prob(Omnibus):</th>  <td> 0.000</td>  <th>  Jarque-Bera (JB):  </th> <td>11702.155</td>\n",
       "</tr>\n",
       "<tr>\n",
       "  <th>Skew:</th>           <td> 1.399</td>  <th>  Prob(JB):          </th> <td>    0.00</td> \n",
       "</tr>\n",
       "<tr>\n",
       "  <th>Kurtosis:</th>       <td> 7.490</td>  <th>  Cond. No.          </th> <td>1.71e+08</td> \n",
       "</tr>\n",
       "</table><br/><br/>Warnings:<br/>[1] Standard Errors assume that the covariance matrix of the errors is correctly specified.<br/>[2] The condition number is large, 1.71e+08. This might indicate that there are<br/>strong multicollinearity or other numerical problems."
      ],
      "text/plain": [
       "<class 'statsmodels.iolib.summary.Summary'>\n",
       "\"\"\"\n",
       "                            OLS Regression Results                            \n",
       "==============================================================================\n",
       "Dep. Variable:        unidades_target   R-squared:                       0.287\n",
       "Model:                            OLS   Adj. R-squared:                  0.285\n",
       "Method:                 Least Squares   F-statistic:                     118.4\n",
       "Date:                Mon, 17 Jun 2019   Prob (F-statistic):               0.00\n",
       "Time:                        16:31:45   Log-Likelihood:                -45878.\n",
       "No. Observations:               10034   AIC:                         9.183e+04\n",
       "Df Residuals:                    9999   BIC:                         9.208e+04\n",
       "Df Model:                          34                                         \n",
       "Covariance Type:            nonrobust                                         \n",
       "========================================================================================\n",
       "                           coef    std err          t      P>|t|      [0.025      0.975]\n",
       "----------------------------------------------------------------------------------------\n",
       "const                   52.6055    158.551      0.332      0.740    -258.186     363.397\n",
       "id_pos                  -0.0018   4.82e-05    -37.125      0.000      -0.002      -0.002\n",
       "unidades                 1.3540      0.034     39.509      0.000       1.287       1.421\n",
       "canal                  -16.1352      2.904     -5.557      0.000     -21.827     -10.443\n",
       "competidores            -0.0043      0.006     -0.747      0.455      -0.016       0.007\n",
       "ingreso_mediana       -5.33e-06   3.98e-05     -0.134      0.893   -8.33e-05    7.27e-05\n",
       "densidad_poblacional  1.161e-05   3.76e-05      0.309      0.757   -6.21e-05    8.53e-05\n",
       "pct_0a5                  0.0607      1.611      0.038      0.970      -3.098       3.219\n",
       "pct_5a9                 -1.2601      1.769     -0.712      0.476      -4.728       2.208\n",
       "pct_10a14                0.4725      1.622      0.291      0.771      -2.706       3.651\n",
       "pct_15a19                0.4199      1.597      0.263      0.793      -2.710       3.550\n",
       "pct_20a24               -0.3191      1.593     -0.200      0.841      -3.442       2.804\n",
       "pct_25a29               -0.3237      1.610     -0.201      0.841      -3.480       2.833\n",
       "pct_30a34                0.2510      1.667      0.151      0.880      -3.016       3.518\n",
       "pct_35a39               -0.2725      1.689     -0.161      0.872      -3.583       3.038\n",
       "pct_40a44                0.0528      1.683      0.031      0.975      -3.246       3.351\n",
       "pct_45a49               -0.6935      1.693     -0.410      0.682      -4.011       2.625\n",
       "pct_50a54               -0.1352      1.673     -0.081      0.936      -3.415       3.145\n",
       "pct_55a59               -0.0857      1.669     -0.051      0.959      -3.358       3.186\n",
       "pct_60a64               -0.2554      1.675     -0.153      0.879      -3.538       3.027\n",
       "pct_65a69               -0.1347      1.677     -0.080      0.936      -3.422       3.153\n",
       "pct_70a74               -0.3076      1.722     -0.179      0.858      -3.683       3.068\n",
       "pct_75a79                1.2222      1.799      0.679      0.497      -2.305       4.749\n",
       "pct_80a84               -1.0516      1.835     -0.573      0.567      -4.649       2.546\n",
       "pct_85ainf              -0.0815      1.641     -0.050      0.960      -3.297       3.134\n",
       "pct_bachelors            0.0863      0.100      0.860      0.390      -0.110       0.283\n",
       "pct_doctorados          -0.2212      0.400     -0.553      0.581      -1.006       0.564\n",
       "pct_secundario           0.0649      0.074      0.875      0.381      -0.080       0.210\n",
       "pct_master              -0.0066      0.187     -0.035      0.972      -0.373       0.360\n",
       "pct_bicicleta            0.0675      0.333      0.203      0.839      -0.585       0.720\n",
       "pct_omnibus              0.1013      0.110      0.918      0.359      -0.115       0.318\n",
       "pct_subtes              -0.0552      0.092     -0.598      0.550      -0.236       0.126\n",
       "pct_taxi                 0.2752      0.959      0.287      0.774      -1.605       2.155\n",
       "pct_caminata            -0.1399      0.090     -1.556      0.120      -0.316       0.036\n",
       "mediana_valor_hogar   5.546e-06   4.03e-06      1.376      0.169   -2.35e-06    1.34e-05\n",
       "==============================================================================\n",
       "Omnibus:                     2926.270   Durbin-Watson:                   1.604\n",
       "Prob(Omnibus):                  0.000   Jarque-Bera (JB):            11702.155\n",
       "Skew:                           1.399   Prob(JB):                         0.00\n",
       "Kurtosis:                       7.490   Cond. No.                     1.71e+08\n",
       "==============================================================================\n",
       "\n",
       "Warnings:\n",
       "[1] Standard Errors assume that the covariance matrix of the errors is correctly specified.\n",
       "[2] The condition number is large, 1.71e+08. This might indicate that there are\n",
       "strong multicollinearity or other numerical problems.\n",
       "\"\"\""
      ]
     },
     "execution_count": 50,
     "metadata": {},
     "output_type": "execute_result"
    }
   ],
   "source": [
    "model = sm.OLS(y, X).fit()\n",
    "predictions = model.predict(X) # make the predictions by the model\n",
    "\n",
    "# Print out the statistics\n",
    "model.summary()"
   ]
  },
  {
   "cell_type": "code",
   "execution_count": 51,
   "metadata": {},
   "outputs": [
    {
     "name": "stdout",
     "output_type": "stream",
     "text": [
      "                            OLS Regression Results                            \n",
      "==============================================================================\n",
      "Dep. Variable:        unidades_target   R-squared:                       0.287\n",
      "Model:                            OLS   Adj. R-squared:                  0.285\n",
      "Method:                 Least Squares   F-statistic:                     118.4\n",
      "Date:                Mon, 17 Jun 2019   Prob (F-statistic):               0.00\n",
      "Time:                        16:32:28   Log-Likelihood:                -45878.\n",
      "No. Observations:               10034   AIC:                         9.183e+04\n",
      "Df Residuals:                    9999   BIC:                         9.208e+04\n",
      "Df Model:                          34                                         \n",
      "Covariance Type:            nonrobust                                         \n",
      "========================================================================================\n",
      "                           coef    std err          t      P>|t|      [0.025      0.975]\n",
      "----------------------------------------------------------------------------------------\n",
      "const                   52.6055    158.551      0.332      0.740    -258.186     363.397\n",
      "id_pos                  -0.0018   4.82e-05    -37.125      0.000      -0.002      -0.002\n",
      "unidades                 1.3540      0.034     39.509      0.000       1.287       1.421\n",
      "canal                  -16.1352      2.904     -5.557      0.000     -21.827     -10.443\n",
      "competidores            -0.0043      0.006     -0.747      0.455      -0.016       0.007\n",
      "ingreso_mediana       -5.33e-06   3.98e-05     -0.134      0.893   -8.33e-05    7.27e-05\n",
      "densidad_poblacional  1.161e-05   3.76e-05      0.309      0.757   -6.21e-05    8.53e-05\n",
      "pct_0a5                  0.0607      1.611      0.038      0.970      -3.098       3.219\n",
      "pct_5a9                 -1.2601      1.769     -0.712      0.476      -4.728       2.208\n",
      "pct_10a14                0.4725      1.622      0.291      0.771      -2.706       3.651\n",
      "pct_15a19                0.4199      1.597      0.263      0.793      -2.710       3.550\n",
      "pct_20a24               -0.3191      1.593     -0.200      0.841      -3.442       2.804\n",
      "pct_25a29               -0.3237      1.610     -0.201      0.841      -3.480       2.833\n",
      "pct_30a34                0.2510      1.667      0.151      0.880      -3.016       3.518\n",
      "pct_35a39               -0.2725      1.689     -0.161      0.872      -3.583       3.038\n",
      "pct_40a44                0.0528      1.683      0.031      0.975      -3.246       3.351\n",
      "pct_45a49               -0.6935      1.693     -0.410      0.682      -4.011       2.625\n",
      "pct_50a54               -0.1352      1.673     -0.081      0.936      -3.415       3.145\n",
      "pct_55a59               -0.0857      1.669     -0.051      0.959      -3.358       3.186\n",
      "pct_60a64               -0.2554      1.675     -0.153      0.879      -3.538       3.027\n",
      "pct_65a69               -0.1347      1.677     -0.080      0.936      -3.422       3.153\n",
      "pct_70a74               -0.3076      1.722     -0.179      0.858      -3.683       3.068\n",
      "pct_75a79                1.2222      1.799      0.679      0.497      -2.305       4.749\n",
      "pct_80a84               -1.0516      1.835     -0.573      0.567      -4.649       2.546\n",
      "pct_85ainf              -0.0815      1.641     -0.050      0.960      -3.297       3.134\n",
      "pct_bachelors            0.0863      0.100      0.860      0.390      -0.110       0.283\n",
      "pct_doctorados          -0.2212      0.400     -0.553      0.581      -1.006       0.564\n",
      "pct_secundario           0.0649      0.074      0.875      0.381      -0.080       0.210\n",
      "pct_master              -0.0066      0.187     -0.035      0.972      -0.373       0.360\n",
      "pct_bicicleta            0.0675      0.333      0.203      0.839      -0.585       0.720\n",
      "pct_omnibus              0.1013      0.110      0.918      0.359      -0.115       0.318\n",
      "pct_subtes              -0.0552      0.092     -0.598      0.550      -0.236       0.126\n",
      "pct_taxi                 0.2752      0.959      0.287      0.774      -1.605       2.155\n",
      "pct_caminata            -0.1399      0.090     -1.556      0.120      -0.316       0.036\n",
      "mediana_valor_hogar   5.546e-06   4.03e-06      1.376      0.169   -2.35e-06    1.34e-05\n",
      "==============================================================================\n",
      "Omnibus:                     2926.270   Durbin-Watson:                   1.604\n",
      "Prob(Omnibus):                  0.000   Jarque-Bera (JB):            11702.155\n",
      "Skew:                           1.399   Prob(JB):                         0.00\n",
      "Kurtosis:                       7.490   Cond. No.                     1.71e+08\n",
      "==============================================================================\n",
      "\n",
      "Warnings:\n",
      "[1] Standard Errors assume that the covariance matrix of the errors is correctly specified.\n",
      "[2] The condition number is large, 1.71e+08. This might indicate that there are\n",
      "strong multicollinearity or other numerical problems.\n"
     ]
    }
   ],
   "source": [
    "print(model.summary())"
   ]
  },
  {
   "cell_type": "markdown",
   "metadata": {},
   "source": [
    "#### Linear Regression"
   ]
  },
  {
   "cell_type": "code",
   "execution_count": 52,
   "metadata": {},
   "outputs": [],
   "source": [
    "X.drop('const', inplace=True, axis=1)"
   ]
  },
  {
   "cell_type": "code",
   "execution_count": 53,
   "metadata": {},
   "outputs": [],
   "source": [
    "X_train, X_test, y_train, y_test = train_test_split(X, y, test_size=0.3, random_state=42)"
   ]
  },
  {
   "cell_type": "code",
   "execution_count": 54,
   "metadata": {},
   "outputs": [],
   "source": [
    "model = LinearRegression(n_jobs=4).fit(X_train, y_train)\n"
   ]
  },
  {
   "cell_type": "code",
   "execution_count": 55,
   "metadata": {},
   "outputs": [
    {
     "name": "stdout",
     "output_type": "stream",
     "text": [
      "coefficient of determination: 0.28525809495127674\n",
      "intercept: 23.728950820806787\n",
      "slope: [-1.74227259e-03  1.36756506e+00 -1.51293411e+01 -2.03043439e-04\n",
      " -5.81233475e-06  1.42406550e-05 -1.59919947e-01 -1.40724818e-01\n",
      "  1.51913722e-01  7.59579692e-01 -4.39882439e-02 -1.11824125e-02\n",
      "  5.23245333e-01 -7.27602530e-02  5.44906415e-01 -4.00292975e-01\n",
      "  5.88089763e-01  2.55096935e-02  1.27234295e-01 -6.67671232e-01\n",
      "  2.17607423e-01  1.99444993e+00 -1.39537765e+00  3.64688199e-01\n",
      "  3.06078889e-02  1.35505109e-01  8.53443232e-02 -3.62644963e-02\n",
      " -4.78441235e-03 -4.12809891e-02 -1.32451867e-01  9.76468993e-01\n",
      " -1.26717440e-01  9.77888122e-06]\n"
     ]
    }
   ],
   "source": [
    "r_sq = model.score(X_train, y_train)\n",
    "print('coefficient of determination:', r_sq)\n",
    "\n",
    "print('intercept:', model.intercept_)\n",
    "\n",
    "print('slope:', model.coef_)"
   ]
  },
  {
   "cell_type": "code",
   "execution_count": 56,
   "metadata": {},
   "outputs": [],
   "source": [
    "y_pred = model.predict(X_test)"
   ]
  },
  {
   "cell_type": "code",
   "execution_count": 57,
   "metadata": {},
   "outputs": [],
   "source": [
    "from sklearn.metrics import mean_absolute_error"
   ]
  },
  {
   "cell_type": "code",
   "execution_count": 58,
   "metadata": {},
   "outputs": [],
   "source": [
    "from sklearn.metrics import mean_squared_error"
   ]
  },
  {
   "cell_type": "code",
   "execution_count": 59,
   "metadata": {},
   "outputs": [
    {
     "data": {
      "text/plain": [
       "17.363484992926228"
      ]
     },
     "execution_count": 59,
     "metadata": {},
     "output_type": "execute_result"
    }
   ],
   "source": [
    "mean_absolute_error(y_test, y_pred)"
   ]
  },
  {
   "cell_type": "code",
   "execution_count": 60,
   "metadata": {},
   "outputs": [
    {
     "data": {
      "text/plain": [
       "527.7745462738316"
      ]
     },
     "execution_count": 60,
     "metadata": {},
     "output_type": "execute_result"
    }
   ],
   "source": [
    "mean_squared_error(y_test, y_pred)"
   ]
  },
  {
   "cell_type": "code",
   "execution_count": 61,
   "metadata": {},
   "outputs": [
    {
     "data": {
      "text/plain": [
       "35.283469415783195"
      ]
     },
     "execution_count": 61,
     "metadata": {},
     "output_type": "execute_result"
    }
   ],
   "source": [
    "np.median(y_pred)"
   ]
  },
  {
   "cell_type": "markdown",
   "metadata": {},
   "source": [
    "### Train Final Model"
   ]
  },
  {
   "cell_type": "code",
   "execution_count": 103,
   "metadata": {},
   "outputs": [],
   "source": [
    "model = LinearRegression(n_jobs=4).fit(X, y)"
   ]
  },
  {
   "cell_type": "code",
   "execution_count": 104,
   "metadata": {},
   "outputs": [
    {
     "name": "stdout",
     "output_type": "stream",
     "text": [
      "coefficient of determination: 0.0007475499909412875\n",
      "intercept: -1.6365175382024901\n",
      "slope: [ 8.70905905e-01 -1.12537594e-04 -1.09354694e-06 -3.07725037e-07\n",
      "  3.28578227e-02  9.40190156e-03  3.46916655e-02  5.30874599e-02\n",
      "  1.95930534e-02  4.02258919e-02  2.93068865e-02  2.66377692e-02\n",
      "  2.53146258e-02  3.17748793e-02  4.45670177e-02  1.92741333e-02\n",
      "  3.72199997e-02  6.98816004e-03  3.06150826e-02  6.65113521e-02\n",
      "  4.60427094e-02  8.63861108e-03  2.67869965e-03 -1.20443590e-04\n",
      "  3.58852659e-03  5.39232994e-03  2.14770958e-02 -1.63395871e-04\n",
      " -6.64356302e-04  1.01362499e-02 -4.33665929e-03  3.92879130e-08]\n"
     ]
    }
   ],
   "source": [
    "r_sq = model.score(X_train, y_train)\n",
    "print('coefficient of determination:', r_sq)\n",
    "\n",
    "print('intercept:', model.intercept_)\n",
    "\n",
    "print('slope:', model.coef_)"
   ]
  },
  {
   "cell_type": "code",
   "execution_count": 105,
   "metadata": {},
   "outputs": [],
   "source": [
    "y_pred = model.predict(X)"
   ]
  },
  {
   "cell_type": "code",
   "execution_count": 106,
   "metadata": {},
   "outputs": [
    {
     "data": {
      "text/plain": [
       "1.574054994556819"
      ]
     },
     "execution_count": 106,
     "metadata": {},
     "output_type": "execute_result"
    }
   ],
   "source": [
    "mean_absolute_error(y, y_pred)"
   ]
  },
  {
   "cell_type": "code",
   "execution_count": null,
   "metadata": {},
   "outputs": [],
   "source": []
  },
  {
   "cell_type": "code",
   "execution_count": null,
   "metadata": {},
   "outputs": [],
   "source": []
  },
  {
   "cell_type": "code",
   "execution_count": null,
   "metadata": {},
   "outputs": [],
   "source": []
  }
 ],
 "metadata": {
  "kernelspec": {
   "display_name": "Python 3",
   "language": "python",
   "name": "python3"
  },
  "language_info": {
   "codemirror_mode": {
    "name": "ipython",
    "version": 3
   },
   "file_extension": ".py",
   "mimetype": "text/x-python",
   "name": "python",
   "nbconvert_exporter": "python",
   "pygments_lexer": "ipython3",
   "version": "3.7.3"
  }
 },
 "nbformat": 4,
 "nbformat_minor": 2
}
