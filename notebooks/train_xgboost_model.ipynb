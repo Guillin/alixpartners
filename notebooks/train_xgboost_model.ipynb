{
 "cells": [
  {
   "cell_type": "code",
   "execution_count": 1,
   "metadata": {},
   "outputs": [],
   "source": [
    "import pandas as pd\n",
    "import numpy as np\n",
    "import matplotlib.pyplot as plt\n",
    "from sklearn.model_selection import train_test_split\n",
    "from sklearn.model_selection import GridSearchCV\n",
    "from sklearn import preprocessing\n",
    "import xgboost as xgb"
   ]
  },
  {
   "cell_type": "code",
   "execution_count": 2,
   "metadata": {},
   "outputs": [],
   "source": [
    "from sklearn.metrics import mean_absolute_error\n",
    "from datetime import date"
   ]
  },
  {
   "cell_type": "code",
   "execution_count": 3,
   "metadata": {},
   "outputs": [],
   "source": [
    "import warnings\n",
    "warnings.filterwarnings(action='ignore')"
   ]
  },
  {
   "cell_type": "code",
   "execution_count": 4,
   "metadata": {},
   "outputs": [],
   "source": [
    "import matplotlib.pyplot as plt"
   ]
  },
  {
   "cell_type": "code",
   "execution_count": 5,
   "metadata": {},
   "outputs": [],
   "source": [
    "# set the seed of random number generator, which is useful for creating simulations \n",
    "# or random objects that can be reproduced.\n",
    "import random\n",
    "SEED=3\n",
    "random.seed(SEED)\n",
    "np.random.seed(SEED)"
   ]
  },
  {
   "cell_type": "raw",
   "metadata": {},
   "source": [
    "# Load Train Data\n",
    "train = pd.read_csv('../data/processed/train_agg_x_envios.csv', sep=';')"
   ]
  },
  {
   "cell_type": "code",
   "execution_count": 6,
   "metadata": {},
   "outputs": [],
   "source": [
    "# Load Train Data\n",
    "train = pd.read_pickle('../data/processed/train_x_envios_feateng.pkl')"
   ]
  },
  {
   "cell_type": "code",
   "execution_count": 7,
   "metadata": {},
   "outputs": [
    {
     "data": {
      "text/plain": [
       "(34183, 95)"
      ]
     },
     "execution_count": 7,
     "metadata": {},
     "output_type": "execute_result"
    }
   ],
   "source": [
    "train.shape"
   ]
  },
  {
   "cell_type": "code",
   "execution_count": 8,
   "metadata": {},
   "outputs": [],
   "source": [
    "train['fecha_venta_norm'] = pd.to_datetime(train['fecha_venta_norm'])"
   ]
  },
  {
   "cell_type": "code",
   "execution_count": 9,
   "metadata": {},
   "outputs": [],
   "source": [
    "train['fecha_venta_norm'] = train['fecha_venta_norm'].dt.date"
   ]
  },
  {
   "cell_type": "raw",
   "metadata": {},
   "source": [
    "# Filtramos los meses que consideramos buenos para el entrenamiento (11 y 12)\n",
    "train = train[train.fecha_venta_norm.isin([\n",
    "                                        date(2012, 11, 1),\n",
    "                                        date(2012, 12, 1),\n",
    "                                        date(2013, 11, 1), \n",
    "                                        date(2013, 12, 1), \n",
    "                                        date(2014, 11, 1)\n",
    "])]"
   ]
  },
  {
   "cell_type": "raw",
   "metadata": {},
   "source": [
    "predictors = ['id_pos','canal', 'competidores',\n",
    "       'ingreso_mediana', 'densidad_poblacional',\n",
    "       'pct_0a5', 'pct_5a9', 'pct_10a14', 'pct_15a19', 'pct_20a24',\n",
    "       'pct_25a29', 'pct_30a34', 'pct_35a39', 'pct_40a44', 'pct_45a49',\n",
    "       'pct_50a54', 'pct_55a59', 'pct_60a64', 'pct_65a69', 'pct_70a74',\n",
    "       'pct_75a79', 'pct_80a84', 'pct_85ainf', 'pct_bachelors',\n",
    "       'pct_doctorados', 'pct_secundario', 'pct_master', 'pct_bicicleta',\n",
    "       'pct_omnibus', 'pct_subtes', 'pct_taxi', 'pct_caminata',\n",
    "       'mediana_valor_hogar', 'unidades']"
   ]
  },
  {
   "cell_type": "code",
   "execution_count": 10,
   "metadata": {},
   "outputs": [],
   "source": [
    "predictors = [\n",
    "    'id_pos', \n",
    "    'canal',\n",
    "    'competidores',\n",
    "    'ingreso_mediana',\n",
    "    'ingreso_promedio',\n",
    "    'densidad_poblacional',\n",
    "    'pct_0a5',\n",
    "    'pct_5a9',\n",
    "    'pct_10a14',\n",
    "    'pct_15a19',\n",
    "    'pct_20a24',\n",
    "    'pct_25a29',\n",
    "    'pct_30a34',\n",
    "    'pct_35a39',\n",
    "    'pct_40a44',\n",
    "    'pct_45a49',\n",
    "    'pct_50a54',\n",
    "    'pct_55a59',\n",
    "    'pct_60a64',\n",
    "    'pct_65a69',\n",
    "    'pct_70a74',\n",
    "    'pct_75a79',\n",
    "    'pct_80a84',\n",
    "    'pct_85ainf',\n",
    "    'pct_bachelors',\n",
    "    'pct_doctorados',\n",
    "    'pct_secundario',\n",
    "    'pct_master',\n",
    "    'pct_bicicleta',\n",
    "    'pct_omnibus',\n",
    "    'pct_subtes',\n",
    "    'pct_taxi',\n",
    "    'pct_caminata',\n",
    "    'mediana_valor_hogar',\n",
    "    'unidades_despachadas_sum', \n",
    "    'unidades_despachadas_max',\n",
    "    'unidades_despachadas_min', \n",
    "    'unidades_despachadas_avg',\n",
    "    'cantidad_envios_max', \n",
    "    'cantidad_envios_min', \n",
    "    'cantidad_envios_avg',\n",
    "    'num_cantidad_envios', \n",
    "    'unidades_despachadas_sum_acum', \n",
    "    'unidades_despachadas_sum_acum_3p',\n",
    "    'unidades_despachadas_sum_acum_6p', \n",
    "    'unidades_despachadas_max_acum', \n",
    "    'unidades_despachadas_min_acum', \n",
    "    'num_cantidad_envios_acum', \n",
    "    'num_cantidad_envios_acum_3per',\n",
    "    'num_cantidad_envios_acum_6per', \n",
    "    'diff_dtventa_dtenvio',\n",
    "    'unidades_before', \n",
    "    'num_ventas_before',\n",
    "    'rel_unidades_num_ventas', \n",
    "    'unidades_acum', \n",
    "    'num_ventas_acum',\n",
    "    'countacum', 'unidades_mean', \n",
    "    'num_ventas_mean',\n",
    "    'unidades_2time_before', \n",
    "    'unidades_diff', \n",
    "    'month',\n",
    "    'diff_dtventa_dtventa_before', \n",
    "    'unidades_pend',\n",
    "    'unidades'\n",
    "]"
   ]
  },
  {
   "cell_type": "code",
   "execution_count": 11,
   "metadata": {},
   "outputs": [],
   "source": [
    "train = train[predictors]"
   ]
  },
  {
   "cell_type": "markdown",
   "metadata": {},
   "source": [
    "#### encode catvars"
   ]
  },
  {
   "cell_type": "code",
   "execution_count": 12,
   "metadata": {},
   "outputs": [],
   "source": [
    "le = preprocessing.LabelEncoder()"
   ]
  },
  {
   "cell_type": "code",
   "execution_count": 13,
   "metadata": {},
   "outputs": [
    {
     "data": {
      "text/plain": [
       "LabelEncoder()"
      ]
     },
     "execution_count": 13,
     "metadata": {},
     "output_type": "execute_result"
    }
   ],
   "source": [
    "le.fit(train['canal'].unique())"
   ]
  },
  {
   "cell_type": "code",
   "execution_count": 14,
   "metadata": {},
   "outputs": [],
   "source": [
    "train['canal'] = le.transform(train['canal'].values)"
   ]
  },
  {
   "cell_type": "code",
   "execution_count": 15,
   "metadata": {},
   "outputs": [],
   "source": [
    "X, y = train.iloc[:,:-1],train.iloc[:,-1]\n"
   ]
  },
  {
   "cell_type": "code",
   "execution_count": 16,
   "metadata": {},
   "outputs": [],
   "source": [
    "data_dmatrix = xgb.DMatrix(data=X,label=y)"
   ]
  },
  {
   "cell_type": "code",
   "execution_count": 17,
   "metadata": {},
   "outputs": [],
   "source": [
    "X_train, X_test, y_train, y_test = train_test_split(X, y, test_size=0.2, random_state=123)"
   ]
  },
  {
   "cell_type": "markdown",
   "metadata": {},
   "source": [
    "### Hyperparameters tuning"
   ]
  },
  {
   "cell_type": "code",
   "execution_count": 18,
   "metadata": {},
   "outputs": [],
   "source": [
    "## =========================================================================================================\n",
    "# \n",
    "#  Booster Parameters \n",
    "#\n",
    "# n_estimators\n",
    "#    - The number of sequential trees to be modeled\n",
    "#    - Though GBM is fairly robust at higher number of trees but it can still overfit at a point.\n",
    "#\n",
    "# max_depth [default=6]\n",
    "#    - The maximum depth of a tree.\n",
    "#    - Used to control over-fitting as higher depth will allow model to learn relations very pecific to a particular sample.\n",
    "#    - Typical values: 3-10\n",
    "#\n",
    "# min_child_weight [default=1]\n",
    "#    - Defines the minimum sum of weights of all observations required in a child.\n",
    "#    - This is similar to min_child_leaf in GBM but not exactly.\n",
    "#      This refers to min sum of weightsof observations while GBM has min number of observations.\n",
    "#    - Used to control over-fitting. Higher values prevent a model from learning relations\n",
    "#      which might be highly specific to the particular sample selected for a tree.\n",
    "#    - Too high values can lead to under-fitting hence, it should be tuned using CV.\n",
    "#\n",
    "# eta : learning rate\n",
    "#   - Makes the model more robust by shrinking the weights on each step\n",
    "#   - Typical final values to be used: 0.01-0.2\n",
    "#\n",
    "# gamma [default=0]\n",
    "#\n",
    "#    - A node is split only when the resulting split gives a positive reduction in the loss function.\n",
    "#    - Gamma specifies the minimum loss reduction required to make a split.\n",
    "#    - Makes the algorithm conservative. The values can vary depending on the loss function and should be tuned.\n",
    "#\n",
    "# subsample [default=1]\n",
    "#     - Denotes the fraction of observations to be randomly samples for each tree.\n",
    "#     - Lower values make the algorithm more conservative and prevents overfitting but too small values\n",
    "#       might lead to under-fitting.\n",
    "#     - Typical values: 0.5-1\n",
    "#\n",
    "# colsample_bytree [default=1]\n",
    "#     - Denotes the fraction of columns to be randomly samples for each tree.\n",
    "#     - Typical values: 0.5-1\n",
    "#\n",
    "# alpha [default=0]\n",
    "#     - L1 regularization term on weight (analogous to Lasso regression)\n",
    "#     - Can be used in case of very high dimensionality so that the algorithm runs faster when implemented\n",
    "#\n",
    "# scale_pos_weight [default=1]\n",
    "#     A value greater than 0 should be used in case of high class imbalance as it helps in faster convergence.\n",
    "#\n",
    "## ===========================================================================================================\n"
   ]
  },
  {
   "cell_type": "markdown",
   "metadata": {},
   "source": [
    "#### Number of trees (estimators)"
   ]
  },
  {
   "cell_type": "code",
   "execution_count": 19,
   "metadata": {},
   "outputs": [],
   "source": [
    "# 5 fold cross validation is more accurate than using a single validation set\n",
    "cv_folds = 5\n",
    "early_stopping_rounds = 50\n",
    "model = xgb.XGBRegressor(seed = SEED)"
   ]
  },
  {
   "cell_type": "code",
   "execution_count": 20,
   "metadata": {},
   "outputs": [],
   "source": [
    "xgb_param = model.get_xgb_params()"
   ]
  },
  {
   "cell_type": "code",
   "execution_count": 21,
   "metadata": {},
   "outputs": [
    {
     "data": {
      "text/plain": [
       "{'base_score': 0.5,\n",
       " 'booster': 'gbtree',\n",
       " 'colsample_bylevel': 1,\n",
       " 'colsample_bynode': 1,\n",
       " 'colsample_bytree': 1,\n",
       " 'gamma': 0,\n",
       " 'importance_type': 'gain',\n",
       " 'learning_rate': 0.1,\n",
       " 'max_delta_step': 0,\n",
       " 'max_depth': 3,\n",
       " 'min_child_weight': 1,\n",
       " 'missing': None,\n",
       " 'n_estimators': 100,\n",
       " 'nthread': 1,\n",
       " 'objective': 'reg:linear',\n",
       " 'reg_alpha': 0,\n",
       " 'reg_lambda': 1,\n",
       " 'scale_pos_weight': 1,\n",
       " 'seed': 3,\n",
       " 'subsample': 1,\n",
       " 'verbosity': 1}"
      ]
     },
     "execution_count": 21,
     "metadata": {},
     "output_type": "execute_result"
    }
   ],
   "source": [
    "xgb_param"
   ]
  },
  {
   "cell_type": "code",
   "execution_count": 22,
   "metadata": {},
   "outputs": [],
   "source": [
    "# To train on GPU\n",
    "xgb_param['objective'] = 'reg:squarederror'\n",
    "xgb_param['gpu_id'] = 0\n",
    "xgb_param['max_bin'] = 16\n",
    "xgb_param['tree_method'] = 'gpu_hist'\n",
    "xgb_param['learning_rate'] = 0.01"
   ]
  },
  {
   "cell_type": "code",
   "execution_count": 23,
   "metadata": {},
   "outputs": [
    {
     "name": "stdout",
     "output_type": "stream",
     "text": [
      "     train-mae-mean  train-mae-std  test-mae-mean  test-mae-std\n",
      "0         16.996942       0.065061      16.996178      0.260002\n",
      "1         16.827683       0.064313      16.826592      0.257005\n",
      "2         16.660298       0.063513      16.658926      0.254936\n",
      "3         16.495076       0.062743      16.493558      0.252007\n",
      "4         16.332416       0.061705      16.330890      0.250181\n",
      "5         16.172799       0.060925      16.171397      0.247527\n",
      "6         16.016077       0.059897      16.014425      0.245859\n",
      "7         15.863063       0.058540      15.861518      0.243481\n",
      "8         15.711118       0.057864      15.709253      0.241695\n",
      "9         15.560974       0.056823      15.559454      0.240225\n",
      "10        15.413309       0.056899      15.411897      0.237793\n",
      "11        15.266619       0.055679      15.265565      0.236694\n",
      "12        15.123474       0.055923      15.122809      0.234106\n",
      "13        14.984010       0.055471      14.983577      0.232073\n",
      "14        14.852523       0.054278      14.852324      0.230944\n",
      "15        14.720367       0.055487      14.720609      0.227636\n",
      "16        14.590998       0.054940      14.591821      0.225918\n",
      "17        14.464101       0.054679      14.464795      0.223930\n",
      "18        14.336536       0.055736      14.337903      0.220175\n",
      "19        14.212162       0.055307      14.213740      0.218110\n",
      "20        14.089995       0.054285      14.092321      0.217077\n",
      "21        13.968001       0.055881      13.970438      0.213245\n",
      "22        13.849181       0.055659      13.852360      0.211691\n",
      "23        13.730256       0.056907      13.733972      0.208116\n",
      "24        13.615473       0.056748      13.619300      0.206148\n",
      "25        13.502410       0.056031      13.506735      0.204498\n",
      "26        13.388929       0.057531      13.393741      0.200891\n",
      "27        13.278217       0.056755      13.283513      0.200280\n",
      "28        13.169118       0.056914      13.174390      0.197499\n",
      "29        13.057615       0.057401      13.063439      0.195713\n",
      "..              ...            ...            ...           ...\n",
      "970        5.712940       0.031682       5.806100      0.109162\n",
      "971        5.712591       0.031480       5.805825      0.109215\n",
      "972        5.712421       0.031576       5.805755      0.109176\n",
      "973        5.712207       0.031649       5.805627      0.109092\n",
      "974        5.711870       0.031548       5.805379      0.109154\n",
      "975        5.711703       0.031542       5.805277      0.109165\n",
      "976        5.711501       0.031641       5.805197      0.109167\n",
      "977        5.711283       0.031597       5.804998      0.109263\n",
      "978        5.711150       0.031573       5.804954      0.109278\n",
      "979        5.710855       0.031508       5.804757      0.109300\n",
      "980        5.710658       0.031584       5.804603      0.109204\n",
      "981        5.710452       0.031604       5.804456      0.109192\n",
      "982        5.710095       0.031808       5.804163      0.109007\n",
      "983        5.709867       0.031695       5.804033      0.109038\n",
      "984        5.709510       0.031592       5.803773      0.109001\n",
      "985        5.709271       0.031595       5.803620      0.108995\n",
      "986        5.709007       0.031653       5.803458      0.108904\n",
      "987        5.708704       0.031559       5.803204      0.109080\n",
      "988        5.708502       0.031508       5.803118      0.109081\n",
      "989        5.708301       0.031531       5.802985      0.109070\n",
      "990        5.708107       0.031630       5.802824      0.108991\n",
      "991        5.707870       0.031599       5.802676      0.109045\n",
      "992        5.707673       0.031515       5.802556      0.109032\n",
      "993        5.707521       0.031520       5.802460      0.109052\n",
      "994        5.707358       0.031473       5.802390      0.109065\n",
      "995        5.707206       0.031445       5.802329      0.109093\n",
      "996        5.707007       0.031475       5.802183      0.109042\n",
      "997        5.706849       0.031480       5.802101      0.109108\n",
      "998        5.706713       0.031509       5.802030      0.109123\n",
      "999        5.706567       0.031500       5.801977      0.109126\n",
      "\n",
      "[1000 rows x 4 columns]\n",
      "Optimal number of trees (estimators) is 1000\n"
     ]
    }
   ],
   "source": [
    "cvresult = xgb.cv(params=xgb_param, dtrain=data_dmatrix, num_boost_round = 1000, nfold = cv_folds, metrics = 'mae', early_stopping_rounds = early_stopping_rounds, seed = SEED)\n",
    "print(cvresult)\n",
    "print (\"Optimal number of trees (estimators) is %i\" % cvresult.shape[0])"
   ]
  },
  {
   "cell_type": "code",
   "execution_count": 24,
   "metadata": {},
   "outputs": [
    {
     "data": {
      "text/plain": [
       "XGBRegressor(base_score=0.5, booster='gbtree', colsample_bylevel=1,\n",
       "       colsample_bynode=1, colsample_bytree=1, gamma=0, gpu_id=0,\n",
       "       importance_type='gain', learning_rate=0.01, max_bin=16,\n",
       "       max_delta_step=0, max_depth=3, min_child_weight=1, missing=None,\n",
       "       n_estimators=1000, n_jobs=1, nthread=None,\n",
       "       objective='reg:squarederror', random_state=0, reg_alpha=0,\n",
       "       reg_lambda=1, scale_pos_weight=1, seed=3, silent=None, subsample=1,\n",
       "       tree_method='gpu_hist', verbosity=1)"
      ]
     },
     "execution_count": 24,
     "metadata": {},
     "output_type": "execute_result"
    }
   ],
   "source": [
    "model.set_params(objective = 'reg:squarederror')\n",
    "model.set_params(gpu_id = 0)\n",
    "model.set_params(max_bin= 16)\n",
    "\n",
    "model.set_params(learning_rate = 0.01)\n",
    "model.set_params(n_estimators=1000)\n",
    "model.set_params(tree_method='gpu_hist')\n",
    "\n",
    "model.fit(X,y)"
   ]
  },
  {
   "cell_type": "code",
   "execution_count": 25,
   "metadata": {},
   "outputs": [
    {
     "data": {
      "text/plain": [
       "Text(0, 0.5, 'Feature Importance Score')"
      ]
     },
     "execution_count": 25,
     "metadata": {},
     "output_type": "execute_result"
    },
    {
     "data": {
      "image/png": "[encoded data removed]",
      "text/plain": [
       "<Figure size 1152x432 with 1 Axes>"
      ]
     },
     "metadata": {
      "needs_background": "light"
     },
     "output_type": "display_data"
    }
   ],
   "source": [
    "feat_imp = pd.Series(model.feature_importances_, index=X.columns).sort_values(ascending=False)\n",
    "feat_imp.plot(kind='bar', title='Feature Importances',figsize=(16,6))\n",
    "plt.ylabel('Feature Importance Score')"
   ]
  },
  {
   "cell_type": "markdown",
   "metadata": {},
   "source": [
    "#### max_depth & min_child_weight"
   ]
  },
  {
   "cell_type": "code",
   "execution_count": 26,
   "metadata": {},
   "outputs": [],
   "source": [
    "model.set_params(objective = 'reg:squarederror')\n",
    "model.set_params(gpu_id = 0)\n",
    "model.set_params(max_bin= 16)\n",
    "\n",
    "model.set_params(learning_rate = 0.01)\n",
    "model.set_params(n_estimators=1000)\n",
    "model.set_params(tree_method='gpu_hist')\n",
    "\n",
    "\n",
    "param_test1 = {\n",
    "'max_depth': [i for i in range(2,8,1)],\n",
    "'min_child_weight': [i for i in range(1,6,1)]\n",
    "}"
   ]
  },
  {
   "cell_type": "code",
   "execution_count": 27,
   "metadata": {},
   "outputs": [],
   "source": [
    "gsearch1 = GridSearchCV(estimator = model, param_grid = param_test1, scoring = 'neg_mean_absolute_error',  iid = False, cv = cv_folds, verbose = 1)"
   ]
  },
  {
   "cell_type": "code",
   "execution_count": 28,
   "metadata": {
    "scrolled": true
   },
   "outputs": [
    {
     "name": "stdout",
     "output_type": "stream",
     "text": [
      "Fitting 5 folds for each of 30 candidates, totalling 150 fits\n"
     ]
    },
    {
     "name": "stderr",
     "output_type": "stream",
     "text": [
      "[Parallel(n_jobs=1)]: Using backend SequentialBackend with 1 concurrent workers.\n",
      "[Parallel(n_jobs=1)]: Done 150 out of 150 | elapsed: 20.5min finished\n"
     ]
    }
   ],
   "source": [
    "res =gsearch1.fit(X_train,y_train)"
   ]
  },
  {
   "cell_type": "code",
   "execution_count": 29,
   "metadata": {},
   "outputs": [
    {
     "name": "stdout",
     "output_type": "stream",
     "text": [
      "{'max_depth': 7, 'min_child_weight': 4}\n",
      "-5.576470857893801\n"
     ]
    }
   ],
   "source": [
    "#print gsearch1.grid_scores_\n",
    "print(gsearch1.best_params_)\n",
    "print(gsearch1.best_score_)"
   ]
  },
  {
   "cell_type": "markdown",
   "metadata": {},
   "source": [
    "#### gamma"
   ]
  },
  {
   "cell_type": "code",
   "execution_count": 30,
   "metadata": {},
   "outputs": [],
   "source": [
    "model.set_params(max_depth = 7)\n",
    "model.set_params(min_child_weight = 4)\n",
    "\n",
    "param_test2 = {\n",
    "'gamma':[i/10.0 for i in range(0,5)]\n",
    "}\n"
   ]
  },
  {
   "cell_type": "code",
   "execution_count": 31,
   "metadata": {},
   "outputs": [
    {
     "name": "stdout",
     "output_type": "stream",
     "text": [
      "Fitting 5 folds for each of 5 candidates, totalling 25 fits\n"
     ]
    },
    {
     "name": "stderr",
     "output_type": "stream",
     "text": [
      "[Parallel(n_jobs=1)]: Using backend SequentialBackend with 1 concurrent workers.\n",
      "[Parallel(n_jobs=1)]: Done  25 out of  25 | elapsed:  5.0min finished\n"
     ]
    },
    {
     "data": {
      "text/plain": [
       "GridSearchCV(cv=5, error_score='raise-deprecating',\n",
       "       estimator=XGBRegressor(base_score=0.5, booster='gbtree', colsample_bylevel=1,\n",
       "       colsample_bynode=1, colsample_bytree=1, gamma=0, gpu_id=0,\n",
       "       importance_type='gain', learning_rate=0.01, max_bin=16,\n",
       "       max_delta_step=0, max_depth=7, min_child_weight=4, missing=None,\n",
       "       n_estimators=1...1, scale_pos_weight=1, seed=3, silent=None, subsample=1,\n",
       "       tree_method='gpu_hist', verbosity=1),\n",
       "       fit_params=None, iid=False, n_jobs=None,\n",
       "       param_grid={'gamma': [0.0, 0.1, 0.2, 0.3, 0.4]},\n",
       "       pre_dispatch='2*n_jobs', refit=True, return_train_score='warn',\n",
       "       scoring='neg_mean_absolute_error', verbose=1)"
      ]
     },
     "execution_count": 31,
     "metadata": {},
     "output_type": "execute_result"
    }
   ],
   "source": [
    "gsearch2 = GridSearchCV(estimator = model, param_grid = param_test2, scoring = 'neg_mean_absolute_error',  iid = False, cv = cv_folds, verbose = 1)\n",
    "gsearch2.fit(X_train,y_train)"
   ]
  },
  {
   "cell_type": "code",
   "execution_count": 32,
   "metadata": {},
   "outputs": [
    {
     "name": "stdout",
     "output_type": "stream",
     "text": [
      "{'gamma': 0.0}\n",
      "-5.576470857893801\n"
     ]
    }
   ],
   "source": [
    "print(gsearch2.best_params_)\n",
    "print(gsearch2.best_score_)"
   ]
  },
  {
   "cell_type": "markdown",
   "metadata": {},
   "source": [
    "#### Recal number of trees (estimators)"
   ]
  },
  {
   "cell_type": "code",
   "execution_count": 19,
   "metadata": {},
   "outputs": [],
   "source": [
    "# 5 fold cross validation is more accurate than using a single validation set\n",
    "cv_folds = 5\n",
    "early_stopping_rounds = 50\n",
    "model = xgb.XGBRegressor(seed = SEED)"
   ]
  },
  {
   "cell_type": "code",
   "execution_count": 20,
   "metadata": {},
   "outputs": [],
   "source": [
    "xgb_param = model.get_xgb_params()"
   ]
  },
  {
   "cell_type": "code",
   "execution_count": 21,
   "metadata": {},
   "outputs": [],
   "source": [
    "# To train on GPU\n",
    "xgb_param['objective'] = 'reg:squarederror'\n",
    "xgb_param['gpu_id'] = 0\n",
    "xgb_param['max_bin'] = 16\n",
    "xgb_param['tree_method'] = 'gpu_hist'\n",
    "xgb_param['learning_rate'] = 0.01\n",
    "xgb_param['gamma'] = 0.0\n",
    "xgb_param['max_depth'] = 7\n",
    "xgb_param['min_child_weight'] = 4"
   ]
  },
  {
   "cell_type": "code",
   "execution_count": 22,
   "metadata": {},
   "outputs": [
    {
     "name": "stdout",
     "output_type": "stream",
     "text": [
      "     train-mae-mean  train-mae-std  test-mae-mean  test-mae-std\n",
      "0         16.997697       0.065034      16.997463      0.260372\n",
      "1         16.828657       0.064343      16.828224      0.257683\n",
      "2         16.661378       0.063660      16.660743      0.255031\n",
      "3         16.495951       0.062987      16.495135      0.252511\n",
      "4         16.332359       0.062283      16.331143      0.249874\n",
      "5         16.170497       0.061636      16.169159      0.247268\n",
      "6         16.010664       0.061072      16.009269      0.244700\n",
      "7         15.852994       0.060512      15.851453      0.242255\n",
      "8         15.697456       0.059867      15.695982      0.239872\n",
      "9         15.543846       0.059136      15.542439      0.237438\n",
      "10        15.392373       0.058290      15.390947      0.235286\n",
      "11        15.242987       0.057571      15.241646      0.232983\n",
      "12        15.095462       0.056899      15.094234      0.230979\n",
      "13        14.949644       0.056326      14.948698      0.228751\n",
      "14        14.805946       0.055642      14.805302      0.226727\n",
      "15        14.663996       0.055066      14.663839      0.224737\n",
      "16        14.523940       0.054538      14.524023      0.222900\n",
      "17        14.385761       0.054178      14.386519      0.220699\n",
      "18        14.249345       0.053736      14.250572      0.218634\n",
      "19        14.114664       0.053347      14.116397      0.216485\n",
      "20        13.981868       0.053024      13.984136      0.214459\n",
      "21        13.850954       0.052640      13.853997      0.212449\n",
      "22        13.721778       0.052352      13.725441      0.210371\n",
      "23        13.594313       0.051894      13.598682      0.208595\n",
      "24        13.468476       0.051549      13.473463      0.206780\n",
      "25        13.344474       0.051230      13.350541      0.204765\n",
      "26        13.222065       0.050851      13.228910      0.203110\n",
      "27        13.101368       0.050548      13.109103      0.201288\n",
      "28        12.982173       0.050319      12.991006      0.199583\n",
      "29        12.864668       0.050109      12.874616      0.197830\n",
      "..              ...            ...            ...           ...\n",
      "621        4.681801       0.020360       5.532985      0.126719\n",
      "622        4.681024       0.020115       5.532848      0.126629\n",
      "623        4.679982       0.019967       5.532805      0.126739\n",
      "624        4.679042       0.019807       5.532768      0.126806\n",
      "625        4.678223       0.019748       5.532609      0.126895\n",
      "626        4.677137       0.019752       5.532422      0.126801\n",
      "627        4.676179       0.019650       5.532407      0.126928\n",
      "628        4.675625       0.019717       5.532279      0.126834\n",
      "629        4.674634       0.019665       5.532275      0.127027\n",
      "630        4.673967       0.019565       5.532234      0.127050\n",
      "631        4.673494       0.019357       5.532198      0.127061\n",
      "632        4.672570       0.019390       5.532225      0.127127\n",
      "633        4.671680       0.019529       5.532197      0.127239\n",
      "634        4.670933       0.019578       5.532194      0.127044\n",
      "635        4.670385       0.019757       5.532230      0.127056\n",
      "636        4.669516       0.019680       5.532260      0.127056\n",
      "637        4.668797       0.019749       5.532295      0.127139\n",
      "638        4.668190       0.019822       5.532328      0.127249\n",
      "639        4.667286       0.019960       5.532208      0.127290\n",
      "640        4.666221       0.020268       5.532083      0.127102\n",
      "641        4.665408       0.020025       5.532236      0.127162\n",
      "642        4.664321       0.020043       5.532257      0.127164\n",
      "643        4.663308       0.020230       5.532146      0.127013\n",
      "644        4.662735       0.020177       5.532239      0.126962\n",
      "645        4.661790       0.020374       5.532118      0.126737\n",
      "646        4.660932       0.020504       5.532210      0.126780\n",
      "647        4.660146       0.020440       5.532240      0.126811\n",
      "648        4.659427       0.020665       5.532195      0.126794\n",
      "649        4.658489       0.020985       5.532096      0.126587\n",
      "650        4.657553       0.021085       5.532071      0.126698\n",
      "\n",
      "[651 rows x 4 columns]\n",
      "Optimal number of trees (estimators) is 651\n"
     ]
    }
   ],
   "source": [
    "cvresult = xgb.cv(params=xgb_param, dtrain=data_dmatrix, num_boost_round = 1000, nfold = cv_folds, metrics = 'mae', early_stopping_rounds = early_stopping_rounds, seed = SEED)\n",
    "print(cvresult)\n",
    "print (\"Optimal number of trees (estimators) is %i\" % cvresult.shape[0])"
   ]
  },
  {
   "cell_type": "markdown",
   "metadata": {},
   "source": [
    "- N_estimators = 1000. Se encontro un mejor numero de estimadores"
   ]
  },
  {
   "cell_type": "markdown",
   "metadata": {},
   "source": [
    "#### subsample & colsample_bytree"
   ]
  },
  {
   "cell_type": "code",
   "execution_count": 23,
   "metadata": {},
   "outputs": [],
   "source": [
    "model.set_params(objective = 'reg:squarederror')\n",
    "model.set_params(gpu_id = 0)\n",
    "model.set_params(max_bin= 16)\n",
    "model.set_params(tree_method='gpu_hist')\n",
    "model.set_params(learning_rate = 0.01)\n",
    "model.set_params(n_estimators = 651)\n",
    "model.set_params(max_depth = 7)\n",
    "model.set_params(min_child_weight = 4)\n",
    "model.set_params(gamma = 0.0)\n",
    "\n",
    "\n",
    "\n",
    "param_test3 = {\n",
    "'subsample' : [i/10.0 for i in range(6,11)],\n",
    "'colsample_bytree' : [i/10.0 for i in range(6,11)]\n",
    "}\n"
   ]
  },
  {
   "cell_type": "code",
   "execution_count": 24,
   "metadata": {},
   "outputs": [
    {
     "name": "stdout",
     "output_type": "stream",
     "text": [
      "Fitting 5 folds for each of 25 candidates, totalling 125 fits\n"
     ]
    },
    {
     "name": "stderr",
     "output_type": "stream",
     "text": [
      "[Parallel(n_jobs=1)]: Using backend SequentialBackend with 1 concurrent workers.\n",
      "[Parallel(n_jobs=1)]: Done 125 out of 125 | elapsed: 16.4min finished\n"
     ]
    },
    {
     "data": {
      "text/plain": [
       "GridSearchCV(cv=5, error_score='raise-deprecating',\n",
       "       estimator=XGBRegressor(base_score=0.5, booster='gbtree', colsample_bylevel=1,\n",
       "       colsample_bynode=1, colsample_bytree=1, gamma=0.0, gpu_id=0,\n",
       "       importance_type='gain', learning_rate=0.01, max_bin=16,\n",
       "       max_delta_step=0, max_depth=7, min_child_weight=4, missing=None,\n",
       "       n_estimators...1, scale_pos_weight=1, seed=3, silent=None, subsample=1,\n",
       "       tree_method='gpu_hist', verbosity=1),\n",
       "       fit_params=None, iid=False, n_jobs=None,\n",
       "       param_grid={'subsample': [0.6, 0.7, 0.8, 0.9, 1.0], 'colsample_bytree': [0.6, 0.7, 0.8, 0.9, 1.0]},\n",
       "       pre_dispatch='2*n_jobs', refit=True, return_train_score='warn',\n",
       "       scoring='neg_mean_absolute_error', verbose=1)"
      ]
     },
     "execution_count": 24,
     "metadata": {},
     "output_type": "execute_result"
    }
   ],
   "source": [
    "gsearch3 = GridSearchCV(estimator = model, param_grid = param_test3, scoring = 'neg_mean_absolute_error',  iid = False, cv = cv_folds, verbose = 1)\n",
    "gsearch3.fit(X_train,y_train)"
   ]
  },
  {
   "cell_type": "code",
   "execution_count": 25,
   "metadata": {},
   "outputs": [
    {
     "name": "stdout",
     "output_type": "stream",
     "text": [
      "{'colsample_bytree': 0.7, 'subsample': 0.9}\n",
      "-5.533399801184162\n"
     ]
    }
   ],
   "source": [
    "print(gsearch3.best_params_)\n",
    "print(gsearch3.best_score_)"
   ]
  },
  {
   "cell_type": "markdown",
   "metadata": {},
   "source": [
    "#### shrinking subsample & colsample_bytree"
   ]
  },
  {
   "cell_type": "code",
   "execution_count": 26,
   "metadata": {},
   "outputs": [],
   "source": [
    "model.set_params(objective = 'reg:squarederror')\n",
    "model.set_params(gpu_id = 0)\n",
    "model.set_params(max_bin= 16)\n",
    "model.set_params(tree_method='gpu_hist')\n",
    "model.set_params(learning_rate = 0.01)\n",
    "model.set_params(n_estimators = 939)\n",
    "model.set_params(max_depth = 5)\n",
    "model.set_params(min_child_weight = 5)\n",
    "model.set_params(gamma = 0.0)\n",
    "\n",
    "\n",
    "param_test3 = {\n",
    "'subsample' : [i/100.0 for i in range(95,100,1)],\n",
    "'colsample_bytree' : [i/100.0 for i in range(65,76,1)]\n",
    "}"
   ]
  },
  {
   "cell_type": "code",
   "execution_count": 27,
   "metadata": {},
   "outputs": [
    {
     "name": "stdout",
     "output_type": "stream",
     "text": [
      "Fitting 5 folds for each of 55 candidates, totalling 275 fits\n"
     ]
    },
    {
     "name": "stderr",
     "output_type": "stream",
     "text": [
      "[Parallel(n_jobs=1)]: Using backend SequentialBackend with 1 concurrent workers.\n",
      "[Parallel(n_jobs=1)]: Done 275 out of 275 | elapsed: 30.7min finished\n"
     ]
    },
    {
     "data": {
      "text/plain": [
       "GridSearchCV(cv=5, error_score='raise-deprecating',\n",
       "       estimator=XGBRegressor(base_score=0.5, booster='gbtree', colsample_bylevel=1,\n",
       "       colsample_bynode=1, colsample_bytree=1, gamma=0.0, gpu_id=0,\n",
       "       importance_type='gain', learning_rate=0.01, max_bin=16,\n",
       "       max_delta_step=0, max_depth=5, min_child_weight=5, missing=None,\n",
       "       n_estimators...1, scale_pos_weight=1, seed=3, silent=None, subsample=1,\n",
       "       tree_method='gpu_hist', verbosity=1),\n",
       "       fit_params=None, iid=False, n_jobs=None,\n",
       "       param_grid={'subsample': [0.95, 0.96, 0.97, 0.98, 0.99], 'colsample_bytree': [0.65, 0.66, 0.67, 0.68, 0.69, 0.7, 0.71, 0.72, 0.73, 0.74, 0.75]},\n",
       "       pre_dispatch='2*n_jobs', refit=True, return_train_score='warn',\n",
       "       scoring='neg_mean_absolute_error', verbose=1)"
      ]
     },
     "execution_count": 27,
     "metadata": {},
     "output_type": "execute_result"
    }
   ],
   "source": [
    "gsearch3 = GridSearchCV(estimator = model, param_grid = param_test3, scoring = 'neg_mean_absolute_error',  iid = False, cv = cv_folds, verbose = 1)\n",
    "gsearch3.fit(X_train,y_train)"
   ]
  },
  {
   "cell_type": "code",
   "execution_count": 29,
   "metadata": {},
   "outputs": [
    {
     "name": "stdout",
     "output_type": "stream",
     "text": [
      "{'colsample_bytree': 0.66, 'subsample': 0.95}\n",
      "-7.644157605361481\n"
     ]
    }
   ],
   "source": [
    "print(gsearch3.best_params_)\n",
    "print(gsearch3.best_score_)"
   ]
  },
  {
   "cell_type": "markdown",
   "metadata": {},
   "source": [
    "#### reg_alpha"
   ]
  },
  {
   "cell_type": "code",
   "execution_count": 28,
   "metadata": {},
   "outputs": [],
   "source": [
    "model.set_params(objective = 'reg:squarederror')\n",
    "model.set_params(gpu_id = 0)\n",
    "model.set_params(max_bin= 16)\n",
    "model.set_params(tree_method='gpu_hist')\n",
    "model.set_params(learning_rate = 0.01)\n",
    "model.set_params(n_estimators = 651)\n",
    "model.set_params(max_depth = 7)\n",
    "model.set_params(min_child_weight = 4)\n",
    "model.set_params(gamma = 0.0)\n",
    "model.set_params(colsample_bytree = 0.7)\n",
    "model.set_params(subsample = 0.9)\n",
    "\n",
    "\n",
    "param_test4 = {\n",
    "'reg_alpha':[1e-5, 1e-2, 0.1, 1, 100]\n",
    "}\n",
    "\n"
   ]
  },
  {
   "cell_type": "code",
   "execution_count": 29,
   "metadata": {},
   "outputs": [
    {
     "name": "stdout",
     "output_type": "stream",
     "text": [
      "Fitting 5 folds for each of 5 candidates, totalling 25 fits\n"
     ]
    },
    {
     "name": "stderr",
     "output_type": "stream",
     "text": [
      "[Parallel(n_jobs=1)]: Using backend SequentialBackend with 1 concurrent workers.\n",
      "[Parallel(n_jobs=1)]: Done  25 out of  25 | elapsed:  3.3min finished\n"
     ]
    },
    {
     "data": {
      "text/plain": [
       "GridSearchCV(cv=5, error_score='raise-deprecating',\n",
       "       estimator=XGBRegressor(base_score=0.5, booster='gbtree', colsample_bylevel=1,\n",
       "       colsample_bynode=1, colsample_bytree=0.7, gamma=0.0, gpu_id=0,\n",
       "       importance_type='gain', learning_rate=0.01, max_bin=16,\n",
       "       max_delta_step=0, max_depth=7, min_child_weight=4, missing=None,\n",
       "       n_estimato... scale_pos_weight=1, seed=3, silent=None,\n",
       "       subsample=0.9, tree_method='gpu_hist', verbosity=1),\n",
       "       fit_params=None, iid=False, n_jobs=None,\n",
       "       param_grid={'reg_alpha': [1e-05, 0.01, 0.1, 1, 100]},\n",
       "       pre_dispatch='2*n_jobs', refit=True, return_train_score='warn',\n",
       "       scoring='neg_mean_absolute_error', verbose=1)"
      ]
     },
     "execution_count": 29,
     "metadata": {},
     "output_type": "execute_result"
    }
   ],
   "source": [
    "gsearch4 = GridSearchCV(estimator = model, param_grid = param_test4, scoring = 'neg_mean_absolute_error',  iid = False, cv = cv_folds, verbose = 1)\n",
    "gsearch4.fit(X_train,y_train)"
   ]
  },
  {
   "cell_type": "code",
   "execution_count": 30,
   "metadata": {},
   "outputs": [
    {
     "name": "stdout",
     "output_type": "stream",
     "text": [
      "{'reg_alpha': 0.01}\n",
      "-5.534888525528238\n"
     ]
    }
   ],
   "source": [
    "print(gsearch4.best_params_)\n",
    "print(gsearch4.best_score_)"
   ]
  },
  {
   "cell_type": "markdown",
   "metadata": {},
   "source": [
    "#### Training and Testing Model"
   ]
  },
  {
   "cell_type": "code",
   "execution_count": 18,
   "metadata": {},
   "outputs": [],
   "source": [
    "model = xgb.XGBRegressor(seed = SEED)"
   ]
  },
  {
   "cell_type": "code",
   "execution_count": 19,
   "metadata": {},
   "outputs": [
    {
     "data": {
      "text/plain": [
       "XGBRegressor(base_score=0.5, booster='gbtree', colsample_bylevel=1,\n",
       "       colsample_bynode=1, colsample_bytree=0.7, gamma=0.0, gpu_id=0,\n",
       "       importance_type='gain', learning_rate=0.01, max_bin=16,\n",
       "       max_delta_step=0, max_depth=7, min_child_weight=4, missing=None,\n",
       "       n_estimators=651, n_jobs=1, nthread=None,\n",
       "       objective='reg:squarederror', random_state=0, reg_alpha=0.01,\n",
       "       reg_lambda=1, scale_pos_weight=1, seed=3, silent=None,\n",
       "       subsample=0.9, tree_method='gpu_hist', verbosity=1)"
      ]
     },
     "execution_count": 19,
     "metadata": {},
     "output_type": "execute_result"
    }
   ],
   "source": [
    "model.set_params(objective = 'reg:squarederror')\n",
    "model.set_params(gpu_id = 0)\n",
    "model.set_params(max_bin= 16)\n",
    "model.set_params(tree_method='gpu_hist')\n",
    "model.set_params(learning_rate = 0.01)\n",
    "model.set_params(n_estimators = 651)\n",
    "model.set_params(max_depth = 7)\n",
    "model.set_params(min_child_weight = 4)\n",
    "model.set_params(gamma = 0.0)\n",
    "model.set_params(colsample_bytree = 0.7)\n",
    "model.set_params(subsample = 0.9)\n",
    "model.set_params(reg_alpha = 0.01)"
   ]
  },
  {
   "cell_type": "code",
   "execution_count": 20,
   "metadata": {},
   "outputs": [
    {
     "data": {
      "text/plain": [
       "XGBRegressor(base_score=0.5, booster='gbtree', colsample_bylevel=1,\n",
       "       colsample_bynode=1, colsample_bytree=0.7, gamma=0.0, gpu_id=0,\n",
       "       importance_type='gain', learning_rate=0.01, max_bin=16,\n",
       "       max_delta_step=0, max_depth=7, min_child_weight=4, missing=None,\n",
       "       n_estimators=651, n_jobs=1, nthread=None,\n",
       "       objective='reg:squarederror', random_state=0, reg_alpha=0.01,\n",
       "       reg_lambda=1, scale_pos_weight=1, seed=3, silent=None,\n",
       "       subsample=0.9, tree_method='gpu_hist', verbosity=1)"
      ]
     },
     "execution_count": 20,
     "metadata": {},
     "output_type": "execute_result"
    }
   ],
   "source": [
    "model.fit(X_train, y_train)"
   ]
  },
  {
   "cell_type": "code",
   "execution_count": 21,
   "metadata": {},
   "outputs": [],
   "source": [
    "y_pred = model.predict(X_test)"
   ]
  },
  {
   "cell_type": "code",
   "execution_count": 22,
   "metadata": {},
   "outputs": [
    {
     "name": "stdout",
     "output_type": "stream",
     "text": [
      "MAE unidades:  5.4995786875281505\n"
     ]
    }
   ],
   "source": [
    "print(\"MAE unidades: \",mean_absolute_error(y_test, y_pred))"
   ]
  },
  {
   "cell_type": "code",
   "execution_count": 23,
   "metadata": {},
   "outputs": [
    {
     "name": "stdout",
     "output_type": "stream",
     "text": [
      "mean unidades pred:  17.76847\n"
     ]
    }
   ],
   "source": [
    "print(\"mean unidades pred: \", np.mean(y_pred))"
   ]
  },
  {
   "cell_type": "code",
   "execution_count": 24,
   "metadata": {},
   "outputs": [
    {
     "name": "stdout",
     "output_type": "stream",
     "text": [
      "median unidades pred:  9.240887\n"
     ]
    }
   ],
   "source": [
    "print(\"median unidades pred: \", np.median(y_pred))"
   ]
  },
  {
   "cell_type": "code",
   "execution_count": 25,
   "metadata": {},
   "outputs": [
    {
     "data": {
      "text/plain": [
       "Text(0, 0.5, 'Feature Importance Score')"
      ]
     },
     "execution_count": 25,
     "metadata": {},
     "output_type": "execute_result"
    },
    {
     "data": {
      "image/png": "[encoded data removed]",
      "text/plain": [
       "<Figure size 1152x432 with 1 Axes>"
      ]
     },
     "metadata": {
      "needs_background": "light"
     },
     "output_type": "display_data"
    }
   ],
   "source": [
    "feat_imp = pd.Series(model.feature_importances_, index=X.columns).sort_values(ascending=False)\n",
    "feat_imp.plot(kind='bar', title='Feature Importances',figsize=(16,6))\n",
    "plt.ylabel('Feature Importance Score')"
   ]
  }
 ],
 "metadata": {
  "kernelspec": {
   "display_name": "Xgboost GPU(env)",
   "language": "python",
   "name": "xgbgpuenv"
  },
  "language_info": {
   "codemirror_mode": {
    "name": "ipython",
    "version": 3
   },
   "file_extension": ".py",
   "mimetype": "text/x-python",
   "name": "python",
   "nbconvert_exporter": "python",
   "pygments_lexer": "ipython3",
   "version": "3.6.8"
  }
 },
 "nbformat": 4,
 "nbformat_minor": 2
}
