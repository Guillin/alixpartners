{
 "cells": [
  {
   "cell_type": "code",
   "execution_count": 1,
   "metadata": {},
   "outputs": [],
   "source": [
    "import pandas as pd\n",
    "from sklearn import metrics\n",
    "from sklearn.model_selection import train_test_split\n",
    "import numpy as np\n",
    "from datetime import date\n",
    "from sklearn import preprocessing\n",
    "import xgboost as xgb\n",
    "import pickle"
   ]
  },
  {
   "cell_type": "markdown",
   "metadata": {},
   "source": [
    "#### load data"
   ]
  },
  {
   "cell_type": "raw",
   "metadata": {},
   "source": [
    "# Load Train Data\n",
    "submission = pd.read_csv('../data/processed/submission.csv',sep=';')"
   ]
  },
  {
   "cell_type": "code",
   "execution_count": 2,
   "metadata": {},
   "outputs": [],
   "source": [
    "# Load Train Data\n",
    "submission = pd.read_pickle('../data/processed/submission_x_envios_feateng.pkl')"
   ]
  },
  {
   "cell_type": "code",
   "execution_count": 3,
   "metadata": {},
   "outputs": [
    {
     "data": {
      "text/plain": [
       "(12897, 95)"
      ]
     },
     "execution_count": 3,
     "metadata": {},
     "output_type": "execute_result"
    }
   ],
   "source": [
    "submission.shape"
   ]
  },
  {
   "cell_type": "code",
   "execution_count": 4,
   "metadata": {},
   "outputs": [],
   "source": [
    "# encoder\n",
    "le = preprocessing.LabelEncoder()\n",
    "le.classes_ = np.load('../models/canal_le.npy', allow_pickle=True)"
   ]
  },
  {
   "cell_type": "code",
   "execution_count": 5,
   "metadata": {},
   "outputs": [],
   "source": [
    "submission['canal'] = np.where(submission['canal'].isnull(), 'NAN', submission['canal'])"
   ]
  },
  {
   "cell_type": "code",
   "execution_count": 6,
   "metadata": {},
   "outputs": [],
   "source": [
    "submission['canal'] = le.transform(submission['canal'].values)"
   ]
  },
  {
   "cell_type": "code",
   "execution_count": 7,
   "metadata": {},
   "outputs": [],
   "source": [
    "predictors = [\n",
    "    'id_pos', \n",
    "    'canal',\n",
    "    'competidores',\n",
    "    'ingreso_mediana',\n",
    "    'ingreso_promedio',\n",
    "    'densidad_poblacional',\n",
    "    'pct_0a5',\n",
    "    'pct_5a9',\n",
    "    'pct_10a14',\n",
    "    'pct_15a19',\n",
    "    'pct_20a24',\n",
    "    'pct_25a29',\n",
    "    'pct_30a34',\n",
    "    'pct_35a39',\n",
    "    'pct_40a44',\n",
    "    'pct_45a49',\n",
    "    'pct_50a54',\n",
    "    'pct_55a59',\n",
    "    'pct_60a64',\n",
    "    'pct_65a69',\n",
    "    'pct_70a74',\n",
    "    'pct_75a79',\n",
    "    'pct_80a84',\n",
    "    'pct_85ainf',\n",
    "    'pct_bachelors',\n",
    "    'pct_doctorados',\n",
    "    'pct_secundario',\n",
    "    'pct_master',\n",
    "    'pct_bicicleta',\n",
    "    'pct_omnibus',\n",
    "    'pct_subtes',\n",
    "    'pct_taxi',\n",
    "    'pct_caminata',\n",
    "    'mediana_valor_hogar',\n",
    "    'unidades_despachadas_sum', \n",
    "    'unidades_despachadas_max',\n",
    "    'unidades_despachadas_min', \n",
    "    'unidades_despachadas_avg',\n",
    "    'cantidad_envios_max', \n",
    "    'cantidad_envios_min', \n",
    "    'cantidad_envios_avg',\n",
    "    'num_cantidad_envios', \n",
    "    'unidades_despachadas_sum_acum', \n",
    "    'unidades_despachadas_sum_acum_3p',\n",
    "    'unidades_despachadas_sum_acum_6p', \n",
    "    'unidades_despachadas_max_acum', \n",
    "    'unidades_despachadas_min_acum', \n",
    "    'num_cantidad_envios_acum', \n",
    "    'num_cantidad_envios_acum_3per',\n",
    "    'num_cantidad_envios_acum_6per', \n",
    "    'diff_dtventa_dtenvio',\n",
    "    'unidades_before', \n",
    "    'num_ventas_before',\n",
    "    'rel_unidades_num_ventas', \n",
    "    'unidades_acum', \n",
    "    'num_ventas_acum',\n",
    "    'countacum', 'unidades_mean', \n",
    "    'num_ventas_mean',\n",
    "    'unidades_2time_before', \n",
    "    'unidades_diff', \n",
    "    'month',\n",
    "    'diff_dtventa_dtventa_before', \n",
    "    'unidades_pend',\n",
    "]"
   ]
  },
  {
   "cell_type": "code",
   "execution_count": 8,
   "metadata": {},
   "outputs": [],
   "source": [
    "# Select final var of the model\n",
    "submission = submission[predictors]"
   ]
  },
  {
   "cell_type": "markdown",
   "metadata": {},
   "source": [
    "#### load model"
   ]
  },
  {
   "cell_type": "code",
   "execution_count": 9,
   "metadata": {},
   "outputs": [],
   "source": [
    "# Load model\n",
    "model = pickle.load(open(\"../models/xgboost_006.pkl\", \"rb\"))"
   ]
  },
  {
   "cell_type": "code",
   "execution_count": 10,
   "metadata": {},
   "outputs": [
    {
     "data": {
      "text/plain": [
       "<bound method XGBModel.get_booster of XGBRegressor(base_score=0.5, booster='gbtree', colsample_bylevel=1,\n",
       "       colsample_bynode=1, colsample_bytree=0.7, gamma=0.0, gpu_id=0,\n",
       "       importance_type='gain', learning_rate=0.01, max_bin=16,\n",
       "       max_delta_step=0, max_depth=7, min_child_weight=4, missing=nan,\n",
       "       n_estimators=651, n_jobs=1, nthread=None,\n",
       "       objective='reg:squarederror', random_state=0, reg_alpha=0.01,\n",
       "       reg_lambda=1, scale_pos_weight=1, seed=3, silent=None,\n",
       "       subsample=0.9, tree_method='gpu_hist', verbosity=1)>"
      ]
     },
     "execution_count": 10,
     "metadata": {},
     "output_type": "execute_result"
    }
   ],
   "source": [
    "model.get_booster"
   ]
  },
  {
   "cell_type": "code",
   "execution_count": 11,
   "metadata": {},
   "outputs": [],
   "source": [
    "y_pred = model.predict(submission)"
   ]
  },
  {
   "cell_type": "code",
   "execution_count": 12,
   "metadata": {},
   "outputs": [
    {
     "data": {
      "text/plain": [
       "16.492579"
      ]
     },
     "execution_count": 12,
     "metadata": {},
     "output_type": "execute_result"
    }
   ],
   "source": [
    "np.median(y_pred)"
   ]
  },
  {
   "cell_type": "code",
   "execution_count": 13,
   "metadata": {},
   "outputs": [],
   "source": [
    "y_pred_fixed = np.where(y_pred < 0, 0, y_pred)"
   ]
  },
  {
   "cell_type": "code",
   "execution_count": 14,
   "metadata": {},
   "outputs": [
    {
     "data": {
      "text/plain": [
       "16.492579"
      ]
     },
     "execution_count": 14,
     "metadata": {},
     "output_type": "execute_result"
    }
   ],
   "source": [
    "np.median(y_pred_fixed)"
   ]
  },
  {
   "cell_type": "code",
   "execution_count": 15,
   "metadata": {},
   "outputs": [],
   "source": [
    "submission['unidades_pred'] = np.round(y_pred_fixed)"
   ]
  },
  {
   "cell_type": "code",
   "execution_count": 16,
   "metadata": {},
   "outputs": [],
   "source": [
    "submission['unidades_pred'] = submission['unidades_pred'].astype(int)"
   ]
  },
  {
   "cell_type": "code",
   "execution_count": 18,
   "metadata": {
    "scrolled": false
   },
   "outputs": [
    {
     "data": {
      "image/png": "[encoded data removed]",
      "text/plain": [
       "<Figure size 432x288 with 1 Axes>"
      ]
     },
     "metadata": {
      "needs_background": "light"
     },
     "output_type": "display_data"
    }
   ],
   "source": [
    "submission['unidades_pred'].hist(bins=100)\n",
    "pass"
   ]
  },
  {
   "cell_type": "code",
   "execution_count": 18,
   "metadata": {},
   "outputs": [
    {
     "data": {
      "image/png": "[encoded data removed]",
      "text/plain": [
       "<Figure size 432x288 with 1 Axes>"
      ]
     },
     "metadata": {
      "needs_background": "light"
     },
     "output_type": "display_data"
    }
   ],
   "source": [
    "submission['unidades_pred'].hist(bins=100)\n",
    "pass"
   ]
  },
  {
   "cell_type": "code",
   "execution_count": 19,
   "metadata": {},
   "outputs": [],
   "source": [
    "submission[['id_pos','unidades_pred']].to_csv('../data/submissions/sub013.csv', sep=',', index=False, header=False)"
   ]
  },
  {
   "cell_type": "code",
   "execution_count": 20,
   "metadata": {},
   "outputs": [
    {
     "data": {
      "text/plain": [
       "id_pos                              False\n",
       "canal                               False\n",
       "competidores                         True\n",
       "ingreso_mediana                      True\n",
       "ingreso_promedio                     True\n",
       "densidad_poblacional                 True\n",
       "pct_0a5                              True\n",
       "pct_5a9                              True\n",
       "pct_10a14                            True\n",
       "pct_15a19                            True\n",
       "pct_20a24                            True\n",
       "pct_25a29                            True\n",
       "pct_30a34                            True\n",
       "pct_35a39                            True\n",
       "pct_40a44                            True\n",
       "pct_45a49                            True\n",
       "pct_50a54                            True\n",
       "pct_55a59                            True\n",
       "pct_60a64                            True\n",
       "pct_65a69                            True\n",
       "pct_70a74                            True\n",
       "pct_75a79                            True\n",
       "pct_80a84                            True\n",
       "pct_85ainf                           True\n",
       "pct_bachelors                        True\n",
       "pct_doctorados                       True\n",
       "pct_secundario                       True\n",
       "pct_master                           True\n",
       "pct_bicicleta                        True\n",
       "pct_omnibus                          True\n",
       "                                    ...  \n",
       "unidades_despachadas_max             True\n",
       "unidades_despachadas_min             True\n",
       "unidades_despachadas_avg             True\n",
       "cantidad_envios_max                  True\n",
       "cantidad_envios_min                  True\n",
       "cantidad_envios_avg                  True\n",
       "num_cantidad_envios                  True\n",
       "unidades_despachadas_sum_acum       False\n",
       "unidades_despachadas_sum_acum_3p     True\n",
       "unidades_despachadas_sum_acum_6p     True\n",
       "unidades_despachadas_max_acum        True\n",
       "unidades_despachadas_min_acum        True\n",
       "num_cantidad_envios_acum            False\n",
       "num_cantidad_envios_acum_3per        True\n",
       "num_cantidad_envios_acum_6per        True\n",
       "diff_dtventa_dtenvio                False\n",
       "unidades_before                     False\n",
       "num_ventas_before                   False\n",
       "rel_unidades_num_ventas             False\n",
       "unidades_acum                        True\n",
       "num_ventas_acum                      True\n",
       "countacum                           False\n",
       "unidades_mean                        True\n",
       "num_ventas_mean                      True\n",
       "unidades_2time_before               False\n",
       "unidades_diff                       False\n",
       "month                               False\n",
       "diff_dtventa_dtventa_before          True\n",
       "unidades_pend                        True\n",
       "unidades_pred                       False\n",
       "Length: 65, dtype: bool"
      ]
     },
     "execution_count": 20,
     "metadata": {},
     "output_type": "execute_result"
    }
   ],
   "source": [
    "submission.isnull().any()"
   ]
  }
 ],
 "metadata": {
  "kernelspec": {
   "display_name": "Xgboost GPU(env)",
   "language": "python",
   "name": "xgbgpuenv"
  },
  "language_info": {
   "codemirror_mode": {
    "name": "ipython",
    "version": 3
   },
   "file_extension": ".py",
   "mimetype": "text/x-python",
   "name": "python",
   "nbconvert_exporter": "python",
   "pygments_lexer": "ipython3",
   "version": "3.6.8"
  }
 },
 "nbformat": 4,
 "nbformat_minor": 2
}
