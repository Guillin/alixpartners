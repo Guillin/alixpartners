{
 "cells": [
  {
   "cell_type": "code",
   "execution_count": 1,
   "metadata": {},
   "outputs": [],
   "source": [
    "import pandas as pd "
   ]
  },
  {
   "cell_type": "code",
   "execution_count": 2,
   "metadata": {},
   "outputs": [],
   "source": [
    "from datetime import date"
   ]
  },
  {
   "cell_type": "code",
   "execution_count": 3,
   "metadata": {},
   "outputs": [],
   "source": [
    "# Load data envios\n",
    "envios = pd.read_csv('../data/raw/envios.txt', sep='|')"
   ]
  },
  {
   "cell_type": "code",
   "execution_count": 4,
   "metadata": {},
   "outputs": [
    {
     "data": {
      "text/plain": [
       "(42434, 4)"
      ]
     },
     "execution_count": 4,
     "metadata": {},
     "output_type": "execute_result"
    }
   ],
   "source": [
    "envios.shape"
   ]
  },
  {
   "cell_type": "code",
   "execution_count": 5,
   "metadata": {},
   "outputs": [],
   "source": [
    "envios['fecha'] = pd.to_datetime(envios['fecha'])"
   ]
  },
  {
   "cell_type": "code",
   "execution_count": 6,
   "metadata": {},
   "outputs": [],
   "source": [
    "envios['fecha_norm'] = envios['fecha'].apply(lambda x : date(x.year,x.month,1))"
   ]
  },
  {
   "cell_type": "code",
   "execution_count": 7,
   "metadata": {},
   "outputs": [],
   "source": [
    "envios['month'] = pd.to_datetime(envios['fecha_norm']).dt.month"
   ]
  },
  {
   "cell_type": "code",
   "execution_count": 8,
   "metadata": {},
   "outputs": [],
   "source": [
    "envios = envios[envios['month'].isin([9,10])]"
   ]
  },
  {
   "cell_type": "code",
   "execution_count": 9,
   "metadata": {},
   "outputs": [],
   "source": [
    "aggregattion = {\n",
    "    'unidades_despachadas': {\n",
    "        'unidades_despachadas_sum': 'sum',\n",
    "        'unidades_despachadas_max': 'max',\n",
    "        'unidades_despachadas_min': 'min',\n",
    "        'unidades_despachadas_avg': 'mean',\n",
    "        'num_unidades_despachadas' : 'count'\n",
    "    },\n",
    "    'cantidad_envios': {\n",
    "        'cantidad_envios_sum': 'sum',\n",
    "        'cantidad_envios_max': 'max',\n",
    "        'cantidad_envios_min': 'min',\n",
    "        'cantidad_envios_avg': 'mean',\n",
    "        'num_cantidad_envios' : 'count'\n",
    "    },\n",
    "    'fecha':{\n",
    "        'fecha_envio_max': 'max',\n",
    "        'fecha_envio_min': 'min'\n",
    "    }\n",
    "    \n",
    "}"
   ]
  },
  {
   "cell_type": "code",
   "execution_count": 10,
   "metadata": {},
   "outputs": [
    {
     "name": "stderr",
     "output_type": "stream",
     "text": [
      "/opt/anaconda3/envs/signalenv/lib/python3.7/site-packages/pandas/core/groupby/generic.py:1315: FutureWarning: using a dict with renaming is deprecated and will be removed in a future version\n",
      "  return super(DataFrameGroupBy, self).aggregate(arg, *args, **kwargs)\n"
     ]
    }
   ],
   "source": [
    "envios = envios.groupby(['id_pos','fecha_norm']).agg(aggregattion).reset_index()"
   ]
  },
  {
   "cell_type": "code",
   "execution_count": 11,
   "metadata": {},
   "outputs": [],
   "source": [
    "# Renombramos las columnas\n",
    "envios.columns = ['id_pos','fecha_norm','unidades_despachadas_sum','unidades_despachadas_max','unidades_despachadas_min','unidades_despachadas_avg','num_unidades_despachadas','cantidad_envios_sum','cantidad_envios_max','cantidad_envios_min','cantidad_envios_avg','num_cantidad_envios','fecha_envio_max','fecha_envio_min']"
   ]
  },
  {
   "cell_type": "markdown",
   "metadata": {},
   "source": [
    "#### unidades_despachadas_sum"
   ]
  },
  {
   "cell_type": "code",
   "execution_count": 12,
   "metadata": {},
   "outputs": [],
   "source": [
    "envios_tmp = envios.pivot('id_pos', 'fecha_norm', 'unidades_despachadas_sum')"
   ]
  },
  {
   "cell_type": "code",
   "execution_count": 13,
   "metadata": {},
   "outputs": [
    {
     "data": {
      "text/html": [
       "<div>\n",
       "<style scoped>\n",
       "    .dataframe tbody tr th:only-of-type {\n",
       "        vertical-align: middle;\n",
       "    }\n",
       "\n",
       "    .dataframe tbody tr th {\n",
       "        vertical-align: top;\n",
       "    }\n",
       "\n",
       "    .dataframe thead th {\n",
       "        text-align: right;\n",
       "    }\n",
       "</style>\n",
       "<table border=\"1\" class=\"dataframe\">\n",
       "  <thead>\n",
       "    <tr style=\"text-align: right;\">\n",
       "      <th>fecha_norm</th>\n",
       "      <th>2012-10-01</th>\n",
       "      <th>2013-09-01</th>\n",
       "      <th>2013-10-01</th>\n",
       "      <th>2014-09-01</th>\n",
       "      <th>2014-10-01</th>\n",
       "    </tr>\n",
       "    <tr>\n",
       "      <th>id_pos</th>\n",
       "      <th></th>\n",
       "      <th></th>\n",
       "      <th></th>\n",
       "      <th></th>\n",
       "      <th></th>\n",
       "    </tr>\n",
       "  </thead>\n",
       "  <tbody>\n",
       "    <tr>\n",
       "      <th>3142</th>\n",
       "      <td>12.0</td>\n",
       "      <td>NaN</td>\n",
       "      <td>12.0</td>\n",
       "      <td>NaN</td>\n",
       "      <td>12.0</td>\n",
       "    </tr>\n",
       "    <tr>\n",
       "      <th>3143</th>\n",
       "      <td>NaN</td>\n",
       "      <td>36.0</td>\n",
       "      <td>NaN</td>\n",
       "      <td>24.0</td>\n",
       "      <td>NaN</td>\n",
       "    </tr>\n",
       "    <tr>\n",
       "      <th>3144</th>\n",
       "      <td>48.0</td>\n",
       "      <td>108.0</td>\n",
       "      <td>NaN</td>\n",
       "      <td>60.0</td>\n",
       "      <td>36.0</td>\n",
       "    </tr>\n",
       "    <tr>\n",
       "      <th>3146</th>\n",
       "      <td>12.0</td>\n",
       "      <td>NaN</td>\n",
       "      <td>12.0</td>\n",
       "      <td>NaN</td>\n",
       "      <td>12.0</td>\n",
       "    </tr>\n",
       "    <tr>\n",
       "      <th>3147</th>\n",
       "      <td>48.0</td>\n",
       "      <td>60.0</td>\n",
       "      <td>NaN</td>\n",
       "      <td>48.0</td>\n",
       "      <td>NaN</td>\n",
       "    </tr>\n",
       "  </tbody>\n",
       "</table>\n",
       "</div>"
      ],
      "text/plain": [
       "fecha_norm  2012-10-01  2013-09-01  2013-10-01  2014-09-01  2014-10-01\n",
       "id_pos                                                                \n",
       "3142              12.0         NaN        12.0         NaN        12.0\n",
       "3143               NaN        36.0         NaN        24.0         NaN\n",
       "3144              48.0       108.0         NaN        60.0        36.0\n",
       "3146              12.0         NaN        12.0         NaN        12.0\n",
       "3147              48.0        60.0         NaN        48.0         NaN"
      ]
     },
     "execution_count": 13,
     "metadata": {},
     "output_type": "execute_result"
    }
   ],
   "source": [
    "envios_tmp.head()"
   ]
  },
  {
   "cell_type": "code",
   "execution_count": 14,
   "metadata": {},
   "outputs": [],
   "source": [
    "envios_tmp.columns = ['unidades_despachadas_sum' + str(c.year) + str(c.month) for c in envios_tmp.columns if c != 'id_pos']"
   ]
  },
  {
   "cell_type": "code",
   "execution_count": 15,
   "metadata": {},
   "outputs": [],
   "source": [
    "envios_final = envios_tmp.copy()"
   ]
  },
  {
   "cell_type": "code",
   "execution_count": 16,
   "metadata": {},
   "outputs": [
    {
     "data": {
      "text/html": [
       "<div>\n",
       "<style scoped>\n",
       "    .dataframe tbody tr th:only-of-type {\n",
       "        vertical-align: middle;\n",
       "    }\n",
       "\n",
       "    .dataframe tbody tr th {\n",
       "        vertical-align: top;\n",
       "    }\n",
       "\n",
       "    .dataframe thead th {\n",
       "        text-align: right;\n",
       "    }\n",
       "</style>\n",
       "<table border=\"1\" class=\"dataframe\">\n",
       "  <thead>\n",
       "    <tr style=\"text-align: right;\">\n",
       "      <th></th>\n",
       "      <th>unidades_despachadas_sum201210</th>\n",
       "      <th>unidades_despachadas_sum20139</th>\n",
       "      <th>unidades_despachadas_sum201310</th>\n",
       "      <th>unidades_despachadas_sum20149</th>\n",
       "      <th>unidades_despachadas_sum201410</th>\n",
       "    </tr>\n",
       "    <tr>\n",
       "      <th>id_pos</th>\n",
       "      <th></th>\n",
       "      <th></th>\n",
       "      <th></th>\n",
       "      <th></th>\n",
       "      <th></th>\n",
       "    </tr>\n",
       "  </thead>\n",
       "  <tbody>\n",
       "    <tr>\n",
       "      <th>3142</th>\n",
       "      <td>12.0</td>\n",
       "      <td>NaN</td>\n",
       "      <td>12.0</td>\n",
       "      <td>NaN</td>\n",
       "      <td>12.0</td>\n",
       "    </tr>\n",
       "    <tr>\n",
       "      <th>3143</th>\n",
       "      <td>NaN</td>\n",
       "      <td>36.0</td>\n",
       "      <td>NaN</td>\n",
       "      <td>24.0</td>\n",
       "      <td>NaN</td>\n",
       "    </tr>\n",
       "    <tr>\n",
       "      <th>3144</th>\n",
       "      <td>48.0</td>\n",
       "      <td>108.0</td>\n",
       "      <td>NaN</td>\n",
       "      <td>60.0</td>\n",
       "      <td>36.0</td>\n",
       "    </tr>\n",
       "    <tr>\n",
       "      <th>3146</th>\n",
       "      <td>12.0</td>\n",
       "      <td>NaN</td>\n",
       "      <td>12.0</td>\n",
       "      <td>NaN</td>\n",
       "      <td>12.0</td>\n",
       "    </tr>\n",
       "    <tr>\n",
       "      <th>3147</th>\n",
       "      <td>48.0</td>\n",
       "      <td>60.0</td>\n",
       "      <td>NaN</td>\n",
       "      <td>48.0</td>\n",
       "      <td>NaN</td>\n",
       "    </tr>\n",
       "  </tbody>\n",
       "</table>\n",
       "</div>"
      ],
      "text/plain": [
       "        unidades_despachadas_sum201210  unidades_despachadas_sum20139  \\\n",
       "id_pos                                                                  \n",
       "3142                              12.0                            NaN   \n",
       "3143                               NaN                           36.0   \n",
       "3144                              48.0                          108.0   \n",
       "3146                              12.0                            NaN   \n",
       "3147                              48.0                           60.0   \n",
       "\n",
       "        unidades_despachadas_sum201310  unidades_despachadas_sum20149  \\\n",
       "id_pos                                                                  \n",
       "3142                              12.0                            NaN   \n",
       "3143                               NaN                           24.0   \n",
       "3144                               NaN                           60.0   \n",
       "3146                              12.0                            NaN   \n",
       "3147                               NaN                           48.0   \n",
       "\n",
       "        unidades_despachadas_sum201410  \n",
       "id_pos                                  \n",
       "3142                              12.0  \n",
       "3143                               NaN  \n",
       "3144                              36.0  \n",
       "3146                              12.0  \n",
       "3147                               NaN  "
      ]
     },
     "execution_count": 16,
     "metadata": {},
     "output_type": "execute_result"
    }
   ],
   "source": [
    "envios_final.head()"
   ]
  },
  {
   "cell_type": "code",
   "execution_count": 17,
   "metadata": {},
   "outputs": [],
   "source": [
    "del envios_tmp"
   ]
  },
  {
   "cell_type": "markdown",
   "metadata": {},
   "source": [
    "#### unidades_despachadas_max"
   ]
  },
  {
   "cell_type": "code",
   "execution_count": 16,
   "metadata": {},
   "outputs": [],
   "source": [
    "envios_tmp = envios.pivot('id_pos', 'fecha_norm', 'unidades_despachadas_max')"
   ]
  },
  {
   "cell_type": "code",
   "execution_count": 17,
   "metadata": {},
   "outputs": [],
   "source": [
    "envios_tmp.columns = ['unidades_despachadas_max' + str(c.year) + str(c.month) for c in envios_tmp.columns if c != 'id_pos']"
   ]
  },
  {
   "cell_type": "code",
   "execution_count": 18,
   "metadata": {},
   "outputs": [],
   "source": [
    "envios_final = pd.merge(envios_final, envios_tmp, how='inner', left_index=True , right_index=True)"
   ]
  },
  {
   "cell_type": "code",
   "execution_count": 19,
   "metadata": {},
   "outputs": [],
   "source": [
    "del envios_tmp"
   ]
  },
  {
   "cell_type": "markdown",
   "metadata": {},
   "source": [
    "#### unidades_despachadas_min"
   ]
  },
  {
   "cell_type": "code",
   "execution_count": 20,
   "metadata": {},
   "outputs": [],
   "source": [
    "envios_tmp = envios.pivot('id_pos', 'fecha_norm', 'unidades_despachadas_min')"
   ]
  },
  {
   "cell_type": "code",
   "execution_count": 21,
   "metadata": {},
   "outputs": [],
   "source": [
    "envios_tmp.columns = ['unidades_despachadas_min' + str(c.year) + str(c.month) for c in envios_tmp.columns if c != 'id_pos']"
   ]
  },
  {
   "cell_type": "code",
   "execution_count": 22,
   "metadata": {},
   "outputs": [],
   "source": [
    "envios_final = pd.merge(envios_final, envios_tmp, how='inner', left_index=True , right_index=True)"
   ]
  },
  {
   "cell_type": "code",
   "execution_count": 23,
   "metadata": {},
   "outputs": [],
   "source": [
    "del envios_tmp"
   ]
  },
  {
   "cell_type": "markdown",
   "metadata": {},
   "source": [
    "#### unidades_despachadas_avg"
   ]
  },
  {
   "cell_type": "code",
   "execution_count": 24,
   "metadata": {},
   "outputs": [],
   "source": [
    "envios_tmp = envios.pivot('id_pos', 'fecha_norm', 'unidades_despachadas_avg')"
   ]
  },
  {
   "cell_type": "code",
   "execution_count": 25,
   "metadata": {},
   "outputs": [],
   "source": [
    "envios_tmp.columns = ['unidades_despachadas_avg' + str(c.year) + str(c.month) for c in envios_tmp.columns if c != 'id_pos']"
   ]
  },
  {
   "cell_type": "code",
   "execution_count": 26,
   "metadata": {},
   "outputs": [],
   "source": [
    "envios_final = pd.merge(envios_final, envios_tmp, how='inner', left_index=True , right_index=True)"
   ]
  },
  {
   "cell_type": "code",
   "execution_count": 27,
   "metadata": {},
   "outputs": [],
   "source": [
    "del envios_tmp"
   ]
  },
  {
   "cell_type": "markdown",
   "metadata": {},
   "source": [
    "#### num_unidades_despachadas"
   ]
  },
  {
   "cell_type": "code",
   "execution_count": 28,
   "metadata": {},
   "outputs": [],
   "source": [
    "envios_tmp = envios.pivot('id_pos', 'fecha_norm', 'num_unidades_despachadas')"
   ]
  },
  {
   "cell_type": "code",
   "execution_count": 29,
   "metadata": {},
   "outputs": [],
   "source": [
    "envios_tmp.columns = ['num_unidades_despachadas' + str(c.year) + str(c.month) for c in envios_tmp.columns if c != 'id_pos']"
   ]
  },
  {
   "cell_type": "code",
   "execution_count": 30,
   "metadata": {},
   "outputs": [],
   "source": [
    "envios_final = pd.merge(envios_final, envios_tmp, how='inner', left_index=True , right_index=True)"
   ]
  },
  {
   "cell_type": "code",
   "execution_count": 31,
   "metadata": {},
   "outputs": [],
   "source": [
    "del envios_tmp"
   ]
  },
  {
   "cell_type": "markdown",
   "metadata": {},
   "source": [
    "#### cantidad_envios_sum"
   ]
  },
  {
   "cell_type": "code",
   "execution_count": 32,
   "metadata": {},
   "outputs": [],
   "source": [
    "envios_tmp = envios.pivot('id_pos', 'fecha_norm', 'cantidad_envios_sum')"
   ]
  },
  {
   "cell_type": "code",
   "execution_count": 33,
   "metadata": {},
   "outputs": [],
   "source": [
    "envios_tmp.columns = ['cantidad_envios_sum' + str(c.year) + str(c.month) for c in envios_tmp.columns if c != 'id_pos']"
   ]
  },
  {
   "cell_type": "code",
   "execution_count": 34,
   "metadata": {},
   "outputs": [],
   "source": [
    "envios_final = pd.merge(envios_final, envios_tmp, how='inner', left_index=True , right_index=True)"
   ]
  },
  {
   "cell_type": "code",
   "execution_count": 35,
   "metadata": {},
   "outputs": [],
   "source": [
    "del envios_tmp"
   ]
  },
  {
   "cell_type": "markdown",
   "metadata": {},
   "source": [
    "#### cantidad_envios_max"
   ]
  },
  {
   "cell_type": "code",
   "execution_count": 36,
   "metadata": {},
   "outputs": [],
   "source": [
    "envios_tmp = envios.pivot('id_pos', 'fecha_norm', 'cantidad_envios_max')"
   ]
  },
  {
   "cell_type": "code",
   "execution_count": 37,
   "metadata": {},
   "outputs": [],
   "source": [
    "envios_tmp.columns = ['cantidad_envios_max' + str(c.year) + str(c.month) for c in envios_tmp.columns if c != 'id_pos']"
   ]
  },
  {
   "cell_type": "code",
   "execution_count": 38,
   "metadata": {},
   "outputs": [],
   "source": [
    "envios_final = pd.merge(envios_final, envios_tmp, how='inner', left_index=True , right_index=True)"
   ]
  },
  {
   "cell_type": "code",
   "execution_count": 39,
   "metadata": {},
   "outputs": [],
   "source": [
    "del envios_tmp"
   ]
  },
  {
   "cell_type": "markdown",
   "metadata": {},
   "source": [
    "#### cantidad_envios_min"
   ]
  },
  {
   "cell_type": "code",
   "execution_count": 40,
   "metadata": {},
   "outputs": [],
   "source": [
    "envios_tmp = envios.pivot('id_pos', 'fecha_norm', 'cantidad_envios_min')"
   ]
  },
  {
   "cell_type": "code",
   "execution_count": 41,
   "metadata": {},
   "outputs": [],
   "source": [
    "envios_tmp.columns = ['cantidad_envios_min' + str(c.year) + str(c.month) for c in envios_tmp.columns if c != 'id_pos']"
   ]
  },
  {
   "cell_type": "code",
   "execution_count": 42,
   "metadata": {},
   "outputs": [],
   "source": [
    "envios_final = pd.merge(envios_final, envios_tmp, how='inner', left_index=True , right_index=True)"
   ]
  },
  {
   "cell_type": "code",
   "execution_count": 43,
   "metadata": {},
   "outputs": [],
   "source": [
    "del envios_tmp"
   ]
  },
  {
   "cell_type": "markdown",
   "metadata": {},
   "source": [
    "#### cantidad_envios_avg"
   ]
  },
  {
   "cell_type": "code",
   "execution_count": 44,
   "metadata": {},
   "outputs": [],
   "source": [
    "envios_tmp = envios.pivot('id_pos', 'fecha_norm', 'cantidad_envios_avg')"
   ]
  },
  {
   "cell_type": "code",
   "execution_count": 45,
   "metadata": {},
   "outputs": [],
   "source": [
    "envios_tmp.columns = ['cantidad_envios_avg' + str(c.year) + str(c.month) for c in envios_tmp.columns if c != 'id_pos']"
   ]
  },
  {
   "cell_type": "code",
   "execution_count": 46,
   "metadata": {},
   "outputs": [],
   "source": [
    "envios_final = pd.merge(envios_final, envios_tmp, how='inner', left_index=True , right_index=True)"
   ]
  },
  {
   "cell_type": "code",
   "execution_count": 47,
   "metadata": {},
   "outputs": [],
   "source": [
    "del envios_tmp"
   ]
  },
  {
   "cell_type": "markdown",
   "metadata": {},
   "source": [
    "#### num_cantidad_envios"
   ]
  },
  {
   "cell_type": "code",
   "execution_count": 48,
   "metadata": {},
   "outputs": [],
   "source": [
    "envios_tmp = envios.pivot('id_pos', 'fecha_norm', 'num_cantidad_envios')"
   ]
  },
  {
   "cell_type": "code",
   "execution_count": 49,
   "metadata": {},
   "outputs": [],
   "source": [
    "envios_tmp.columns = ['num_cantidad_envios' + str(c.year) + str(c.month) for c in envios_tmp.columns if c != 'id_pos']"
   ]
  },
  {
   "cell_type": "code",
   "execution_count": 50,
   "metadata": {},
   "outputs": [],
   "source": [
    "envios_final = pd.merge(envios_final, envios_tmp, how='inner', left_index=True , right_index=True)"
   ]
  },
  {
   "cell_type": "code",
   "execution_count": 51,
   "metadata": {},
   "outputs": [],
   "source": [
    "del envios_tmp"
   ]
  },
  {
   "cell_type": "markdown",
   "metadata": {},
   "source": [
    "#### fecha_envio_max"
   ]
  },
  {
   "cell_type": "code",
   "execution_count": 52,
   "metadata": {},
   "outputs": [],
   "source": [
    "envios_tmp = envios.pivot('id_pos', 'fecha_norm', 'fecha_envio_max')"
   ]
  },
  {
   "cell_type": "code",
   "execution_count": 53,
   "metadata": {},
   "outputs": [],
   "source": [
    "envios_tmp.columns = ['fecha_envio_max' + str(c.year) + str(c.month) for c in envios_tmp.columns if c != 'id_pos']"
   ]
  },
  {
   "cell_type": "code",
   "execution_count": 54,
   "metadata": {},
   "outputs": [],
   "source": [
    "envios_final = pd.merge(envios_final, envios_tmp, how='inner', left_index=True , right_index=True)"
   ]
  },
  {
   "cell_type": "code",
   "execution_count": 55,
   "metadata": {},
   "outputs": [],
   "source": [
    "del envios_tmp"
   ]
  },
  {
   "cell_type": "markdown",
   "metadata": {},
   "source": [
    "#### fecha_envio_min"
   ]
  },
  {
   "cell_type": "code",
   "execution_count": 56,
   "metadata": {},
   "outputs": [],
   "source": [
    "envios_tmp = envios.pivot('id_pos', 'fecha_norm', 'fecha_envio_min')"
   ]
  },
  {
   "cell_type": "code",
   "execution_count": 57,
   "metadata": {},
   "outputs": [],
   "source": [
    "envios_tmp.columns = ['fecha_envio_min' + str(c.year) + str(c.month) for c in envios_tmp.columns if c != 'id_pos']"
   ]
  },
  {
   "cell_type": "code",
   "execution_count": 58,
   "metadata": {},
   "outputs": [],
   "source": [
    "envios_final = pd.merge(envios_final, envios_tmp, how='inner', left_index=True , right_index=True)"
   ]
  },
  {
   "cell_type": "code",
   "execution_count": 59,
   "metadata": {},
   "outputs": [],
   "source": [
    "del envios_tmp"
   ]
  },
  {
   "cell_type": "code",
   "execution_count": 60,
   "metadata": {},
   "outputs": [],
   "source": [
    "envios_final = envios_final.reset_index()"
   ]
  },
  {
   "cell_type": "markdown",
   "metadata": {},
   "source": [
    "#### Saving Dataset"
   ]
  },
  {
   "cell_type": "code",
   "execution_count": 61,
   "metadata": {},
   "outputs": [],
   "source": [
    "envios_final.to_csv('../data/processed/envios_pivoted.csv', index=False, sep=';')"
   ]
  },
  {
   "cell_type": "code",
   "execution_count": 63,
   "metadata": {},
   "outputs": [],
   "source": [
    "envios.to_csv('../data/processed/envios_agg.csv', index=False, sep=';')"
   ]
  }
 ],
 "metadata": {
  "kernelspec": {
   "display_name": "Python 3",
   "language": "python",
   "name": "python3"
  },
  "language_info": {
   "codemirror_mode": {
    "name": "ipython",
    "version": 3
   },
   "file_extension": ".py",
   "mimetype": "text/x-python",
   "name": "python",
   "nbconvert_exporter": "python",
   "pygments_lexer": "ipython3",
   "version": "3.7.3"
  }
 },
 "nbformat": 4,
 "nbformat_minor": 2
}
