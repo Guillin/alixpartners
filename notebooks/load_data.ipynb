{
 "cells": [
  {
   "cell_type": "code",
   "execution_count": 1,
   "metadata": {},
   "outputs": [],
   "source": [
    "import pandas as pd "
   ]
  },
  {
   "cell_type": "code",
   "execution_count": 11,
   "metadata": {},
   "outputs": [],
   "source": [
    "from datetime import date"
   ]
  },
  {
   "cell_type": "code",
   "execution_count": 16,
   "metadata": {},
   "outputs": [],
   "source": [
    "envios = pd.read_csv('../data/raw/envios.txt', sep='|')"
   ]
  },
  {
   "cell_type": "code",
   "execution_count": 17,
   "metadata": {},
   "outputs": [],
   "source": [
    "ventas = pd.read_csv('../data/raw/ventas.txt', sep='|')"
   ]
  },
  {
   "cell_type": "code",
   "execution_count": 18,
   "metadata": {},
   "outputs": [],
   "source": [
    "ventas.rename(columns={'fecha':'fecha_venta'}, inplace=True)"
   ]
  },
  {
   "cell_type": "code",
   "execution_count": 19,
   "metadata": {},
   "outputs": [],
   "source": [
    "ventas['fecha_venta'] = pd.to_datetime(ventas['fecha_venta'])"
   ]
  },
  {
   "cell_type": "code",
   "execution_count": 20,
   "metadata": {},
   "outputs": [],
   "source": [
    "ventas['fecha_venta_norm'] = ventas['fecha_venta'].apply(lambda x : date(x.year,x.month,1))"
   ]
  },
  {
   "cell_type": "code",
   "execution_count": 24,
   "metadata": {},
   "outputs": [],
   "source": [
    "ventas = ventas.groupby(['id_pos','fecha_venta_norm','canal']).unidades.sum().reset_index()"
   ]
  },
  {
   "cell_type": "code",
   "execution_count": 26,
   "metadata": {},
   "outputs": [],
   "source": [
    "pos = pd.read_csv('../data/raw/pos.csv')"
   ]
  },
  {
   "cell_type": "code",
   "execution_count": 27,
   "metadata": {},
   "outputs": [],
   "source": [
    "pos = pos[pos['id_pos'].isnull() != True]"
   ]
  },
  {
   "cell_type": "code",
   "execution_count": 28,
   "metadata": {},
   "outputs": [],
   "source": [
    "pos = pos[pos['id_pos']!='Not Available']"
   ]
  },
  {
   "cell_type": "code",
   "execution_count": 30,
   "metadata": {},
   "outputs": [
    {
     "data": {
      "text/plain": [
       "(35818, 4)"
      ]
     },
     "execution_count": 30,
     "metadata": {},
     "output_type": "execute_result"
    }
   ],
   "source": [
    "ventas.shape"
   ]
  },
  {
   "cell_type": "code",
   "execution_count": 29,
   "metadata": {},
   "outputs": [],
   "source": [
    "# convertimos a int para poder cruzar con informacion de venta\n",
    "pos['id_pos'] = pos['id_pos'].astype(int)"
   ]
  },
  {
   "cell_type": "code",
   "execution_count": 31,
   "metadata": {},
   "outputs": [],
   "source": [
    "train = pd.merge(ventas, pos, how='inner', on='id_pos')"
   ]
  },
  {
   "cell_type": "raw",
   "metadata": {},
   "source": [
    "train.rename(columns={'fecha':'fecha_venta'}, inplace=True)"
   ]
  },
  {
   "cell_type": "code",
   "execution_count": 32,
   "metadata": {},
   "outputs": [
    {
     "data": {
      "text/plain": [
       "(34540, 36)"
      ]
     },
     "execution_count": 32,
     "metadata": {},
     "output_type": "execute_result"
    }
   ],
   "source": [
    "train.shape"
   ]
  },
  {
   "cell_type": "code",
   "execution_count": 36,
   "metadata": {},
   "outputs": [],
   "source": [
    "train.to_csv('../data/raw/train_aggr.csv', sep=';', index=False)"
   ]
  },
  {
   "cell_type": "code",
   "execution_count": 37,
   "metadata": {},
   "outputs": [
    {
     "name": "stdout",
     "output_type": "stream",
     "text": [
      "Num. id_pos de ventas:  12302\n"
     ]
    }
   ],
   "source": [
    "print(\"Num. id_pos de ventas: \",ventas.id_pos.nunique())"
   ]
  },
  {
   "cell_type": "code",
   "execution_count": 38,
   "metadata": {},
   "outputs": [
    {
     "name": "stdout",
     "output_type": "stream",
     "text": [
      "Num. id_pos de train (ventas x pos) :  11853\n"
     ]
    }
   ],
   "source": [
    "print(\"Num. id_pos de train (ventas x pos) : \",train.id_pos.nunique())"
   ]
  },
  {
   "cell_type": "code",
   "execution_count": 39,
   "metadata": {},
   "outputs": [
    {
     "name": "stdout",
     "output_type": "stream",
     "text": [
      "Num. id_pos no encontrados:  449\n"
     ]
    }
   ],
   "source": [
    "print(\"Num. id_pos no encontrados: \" , ventas.id_pos.nunique() - train.id_pos.nunique())"
   ]
  },
  {
   "cell_type": "markdown",
   "metadata": {},
   "source": [
    "### Terminar: Falta agregar lo de envios que hay que tener en cuenta la info de las fechas, fecha_venta > fecha_envio"
   ]
  },
  {
   "cell_type": "code",
   "execution_count": 45,
   "metadata": {},
   "outputs": [],
   "source": [
    "# Nos quedamos con un unico id_pos, sin tener en cuenta la fecha\n",
    "envios_tmp = envios[['id_pos']].drop_duplicates()"
   ]
  },
  {
   "cell_type": "code",
   "execution_count": 52,
   "metadata": {},
   "outputs": [
    {
     "data": {
      "text/plain": [
       "12300"
      ]
     },
     "execution_count": 52,
     "metadata": {},
     "output_type": "execute_result"
    }
   ],
   "source": [
    "train[train.id_pos.isin(envios.id_pos)].id_pos.nunique()"
   ]
  },
  {
   "cell_type": "code",
   "execution_count": 51,
   "metadata": {},
   "outputs": [
    {
     "data": {
      "text/plain": [
       "2"
      ]
     },
     "execution_count": 51,
     "metadata": {},
     "output_type": "execute_result"
    }
   ],
   "source": [
    "train[train.id_pos.isin(envios.id_pos)!=True].id_pos.nunique()"
   ]
  },
  {
   "cell_type": "code",
   "execution_count": 46,
   "metadata": {},
   "outputs": [],
   "source": [
    "train = pd.merge(train, envios_tmp, how='left', left_on='id_pos', right_on='id_pos')"
   ]
  },
  {
   "cell_type": "code",
   "execution_count": 47,
   "metadata": {},
   "outputs": [
    {
     "data": {
      "text/plain": [
       "(266436, 36)"
      ]
     },
     "execution_count": 47,
     "metadata": {},
     "output_type": "execute_result"
    }
   ],
   "source": [
    "train.shape"
   ]
  },
  {
   "cell_type": "code",
   "execution_count": 48,
   "metadata": {},
   "outputs": [
    {
     "data": {
      "text/html": [
       "<div>\n",
       "<style scoped>\n",
       "    .dataframe tbody tr th:only-of-type {\n",
       "        vertical-align: middle;\n",
       "    }\n",
       "\n",
       "    .dataframe tbody tr th {\n",
       "        vertical-align: top;\n",
       "    }\n",
       "\n",
       "    .dataframe thead th {\n",
       "        text-align: right;\n",
       "    }\n",
       "</style>\n",
       "<table border=\"1\" class=\"dataframe\">\n",
       "  <thead>\n",
       "    <tr style=\"text-align: right;\">\n",
       "      <th></th>\n",
       "      <th>fecha</th>\n",
       "      <th>id_pos</th>\n",
       "      <th>unidades</th>\n",
       "      <th>canal</th>\n",
       "      <th>competidores</th>\n",
       "      <th>ingreso_mediana</th>\n",
       "      <th>ingreso_promedio</th>\n",
       "      <th>densidad_poblacional</th>\n",
       "      <th>pct_0a5</th>\n",
       "      <th>pct_5a9</th>\n",
       "      <th>...</th>\n",
       "      <th>pct_bachelors</th>\n",
       "      <th>pct_doctorados</th>\n",
       "      <th>pct_secundario</th>\n",
       "      <th>pct_master</th>\n",
       "      <th>pct_bicicleta</th>\n",
       "      <th>pct_omnibus</th>\n",
       "      <th>pct_subtes</th>\n",
       "      <th>pct_taxi</th>\n",
       "      <th>pct_caminata</th>\n",
       "      <th>mediana_valor_hogar</th>\n",
       "    </tr>\n",
       "  </thead>\n",
       "  <tbody>\n",
       "    <tr>\n",
       "      <th>0</th>\n",
       "      <td>2012-10-01</td>\n",
       "      <td>8495</td>\n",
       "      <td>4</td>\n",
       "      <td>MAXIKIOSCO</td>\n",
       "      <td>14.0</td>\n",
       "      <td>49367.31</td>\n",
       "      <td>65176.325</td>\n",
       "      <td>7981.955</td>\n",
       "      <td>6.695</td>\n",
       "      <td>6.260</td>\n",
       "      <td>...</td>\n",
       "      <td>16.750</td>\n",
       "      <td>0.610</td>\n",
       "      <td>32.42</td>\n",
       "      <td>5.35</td>\n",
       "      <td>0.180</td>\n",
       "      <td>1.160</td>\n",
       "      <td>0.00</td>\n",
       "      <td>0.145</td>\n",
       "      <td>3.01</td>\n",
       "      <td>152962.485</td>\n",
       "    </tr>\n",
       "    <tr>\n",
       "      <th>1</th>\n",
       "      <td>2012-10-10</td>\n",
       "      <td>8571</td>\n",
       "      <td>1</td>\n",
       "      <td>MAXIKIOSCO</td>\n",
       "      <td>10.0</td>\n",
       "      <td>100524.20</td>\n",
       "      <td>134309.315</td>\n",
       "      <td>5403.320</td>\n",
       "      <td>4.250</td>\n",
       "      <td>5.765</td>\n",
       "      <td>...</td>\n",
       "      <td>25.215</td>\n",
       "      <td>3.675</td>\n",
       "      <td>16.68</td>\n",
       "      <td>13.85</td>\n",
       "      <td>0.075</td>\n",
       "      <td>2.915</td>\n",
       "      <td>3.18</td>\n",
       "      <td>0.005</td>\n",
       "      <td>0.87</td>\n",
       "      <td>325699.190</td>\n",
       "    </tr>\n",
       "    <tr>\n",
       "      <th>2</th>\n",
       "      <td>2012-10-11</td>\n",
       "      <td>8915</td>\n",
       "      <td>1</td>\n",
       "      <td>MAXIKIOSCO</td>\n",
       "      <td>2.0</td>\n",
       "      <td>38236.83</td>\n",
       "      <td>48551.870</td>\n",
       "      <td>9318.700</td>\n",
       "      <td>5.410</td>\n",
       "      <td>5.610</td>\n",
       "      <td>...</td>\n",
       "      <td>9.410</td>\n",
       "      <td>0.280</td>\n",
       "      <td>38.51</td>\n",
       "      <td>3.27</td>\n",
       "      <td>0.100</td>\n",
       "      <td>2.630</td>\n",
       "      <td>0.28</td>\n",
       "      <td>0.020</td>\n",
       "      <td>0.93</td>\n",
       "      <td>95502.900</td>\n",
       "    </tr>\n",
       "    <tr>\n",
       "      <th>3</th>\n",
       "      <td>2012-10-12</td>\n",
       "      <td>8915</td>\n",
       "      <td>3</td>\n",
       "      <td>MAXIKIOSCO</td>\n",
       "      <td>2.0</td>\n",
       "      <td>38236.83</td>\n",
       "      <td>48551.870</td>\n",
       "      <td>9318.700</td>\n",
       "      <td>5.410</td>\n",
       "      <td>5.610</td>\n",
       "      <td>...</td>\n",
       "      <td>9.410</td>\n",
       "      <td>0.280</td>\n",
       "      <td>38.51</td>\n",
       "      <td>3.27</td>\n",
       "      <td>0.100</td>\n",
       "      <td>2.630</td>\n",
       "      <td>0.28</td>\n",
       "      <td>0.020</td>\n",
       "      <td>0.93</td>\n",
       "      <td>95502.900</td>\n",
       "    </tr>\n",
       "    <tr>\n",
       "      <th>4</th>\n",
       "      <td>2012-10-13</td>\n",
       "      <td>8923</td>\n",
       "      <td>1</td>\n",
       "      <td>MAXIKIOSCO</td>\n",
       "      <td>9.0</td>\n",
       "      <td>31019.49</td>\n",
       "      <td>43710.370</td>\n",
       "      <td>4117.760</td>\n",
       "      <td>5.240</td>\n",
       "      <td>6.120</td>\n",
       "      <td>...</td>\n",
       "      <td>6.610</td>\n",
       "      <td>0.240</td>\n",
       "      <td>36.29</td>\n",
       "      <td>4.82</td>\n",
       "      <td>0.230</td>\n",
       "      <td>3.250</td>\n",
       "      <td>0.00</td>\n",
       "      <td>0.000</td>\n",
       "      <td>2.20</td>\n",
       "      <td>81577.770</td>\n",
       "    </tr>\n",
       "  </tbody>\n",
       "</table>\n",
       "<p>5 rows × 36 columns</p>\n",
       "</div>"
      ],
      "text/plain": [
       "        fecha  id_pos  unidades       canal  competidores  ingreso_mediana  \\\n",
       "0  2012-10-01    8495         4  MAXIKIOSCO          14.0         49367.31   \n",
       "1  2012-10-10    8571         1  MAXIKIOSCO          10.0        100524.20   \n",
       "2  2012-10-11    8915         1  MAXIKIOSCO           2.0         38236.83   \n",
       "3  2012-10-12    8915         3  MAXIKIOSCO           2.0         38236.83   \n",
       "4  2012-10-13    8923         1  MAXIKIOSCO           9.0         31019.49   \n",
       "\n",
       "   ingreso_promedio  densidad_poblacional  pct_0a5  pct_5a9  ...  \\\n",
       "0         65176.325              7981.955    6.695    6.260  ...   \n",
       "1        134309.315              5403.320    4.250    5.765  ...   \n",
       "2         48551.870              9318.700    5.410    5.610  ...   \n",
       "3         48551.870              9318.700    5.410    5.610  ...   \n",
       "4         43710.370              4117.760    5.240    6.120  ...   \n",
       "\n",
       "   pct_bachelors  pct_doctorados  pct_secundario  pct_master  pct_bicicleta  \\\n",
       "0         16.750           0.610           32.42        5.35          0.180   \n",
       "1         25.215           3.675           16.68       13.85          0.075   \n",
       "2          9.410           0.280           38.51        3.27          0.100   \n",
       "3          9.410           0.280           38.51        3.27          0.100   \n",
       "4          6.610           0.240           36.29        4.82          0.230   \n",
       "\n",
       "   pct_omnibus  pct_subtes  pct_taxi  pct_caminata  mediana_valor_hogar  \n",
       "0        1.160        0.00     0.145          3.01           152962.485  \n",
       "1        2.915        3.18     0.005          0.87           325699.190  \n",
       "2        2.630        0.28     0.020          0.93            95502.900  \n",
       "3        2.630        0.28     0.020          0.93            95502.900  \n",
       "4        3.250        0.00     0.000          2.20            81577.770  \n",
       "\n",
       "[5 rows x 36 columns]"
      ]
     },
     "execution_count": 48,
     "metadata": {},
     "output_type": "execute_result"
    }
   ],
   "source": [
    "train.head()"
   ]
  },
  {
   "cell_type": "code",
   "execution_count": 26,
   "metadata": {},
   "outputs": [
    {
     "data": {
      "text/plain": [
       "12896"
      ]
     },
     "execution_count": 26,
     "metadata": {},
     "output_type": "execute_result"
    }
   ],
   "source": [
    "submittion.id_pos.nunique()"
   ]
  },
  {
   "cell_type": "code",
   "execution_count": 29,
   "metadata": {},
   "outputs": [
    {
     "data": {
      "text/plain": [
       "id_pos    int64\n",
       "score     int64\n",
       "dtype: object"
      ]
     },
     "execution_count": 29,
     "metadata": {},
     "output_type": "execute_result"
    }
   ],
   "source": [
    "submittion.dtypes"
   ]
  },
  {
   "cell_type": "code",
   "execution_count": 37,
   "metadata": {},
   "outputs": [
    {
     "data": {
      "text/plain": [
       "12896"
      ]
     },
     "execution_count": 37,
     "metadata": {},
     "output_type": "execute_result"
    }
   ],
   "source": [
    "submittion[submittion.id_pos.isin(pos.id_pos)]['id_pos'].nunique()"
   ]
  }
 ],
 "metadata": {
  "kernelspec": {
   "display_name": "Python 3",
   "language": "python",
   "name": "python3"
  },
  "language_info": {
   "codemirror_mode": {
    "name": "ipython",
    "version": 3
   },
   "file_extension": ".py",
   "mimetype": "text/x-python",
   "name": "python",
   "nbconvert_exporter": "python",
   "pygments_lexer": "ipython3",
   "version": "3.7.3"
  }
 },
 "nbformat": 4,
 "nbformat_minor": 2
}
